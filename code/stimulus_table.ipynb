{
 "cells": [
  {
   "cell_type": "code",
   "execution_count": 1,
   "metadata": {},
   "outputs": [
    {
     "name": "stdout",
     "output_type": "stream",
     "text": [
      "Requirement already satisfied: pip in /Users/jmanning/opt/anaconda3/envs/frfr/lib/python3.10/site-packages (23.0)\n",
      "Note: you may need to restart the kernel to use updated packages.\n",
      "Requirement already satisfied: davos in /Users/jmanning/opt/anaconda3/envs/frfr/lib/python3.10/site-packages (0.1.1)\n",
      "Requirement already satisfied: setuptools in /Users/jmanning/opt/anaconda3/envs/frfr/lib/python3.10/site-packages (from davos) (66.1.1)\n",
      "Requirement already satisfied: packaging in /Users/jmanning/opt/anaconda3/envs/frfr/lib/python3.10/site-packages (from davos) (23.0)\n",
      "Note: you may need to restart the kernel to use updated packages.\n"
     ]
    }
   ],
   "source": [
    "%pip install --upgrade pip\n",
    "%pip install davos\n",
    "import davos"
   ]
  },
  {
   "cell_type": "code",
   "execution_count": 2,
   "metadata": {},
   "outputs": [],
   "source": [
    "smuggle pandas as pd # pip: pandas==1.5.1\n",
    "smuggle numpy as np # pip: numpy==1.23.4\n",
    "\n",
    "smuggle os\n",
    "smuggle warnings\n",
    "\n",
    "from dataloader import datadir\n",
    "\n",
    "datadir = os.path.split(datadir)[0]\n",
    "stimulus_dir = os.path.join(os.path.split(datadir)[0], 'stimuli')\n",
    "figdir = os.path.join(os.path.split(os.getcwd())[0], 'paper', 'figures', 'source')\n",
    "if not os.path.exists(figdir):\n",
    "    os.makedirs(figdir)\n",
    "\n",
    "fname = os.path.join(stimulus_dir, 'wordpool.csv')"
   ]
  },
  {
   "cell_type": "markdown",
   "metadata": {},
   "source": [
    "# Load in stimuli\n",
    "\n",
    "Clean up formatting:\n",
    "  - convert all text to uppercase\n",
    "  - rename \"GROUP\" column to \"LIST ID\"\n"
   ]
  },
  {
   "cell_type": "code",
   "execution_count": 3,
   "metadata": {},
   "outputs": [],
   "source": [
    "wordpool = pd.read_csv(fname)\n",
    "wordpool.rename({'GROUP': 'LIST ID'}, axis=1, inplace=True)\n",
    "wordpool['SIZE'] = wordpool['SIZE'].apply(lambda x: x.upper())\n",
    "wordpool['FIRST LETTER'] = wordpool['WORD'].apply(lambda x: x[0].upper())\n",
    "wordpool['LENGTH'] = wordpool['WORD'].apply(lambda x: len(x))"
   ]
  },
  {
   "cell_type": "code",
   "execution_count": 4,
   "metadata": {},
   "outputs": [
    {
     "data": {
      "text/html": [
       "<div>\n",
       "<style scoped>\n",
       "    .dataframe tbody tr th:only-of-type {\n",
       "        vertical-align: middle;\n",
       "    }\n",
       "\n",
       "    .dataframe tbody tr th {\n",
       "        vertical-align: top;\n",
       "    }\n",
       "\n",
       "    .dataframe thead th {\n",
       "        text-align: right;\n",
       "    }\n",
       "</style>\n",
       "<table border=\"1\" class=\"dataframe\">\n",
       "  <thead>\n",
       "    <tr style=\"text-align: right;\">\n",
       "      <th></th>\n",
       "      <th>WORD</th>\n",
       "      <th>SIZE</th>\n",
       "      <th>CATEGORY</th>\n",
       "      <th>LIST ID</th>\n",
       "      <th>FIRST LETTER</th>\n",
       "      <th>LENGTH</th>\n",
       "    </tr>\n",
       "  </thead>\n",
       "  <tbody>\n",
       "    <tr>\n",
       "      <th>0</th>\n",
       "      <td>SAW</td>\n",
       "      <td>SMALL</td>\n",
       "      <td>TOOLS</td>\n",
       "      <td>1</td>\n",
       "      <td>S</td>\n",
       "      <td>3</td>\n",
       "    </tr>\n",
       "    <tr>\n",
       "      <th>1</th>\n",
       "      <td>CHISEL</td>\n",
       "      <td>SMALL</td>\n",
       "      <td>TOOLS</td>\n",
       "      <td>1</td>\n",
       "      <td>C</td>\n",
       "      <td>6</td>\n",
       "    </tr>\n",
       "    <tr>\n",
       "      <th>2</th>\n",
       "      <td>BOLTS</td>\n",
       "      <td>SMALL</td>\n",
       "      <td>TOOLS</td>\n",
       "      <td>1</td>\n",
       "      <td>B</td>\n",
       "      <td>5</td>\n",
       "    </tr>\n",
       "    <tr>\n",
       "      <th>3</th>\n",
       "      <td>PROTRACTOR</td>\n",
       "      <td>SMALL</td>\n",
       "      <td>TOOLS</td>\n",
       "      <td>1</td>\n",
       "      <td>P</td>\n",
       "      <td>10</td>\n",
       "    </tr>\n",
       "    <tr>\n",
       "      <th>4</th>\n",
       "      <td>PIANO</td>\n",
       "      <td>LARGE</td>\n",
       "      <td>INSTRUMENTS</td>\n",
       "      <td>1</td>\n",
       "      <td>P</td>\n",
       "      <td>5</td>\n",
       "    </tr>\n",
       "    <tr>\n",
       "      <th>...</th>\n",
       "      <td>...</td>\n",
       "      <td>...</td>\n",
       "      <td>...</td>\n",
       "      <td>...</td>\n",
       "      <td>...</td>\n",
       "      <td>...</td>\n",
       "    </tr>\n",
       "    <tr>\n",
       "      <th>251</th>\n",
       "      <td>VANCOUVER</td>\n",
       "      <td>LARGE</td>\n",
       "      <td>CITIES</td>\n",
       "      <td>16</td>\n",
       "      <td>V</td>\n",
       "      <td>9</td>\n",
       "    </tr>\n",
       "    <tr>\n",
       "      <th>252</th>\n",
       "      <td>CALIFORNIA</td>\n",
       "      <td>LARGE</td>\n",
       "      <td>STATES</td>\n",
       "      <td>16</td>\n",
       "      <td>C</td>\n",
       "      <td>10</td>\n",
       "    </tr>\n",
       "    <tr>\n",
       "      <th>253</th>\n",
       "      <td>VERMONT</td>\n",
       "      <td>LARGE</td>\n",
       "      <td>STATES</td>\n",
       "      <td>16</td>\n",
       "      <td>V</td>\n",
       "      <td>7</td>\n",
       "    </tr>\n",
       "    <tr>\n",
       "      <th>254</th>\n",
       "      <td>HAWAII</td>\n",
       "      <td>LARGE</td>\n",
       "      <td>STATES</td>\n",
       "      <td>16</td>\n",
       "      <td>H</td>\n",
       "      <td>6</td>\n",
       "    </tr>\n",
       "    <tr>\n",
       "      <th>255</th>\n",
       "      <td>WISCONSIN</td>\n",
       "      <td>LARGE</td>\n",
       "      <td>STATES</td>\n",
       "      <td>16</td>\n",
       "      <td>W</td>\n",
       "      <td>9</td>\n",
       "    </tr>\n",
       "  </tbody>\n",
       "</table>\n",
       "<p>256 rows × 6 columns</p>\n",
       "</div>"
      ],
      "text/plain": [
       "           WORD   SIZE     CATEGORY  LIST ID FIRST LETTER  LENGTH\n",
       "0           SAW  SMALL        TOOLS        1            S       3\n",
       "1        CHISEL  SMALL        TOOLS        1            C       6\n",
       "2         BOLTS  SMALL        TOOLS        1            B       5\n",
       "3    PROTRACTOR  SMALL        TOOLS        1            P      10\n",
       "4         PIANO  LARGE  INSTRUMENTS        1            P       5\n",
       "..          ...    ...          ...      ...          ...     ...\n",
       "251   VANCOUVER  LARGE       CITIES       16            V       9\n",
       "252  CALIFORNIA  LARGE       STATES       16            C      10\n",
       "253     VERMONT  LARGE       STATES       16            V       7\n",
       "254      HAWAII  LARGE       STATES       16            H       6\n",
       "255   WISCONSIN  LARGE       STATES       16            W       9\n",
       "\n",
       "[256 rows x 6 columns]"
      ]
     },
     "execution_count": 4,
     "metadata": {},
     "output_type": "execute_result"
    }
   ],
   "source": [
    "wordpool"
   ]
  },
  {
   "cell_type": "markdown",
   "metadata": {},
   "source": [
    "# Convert to a latex formatted table"
   ]
  },
  {
   "cell_type": "code",
   "execution_count": 5,
   "metadata": {},
   "outputs": [],
   "source": [
    "with open(os.path.join(figdir, 'wordpool.tex'), 'w+') as f:\n",
    "    with warnings.catch_warnings():\n",
    "        warnings.simplefilter('ignore')  # supress to_latex depreciation warning\n",
    "        f.write(wordpool.to_latex(index=False, bold_rows=True))"
   ]
  },
  {
   "cell_type": "markdown",
   "metadata": {},
   "source": [
    "# Compute some list statistics"
   ]
  },
  {
   "cell_type": "code",
   "execution_count": 6,
   "metadata": {},
   "outputs": [
    {
     "name": "stdout",
     "output_type": "stream",
     "text": [
      "Number of lists: 16\n",
      "Number of unique words: 256\n",
      "Number of unique categories: 15\n",
      "Categories: ['BODY PARTS' 'BUILDING RELATED' 'CITIES' 'CLOTHING' 'COUNTRIES' 'FLOWERS'\n",
      " 'FRUITS' 'INSECTS' 'INSTRUMENTS' 'KITCHEN-RELATED' 'MAMMALS' 'STATES'\n",
      " 'TOOLS' 'TREES' 'VEGETABLES']\n",
      "Number of unique categories in each list: [4]\n",
      "Average number of sizes in each list: 2.0\n",
      "Average number of sizes in each category: 1.3333333333333333\n",
      "Standard deviation number of sizes in each category: 0.48795003647426666\n",
      "Average number of words in each category: 17.066666666666666\n",
      "Standard deviation number of words in each category: 4.651676605063516\n",
      "Number of lists each category appears in: \n",
      "\tcount    15.000000\n",
      "\tmean      4.266667\n",
      "\tstd       1.162919\n",
      "\tmin       3.000000\n",
      "\t25%       3.500000\n",
      "\t50%       4.000000\n",
      "\t75%       5.000000\n",
      "\tmax       7.000000\n",
      "Number of words per category: \n",
      "\tcount    15.000000\n",
      "\tmean     17.066667\n",
      "\tstd       4.651677\n",
      "\tmin      12.000000\n",
      "\t25%      14.000000\n",
      "\t50%      16.000000\n",
      "\t75%      20.000000\n",
      "\tmax      28.000000\n",
      "Average number of unique first letters per list: 11.125\n",
      "Standard deviation number of unique first letters per list: 1.1474609652039003\n",
      "Average number of unique first letters per category: 11.0\n",
      "Standard deviation number of unique first letters per category: 2.0\n",
      "Number of unique first letters: 25\n",
      "Average word length: 6.171875\n",
      "Standard deviation of word length: 2.06030408949176\n",
      "Average word length per list: \n",
      "\tcount    16.000000\n",
      "\tmean      6.171875\n",
      "\tstd       0.336573\n",
      "\tmin       5.750000\n",
      "\t25%       5.984375\n",
      "\t50%       6.093750\n",
      "\t75%       6.234375\n",
      "\tmax       7.062500\n"
     ]
    }
   ],
   "source": [
    "print('Number of lists: ' + str(len(wordpool['LIST ID'].unique())))\n",
    "print('Number of unique words: ' + str(len(wordpool['WORD'].unique())))\n",
    "print('Number of unique categories: ' + str(len(wordpool['CATEGORY'].unique())))\n",
    "print('Categories: ' + str(wordpool['CATEGORY'].sort_values().unique()))\n",
    "print('Number of unique categories in each list: ' + str(wordpool.groupby('LIST ID')['CATEGORY'].nunique().unique()))\n",
    "print('Average number of sizes in each list: ' + str(wordpool.groupby('LIST ID')['SIZE'].nunique().mean()))\n",
    "print('Average number of sizes in each category: ' + str(wordpool.groupby('CATEGORY')['SIZE'].nunique().mean()))\n",
    "print('Standard deviation number of sizes in each category: ' + str(wordpool.groupby('CATEGORY')['SIZE'].nunique().std()))\n",
    "print('Average number of words in each category: ' + str(wordpool.groupby('CATEGORY')['WORD'].nunique().mean()))\n",
    "print('Standard deviation number of words in each category: ' + str(wordpool.groupby('CATEGORY')['WORD'].nunique().std()))\n",
    "print('Number of lists each category appears in: \\n\\t' + wordpool.groupby('CATEGORY')['LIST ID'].nunique().describe().to_string().replace('\\n', '\\n\\t'))\n",
    "print('Number of words per category: \\n\\t' + wordpool.groupby('CATEGORY')['WORD'].nunique().describe().to_string().replace('\\n', '\\n\\t'))\n",
    "print('Average number of unique first letters per list: ' + str(wordpool.groupby('LIST ID')['FIRST LETTER'].nunique().mean()))\n",
    "print('Standard deviation number of unique first letters per list: ' + str(wordpool.groupby('LIST ID')['FIRST LETTER'].nunique().std()))\n",
    "print('Average number of unique first letters per category: ' + str(wordpool.groupby('CATEGORY')['FIRST LETTER'].nunique().mean()))\n",
    "print('Standard deviation number of unique first letters per category: ' + str(wordpool.groupby('CATEGORY')['FIRST LETTER'].nunique().std()))\n",
    "print('Number of unique first letters: ' + str(len(wordpool['FIRST LETTER'].unique())))\n",
    "print('Average word length: ' + str(wordpool['LENGTH'].mean()))\n",
    "print('Standard deviation of word length: ' + str(wordpool['LENGTH'].std()))\n",
    "print('Average word length per list: \\n\\t' + wordpool.groupby('LIST ID')['LENGTH'].mean().describe().to_string().replace('\\n', '\\n\\t'))"
   ]
  },
  {
   "cell_type": "code",
   "execution_count": 7,
   "metadata": {},
   "outputs": [
    {
     "data": {
      "text/plain": [
       "array(['A', 'B', 'C', 'D', 'E', 'F', 'G', 'H', 'I', 'J', 'K', 'L', 'M',\n",
       "       'N', 'O', 'P', 'R', 'S', 'T', 'U', 'V', 'W', 'X', 'Y', 'Z'],\n",
       "      dtype=object)"
      ]
     },
     "execution_count": 7,
     "metadata": {},
     "output_type": "execute_result"
    }
   ],
   "source": [
    "wordpool['FIRST LETTER'].sort_values().unique()"
   ]
  },
  {
   "cell_type": "code",
   "execution_count": 8,
   "metadata": {},
   "outputs": [
    {
     "data": {
      "text/plain": [
       "count    256.000000\n",
       "mean       6.171875\n",
       "std        2.060304\n",
       "min        3.000000\n",
       "25%        5.000000\n",
       "50%        6.000000\n",
       "75%        7.000000\n",
       "max       12.000000\n",
       "Name: LENGTH, dtype: float64"
      ]
     },
     "execution_count": 8,
     "metadata": {},
     "output_type": "execute_result"
    }
   ],
   "source": [
    "wordpool['LENGTH'].describe()"
   ]
  }
 ],
 "metadata": {
  "kernelspec": {
   "display_name": "frfr",
   "language": "python",
   "name": "frfr"
  },
  "language_info": {
   "codemirror_mode": {
    "name": "ipython",
    "version": 3
   },
   "file_extension": ".py",
   "mimetype": "text/x-python",
   "name": "python",
   "nbconvert_exporter": "python",
   "pygments_lexer": "ipython3",
   "version": "3.10.8"
  },
  "vscode": {
   "interpreter": {
    "hash": "ece6198bba427cbc67eade80d2f26cc97e756f38697f95066add8df0785cdc08"
   }
  }
 },
 "nbformat": 4,
 "nbformat_minor": 2
}
