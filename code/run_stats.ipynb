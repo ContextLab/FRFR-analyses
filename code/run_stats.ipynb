{
 "cells": [
  {
   "cell_type": "code",
   "execution_count": 1,
   "metadata": {},
   "outputs": [],
   "source": [
    "try:\n",
    "    import davos\n",
    "except:\n",
    "    %pip install davos\n",
    "    import davos\n",
    "\n",
    "davos.config.suppress_stdout = False"
   ]
  },
  {
   "cell_type": "code",
   "execution_count": 2,
   "metadata": {},
   "outputs": [],
   "source": [
    "smuggle pandas as pd                                         # pip: pandas==1.5.1\n",
    "smuggle numpy as np                                          # pip: numpy==1.22.3\n",
    "smuggle seaborn as sns                                       # pip: seaborn==0.12.1\n",
    "smuggle dill as pickle                                       # pip: dill==0.3.6\n",
    "\n",
    "smuggle h5py                                                 # pip: h5py==3.7.0\n",
    "smuggle pathos                                               # pip: pathos==0.3.0\n",
    "smuggle quail                                                # pip: quail==0.2.2\n",
    "smuggle requests                                             # pip: requests==2.28.1\n",
    "smuggle jinja2                                                # pip: jinja2==3.1.2\n",
    "smuggle os\n",
    "smuggle pathlib\n",
    "smuggle warnings\n",
    "smuggle string\n",
    "smuggle random as rand\n",
    "from copy smuggle copy\n",
    "\n",
    "from tqdm smuggle tqdm                                       # pip: tqdm==4.64.1\n",
    "from matplotlib smuggle pyplot as plt                        # pip: matplotlib==3.6.2\n",
    "from matplotlib.ticker smuggle MaxNLocator\n",
    "from pathos.multiprocessing smuggle ProcessingPool as Pool   # pip: pathos==0.3.0\n",
    "from multiprocessing smuggle cpu_count                       # pip: multiprocess==0.70.14\n",
    "from sklearn.decomposition smuggle IncrementalPCA as PCA     # pip: scikit-learn==1.1.3\n",
    "from scipy smuggle stats                                     # pip: scipy==1.10.0\n",
    "from statsmodels.stats.multitest import multipletests        # pip: statsmodels==0.14.0\n",
    "\n",
    "# local functions\n",
    "from dataloader import datadir, grouping, feature_groupings, descriptions, sort_by_grouping, fetch_data\n",
    "from analyze import analyze_data, recover_fingerprint_features, organize_by_listgroup, random, adaptive, non_adaptive_exclude_random, \\\n",
    "                    select_conds, select_lists, filter, get_diffs, stack_diffs, pnr_matrix, accuracy2df, adaptive_listnum2cond, \\\n",
    "                    clustering_matrices, average_by_cond, rename_features, fingerprint2temporal, get_boundaries, \\\n",
    "                    recall_accuracy_near_boundaries, results, results_by_list, analyses, listgroups, orders, ttest, merge_results, \\\n",
    "                    create_clustering_df"
   ]
  },
  {
   "cell_type": "markdown",
   "metadata": {},
   "source": [
    "Set seeds for deterministic output (affects bootstrap-estimated confidence intervals)"
   ]
  },
  {
   "cell_type": "code",
   "execution_count": 3,
   "metadata": {},
   "outputs": [],
   "source": [
    "np.random.seed(42)\n",
    "rand.seed(42)"
   ]
  },
  {
   "cell_type": "markdown",
   "metadata": {},
   "source": [
    "Set up functions for creating and saving tables of $t$-tests"
   ]
  },
  {
   "cell_type": "code",
   "execution_count": 4,
   "metadata": {},
   "outputs": [],
   "source": [
    "table_dir = pathlib.Path(datadir).parent.parent.joinpath('paper', 'tables')\n",
    "table_dir.mkdir(exist_ok=True)\n",
    "\n",
    "class TTestTable(object):\n",
    "    @staticmethod\n",
    "    def _rename(name):\n",
    "        replace = {'firstLetter': 'first letter', 'first_letter': 'first letter', 'wordLength': 'length', 'pos': 'location',\n",
    "                   'temporal': 'temp', 'accuracy': 'acc', 'clustering': 'clust',\n",
    "                   'semantic': 'sem', 'lexicographic': 'lex', 'visual': 'vis',\n",
    "                   'category': 'cat', 'size': 'sz', 'length': 'len', 'location': 'loc', 'color': 'clr', 'first letter': '1\\\\textsuperscript{st} ltr'}\n",
    "        \n",
    "        name = name.lower()\n",
    "        for k, v in replace.items():\n",
    "            name = name.replace(k.lower(), v.lower())        \n",
    "        return name.capitalize()\n",
    "\n",
    "    def __init__(self):\n",
    "        self.table = pd.DataFrame(columns=['$t$-value', 'df', 'Cohen\\'s $d$', '$p$-value (raw)', '$p$-value (corrected)', '95\\% CI (lower bound)', '95\\% CI (upper bound)'])\n",
    "    \n",
    "    def add_stat(self, name, results, **kwargs):\n",
    "        t, df, d, p_raw, ci_lower, ci_upper = results\n",
    "        self.table.loc[TTestTable._rename(name)] = [t, df, d, p_raw, None, ci_lower, ci_upper]\n",
    "        self.correct_pvalues(**kwargs)\n",
    "    \n",
    "    def correct_pvalues(self, alpha=0.05, method='fdr_bh'):\n",
    "        _, p_corrected, _, _ = multipletests(self.table['$p$-value (raw)'], alpha=alpha, method=method)\n",
    "        self.table['$p$-value (corrected)'] = p_corrected\n",
    "    \n",
    "    def to_latex(self, fname=None, **kwargs):        \n",
    "        self.correct_pvalues(**kwargs)\n",
    "        \n",
    "        with warnings.catch_warnings():\n",
    "            warnings.simplefilter(\"ignore\")\n",
    "            return self.table.to_latex(buf=fname, escape=False, formatters={\n",
    "                '$t$-value': lambda x: f'{x:.3f}',\n",
    "                'df': lambda x: f'{x:.0f}',\n",
    "                'Cohen\\'s $d$': lambda x: f'{x:.3f}',\n",
    "                '$p$-value (raw)': lambda x: f'{x:.3f}' if x > 0.001 else '$< 0.001$',\n",
    "                '$p$-value (corrected)': lambda x: f'{x:.3f}' if x > 0.001 else '$< 0.001$',\n",
    "                '95\\% CI (lower bound)': lambda x: f'{x:.3f}',\n",
    "                '95\\% CI (upper bound)': lambda x: f'{x:.3f}'\n",
    "            })"
   ]
  },
  {
   "cell_type": "markdown",
   "metadata": {},
   "source": [
    "Keep track of abbreviations used in tables"
   ]
  },
  {
   "cell_type": "code",
   "execution_count": 5,
   "metadata": {},
   "outputs": [],
   "source": [
    "abbreviations = {'temporal': 'temp', 'accuracy': 'acc', 'clustering': 'clust',\n",
    "                 'category': 'cat', 'size': 'sz', 'length': 'len',\n",
    "                 'location': 'loc', 'color': 'clr', \n",
    "                 'first letter': '1\\\\textsuperscript{st} ltr'}\n",
    "\n",
    "# reverse the dictionary and turn it into a dataframe\n",
    "\n",
    "abbreviations = pd.DataFrame.from_dict({v: k for k, v in abbreviations.items()}, orient='index').reset_index()\n",
    "abbreviations.columns = ['Abbreviation', 'Description']\n",
    "abbreviations\n",
    "\n",
    "with warnings.catch_warnings():\n",
    "    warnings.simplefilter(\"ignore\")\n",
    "    abbreviations.to_latex(buf=table_dir.joinpath('abbreviations.tex'), index=False, escape=False)"
   ]
  },
  {
   "attachments": {},
   "cell_type": "markdown",
   "metadata": {},
   "source": [
    "# Performance on *feature-rich* versus *reduced* lists:\n",
    "  - accuracy\n",
    "  - temporal clustering\n",
    "  - non-visual feature-based clustering (category, size, length, first letter)"
   ]
  },
  {
   "cell_type": "code",
   "execution_count": 6,
   "metadata": {},
   "outputs": [
    {
     "name": "stdout",
     "output_type": "stream",
     "text": [
      "Accuracy for feature-rich vs. reduced (all lists):\n",
      "t(126) = -0.290,~p = 0.772,~d = -0.051,~\\mathrm{CI} = [-2.387,~1.768]\n"
     ]
    }
   ],
   "source": [
    "feature_rich_vs_reduced = TTestTable()\n",
    "\n",
    "print('Accuracy for feature-rich vs. reduced (all lists):')\n",
    "feature_rich_vs_reduced.add_stat('Accuracy', ttest(results['accuracy']['feature-rich'], results['accuracy']['reduced']))"
   ]
  },
  {
   "cell_type": "code",
   "execution_count": 7,
   "metadata": {},
   "outputs": [
    {
     "name": "stdout",
     "output_type": "stream",
     "text": [
      "Temporal clustering for feature-rich vs. reduced (all lists):\n",
      "t(126) = 10.632,~p < 0.001,~d = 1.882,~\\mathrm{CI} = [7.786,~14.386]\n"
     ]
    }
   ],
   "source": [
    "print('Temporal clustering for feature-rich vs. reduced (all lists):')\n",
    "feature_rich_vs_reduced.add_stat('Temporal clustering', ttest(results['fingerprint']['feature-rich'], results['fingerprint']['reduced'], x_col='temporal', y_col='temporal'))"
   ]
  },
  {
   "cell_type": "code",
   "execution_count": 8,
   "metadata": {},
   "outputs": [
    {
     "name": "stdout",
     "output_type": "stream",
     "text": [
      "category clustering for feature-rich vs. reduced (all lists):\n",
      "t(126) = 10.148,~p < 0.001,~d = 1.796,~\\mathrm{CI} = [7.324,~13.778]\n",
      "\n",
      "\n",
      "size clustering for feature-rich vs. reduced (all lists):\n",
      "t(126) = 12.033,~p < 0.001,~d = 2.129,~\\mathrm{CI} = [9.030,~15.918]\n",
      "\n",
      "\n",
      "wordLength clustering for feature-rich vs. reduced (all lists):\n",
      "t(126) = 10.720,~p < 0.001,~d = 1.897,~\\mathrm{CI} = [7.442,~15.174]\n",
      "\n",
      "\n",
      "firstLetter clustering for feature-rich vs. reduced (all lists):\n",
      "t(126) = 6.679,~p < 0.001,~d = 1.182,~\\mathrm{CI} = [4.490,~9.611]\n"
     ]
    }
   ],
   "source": [
    "features = ['category', 'size', 'wordLength', 'firstLetter']\n",
    "for i, f in enumerate(features):\n",
    "    print(f'{f} clustering for feature-rich vs. reduced (all lists):')\n",
    "    feature_rich_vs_reduced.add_stat(f'{f} clustering', ttest(results['fingerprint']['feature-rich'], results['fingerprint']['reduced'], x_col=f, y_col=f))\n",
    "\n",
    "    if i < len(features) - 1:\n",
    "        print('\\n')"
   ]
  },
  {
   "cell_type": "code",
   "execution_count": 9,
   "metadata": {},
   "outputs": [],
   "source": [
    "feature_rich_vs_reduced.to_latex(table_dir.joinpath('feature_rich_vs_reduced.tex'), alpha=0.05, method='fdr_bh')"
   ]
  },
  {
   "attachments": {},
   "cell_type": "markdown",
   "metadata": {},
   "source": [
    "# Performance on {*feature-rich*, *reduced*} lists versus *reduced ({early, late})* lists\n",
    "We'll compare early and late lists separately (e.g., early to early, late to late, early to late, etc.)\n",
    "\n",
    "Metrics:\n",
    "  - accuracy\n",
    "  - temporal clustering\n",
    "  - non-visual feature-based clustering (category, size, length, first letter)\n",
    "\n",
    "## Early vs. late (all conditions and metrics)"
   ]
  },
  {
   "attachments": {},
   "cell_type": "markdown",
   "metadata": {},
   "source": [
    "### Accuracy"
   ]
  },
  {
   "cell_type": "code",
   "execution_count": 10,
   "metadata": {},
   "outputs": [
    {
     "name": "stdout",
     "output_type": "stream",
     "text": [
      "Accuracy for feature-rich (early lists) vs. feature-rich (late lists):\n"
     ]
    },
    {
     "name": "stdout",
     "output_type": "stream",
     "text": [
      "t(66) = 4.553,~p < 0.001,~d = 0.233,~\\mathrm{CI} = [2.427,~7.262]\n"
     ]
    }
   ],
   "source": [
    "early_vs_late_fr = TTestTable()     # feature rich\n",
    "early_vs_late_r = TTestTable()      # reduced \n",
    "early_vs_late_early = TTestTable()  # reduced (early)\n",
    "early_vs_late_late = TTestTable()   # reduced (late)\n",
    "\n",
    "print('Accuracy for feature-rich (early lists) vs. feature-rich (late lists):')\n",
    "early_vs_late_fr.add_stat('Accuracy', ttest(results['accuracy']['feature-rich'], results['accuracy']['feature-rich'], x_lists='Early', y_lists='Late', independent_sample=False))"
   ]
  },
  {
   "cell_type": "code",
   "execution_count": 11,
   "metadata": {},
   "outputs": [
    {
     "name": "stdout",
     "output_type": "stream",
     "text": [
      "Accuracy for reduced (early lists) vs. reduced (late lists):\n",
      "t(60) = 2.434,~p = 0.018,~d = 0.134,~\\mathrm{CI} = [0.493,~4.910]\n"
     ]
    }
   ],
   "source": [
    "print('Accuracy for reduced (early lists) vs. reduced (late lists):')\n",
    "early_vs_late_r.add_stat('Accuracy', ttest(results['accuracy']['reduced'], results['accuracy']['reduced'], x_lists='Early', y_lists='Late', independent_sample=False))"
   ]
  },
  {
   "cell_type": "code",
   "execution_count": 12,
   "metadata": {},
   "outputs": [
    {
     "name": "stdout",
     "output_type": "stream",
     "text": [
      "Accuracy for reduced (early) (early lists) vs. reduced (early) (late lists):\n",
      "t(41) = 1.499,~p = 0.141,~d = 0.098,~\\mathrm{CI} = [-0.345,~3.579]\n"
     ]
    }
   ],
   "source": [
    "print('Accuracy for reduced (early) (early lists) vs. reduced (early) (late lists):')\n",
    "early_vs_late_early.add_stat('Accuracy', ttest(results['accuracy']['reduced (early)'], results['accuracy']['reduced (early)'], x_lists='Early', y_lists='Late', independent_sample=False))"
   ]
  },
  {
   "cell_type": "code",
   "execution_count": 13,
   "metadata": {},
   "outputs": [
    {
     "name": "stdout",
     "output_type": "stream",
     "text": [
      "Accuracy for reduced (late) (early lists) vs. reduced (late) (late lists):\n",
      "t(40) = 1.462,~p = 0.152,~d = 0.121,~\\mathrm{CI} = [-0.376,~2.993]\n"
     ]
    }
   ],
   "source": [
    "print('Accuracy for reduced (late) (early lists) vs. reduced (late) (late lists):')\n",
    "early_vs_late_late.add_stat('Accuracy', ttest(results['accuracy']['reduced (late)'], results['accuracy']['reduced (late)'], x_lists='Early', y_lists='Late', independent_sample=False))"
   ]
  },
  {
   "attachments": {},
   "cell_type": "markdown",
   "metadata": {},
   "source": [
    "### Temporal clustering"
   ]
  },
  {
   "cell_type": "code",
   "execution_count": 14,
   "metadata": {},
   "outputs": [
    {
     "name": "stdout",
     "output_type": "stream",
     "text": [
      "Temporal clustering for feature-rich (early lists) vs. feature-rich (late lists):\n",
      "t(66) = 2.268,~p = 0.027,~d = 0.181,~\\mathrm{CI} = [0.437,~4.425]\n"
     ]
    }
   ],
   "source": [
    "print('Temporal clustering for feature-rich (early lists) vs. feature-rich (late lists):')\n",
    "early_vs_late_fr.add_stat('Temporal clustering', ttest(results['fingerprint']['feature-rich'], results['fingerprint']['feature-rich'], x_col='temporal', y_col='temporal', x_lists='Early', y_lists='Late', independent_sample=False))"
   ]
  },
  {
   "cell_type": "code",
   "execution_count": 15,
   "metadata": {},
   "outputs": [
    {
     "name": "stdout",
     "output_type": "stream",
     "text": [
      "Temporal clustering for reduced (early lists) vs. reduced (late lists):\n",
      "t(60) = 0.986,~p = 0.328,~d = 0.061,~\\mathrm{CI} = [-0.897,~3.348]\n"
     ]
    }
   ],
   "source": [
    "print('Temporal clustering for reduced (early lists) vs. reduced (late lists):')\n",
    "early_vs_late_r.add_stat('Temporal clustering', ttest(results['fingerprint']['reduced'], results['fingerprint']['reduced'], x_col='temporal', y_col='temporal', x_lists='Early', y_lists='Late', independent_sample=False))"
   ]
  },
  {
   "cell_type": "code",
   "execution_count": 16,
   "metadata": {},
   "outputs": [
    {
     "name": "stdout",
     "output_type": "stream",
     "text": [
      "Temporal clustering for reduced (early) (early lists) vs. reduced (early) (late lists):\n"
     ]
    },
    {
     "name": "stdout",
     "output_type": "stream",
     "text": [
      "t(41) = 0.857,~p = 0.396,~d = 0.068,~\\mathrm{CI} = [-1.012,~2.896]\n"
     ]
    }
   ],
   "source": [
    "print('Temporal clustering for reduced (early) (early lists) vs. reduced (early) (late lists):')\n",
    "early_vs_late_early.add_stat('Temporal clustering', ttest(results['fingerprint']['reduced (early)'], results['fingerprint']['reduced (early)'], x_col='temporal', y_col='temporal', x_lists='Early', y_lists='Late', independent_sample=False))"
   ]
  },
  {
   "cell_type": "code",
   "execution_count": 17,
   "metadata": {},
   "outputs": [
    {
     "name": "stdout",
     "output_type": "stream",
     "text": [
      "Temporal clustering for reduced (late) (early lists) vs. reduced (late) (late lists):\n",
      "t(40) = 1.244,~p = 0.221,~d = 0.128,~\\mathrm{CI} = [-0.894,~3.088]\n"
     ]
    }
   ],
   "source": [
    "print('Temporal clustering for reduced (late) (early lists) vs. reduced (late) (late lists):')\n",
    "early_vs_late_late.add_stat('Temporal clustering', ttest(results['fingerprint']['reduced (late)'], results['fingerprint']['reduced (late)'], x_col='temporal', y_col='temporal', x_lists='Early', y_lists='Late', independent_sample=False))"
   ]
  },
  {
   "attachments": {},
   "cell_type": "markdown",
   "metadata": {},
   "source": [
    "### Non-visual feature based clustering"
   ]
  },
  {
   "cell_type": "code",
   "execution_count": 18,
   "metadata": {},
   "outputs": [
    {
     "name": "stdout",
     "output_type": "stream",
     "text": [
      "category clustering for feature-rich (early lists) vs. feature-rich (late lists):\n"
     ]
    },
    {
     "name": "stdout",
     "output_type": "stream",
     "text": [
      "t(66) = 3.684,~p < 0.001,~d = 0.220,~\\mathrm{CI} = [1.733,~5.732]\n",
      "\n",
      "\n",
      "size clustering for feature-rich (early lists) vs. feature-rich (late lists):\n",
      "t(66) = 1.629,~p = 0.108,~d = 0.100,~\\mathrm{CI} = [-0.207,~3.905]\n",
      "\n",
      "\n",
      "wordLength clustering for feature-rich (early lists) vs. feature-rich (late lists):\n",
      "t(66) = -0.100,~p = 0.921,~d = -0.010,~\\mathrm{CI} = [-2.217,~1.899]\n",
      "\n",
      "\n",
      "firstLetter clustering for feature-rich (early lists) vs. feature-rich (late lists):\n",
      "t(66) = -0.412,~p = 0.681,~d = -0.045,~\\mathrm{CI} = [-2.461,~1.645]\n"
     ]
    }
   ],
   "source": [
    "for i, f in enumerate(features):\n",
    "    print(f'{f} clustering for feature-rich (early lists) vs. feature-rich (late lists):')\n",
    "    early_vs_late_fr.add_stat(f'{f} clustering', ttest(results['fingerprint']['feature-rich'], results['fingerprint']['feature-rich'], x_col=f, y_col=f, x_lists='Early', y_lists='Late', independent_sample=False))\n",
    "\n",
    "    if i < len(features) - 1:\n",
    "        print('\\n')"
   ]
  },
  {
   "cell_type": "code",
   "execution_count": 19,
   "metadata": {},
   "outputs": [
    {
     "name": "stdout",
     "output_type": "stream",
     "text": [
      "category clustering for reduced (early lists) vs. reduced (late lists):\n",
      "t(60) = 2.755,~p = 0.008,~d = 0.177,~\\mathrm{CI} = [0.761,~5.189]\n",
      "\n",
      "\n",
      "size clustering for reduced (early lists) vs. reduced (late lists):\n",
      "t(60) = 3.081,~p = 0.003,~d = 0.201,~\\mathrm{CI} = [1.210,~5.326]\n",
      "\n",
      "\n",
      "wordLength clustering for reduced (early lists) vs. reduced (late lists):\n",
      "t(60) = 3.762,~p < 0.001,~d = 0.261,~\\mathrm{CI} = [1.604,~6.821]\n",
      "\n",
      "\n",
      "firstLetter clustering for reduced (early lists) vs. reduced (late lists):\n",
      "t(60) = 1.721,~p = 0.090,~d = 0.175,~\\mathrm{CI} = [-0.138,~4.098]\n"
     ]
    }
   ],
   "source": [
    "for i, f in enumerate(features):\n",
    "    print(f'{f} clustering for reduced (early lists) vs. reduced (late lists):')\n",
    "    early_vs_late_r.add_stat(f'{f} clustering', ttest(results['fingerprint']['reduced'], results['fingerprint']['reduced'], x_col=f, y_col=f, x_lists='Early', y_lists='Late', independent_sample=False))\n",
    "\n",
    "    if i < len(features) - 1:\n",
    "        print('\\n')"
   ]
  },
  {
   "cell_type": "code",
   "execution_count": 20,
   "metadata": {},
   "outputs": [
    {
     "name": "stdout",
     "output_type": "stream",
     "text": [
      "category clustering for reduced (early) (early lists) vs. reduced (early) (late lists):\n",
      "t(41) = 0.707,~p = 0.484,~d = 0.068,~\\mathrm{CI} = [-1.314,~2.830]\n",
      "\n",
      "\n",
      "size clustering for reduced (early) (early lists) vs. reduced (early) (late lists):\n",
      "t(41) = 0.803,~p = 0.427,~d = 0.079,~\\mathrm{CI} = [-1.142,~2.953]\n",
      "\n",
      "\n",
      "wordLength clustering for reduced (early) (early lists) vs. reduced (early) (late lists):\n",
      "t(41) = 0.461,~p = 0.648,~d = 0.060,~\\mathrm{CI} = [-1.545,~2.462]\n",
      "\n",
      "\n",
      "firstLetter clustering for reduced (early) (early lists) vs. reduced (early) (late lists):\n",
      "t(41) = 0.781,~p = 0.439,~d = 0.101,~\\mathrm{CI} = [-1.039,~2.881]\n"
     ]
    }
   ],
   "source": [
    "for i, f in enumerate(features):\n",
    "    print(f'{f} clustering for reduced (early) (early lists) vs. reduced (early) (late lists):')\n",
    "    early_vs_late_early.add_stat(f'{f} clustering', ttest(results['fingerprint']['reduced (early)'], results['fingerprint']['reduced (early)'], x_col=f, y_col=f, x_lists='Early', y_lists='Late', independent_sample=False))\n",
    "\n",
    "    if i < len(features) - 1:\n",
    "        print('\\n')"
   ]
  },
  {
   "cell_type": "code",
   "execution_count": 21,
   "metadata": {},
   "outputs": [
    {
     "name": "stdout",
     "output_type": "stream",
     "text": [
      "category clustering for reduced (late) (early lists) vs. reduced (late) (late lists):\n",
      "t(40) = -0.101,~p = 0.920,~d = -0.009,~\\mathrm{CI} = [-2.307,~1.776]\n",
      "\n",
      "\n",
      "size clustering for reduced (late) (early lists) vs. reduced (late) (late lists):\n",
      "t(40) = 0.555,~p = 0.582,~d = 0.058,~\\mathrm{CI} = [-1.444,~2.274]\n",
      "\n",
      "\n",
      "wordLength clustering for reduced (late) (early lists) vs. reduced (late) (late lists):\n",
      "t(40) = 1.482,~p = 0.146,~d = 0.126,~\\mathrm{CI} = [-0.444,~3.743]\n",
      "\n",
      "\n",
      "firstLetter clustering for reduced (late) (early lists) vs. reduced (late) (late lists):\n",
      "t(40) = -0.143,~p = 0.887,~d = -0.017,~\\mathrm{CI} = [-2.204,~1.830]\n"
     ]
    }
   ],
   "source": [
    "for i, f in enumerate(features):\n",
    "    print(f'{f} clustering for reduced (late) (early lists) vs. reduced (late) (late lists):')\n",
    "    early_vs_late_late.add_stat(f'{f} clustering', ttest(results['fingerprint']['reduced (late)'], results['fingerprint']['reduced (late)'], x_col=f, y_col=f, x_lists='Early', y_lists='Late', independent_sample=False))\n",
    "\n",
    "    if i < len(features) - 1:\n",
    "        print('\\n')"
   ]
  },
  {
   "cell_type": "code",
   "execution_count": 22,
   "metadata": {},
   "outputs": [],
   "source": [
    "early_vs_late_fr.to_latex(table_dir.joinpath('early_vs_late_fr.tex'), alpha=0.05, method='fdr_bh')\n",
    "early_vs_late_r.to_latex(table_dir.joinpath('early_vs_late_r.tex'), alpha=0.05, method='fdr_bh')\n",
    "early_vs_late_early.to_latex(table_dir.joinpath('early_vs_late_early.tex'), alpha=0.05, method='fdr_bh')\n",
    "early_vs_late_late.to_latex(table_dir.joinpath('early_vs_late_late.tex'), alpha=0.05, method='fdr_bh')"
   ]
  },
  {
   "attachments": {},
   "cell_type": "markdown",
   "metadata": {},
   "source": [
    "## feature-rich vs. reduced ({early, late})\n",
    "\n",
    "### Accuracy"
   ]
  },
  {
   "cell_type": "code",
   "execution_count": 23,
   "metadata": {},
   "outputs": [
    {
     "name": "stdout",
     "output_type": "stream",
     "text": [
      "Accuracy for feature-rich vs.reduced (early) (all lists):\n",
      "t(107) = -2.230,~p = 0.028,~d = -0.439,~\\mathrm{CI} = [-4.252,~-0.229]\n"
     ]
    }
   ],
   "source": [
    "feature_rich_vs_reduced_early = TTestTable()\n",
    "feature_rich_vs_reduced_late = TTestTable()\n",
    "\n",
    "print('Accuracy for feature-rich vs.reduced (early) (all lists):')\n",
    "feature_rich_vs_reduced_early.add_stat('Accuracy', ttest(results['accuracy']['feature-rich'], results['accuracy']['reduced (early)']))"
   ]
  },
  {
   "cell_type": "code",
   "execution_count": 24,
   "metadata": {},
   "outputs": [
    {
     "name": "stdout",
     "output_type": "stream",
     "text": [
      "Accuracy for feature-rich vs. reduced (late) (all lists):\n",
      "t(106) = -0.638,~p = 0.525,~d = -0.126,~\\mathrm{CI} = [-2.720,~1.362]\n"
     ]
    }
   ],
   "source": [
    "print('Accuracy for feature-rich vs. reduced (late) (all lists):')\n",
    "feature_rich_vs_reduced_late.add_stat('Accuracy', ttest(results['accuracy']['feature-rich'], results['accuracy']['reduced (late)']))"
   ]
  },
  {
   "attachments": {},
   "cell_type": "markdown",
   "metadata": {},
   "source": [
    "### Temporal clustering"
   ]
  },
  {
   "cell_type": "code",
   "execution_count": 25,
   "metadata": {},
   "outputs": [
    {
     "name": "stdout",
     "output_type": "stream",
     "text": [
      "Temporal clustering for feature-rich vs. reduced (early) (all lists):\n",
      "t(107) = -1.379,~p = 0.171,~d = -0.271,~\\mathrm{CI} = [-3.319,~0.474]\n"
     ]
    }
   ],
   "source": [
    "print('Temporal clustering for feature-rich vs. reduced (early) (all lists):')\n",
    "feature_rich_vs_reduced_early.add_stat('Temporal clustering', ttest(results['fingerprint']['feature-rich'], results['fingerprint']['reduced (early)'], x_col='temporal', y_col='temporal'))"
   ]
  },
  {
   "cell_type": "code",
   "execution_count": 26,
   "metadata": {},
   "outputs": [
    {
     "name": "stdout",
     "output_type": "stream",
     "text": [
      "Temporal clustering for feature-rich vs. reduced (late) (all lists):\n",
      "t(106) = -0.535,~p = 0.593,~d = -0.106,~\\mathrm{CI} = [-2.552,~1.237]\n"
     ]
    }
   ],
   "source": [
    "print('Temporal clustering for feature-rich vs. reduced (late) (all lists):')\n",
    "feature_rich_vs_reduced_late.add_stat('Temporal clustering', ttest(results['fingerprint']['feature-rich'], results['fingerprint']['reduced (late)'], x_col='temporal', y_col='temporal'))"
   ]
  },
  {
   "attachments": {},
   "cell_type": "markdown",
   "metadata": {},
   "source": [
    "### Non-visual feature based clustering"
   ]
  },
  {
   "cell_type": "code",
   "execution_count": 27,
   "metadata": {},
   "outputs": [
    {
     "name": "stdout",
     "output_type": "stream",
     "text": [
      "category clustering for feature-rich vs. reduced (early) (all lists):\n",
      "t(107) = 0.013,~p = 0.989,~d = 0.003,~\\mathrm{CI} = [-2.003,~2.102]\n",
      "\n",
      "\n",
      "size clustering for feature-rich vs. reduced (early) (all lists):\n",
      "t(107) = -0.349,~p = 0.728,~d = -0.069,~\\mathrm{CI} = [-2.244,~1.641]\n",
      "\n",
      "\n",
      "wordLength clustering for feature-rich vs. reduced (early) (all lists):\n",
      "t(107) = -0.581,~p = 0.563,~d = -0.114,~\\mathrm{CI} = [-2.328,~1.291]\n",
      "\n",
      "\n",
      "firstLetter clustering for feature-rich vs. reduced (early) (all lists):\n",
      "t(107) = 0.636,~p = 0.526,~d = 0.125,~\\mathrm{CI} = [-1.291,~2.940]\n"
     ]
    }
   ],
   "source": [
    "features = ['category', 'size', 'wordLength', 'firstLetter']\n",
    "for i, f in enumerate(features):\n",
    "    print(f'{f} clustering for feature-rich vs. reduced (early) (all lists):')\n",
    "    feature_rich_vs_reduced_early.add_stat(f'{f} clustering', ttest(results['fingerprint']['feature-rich'], results['fingerprint']['reduced (early)'], x_col=f, y_col=f))\n",
    "\n",
    "    if i < len(features) - 1:\n",
    "        print('\\n')"
   ]
  },
  {
   "cell_type": "code",
   "execution_count": 28,
   "metadata": {},
   "outputs": [
    {
     "name": "stdout",
     "output_type": "stream",
     "text": [
      "category clustering for feature-rich vs. reduced (late) (all lists):\n",
      "t(106) = -1.345,~p = 0.181,~d = -0.267,~\\mathrm{CI} = [-3.525,~0.660]\n",
      "\n",
      "\n",
      "size clustering for feature-rich vs. reduced (late) (all lists):\n",
      "t(106) = -1.441,~p = 0.153,~d = -0.286,~\\mathrm{CI} = [-3.557,~0.382]\n",
      "\n",
      "\n",
      "wordLength clustering for feature-rich vs. reduced (late) (all lists):\n",
      "t(106) = -1.261,~p = 0.210,~d = -0.250,~\\mathrm{CI} = [-3.611,~0.669]\n",
      "\n",
      "\n",
      "firstLetter clustering for feature-rich vs. reduced (late) (all lists):\n",
      "t(106) = 0.939,~p = 0.350,~d = 0.186,~\\mathrm{CI} = [-1.018,~2.949]\n"
     ]
    }
   ],
   "source": [
    "features = ['category', 'size', 'wordLength', 'firstLetter']\n",
    "for i, f in enumerate(features):\n",
    "    print(f'{f} clustering for feature-rich vs. reduced (late) (all lists):')\n",
    "    feature_rich_vs_reduced_late.add_stat(f'{f} clustering', ttest(results['fingerprint']['feature-rich'], results['fingerprint']['reduced (late)'], x_col=f, y_col=f))\n",
    "\n",
    "    if i < len(features) - 1:\n",
    "        print('\\n')"
   ]
  },
  {
   "cell_type": "code",
   "execution_count": 29,
   "metadata": {},
   "outputs": [],
   "source": [
    "feature_rich_vs_reduced_early.to_latex(table_dir.joinpath('feature_rich_vs_reduced_early.tex'), alpha=0.05, method='fdr_bh')\n",
    "feature_rich_vs_reduced_late.to_latex(table_dir.joinpath('feature_rich_vs_reduced_late.tex'), alpha=0.05, method='fdr_bh')"
   ]
  },
  {
   "attachments": {},
   "cell_type": "markdown",
   "metadata": {},
   "source": [
    "## Reduced vs. reduced ({early, late})\n",
    "\n",
    "### Accuracy"
   ]
  },
  {
   "cell_type": "code",
   "execution_count": 30,
   "metadata": {},
   "outputs": [
    {
     "name": "stdout",
     "output_type": "stream",
     "text": [
      "Accuracy for reduced vs. reduced (early) (all lists):\n",
      "t(101) = -2.045,~p = 0.043,~d = -0.410,~\\mathrm{CI} = [-3.826,~0.112]\n"
     ]
    }
   ],
   "source": [
    "reduced_vs_reduced_early = TTestTable()\n",
    "reduced_vs_reduced_late = TTestTable()\n",
    "\n",
    "print('Accuracy for reduced vs. reduced (early) (all lists):')\n",
    "reduced_vs_reduced_early.add_stat('Accuracy', ttest(results['accuracy']['reduced'], results['accuracy']['reduced (early)']))"
   ]
  },
  {
   "cell_type": "code",
   "execution_count": 31,
   "metadata": {},
   "outputs": [
    {
     "name": "stdout",
     "output_type": "stream",
     "text": [
      "Accuracy for reduced vs. reduced (late) (all lists):\n",
      "t(100) = -0.407,~p = 0.685,~d = -0.082,~\\mathrm{CI} = [-2.477,~1.626]\n"
     ]
    }
   ],
   "source": [
    "print('Accuracy for reduced vs. reduced (late) (all lists):')\n",
    "reduced_vs_reduced_late.add_stat('Accuracy', ttest(results['accuracy']['reduced'], results['accuracy']['reduced (late)']))"
   ]
  },
  {
   "attachments": {},
   "cell_type": "markdown",
   "metadata": {},
   "source": [
    "### Temporal clustering"
   ]
  },
  {
   "cell_type": "code",
   "execution_count": 32,
   "metadata": {},
   "outputs": [
    {
     "name": "stdout",
     "output_type": "stream",
     "text": [
      "Temporal clustering for reduced vs. reduced (early) (all lists):\n",
      "t(101) = -10.689,~p < 0.001,~d = -2.143,~\\mathrm{CI} = [-13.479,~-8.512]\n"
     ]
    }
   ],
   "source": [
    "print('Temporal clustering for reduced vs. reduced (early) (all lists):')\n",
    "reduced_vs_reduced_early.add_stat('Temporal clustering', ttest(results['fingerprint']['reduced'], results['fingerprint']['reduced (early)'], x_col='temporal', y_col='temporal'))"
   ]
  },
  {
   "cell_type": "code",
   "execution_count": 33,
   "metadata": {},
   "outputs": [
    {
     "name": "stdout",
     "output_type": "stream",
     "text": [
      "Temporal clustering for reduced vs. reduced (late) (all lists):\n",
      "t(100) = -9.885,~p < 0.001,~d = -1.996,~\\mathrm{CI} = [-14.701,~-6.499]\n"
     ]
    }
   ],
   "source": [
    "print('Temporal clustering for reduced vs. reduced (late) (all lists):')\n",
    "reduced_vs_reduced_late.add_stat('Temporal clustering', ttest(results['fingerprint']['reduced'], results['fingerprint']['reduced (late)'], x_col='temporal', y_col='temporal'))"
   ]
  },
  {
   "attachments": {},
   "cell_type": "markdown",
   "metadata": {},
   "source": [
    "### Non-visual feature based clustering"
   ]
  },
  {
   "cell_type": "code",
   "execution_count": 34,
   "metadata": {},
   "outputs": [
    {
     "name": "stdout",
     "output_type": "stream",
     "text": [
      "category clustering for reduced vs. reduced (early) (all lists):\n",
      "t(101) = -9.538,~p < 0.001,~d = -1.912,~\\mathrm{CI} = [-12.332,~-7.457]\n",
      "\n",
      "\n",
      "size clustering for reduced vs. reduced (early) (all lists):\n",
      "t(101) = -12.222,~p < 0.001,~d = -2.451,~\\mathrm{CI} = [-15.311,~-9.954]\n",
      "\n",
      "\n",
      "wordLength clustering for reduced vs. reduced (early) (all lists):\n",
      "t(101) = -10.620,~p < 0.001,~d = -2.129,~\\mathrm{CI} = [-13.902,~-8.239]\n",
      "\n",
      "\n",
      "firstLetter clustering for reduced vs. reduced (early) (all lists):\n",
      "t(101) = -5.213,~p < 0.001,~d = -1.045,~\\mathrm{CI} = [-7.290,~-3.403]\n"
     ]
    }
   ],
   "source": [
    "features = ['category', 'size', 'wordLength', 'firstLetter']\n",
    "for i, f in enumerate(features):\n",
    "    print(f'{f} clustering for reduced vs. reduced (early) (all lists):')\n",
    "    reduced_vs_reduced_early.add_stat(f'{f} clustering', ttest(results['fingerprint']['reduced'], results['fingerprint']['reduced (early)'], x_col=f, y_col=f))\n",
    "\n",
    "    if i < len(features) - 1:\n",
    "        print('\\n')"
   ]
  },
  {
   "cell_type": "code",
   "execution_count": 35,
   "metadata": {},
   "outputs": [
    {
     "name": "stdout",
     "output_type": "stream",
     "text": [
      "category clustering for reduced vs. reduced (late) (all lists):\n",
      "t(100) = -10.436,~p < 0.001,~d = -2.107,~\\mathrm{CI} = [-15.607,~-6.940]\n",
      "\n",
      "\n",
      "size clustering for reduced vs. reduced (late) (all lists):\n",
      "t(100) = -12.413,~p < 0.001,~d = -2.507,~\\mathrm{CI} = [-18.413,~-8.398]\n",
      "\n",
      "\n",
      "wordLength clustering for reduced vs. reduced (late) (all lists):\n",
      "t(100) = -9.672,~p < 0.001,~d = -1.953,~\\mathrm{CI} = [-14.476,~-6.437]\n",
      "\n",
      "\n",
      "firstLetter clustering for reduced vs. reduced (late) (all lists):\n",
      "t(100) = -4.555,~p < 0.001,~d = -0.920,~\\mathrm{CI} = [-7.332,~-2.538]\n"
     ]
    }
   ],
   "source": [
    "features = ['category', 'size', 'wordLength', 'firstLetter']\n",
    "for i, f in enumerate(features):\n",
    "    print(f'{f} clustering for reduced vs. reduced (late) (all lists):')\n",
    "    reduced_vs_reduced_late.add_stat(f'{f} clustering', ttest(results['fingerprint']['reduced'], results['fingerprint']['reduced (late)'], x_col=f, y_col=f))\n",
    "\n",
    "    if i < len(features) - 1:\n",
    "        print('\\n')"
   ]
  },
  {
   "cell_type": "code",
   "execution_count": 36,
   "metadata": {},
   "outputs": [],
   "source": [
    "reduced_vs_reduced_early.to_latex(table_dir.joinpath('reduced_vs_reduced_early.tex'), alpha=0.05, method='fdr_bh')\n",
    "reduced_vs_reduced_late.to_latex(table_dir.joinpath('reduced_vs_reduced_late.tex'), alpha=0.05, method='fdr_bh')"
   ]
  },
  {
   "attachments": {},
   "cell_type": "markdown",
   "metadata": {},
   "source": [
    "# Order manipulation analyses\n",
    "\n",
    "- When lists are sorted by a given feature, how is memory performance affected (relative to feature-rich -- early lists only)?\n",
    "- Do some order manipulations matter more than others?  E.g. compare semantic vs. lexicographic vs. visual -- early lists only"
   ]
  },
  {
   "attachments": {},
   "cell_type": "markdown",
   "metadata": {},
   "source": [
    "### Accuracy"
   ]
  },
  {
   "cell_type": "code",
   "execution_count": 37,
   "metadata": {},
   "outputs": [
    {
     "name": "stdout",
     "output_type": "stream",
     "text": [
      "Accuracy for category vs. feature-rich (early lists):\n",
      "t(95) = 3.034,~p = 0.003,~d = 0.667,~\\mathrm{CI} = [1.048,~5.113]\n",
      "\n",
      "Accuracy for size vs. feature-rich (early lists):\n",
      "t(95) = -1.013,~p = 0.314,~d = -0.223,~\\mathrm{CI} = [-3.055,~0.865]\n",
      "\n",
      "Accuracy for length vs. feature-rich (early lists):\n",
      "t(95) = -0.550,~p = 0.584,~d = -0.121,~\\mathrm{CI} = [-2.368,~1.363]\n",
      "\n",
      "Accuracy for first letter vs. feature-rich (early lists):\n",
      "t(95) = -0.690,~p = 0.492,~d = -0.152,~\\mathrm{CI} = [-2.663,~1.119]\n",
      "\n",
      "Accuracy for color vs. feature-rich (early lists):\n",
      "t(96) = 1.850,~p = 0.067,~d = 0.402,~\\mathrm{CI} = [-0.010,~3.712]\n",
      "\n",
      "Accuracy for location vs. feature-rich (early lists):\n",
      "t(95) = 0.043,~p = 0.966,~d = 0.010,~\\mathrm{CI} = [-1.598,~1.729]\n"
     ]
    }
   ],
   "source": [
    "order_manip_vs_feature_rich_accuracy_early = TTestTable()\n",
    "\n",
    "print('Accuracy for category vs. feature-rich (early lists):')\n",
    "order_manip_vs_feature_rich_accuracy_early.add_stat('Category', ttest(results['accuracy']['category'], results['accuracy']['feature-rich'], x_lists='Early', y_lists='Early'))\n",
    "\n",
    "print('\\nAccuracy for size vs. feature-rich (early lists):')\n",
    "order_manip_vs_feature_rich_accuracy_early.add_stat('Size', ttest(results['accuracy']['size'], results['accuracy']['feature-rich'], x_lists='Early', y_lists='Early'))\n",
    "\n",
    "print('\\nAccuracy for length vs. feature-rich (early lists):')\n",
    "order_manip_vs_feature_rich_accuracy_early.add_stat('Length', ttest(results['accuracy']['length'], results['accuracy']['feature-rich'], x_lists='Early', y_lists='Early'))\n",
    "\n",
    "print('\\nAccuracy for first letter vs. feature-rich (early lists):')\n",
    "order_manip_vs_feature_rich_accuracy_early.add_stat('First letter', ttest(results['accuracy']['first letter'], results['accuracy']['feature-rich'], x_lists='Early', y_lists='Early'))\n",
    "\n",
    "print('\\nAccuracy for color vs. feature-rich (early lists):')\n",
    "order_manip_vs_feature_rich_accuracy_early.add_stat('Color', ttest(results['accuracy']['color'], results['accuracy']['feature-rich'], x_lists='Early', y_lists='Early'))\n",
    "\n",
    "print('\\nAccuracy for location vs. feature-rich (early lists):')\n",
    "order_manip_vs_feature_rich_accuracy_early.add_stat('Location', ttest(results['accuracy']['location'], results['accuracy']['feature-rich'], x_lists='Early', y_lists='Early'))\n",
    "\n",
    "order_manip_vs_feature_rich_accuracy_early.to_latex(table_dir.joinpath('order_manip_vs_feature_rich_accuracy_early.tex'), alpha=0.05, method='fdr_bh')"
   ]
  },
  {
   "attachments": {},
   "cell_type": "markdown",
   "metadata": {},
   "source": [
    "### Temporal clustering"
   ]
  },
  {
   "cell_type": "code",
   "execution_count": 38,
   "metadata": {},
   "outputs": [
    {
     "name": "stdout",
     "output_type": "stream",
     "text": [
      "Temporal clustering for category vs. feature-rich (early lists):\n"
     ]
    },
    {
     "name": "stdout",
     "output_type": "stream",
     "text": [
      "t(95) = 8.813,~p < 0.001,~d = 1.936,~\\mathrm{CI} = [6.793,~11.751]\n",
      "\n",
      "Temporal clustering for size vs. feature-rich (early lists):\n",
      "t(95) = 2.630,~p = 0.010,~d = 0.578,~\\mathrm{CI} = [0.831,~4.866]\n",
      "\n",
      "Temporal clustering for length vs. feature-rich (early lists):\n",
      "t(95) = -1.547,~p = 0.125,~d = -0.340,~\\mathrm{CI} = [-3.693,~0.341]\n",
      "\n",
      "Temporal clustering for first letter vs. feature-rich (early lists):\n",
      "t(95) = 2.858,~p = 0.005,~d = 0.628,~\\mathrm{CI} = [1.031,~4.886]\n",
      "\n",
      "Temporal clustering for color vs. feature-rich (early lists):\n",
      "t(96) = -1.339,~p = 0.184,~d = -0.291,~\\mathrm{CI} = [-3.238,~0.394]\n",
      "\n",
      "Temporal clustering for location vs. feature-rich (early lists):\n",
      "t(95) = 1.705,~p = 0.092,~d = 0.374,~\\mathrm{CI} = [-0.155,~3.521]\n"
     ]
    }
   ],
   "source": [
    "order_manip_vs_feature_rich_temporal_early = TTestTable()\n",
    "\n",
    "print('Temporal clustering for category vs. feature-rich (early lists):')\n",
    "order_manip_vs_feature_rich_temporal_early.add_stat('Category', ttest(results['fingerprint']['category'], results['fingerprint']['feature-rich'], x_lists='Early', y_lists='Early', x_col='temporal', y_col='temporal'))\n",
    "\n",
    "print('\\nTemporal clustering for size vs. feature-rich (early lists):')\n",
    "order_manip_vs_feature_rich_temporal_early.add_stat('Size', ttest(results['fingerprint']['size'], results['fingerprint']['feature-rich'], x_lists='Early', y_lists='Early', x_col='temporal', y_col='temporal'))\n",
    "\n",
    "print('\\nTemporal clustering for length vs. feature-rich (early lists):')\n",
    "order_manip_vs_feature_rich_temporal_early.add_stat('Length', ttest(results['fingerprint']['length'], results['fingerprint']['feature-rich'], x_lists='Early', y_lists='Early', x_col='temporal', y_col='temporal'))\n",
    "\n",
    "print('\\nTemporal clustering for first letter vs. feature-rich (early lists):')\n",
    "order_manip_vs_feature_rich_temporal_early.add_stat('First letter', ttest(results['fingerprint']['first letter'], results['fingerprint']['feature-rich'], x_lists='Early', y_lists='Early', x_col='temporal', y_col='temporal'))\n",
    "\n",
    "print('\\nTemporal clustering for color vs. feature-rich (early lists):')\n",
    "order_manip_vs_feature_rich_temporal_early.add_stat('Color', ttest(results['fingerprint']['color'], results['fingerprint']['feature-rich'], x_lists='Early', y_lists='Early', x_col='temporal', y_col='temporal'))\n",
    "\n",
    "print('\\nTemporal clustering for location vs. feature-rich (early lists):')\n",
    "order_manip_vs_feature_rich_temporal_early.add_stat('Location', ttest(results['fingerprint']['location'], results['fingerprint']['feature-rich'], x_lists='Early', y_lists='Early', x_col='temporal', y_col='temporal'))\n",
    "\n",
    "order_manip_vs_feature_rich_temporal_early.to_latex(table_dir.joinpath('order_manip_vs_feature_rich_temporal_early.tex'), alpha=0.05, method='fdr_bh')"
   ]
  },
  {
   "attachments": {},
   "cell_type": "markdown",
   "metadata": {},
   "source": [
    "### Feature-based clustering"
   ]
  },
  {
   "cell_type": "code",
   "execution_count": 39,
   "metadata": {},
   "outputs": [
    {
     "name": "stdout",
     "output_type": "stream",
     "text": [
      "category clustering for category vs. feature-rich (early lists):\n",
      "t(95) = 4.429,~p < 0.001,~d = 0.973,~\\mathrm{CI} = [2.995,~6.289]\n",
      "\n",
      "\n",
      "size clustering for category vs. feature-rich (early lists):\n",
      "t(95) = 3.727,~p < 0.001,~d = 0.819,~\\mathrm{CI} = [1.983,~5.750]\n",
      "\n",
      "\n",
      "wordLength clustering for category vs. feature-rich (early lists):\n",
      "t(95) = 0.154,~p = 0.878,~d = 0.034,~\\mathrm{CI} = [-1.764,~1.928]\n",
      "\n",
      "\n",
      "firstLetter clustering for category vs. feature-rich (early lists):\n",
      "t(95) = -1.610,~p = 0.111,~d = -0.354,~\\mathrm{CI} = [-3.614,~0.280]\n",
      "\n",
      "\n",
      "color clustering for category vs. feature-rich (early lists):\n",
      "t(95) = -0.375,~p = 0.709,~d = -0.082,~\\mathrm{CI} = [-2.553,~1.469]\n",
      "\n",
      "\n",
      "location clustering for category vs. feature-rich (early lists):\n",
      "t(95) = -0.347,~p = 0.730,~d = -0.076,~\\mathrm{CI} = [-2.412,~1.475]\n",
      "\n",
      "\n",
      "--- \n",
      "\n",
      "category clustering for size vs. feature-rich (early lists):\n",
      "t(95) = 0.330,~p = 0.742,~d = 0.073,~\\mathrm{CI} = [-1.719,~2.419]\n",
      "\n",
      "\n",
      "size clustering for size vs. feature-rich (early lists):\n",
      "t(95) = 2.421,~p = 0.017,~d = 0.532,~\\mathrm{CI} = [0.604,~4.630]\n",
      "\n",
      "\n",
      "wordLength clustering for size vs. feature-rich (early lists):\n",
      "t(95) = 0.664,~p = 0.508,~d = 0.146,~\\mathrm{CI} = [-1.061,~2.317]\n",
      "\n",
      "\n",
      "firstLetter clustering for size vs. feature-rich (early lists):\n",
      "t(95) = 0.210,~p = 0.834,~d = 0.046,~\\mathrm{CI} = [-1.906,~2.122]\n",
      "\n",
      "\n",
      "color clustering for size vs. feature-rich (early lists):\n",
      "t(95) = -0.667,~p = 0.506,~d = -0.147,~\\mathrm{CI} = [-2.844,~1.040]\n",
      "\n",
      "\n",
      "location clustering for size vs. feature-rich (early lists):\n",
      "t(95) = -0.060,~p = 0.952,~d = -0.013,~\\mathrm{CI} = [-2.151,~1.928]\n",
      "\n",
      "\n",
      "--- \n",
      "\n",
      "category clustering for length vs. feature-rich (early lists):\n",
      "t(95) = -0.178,~p = 0.859,~d = -0.039,~\\mathrm{CI} = [-2.404,~1.835]\n",
      "\n",
      "\n",
      "size clustering for length vs. feature-rich (early lists):\n",
      "t(95) = 0.334,~p = 0.739,~d = 0.073,~\\mathrm{CI} = [-1.781,~2.422]\n",
      "\n",
      "\n",
      "wordLength clustering for length vs. feature-rich (early lists):\n",
      "t(95) = 5.898,~p < 0.001,~d = 1.296,~\\mathrm{CI} = [3.841,~8.489]\n",
      "\n",
      "\n",
      "firstLetter clustering for length vs. feature-rich (early lists):\n",
      "t(95) = 0.758,~p = 0.450,~d = 0.167,~\\mathrm{CI} = [-1.095,~2.561]\n",
      "\n",
      "\n",
      "color clustering for length vs. feature-rich (early lists):\n",
      "t(95) = -0.434,~p = 0.666,~d = -0.095,~\\mathrm{CI} = [-2.650,~1.407]\n",
      "\n",
      "\n",
      "location clustering for length vs. feature-rich (early lists):\n",
      "t(95) = 0.345,~p = 0.731,~d = 0.076,~\\mathrm{CI} = [-1.792,~2.191]\n",
      "\n",
      "\n",
      "--- \n",
      "\n",
      "category clustering for first letter vs. feature-rich (early lists):\n",
      "t(95) = -1.604,~p = 0.112,~d = -0.352,~\\mathrm{CI} = [-3.883,~0.175]\n",
      "\n",
      "\n",
      "size clustering for first letter vs. feature-rich (early lists):\n",
      "t(95) = -0.359,~p = 0.721,~d = -0.079,~\\mathrm{CI} = [-2.295,~1.285]\n",
      "\n",
      "\n",
      "wordLength clustering for first letter vs. feature-rich (early lists):\n",
      "t(95) = 0.359,~p = 0.720,~d = 0.079,~\\mathrm{CI} = [-1.577,~2.072]\n",
      "\n",
      "\n",
      "firstLetter clustering for first letter vs. feature-rich (early lists):\n",
      "t(95) = 8.845,~p < 0.001,~d = 1.943,~\\mathrm{CI} = [6.973,~11.310]\n",
      "\n",
      "\n",
      "color clustering for first letter vs. feature-rich (early lists):\n",
      "t(95) = 0.613,~p = 0.542,~d = 0.135,~\\mathrm{CI} = [-1.295,~2.308]\n",
      "\n",
      "\n",
      "location clustering for first letter vs. feature-rich (early lists):\n",
      "t(95) = 0.307,~p = 0.759,~d = 0.067,~\\mathrm{CI} = [-1.677,~2.161]\n",
      "\n",
      "\n",
      "--- \n",
      "\n",
      "category clustering for color vs. feature-rich (early lists):\n",
      "t(96) = -0.619,~p = 0.538,~d = -0.134,~\\mathrm{CI} = [-2.664,~1.095]\n",
      "\n",
      "\n",
      "size clustering for color vs. feature-rich (early lists):\n",
      "t(96) = -0.535,~p = 0.594,~d = -0.116,~\\mathrm{CI} = [-2.420,~1.221]\n",
      "\n",
      "\n",
      "wordLength clustering for color vs. feature-rich (early lists):\n",
      "t(96) = 0.007,~p = 0.994,~d = 0.002,~\\mathrm{CI} = [-1.877,~1.779]\n",
      "\n",
      "\n",
      "firstLetter clustering for color vs. feature-rich (early lists):\n",
      "t(96) = -0.133,~p = 0.895,~d = -0.029,~\\mathrm{CI} = [-2.472,~1.915]\n",
      "\n",
      "\n",
      "color clustering for color vs. feature-rich (early lists):\n",
      "t(96) = 3.035,~p = 0.003,~d = 0.659,~\\mathrm{CI} = [1.318,~4.956]\n",
      "\n",
      "\n",
      "location clustering for color vs. feature-rich (early lists):\n",
      "t(96) = 0.201,~p = 0.841,~d = 0.044,~\\mathrm{CI} = [-1.737,~2.017]\n",
      "\n",
      "\n",
      "--- \n",
      "\n",
      "category clustering for location vs. feature-rich (early lists):\n",
      "t(95) = 0.672,~p = 0.503,~d = 0.148,~\\mathrm{CI} = [-1.055,~2.190]\n",
      "\n",
      "\n",
      "size clustering for location vs. feature-rich (early lists):\n",
      "t(95) = 0.403,~p = 0.688,~d = 0.088,~\\mathrm{CI} = [-1.263,~2.002]\n",
      "\n",
      "\n",
      "wordLength clustering for location vs. feature-rich (early lists):\n",
      "t(95) = 0.926,~p = 0.357,~d = 0.203,~\\mathrm{CI} = [-0.823,~2.570]\n",
      "\n",
      "\n",
      "firstLetter clustering for location vs. feature-rich (early lists):\n",
      "t(95) = 0.228,~p = 0.820,~d = 0.050,~\\mathrm{CI} = [-1.622,~2.048]\n",
      "\n",
      "\n",
      "color clustering for location vs. feature-rich (early lists):\n",
      "t(95) = 0.165,~p = 0.869,~d = 0.036,~\\mathrm{CI} = [-1.904,~1.880]\n",
      "\n",
      "\n",
      "location clustering for location vs. feature-rich (early lists):\n",
      "t(95) = 7.766,~p < 0.001,~d = 1.706,~\\mathrm{CI} = [5.744,~10.593]\n"
     ]
    }
   ],
   "source": [
    "conds = ['category', 'size', 'length', 'first letter', 'color', 'location']\n",
    "features = ['category', 'size', 'wordLength', 'firstLetter', 'color', 'location']\n",
    "\n",
    "for i, c in enumerate(conds):\n",
    "    for j, f in enumerate(features):\n",
    "        print(f'{f} clustering for {c} vs. feature-rich (early lists):')\n",
    "        ttest(results['fingerprint'][c], results['fingerprint']['feature-rich'], x_col=f, y_col=f, x_lists='Early', y_lists='Early')\n",
    "\n",
    "        if (j < len(features) - 1) or (i < len(conds) - 1):\n",
    "            print('\\n')\n",
    "    \n",
    "    if i < len(conds) - 1:\n",
    "        print('--- \\n')"
   ]
  },
  {
   "attachments": {},
   "cell_type": "markdown",
   "metadata": {},
   "source": [
    "## Combine \"categories\" of features:\n",
    "  - semantic = category + size\n",
    "  - lexicographic = length + first letter\n",
    "  - visual = color + location"
   ]
  },
  {
   "cell_type": "code",
   "execution_count": 40,
   "metadata": {},
   "outputs": [],
   "source": [
    "groups = {k: v for k, v in feature_groupings.items() if k in ['semantic', 'lexicographic', 'visual']}\n",
    "\n",
    "merged_results = {}\n",
    "for k, v in results.items():\n",
    "    if k not in ['fingerprint', 'accuracy', 'corrected fingerprint']:\n",
    "        continue\n",
    "    merged_results[k] = merge_results(v, groups)"
   ]
  },
  {
   "attachments": {},
   "cell_type": "markdown",
   "metadata": {},
   "source": [
    "## Compare semantic vs. feature-rich\n",
    "\n",
    "### Accuracy"
   ]
  },
  {
   "cell_type": "code",
   "execution_count": 41,
   "metadata": {},
   "outputs": [
    {
     "name": "stdout",
     "output_type": "stream",
     "text": [
      "Accuracy for semantic vs. feature-rich (early lists):\n",
      "t(125) = 1.197,~p = 0.233,~d = 0.213,~\\mathrm{CI} = [-0.753,~3.199]\n",
      "\n",
      "Accuracy for lexicographic vs. feature-rich (early lists):\n",
      "t(125) = -0.776,~p = 0.439,~d = -0.138,~\\mathrm{CI} = [-2.935,~1.206]\n",
      "\n",
      "Accuracy for visual vs. feature-rich (early lists):\n",
      "t(126) = 1.256,~p = 0.212,~d = 0.222,~\\mathrm{CI} = [-0.805,~3.035]\n"
     ]
    }
   ],
   "source": [
    "print('Accuracy for semantic vs. feature-rich (early lists):')\n",
    "ttest(merged_results['accuracy']['semantic'], results['accuracy']['feature-rich'], x_lists='Early', y_lists='Early');\n",
    "\n",
    "print('\\nAccuracy for lexicographic vs. feature-rich (early lists):')\n",
    "ttest(merged_results['accuracy']['lexicographic'], results['accuracy']['feature-rich'], x_lists='Early', y_lists='Early');\n",
    "\n",
    "print('\\nAccuracy for visual vs. feature-rich (early lists):')\n",
    "ttest(merged_results['accuracy']['visual'], results['accuracy']['feature-rich'], x_lists='Early', y_lists='Early');"
   ]
  },
  {
   "cell_type": "code",
   "execution_count": 42,
   "metadata": {},
   "outputs": [
    {
     "name": "stdout",
     "output_type": "stream",
     "text": [
      "Accuracy for semantic vs. feature-rich (early lists):\n",
      "t(125) = 1.197,~p = 0.233,~d = 0.213,~\\mathrm{CI} = [-1.034,~2.991]\n",
      "\n",
      "Accuracy for lexicographic vs. feature-rich (early lists):\n",
      "t(125) = -0.776,~p = 0.439,~d = -0.138,~\\mathrm{CI} = [-3.002,~1.186]\n",
      "\n",
      "Accuracy for visual vs. feature-rich (early lists):\n",
      "t(126) = 1.256,~p = 0.212,~d = 0.222,~\\mathrm{CI} = [-0.708,~3.008]\n"
     ]
    }
   ],
   "source": [
    "print('Accuracy for semantic vs. feature-rich (early lists):')\n",
    "ttest(merged_results['accuracy']['semantic'], results['accuracy']['feature-rich'], x_lists='Early', y_lists='Early');\n",
    "\n",
    "print('\\nAccuracy for lexicographic vs. feature-rich (early lists):')\n",
    "ttest(merged_results['accuracy']['lexicographic'], results['accuracy']['feature-rich'], x_lists='Early', y_lists='Early');\n",
    "\n",
    "print('\\nAccuracy for visual vs. feature-rich (early lists):')\n",
    "ttest(merged_results['accuracy']['visual'], results['accuracy']['feature-rich'], x_lists='Early', y_lists='Early');"
   ]
  },
  {
   "attachments": {},
   "cell_type": "markdown",
   "metadata": {},
   "source": [
    "### Temporal clustering"
   ]
  },
  {
   "cell_type": "code",
   "execution_count": 43,
   "metadata": {},
   "outputs": [
    {
     "name": "stdout",
     "output_type": "stream",
     "text": [
      "Temporal clustering for semantic vs. feature-rich (early lists):\n",
      "t(125) = 6.474,~p < 0.001,~d = 1.151,~\\mathrm{CI} = [4.383,~8.915]\n",
      "\n",
      "Temporal clustering for lexicographic vs. feature-rich (early lists):\n",
      "t(125) = 0.786,~p = 0.433,~d = 0.140,~\\mathrm{CI} = [-1.188,~2.501]\n",
      "\n",
      "Temporal clustering for visual vs. feature-rich (early lists):\n",
      "t(126) = 0.254,~p = 0.800,~d = 0.045,~\\mathrm{CI} = [-1.863,~2.210]\n"
     ]
    }
   ],
   "source": [
    "print('Temporal clustering for semantic vs. feature-rich (early lists):')\n",
    "ttest(merged_results['fingerprint']['semantic'], results['fingerprint']['feature-rich'], x_lists='Early', y_lists='Early', x_col='temporal', y_col='temporal');\n",
    "\n",
    "print('\\nTemporal clustering for lexicographic vs. feature-rich (early lists):')\n",
    "ttest(merged_results['fingerprint']['lexicographic'], results['fingerprint']['feature-rich'], x_lists='Early', y_lists='Early', x_col='temporal', y_col='temporal');\n",
    "\n",
    "print('\\nTemporal clustering for visual vs. feature-rich (early lists):')\n",
    "ttest(merged_results['fingerprint']['visual'], results['fingerprint']['feature-rich'], x_lists='Early', y_lists='Early', x_col='temporal', y_col='temporal');"
   ]
  },
  {
   "attachments": {},
   "cell_type": "markdown",
   "metadata": {},
   "source": [
    "### Feature based clustering"
   ]
  },
  {
   "cell_type": "code",
   "execution_count": 44,
   "metadata": {},
   "outputs": [
    {
     "name": "stdout",
     "output_type": "stream",
     "text": [
      "category clustering for semantic vs. feature-rich (early lists):\n",
      "t(125) = 2.722,~p = 0.007,~d = 0.484,~\\mathrm{CI} = [0.827,~4.932]\n",
      "\n",
      "\n",
      "size clustering for semantic vs. feature-rich (early lists):\n",
      "t(125) = 3.866,~p < 0.001,~d = 0.687,~\\mathrm{CI} = [2.020,~5.983]\n",
      "\n",
      "\n",
      "wordLength clustering for semantic vs. feature-rich (early lists):\n",
      "t(125) = 0.521,~p = 0.603,~d = 0.093,~\\mathrm{CI} = [-1.311,~2.333]\n",
      "\n",
      "\n",
      "firstLetter clustering for semantic vs. feature-rich (early lists):\n",
      "t(125) = -0.842,~p = 0.401,~d = -0.150,~\\mathrm{CI} = [-2.825,~1.095]\n",
      "\n",
      "\n",
      "color clustering for semantic vs. feature-rich (early lists):\n",
      "t(125) = -0.650,~p = 0.517,~d = -0.116,~\\mathrm{CI} = [-2.680,~1.249]\n",
      "\n",
      "\n",
      "location clustering for semantic vs. feature-rich (early lists):\n",
      "t(125) = -0.251,~p = 0.802,~d = -0.045,~\\mathrm{CI} = [-2.257,~1.524]\n",
      "\n",
      "\n",
      "--- \n",
      "\n",
      "category clustering for lexicographic vs. feature-rich (early lists):\n",
      "t(125) = -1.040,~p = 0.301,~d = -0.185,~\\mathrm{CI} = [-3.095,~1.092]\n",
      "\n",
      "\n",
      "size clustering for lexicographic vs. feature-rich (early lists):\n",
      "t(125) = 0.006,~p = 0.995,~d = 0.001,~\\mathrm{CI} = [-1.933,~1.952]\n",
      "\n",
      "\n",
      "wordLength clustering for lexicographic vs. feature-rich (early lists):\n",
      "t(125) = 3.682,~p < 0.001,~d = 0.655,~\\mathrm{CI} = [1.890,~5.569]\n",
      "\n",
      "\n",
      "firstLetter clustering for lexicographic vs. feature-rich (early lists):\n",
      "t(125) = 5.134,~p < 0.001,~d = 0.912,~\\mathrm{CI} = [3.251,~7.258]\n",
      "\n",
      "\n",
      "color clustering for lexicographic vs. feature-rich (early lists):\n",
      "t(125) = 0.092,~p = 0.927,~d = 0.016,~\\mathrm{CI} = [-1.834,~1.867]\n",
      "\n",
      "\n",
      "location clustering for lexicographic vs. feature-rich (early lists):\n",
      "t(125) = 0.407,~p = 0.685,~d = 0.072,~\\mathrm{CI} = [-1.655,~2.463]\n",
      "\n",
      "\n",
      "--- \n",
      "\n",
      "category clustering for visual vs. feature-rich (early lists):\n",
      "t(126) = 0.012,~p = 0.991,~d = 0.002,~\\mathrm{CI} = [-1.988,~1.871]\n",
      "\n",
      "\n",
      "size clustering for visual vs. feature-rich (early lists):\n",
      "t(126) = -0.104,~p = 0.917,~d = -0.018,~\\mathrm{CI} = [-2.166,~1.847]\n",
      "\n",
      "\n",
      "wordLength clustering for visual vs. feature-rich (early lists):\n",
      "t(126) = 0.592,~p = 0.555,~d = 0.105,~\\mathrm{CI} = [-1.361,~2.420]\n",
      "\n",
      "\n",
      "firstLetter clustering for visual vs. feature-rich (early lists):\n",
      "t(126) = 0.040,~p = 0.968,~d = 0.007,~\\mathrm{CI} = [-1.791,~1.863]\n",
      "\n",
      "\n",
      "color clustering for visual vs. feature-rich (early lists):\n",
      "t(126) = 2.022,~p = 0.045,~d = 0.358,~\\mathrm{CI} = [0.056,~3.965]\n",
      "\n",
      "\n",
      "location clustering for visual vs. feature-rich (early lists):\n",
      "t(126) = 4.390,~p < 0.001,~d = 0.777,~\\mathrm{CI} = [2.730,~6.199]\n"
     ]
    }
   ],
   "source": [
    "semantic_vs_feature_rich_feature_early = TTestTable()\n",
    "lexicographic_vs_feature_rich_feature_early = TTestTable()\n",
    "visual_vs_feature_rich_feature_early = TTestTable()\n",
    "\n",
    "conds = ['semantic', 'lexicographic', 'visual']\n",
    "features = ['category', 'size', 'wordLength', 'firstLetter', 'color', 'location']\n",
    "\n",
    "for i, c in enumerate(conds):\n",
    "    for j, f in enumerate(features):\n",
    "        print(f'{f} clustering for {c} vs. feature-rich (early lists):')\n",
    "\n",
    "        if c == 'semantic':\n",
    "            table = semantic_vs_feature_rich_feature_early\n",
    "        elif c == 'lexicographic':\n",
    "            table = lexicographic_vs_feature_rich_feature_early\n",
    "        elif c == 'visual':\n",
    "            table = visual_vs_feature_rich_feature_early\n",
    "\n",
    "        table.add_stat(f, ttest(merged_results['fingerprint'][c], results['fingerprint']['feature-rich'], x_col=f, y_col=f, x_lists='Early', y_lists='Early'))\n",
    "\n",
    "        if (j < len(features) - 1) or (i < len(conds) - 1):\n",
    "            print('\\n')\n",
    "    \n",
    "    if i < len(conds) - 1:\n",
    "        print('--- \\n')\n",
    "\n",
    "semantic_vs_feature_rich_feature_early.to_latex(table_dir.joinpath('semantic_vs_feature_rich_feature_early.tex'), alpha=0.05, method='fdr_bh')\n",
    "lexicographic_vs_feature_rich_feature_early.to_latex(table_dir.joinpath('lexicographic_vs_feature_rich_feature_early.tex'), alpha=0.05, method='fdr_bh')\n",
    "visual_vs_feature_rich_feature_early.to_latex(table_dir.joinpath('visual_vs_feature_rich_feature_early.tex'), alpha=0.05, method='fdr_bh')"
   ]
  },
  {
   "attachments": {},
   "cell_type": "markdown",
   "metadata": {},
   "source": [
    "## Compare each pair of (category of) order manipulation conditions (semantic, lexicographic, and visual)"
   ]
  },
  {
   "attachments": {},
   "cell_type": "markdown",
   "metadata": {},
   "source": [
    "### Accuracy"
   ]
  },
  {
   "cell_type": "code",
   "execution_count": 45,
   "metadata": {},
   "outputs": [
    {
     "name": "stdout",
     "output_type": "stream",
     "text": [
      "Accuracy for semantic vs. lexicographic (early lists):\n",
      "t(118) = 1.936,~p = 0.055,~d = 0.353,~\\mathrm{CI} = [0.057,~3.916]\n",
      "\n",
      "Accuracy for semantic vs. lexicographic (late lists):\n",
      "t(118) = -0.388,~p = 0.699,~d = -0.071,~\\mathrm{CI} = [-2.361,~1.496]\n",
      "\n",
      "\n",
      "\n",
      "Accuracy for semantic vs. visual (early lists):\n",
      "t(119) = 0.113,~p = 0.910,~d = 0.021,~\\mathrm{CI} = [-1.987,~2.097]\n",
      "\n",
      "Accuracy for semantic vs. visual (late lists):\n",
      "t(119) = -0.833,~p = 0.407,~d = -0.151,~\\mathrm{CI} = [-2.917,~1.071]\n",
      "\n",
      "\n",
      "\n",
      "Accuracy for lexicographic vs. visual (early lists):\n",
      "t(119) = -2.145,~p = 0.034,~d = -0.390,~\\mathrm{CI} = [-4.254,~-0.208]\n",
      "\n",
      "Accuracy for lexicographic vs. visual (late lists):\n",
      "t(119) = -0.352,~p = 0.726,~d = -0.064,~\\mathrm{CI} = [-2.156,~1.565]\n",
      "\n",
      "\n",
      "\n"
     ]
    }
   ],
   "source": [
    "order_accuracy_comparisons_early = TTestTable()\n",
    "order_accuracy_comparisons_late = TTestTable()\n",
    "\n",
    "\n",
    "for i, c1 in enumerate(conds):\n",
    "    for c2 in conds[i+1:]:\n",
    "        print(f'Accuracy for {c1} vs. {c2} (early lists):')\n",
    "        order_accuracy_comparisons_early.add_stat(f'{c1} vs. {c2}', ttest(merged_results['accuracy'][c1], merged_results['accuracy'][c2], x_lists='Early', y_lists='Early'))\n",
    "\n",
    "        print(f'\\nAccuracy for {c1} vs. {c2} (late lists):')\n",
    "        order_accuracy_comparisons_late.add_stat(f'{c1} vs. {c2}', ttest(merged_results['accuracy'][c1], merged_results['accuracy'][c2], x_lists='Late', y_lists='Late'))\n",
    "\n",
    "        print('\\n\\n')\n",
    "\n",
    "order_accuracy_comparisons_early.to_latex(table_dir.joinpath('order_accuracy_comparisons_early.tex'), alpha=0.05, method='fdr_bh')\n",
    "order_accuracy_comparisons_late.to_latex(table_dir.joinpath('order_accuracy_comparisons_late.tex'), alpha=0.05, method='fdr_bh')"
   ]
  },
  {
   "attachments": {},
   "cell_type": "markdown",
   "metadata": {},
   "source": [
    "### Temporal clustering"
   ]
  },
  {
   "cell_type": "code",
   "execution_count": 46,
   "metadata": {},
   "outputs": [
    {
     "name": "stdout",
     "output_type": "stream",
     "text": [
      "Temporal clustering for semantic vs. lexicographic (early lists):\n",
      "t(118) = 5.620,~p < 0.001,~d = 1.026,~\\mathrm{CI} = [3.486,~8.010]\n",
      "\n",
      "Temporal clustering for semantic vs. lexicographic (late lists):\n",
      "t(118) = -0.758,~p = 0.450,~d = -0.138,~\\mathrm{CI} = [-2.886,~1.145]\n",
      "\n",
      "\n",
      "Temporal clustering for semantic vs. visual (early lists):\n",
      "t(119) = 6.613,~p < 0.001,~d = 1.202,~\\mathrm{CI} = [4.481,~9.464]\n",
      "\n",
      "Temporal clustering for semantic vs. visual (late lists):\n",
      "t(119) = -0.322,~p = 0.748,~d = -0.059,~\\mathrm{CI} = [-2.354,~1.514]\n",
      "\n",
      "\n",
      "Temporal clustering for lexicographic vs. visual (early lists):\n",
      "t(119) = 0.589,~p = 0.557,~d = 0.107,~\\mathrm{CI} = [-1.336,~2.539]\n",
      "\n",
      "Temporal clustering for lexicographic vs. visual (late lists):\n",
      "t(119) = 0.562,~p = 0.575,~d = 0.102,~\\mathrm{CI} = [-1.561,~2.345]\n",
      "\n",
      "\n"
     ]
    }
   ],
   "source": [
    "order_temporal_comparisons_early = TTestTable()\n",
    "order_temporal_comparisons_late = TTestTable()\n",
    "\n",
    "for i, c1 in enumerate(conds):\n",
    "    for c2 in conds[i+1:]:\n",
    "        print(f'Temporal clustering for {c1} vs. {c2} (early lists):')\n",
    "        order_temporal_comparisons_early.add_stat(f'{c1} vs. {c2}', ttest(merged_results['fingerprint'][c1], merged_results['fingerprint'][c2], x_lists='Early', y_lists='Early', x_col='temporal', y_col='temporal'))\n",
    "\n",
    "        print(f'\\nTemporal clustering for {c1} vs. {c2} (late lists):')\n",
    "        order_temporal_comparisons_late.add_stat(f'{c1} vs. {c2}', ttest(merged_results['fingerprint'][c1], merged_results['fingerprint'][c2], x_lists='Late', y_lists='Late', x_col='temporal', y_col='temporal'))\n",
    "\n",
    "        print('\\n')\n",
    "\n",
    "order_temporal_comparisons_early.to_latex(table_dir.joinpath('order_temporal_comparisons_early.tex'), alpha=0.05, method='fdr_bh')\n",
    "order_temporal_comparisons_late.to_latex(table_dir.joinpath('order_temporal_comparisons_late.tex'), alpha=0.05, method='fdr_bh')"
   ]
  },
  {
   "attachments": {},
   "cell_type": "markdown",
   "metadata": {},
   "source": [
    "### Feature-based clustering"
   ]
  },
  {
   "cell_type": "code",
   "execution_count": 47,
   "metadata": {},
   "outputs": [
    {
     "name": "stdout",
     "output_type": "stream",
     "text": [
      "category clustering for semantic vs. lexicographic (early lists):\n",
      "t(118) = 3.667,~p < 0.001,~d = 0.670,~\\mathrm{CI} = [1.822,~5.942]\n",
      "\n",
      "category clustering for semantic vs. lexicographic (late lists):\n",
      "t(118) = -0.720,~p = 0.473,~d = -0.131,~\\mathrm{CI} = [-2.670,~1.253]\n",
      "\n",
      "\n",
      "size clustering for semantic vs. lexicographic (early lists):\n",
      "t(118) = 4.043,~p < 0.001,~d = 0.738,~\\mathrm{CI} = [2.145,~6.296]\n",
      "\n",
      "size clustering for semantic vs. lexicographic (late lists):\n",
      "t(118) = -1.897,~p = 0.060,~d = -0.346,~\\mathrm{CI} = [-4.039,~0.041]\n",
      "\n",
      "\n",
      "wordLength clustering for semantic vs. lexicographic (early lists):\n",
      "t(118) = -3.390,~p < 0.001,~d = -0.619,~\\mathrm{CI} = [-5.661,~-1.499]\n",
      "\n",
      "wordLength clustering for semantic vs. lexicographic (late lists):\n",
      "t(118) = 1.153,~p = 0.251,~d = 0.211,~\\mathrm{CI} = [-0.662,~3.149]\n",
      "\n",
      "\n",
      "firstLetter clustering for semantic vs. lexicographic (early lists):\n",
      "t(118) = -5.705,~p < 0.001,~d = -1.042,~\\mathrm{CI} = [-7.790,~-3.841]\n",
      "\n",
      "firstLetter clustering for semantic vs. lexicographic (late lists):\n",
      "t(118) = -0.880,~p = 0.381,~d = -0.161,~\\mathrm{CI} = [-2.798,~1.098]\n",
      "\n",
      "\n",
      "color clustering for semantic vs. lexicographic (early lists):\n",
      "t(118) = -0.767,~p = 0.444,~d = -0.140,~\\mathrm{CI} = [-2.744,~1.154]\n",
      "\n",
      "color clustering for semantic vs. lexicographic (late lists):\n",
      "t(118) = -0.728,~p = 0.468,~d = -0.133,~\\mathrm{CI} = [-2.682,~1.153]\n",
      "\n",
      "\n",
      "location clustering for semantic vs. lexicographic (early lists):\n",
      "t(118) = -0.658,~p = 0.512,~d = -0.120,~\\mathrm{CI} = [-2.595,~1.171]\n",
      "\n",
      "location clustering for semantic vs. lexicographic (late lists):\n",
      "t(118) = 0.111,~p = 0.912,~d = 0.020,~\\mathrm{CI} = [-2.002,~2.110]\n",
      "\n",
      "\n",
      "category clustering for semantic vs. visual (early lists):\n",
      "t(119) = 3.114,~p = 0.002,~d = 0.566,~\\mathrm{CI} = [1.052,~5.737]\n",
      "\n",
      "category clustering for semantic vs. visual (late lists):\n",
      "t(119) = -1.292,~p = 0.199,~d = -0.235,~\\mathrm{CI} = [-3.293,~0.582]\n",
      "\n",
      "\n",
      "size clustering for semantic vs. visual (early lists):\n",
      "t(119) = 4.692,~p < 0.001,~d = 0.853,~\\mathrm{CI} = [2.620,~7.024]\n",
      "\n",
      "size clustering for semantic vs. visual (late lists):\n",
      "t(119) = -1.349,~p = 0.180,~d = -0.245,~\\mathrm{CI} = [-3.412,~0.716]\n",
      "\n",
      "\n",
      "wordLength clustering for semantic vs. visual (early lists):\n",
      "t(119) = -0.068,~p = 0.946,~d = -0.012,~\\mathrm{CI} = [-1.897,~1.907]\n",
      "\n",
      "wordLength clustering for semantic vs. visual (late lists):\n",
      "t(119) = -2.074,~p = 0.040,~d = -0.377,~\\mathrm{CI} = [-4.004,~-0.171]\n",
      "\n",
      "\n",
      "firstLetter clustering for semantic vs. visual (early lists):\n",
      "t(119) = -0.842,~p = 0.401,~d = -0.153,~\\mathrm{CI} = [-2.944,~1.089]\n",
      "\n",
      "firstLetter clustering for semantic vs. visual (late lists):\n",
      "t(119) = -1.355,~p = 0.178,~d = -0.246,~\\mathrm{CI} = [-3.408,~0.560]\n",
      "\n",
      "\n",
      "color clustering for semantic vs. visual (early lists):\n",
      "t(119) = -2.673,~p = 0.009,~d = -0.486,~\\mathrm{CI} = [-4.567,~-0.848]\n",
      "\n",
      "color clustering for semantic vs. visual (late lists):\n",
      "t(119) = -0.869,~p = 0.386,~d = -0.158,~\\mathrm{CI} = [-2.804,~1.257]\n",
      "\n",
      "\n",
      "location clustering for semantic vs. visual (early lists):\n",
      "t(119) = -4.499,~p < 0.001,~d = -0.818,~\\mathrm{CI} = [-6.399,~-2.721]\n",
      "\n",
      "location clustering for semantic vs. visual (late lists):\n",
      "t(119) = -0.737,~p = 0.462,~d = -0.134,~\\mathrm{CI} = [-2.773,~1.292]\n",
      "\n",
      "\n",
      "category clustering for lexicographic vs. visual (early lists):\n",
      "t(119) = -1.186,~p = 0.238,~d = -0.216,~\\mathrm{CI} = [-3.010,~0.891]\n",
      "\n",
      "category clustering for lexicographic vs. visual (late lists):\n",
      "t(119) = -0.377,~p = 0.707,~d = -0.069,~\\mathrm{CI} = [-2.311,~1.511]\n",
      "\n",
      "\n",
      "size clustering for lexicographic vs. visual (early lists):\n",
      "t(119) = 0.118,~p = 0.906,~d = 0.021,~\\mathrm{CI} = [-1.778,~2.271]\n",
      "\n",
      "size clustering for lexicographic vs. visual (late lists):\n",
      "t(119) = 0.828,~p = 0.409,~d = 0.151,~\\mathrm{CI} = [-1.168,~2.856]\n",
      "\n",
      "\n",
      "wordLength clustering for lexicographic vs. visual (early lists):\n",
      "t(119) = 3.399,~p < 0.001,~d = 0.618,~\\mathrm{CI} = [1.500,~5.527]\n",
      "\n",
      "wordLength clustering for lexicographic vs. visual (late lists):\n",
      "t(119) = -3.103,~p = 0.002,~d = -0.564,~\\mathrm{CI} = [-5.087,~-1.210]\n",
      "\n",
      "\n",
      "firstLetter clustering for lexicographic vs. visual (early lists):\n",
      "t(119) = 4.859,~p < 0.001,~d = 0.883,~\\mathrm{CI} = [2.860,~6.849]\n",
      "\n",
      "firstLetter clustering for lexicographic vs. visual (late lists):\n",
      "t(119) = -0.436,~p = 0.664,~d = -0.079,~\\mathrm{CI} = [-2.521,~1.472]\n",
      "\n",
      "\n",
      "color clustering for lexicographic vs. visual (early lists):\n",
      "t(119) = -1.988,~p = 0.049,~d = -0.361,~\\mathrm{CI} = [-3.894,~-0.102]\n",
      "\n",
      "color clustering for lexicographic vs. visual (late lists):\n",
      "t(119) = -0.200,~p = 0.842,~d = -0.036,~\\mathrm{CI} = [-2.112,~1.783]\n",
      "\n",
      "\n",
      "location clustering for lexicographic vs. visual (early lists):\n",
      "t(119) = -3.966,~p < 0.001,~d = -0.721,~\\mathrm{CI} = [-5.862,~-2.099]\n",
      "\n",
      "location clustering for lexicographic vs. visual (late lists):\n",
      "t(119) = -0.832,~p = 0.407,~d = -0.151,~\\mathrm{CI} = [-2.799,~1.121]\n",
      "\n",
      "\n"
     ]
    }
   ],
   "source": [
    "feature_comparisons_early = TTestTable()\n",
    "feature_comparisons_late = TTestTable()\n",
    "\n",
    "for i, c1 in enumerate(conds):\n",
    "\n",
    "    for c2 in conds[i+1:]:\n",
    "        for f in features:\n",
    "            print(f'{f} clustering for {c1} vs. {c2} (early lists):')\n",
    "            feature_comparisons_early.add_stat(f'{f}: {c1} vs. {c2}', ttest(merged_results['fingerprint'][c1], merged_results['fingerprint'][c2], x_col=f, y_col=f, x_lists='Early', y_lists='Early'))\n",
    "\n",
    "            print(f'\\n{f} clustering for {c1} vs. {c2} (late lists):')\n",
    "            feature_comparisons_late.add_stat(f'{f}: {c1} vs. {c2}', ttest(merged_results['fingerprint'][c1], merged_results['fingerprint'][c2], x_col=f, y_col=f, x_lists='Late', y_lists='Late'))\n",
    "\n",
    "            print('\\n')\n",
    "\n",
    "feature_comparisons_early.to_latex(table_dir.joinpath('feature_comparisons_early.tex'), alpha=0.05, method='fdr_bh')\n",
    "feature_comparisons_late.to_latex(table_dir.joinpath('feature_comparisons_late.tex'), alpha=0.05, method='fdr_bh')"
   ]
  },
  {
   "attachments": {},
   "cell_type": "markdown",
   "metadata": {},
   "source": [
    "# When *early* lists are sorted by a given feature, how is memory performance on *late* lists affected (relative to *feature-rich* late lists)\n",
    "\n",
    "### Accuracy"
   ]
  },
  {
   "cell_type": "code",
   "execution_count": 48,
   "metadata": {},
   "outputs": [
    {
     "name": "stdout",
     "output_type": "stream",
     "text": [
      "Accuracy for semantic vs. feature-rich (late lists):\n",
      "t(125) = 0.487,~p = 0.627,~d = 0.087,~\\mathrm{CI} = [-1.661,~2.323]\n",
      "\n",
      "Accuracy for lexicographic vs. feature-rich (late lists):\n",
      "t(125) = 0.878,~p = 0.382,~d = 0.156,~\\mathrm{CI} = [-1.226,~3.044]\n",
      "\n",
      "Accuracy for visual vs. feature-rich (late lists):\n",
      "t(126) = 1.437,~p = 0.153,~d = 0.254,~\\mathrm{CI} = [-0.447,~3.519]\n"
     ]
    }
   ],
   "source": [
    "carryover_accuracy = TTestTable()\n",
    "\n",
    "print('Accuracy for semantic vs. feature-rich (late lists):')\n",
    "carryover_accuracy.add_stat('Semantic', ttest(merged_results['accuracy']['semantic'], results['accuracy']['feature-rich'], x_lists='Late', y_lists='Late'))\n",
    "\n",
    "print('\\nAccuracy for lexicographic vs. feature-rich (late lists):')\n",
    "carryover_accuracy.add_stat('Lexicographic', ttest(merged_results['accuracy']['lexicographic'], results['accuracy']['feature-rich'], x_lists='Late', y_lists='Late'))\n",
    "\n",
    "print('\\nAccuracy for visual vs. feature-rich (late lists):')\n",
    "carryover_accuracy.add_stat('Visual', ttest(merged_results['accuracy']['visual'], results['accuracy']['feature-rich'], x_lists='Late', y_lists='Late'))\n",
    "\n",
    "carryover_accuracy.to_latex(table_dir.joinpath('carryover_accuracy.tex'), alpha=0.05, method='fdr_bh')"
   ]
  },
  {
   "attachments": {},
   "cell_type": "markdown",
   "metadata": {},
   "source": [
    "### Temporal clustering"
   ]
  },
  {
   "cell_type": "code",
   "execution_count": 49,
   "metadata": {},
   "outputs": [
    {
     "name": "stdout",
     "output_type": "stream",
     "text": [
      "Temporal clustering for semantic vs. feature-rich (late lists):\n",
      "t(125) = 0.157,~p = 0.875,~d = 0.028,~\\mathrm{CI} = [-1.859,~1.974]\n",
      "\n",
      "Temporal clustering for lexicographic vs. feature-rich (late lists):\n",
      "t(125) = 0.998,~p = 0.320,~d = 0.177,~\\mathrm{CI} = [-0.902,~2.920]\n",
      "\n",
      "Temporal clustering for visual vs. feature-rich (late lists):\n",
      "t(126) = 0.548,~p = 0.585,~d = 0.097,~\\mathrm{CI} = [-1.450,~2.365]\n"
     ]
    }
   ],
   "source": [
    "carryover_temporal_clustering = TTestTable()\n",
    "\n",
    "print('Temporal clustering for semantic vs. feature-rich (late lists):')\n",
    "carryover_temporal_clustering.add_stat('Semantic', ttest(merged_results['fingerprint']['semantic'], results['fingerprint']['feature-rich'], x_lists='Late', y_lists='Late', x_col='temporal', y_col='temporal'))\n",
    "\n",
    "print('\\nTemporal clustering for lexicographic vs. feature-rich (late lists):')\n",
    "carryover_temporal_clustering.add_stat('Lexicographic', ttest(merged_results['fingerprint']['lexicographic'], results['fingerprint']['feature-rich'], x_lists='Late', y_lists='Late', x_col='temporal', y_col='temporal'))\n",
    "\n",
    "print('\\nTemporal clustering for visual vs. feature-rich (late lists):')\n",
    "carryover_temporal_clustering.add_stat('Visual', ttest(merged_results['fingerprint']['visual'], results['fingerprint']['feature-rich'], x_lists='Late', y_lists='Late', x_col='temporal', y_col='temporal'))\n",
    "\n",
    "carryover_temporal_clustering.to_latex(table_dir.joinpath('carryover_temporal_clustering.tex'), alpha=0.05, method='fdr_bh')"
   ]
  },
  {
   "attachments": {},
   "cell_type": "markdown",
   "metadata": {},
   "source": [
    "## Feature-based clustering"
   ]
  },
  {
   "cell_type": "code",
   "execution_count": 50,
   "metadata": {},
   "outputs": [
    {
     "name": "stdout",
     "output_type": "stream",
     "text": [
      "category clustering for semantic vs. feature-rich (late lists):\n",
      "t(125) = -0.041,~p = 0.967,~d = -0.007,~\\mathrm{CI} = [-2.088,~1.861]\n",
      "\n",
      "\n",
      "size clustering for semantic vs. feature-rich (late lists):\n",
      "t(125) = -0.989,~p = 0.324,~d = -0.176,~\\mathrm{CI} = [-3.100,~0.948]\n",
      "\n",
      "\n",
      "wordLength clustering for semantic vs. feature-rich (late lists):\n",
      "t(125) = -0.045,~p = 0.964,~d = -0.008,~\\mathrm{CI} = [-1.959,~1.870]\n",
      "\n",
      "\n",
      "firstLetter clustering for semantic vs. feature-rich (late lists):\n",
      "t(125) = -0.369,~p = 0.713,~d = -0.066,~\\mathrm{CI} = [-2.338,~1.630]\n",
      "\n",
      "\n",
      "color clustering for semantic vs. feature-rich (late lists):\n",
      "t(125) = -0.602,~p = 0.548,~d = -0.107,~\\mathrm{CI} = [-2.541,~1.273]\n",
      "\n",
      "\n",
      "location clustering for semantic vs. feature-rich (late lists):\n",
      "t(125) = -0.521,~p = 0.603,~d = -0.093,~\\mathrm{CI} = [-2.592,~1.565]\n",
      "\n",
      "\n",
      "--- \n",
      "\n",
      "category clustering for lexicographic vs. feature-rich (late lists):\n",
      "t(125) = 0.678,~p = 0.499,~d = 0.121,~\\mathrm{CI} = [-1.240,~2.608]\n",
      "\n",
      "\n",
      "size clustering for lexicographic vs. feature-rich (late lists):\n",
      "t(125) = 0.915,~p = 0.362,~d = 0.163,~\\mathrm{CI} = [-1.137,~2.756]\n",
      "\n",
      "\n",
      "wordLength clustering for lexicographic vs. feature-rich (late lists):\n",
      "t(125) = -1.200,~p = 0.233,~d = -0.213,~\\mathrm{CI} = [-3.499,~0.737]\n",
      "\n",
      "\n",
      "firstLetter clustering for lexicographic vs. feature-rich (late lists):\n",
      "t(125) = 0.606,~p = 0.546,~d = 0.108,~\\mathrm{CI} = [-1.390,~2.553]\n",
      "\n",
      "\n",
      "color clustering for lexicographic vs. feature-rich (late lists):\n",
      "t(125) = 0.094,~p = 0.925,~d = 0.017,~\\mathrm{CI} = [-1.955,~1.966]\n",
      "\n",
      "\n",
      "location clustering for lexicographic vs. feature-rich (late lists):\n",
      "t(125) = -0.619,~p = 0.537,~d = -0.110,~\\mathrm{CI} = [-2.672,~1.270]\n",
      "\n",
      "\n",
      "--- \n",
      "\n",
      "category clustering for visual vs. feature-rich (late lists):\n",
      "t(126) = 1.209,~p = 0.229,~d = 0.214,~\\mathrm{CI} = [-0.700,~3.136]\n",
      "\n",
      "\n",
      "size clustering for visual vs. feature-rich (late lists):\n",
      "t(126) = 0.202,~p = 0.840,~d = 0.036,~\\mathrm{CI} = [-1.832,~2.163]\n",
      "\n",
      "\n",
      "wordLength clustering for visual vs. feature-rich (late lists):\n",
      "t(126) = 2.005,~p = 0.047,~d = 0.355,~\\mathrm{CI} = [0.211,~3.722]\n",
      "\n",
      "\n",
      "firstLetter clustering for visual vs. feature-rich (late lists):\n",
      "t(126) = 1.124,~p = 0.263,~d = 0.199,~\\mathrm{CI} = [-0.846,~3.260]\n",
      "\n",
      "\n",
      "color clustering for visual vs. feature-rich (late lists):\n",
      "t(126) = 0.278,~p = 0.781,~d = 0.049,~\\mathrm{CI} = [-1.710,~2.084]\n",
      "\n",
      "\n",
      "location clustering for visual vs. feature-rich (late lists):\n",
      "t(126) = 0.165,~p = 0.869,~d = 0.029,~\\mathrm{CI} = [-1.779,~2.004]\n"
     ]
    }
   ],
   "source": [
    "semantic_carryover_feature_clustering = TTestTable()\n",
    "lexicographic_carryover_feature_clustering = TTestTable()\n",
    "visual_carryover_feature_clustering = TTestTable()\n",
    "\n",
    "conds = ['semantic', 'lexicographic', 'visual']\n",
    "features = ['category', 'size', 'wordLength', 'firstLetter', 'color', 'location']\n",
    "\n",
    "for i, c in enumerate(conds):\n",
    "    if c == 'semantic':\n",
    "        table = semantic_carryover_feature_clustering\n",
    "    elif c == 'lexicographic':\n",
    "        table = lexicographic_carryover_feature_clustering\n",
    "    elif c == 'visual':\n",
    "        table = visual_carryover_feature_clustering\n",
    "\n",
    "    for j, f in enumerate(features):\n",
    "        print(f'{f} clustering for {c} vs. feature-rich (late lists):')\n",
    "        table.add_stat(f, ttest(merged_results['fingerprint'][c], results['fingerprint']['feature-rich'], x_col=f, y_col=f, x_lists='Late', y_lists='Late'))\n",
    "\n",
    "        if (j < len(features) - 1) or (i < len(conds) - 1):\n",
    "            print('\\n')\n",
    "    \n",
    "    if i < len(conds) - 1:\n",
    "        print('--- \\n')\n",
    "\n",
    "semantic_carryover_feature_clustering.to_latex(table_dir.joinpath('semantic_carryover_feature_clustering.tex'), alpha=0.05, method='fdr_bh')\n",
    "lexicographic_carryover_feature_clustering.to_latex(table_dir.joinpath('lexicographic_carryover_feature_clustering.tex'), alpha=0.05, method='fdr_bh')\n",
    "visual_carryover_feature_clustering.to_latex(table_dir.joinpath('visual_carryover_feature_clustering.tex'), alpha=0.05, method='fdr_bh')"
   ]
  },
  {
   "attachments": {},
   "cell_type": "markdown",
   "metadata": {},
   "source": [
    "# Individual difference feature clustering analyses, part 1\n",
    "\n",
    "Compute the correlations (across participants) between feature clustering, recall probability, and temporal clustering for early and late lists.  As a summary, also compute the correlations (across conditions) between the per-condition averages.  Note: for each feature clustering score, consider only the condition of interest-- e.g., for the category condition consider category clustering, for the length condition consider length clustering, and so on.\n",
    "\n",
    "Start by creating a dataframe that combines across all of the order manipulation conditions:\n",
    "  - index: subject, list group --- but rename subjects so they're unique across conditions\n",
    "  - columns:\n",
    "    - feature clustering score: pick out the appropriate element of that list/subject's fingerprint, based on the current condition\n",
    "    - temporal clustering score\n",
    "    - recall probability\n",
    "    - condition"
   ]
  },
  {
   "cell_type": "code",
   "execution_count": 51,
   "metadata": {},
   "outputs": [
    {
     "data": {
      "text/html": [
       "<div>\n",
       "<style scoped>\n",
       "    .dataframe tbody tr th:only-of-type {\n",
       "        vertical-align: middle;\n",
       "    }\n",
       "\n",
       "    .dataframe tbody tr th {\n",
       "        vertical-align: top;\n",
       "    }\n",
       "\n",
       "    .dataframe thead th {\n",
       "        text-align: right;\n",
       "    }\n",
       "</style>\n",
       "<table border=\"1\" class=\"dataframe\">\n",
       "  <thead>\n",
       "    <tr style=\"text-align: right;\">\n",
       "      <th></th>\n",
       "      <th>Subject</th>\n",
       "      <th>List</th>\n",
       "      <th>Condition</th>\n",
       "      <th>Feature clustering score</th>\n",
       "      <th>Corrected feature clustering score</th>\n",
       "      <th>Temporal clustering score</th>\n",
       "      <th>Recall probability</th>\n",
       "    </tr>\n",
       "  </thead>\n",
       "  <tbody>\n",
       "    <tr>\n",
       "      <th>0</th>\n",
       "      <td>0</td>\n",
       "      <td>Early</td>\n",
       "      <td>Feature-rich</td>\n",
       "      <td>0.495229</td>\n",
       "      <td>0.485292</td>\n",
       "      <td>0.562750</td>\n",
       "      <td>0.484375</td>\n",
       "    </tr>\n",
       "    <tr>\n",
       "      <th>1</th>\n",
       "      <td>1</td>\n",
       "      <td>Early</td>\n",
       "      <td>Feature-rich</td>\n",
       "      <td>0.559542</td>\n",
       "      <td>0.582875</td>\n",
       "      <td>0.486750</td>\n",
       "      <td>0.859375</td>\n",
       "    </tr>\n",
       "    <tr>\n",
       "      <th>2</th>\n",
       "      <td>2</td>\n",
       "      <td>Early</td>\n",
       "      <td>Feature-rich</td>\n",
       "      <td>0.538500</td>\n",
       "      <td>0.532000</td>\n",
       "      <td>0.660500</td>\n",
       "      <td>0.625000</td>\n",
       "    </tr>\n",
       "    <tr>\n",
       "      <th>3</th>\n",
       "      <td>3</td>\n",
       "      <td>Early</td>\n",
       "      <td>Feature-rich</td>\n",
       "      <td>0.519375</td>\n",
       "      <td>0.474292</td>\n",
       "      <td>0.596500</td>\n",
       "      <td>0.531250</td>\n",
       "    </tr>\n",
       "    <tr>\n",
       "      <th>4</th>\n",
       "      <td>4</td>\n",
       "      <td>Early</td>\n",
       "      <td>Feature-rich</td>\n",
       "      <td>0.566917</td>\n",
       "      <td>0.565833</td>\n",
       "      <td>0.680000</td>\n",
       "      <td>0.546875</td>\n",
       "    </tr>\n",
       "    <tr>\n",
       "      <th>...</th>\n",
       "      <td>...</td>\n",
       "      <td>...</td>\n",
       "      <td>...</td>\n",
       "      <td>...</td>\n",
       "      <td>...</td>\n",
       "      <td>...</td>\n",
       "      <td>...</td>\n",
       "    </tr>\n",
       "    <tr>\n",
       "      <th>491</th>\n",
       "      <td>243</td>\n",
       "      <td>Late</td>\n",
       "      <td>Location</td>\n",
       "      <td>0.407500</td>\n",
       "      <td>0.388000</td>\n",
       "      <td>0.698875</td>\n",
       "      <td>0.484375</td>\n",
       "    </tr>\n",
       "    <tr>\n",
       "      <th>492</th>\n",
       "      <td>244</td>\n",
       "      <td>Late</td>\n",
       "      <td>Location</td>\n",
       "      <td>0.553750</td>\n",
       "      <td>0.503000</td>\n",
       "      <td>0.603500</td>\n",
       "      <td>0.671875</td>\n",
       "    </tr>\n",
       "    <tr>\n",
       "      <th>493</th>\n",
       "      <td>245</td>\n",
       "      <td>Late</td>\n",
       "      <td>Location</td>\n",
       "      <td>0.598250</td>\n",
       "      <td>0.563750</td>\n",
       "      <td>0.768250</td>\n",
       "      <td>0.609375</td>\n",
       "    </tr>\n",
       "    <tr>\n",
       "      <th>494</th>\n",
       "      <td>246</td>\n",
       "      <td>Late</td>\n",
       "      <td>Location</td>\n",
       "      <td>0.405000</td>\n",
       "      <td>0.428750</td>\n",
       "      <td>0.683750</td>\n",
       "      <td>0.539062</td>\n",
       "    </tr>\n",
       "    <tr>\n",
       "      <th>495</th>\n",
       "      <td>247</td>\n",
       "      <td>Late</td>\n",
       "      <td>Location</td>\n",
       "      <td>0.526750</td>\n",
       "      <td>0.386750</td>\n",
       "      <td>0.545000</td>\n",
       "      <td>0.570312</td>\n",
       "    </tr>\n",
       "  </tbody>\n",
       "</table>\n",
       "<p>496 rows × 7 columns</p>\n",
       "</div>"
      ],
      "text/plain": [
       "     Subject   List     Condition  Feature clustering score  \\\n",
       "0          0  Early  Feature-rich                  0.495229   \n",
       "1          1  Early  Feature-rich                  0.559542   \n",
       "2          2  Early  Feature-rich                  0.538500   \n",
       "3          3  Early  Feature-rich                  0.519375   \n",
       "4          4  Early  Feature-rich                  0.566917   \n",
       "..       ...    ...           ...                       ...   \n",
       "491      243   Late      Location                  0.407500   \n",
       "492      244   Late      Location                  0.553750   \n",
       "493      245   Late      Location                  0.598250   \n",
       "494      246   Late      Location                  0.405000   \n",
       "495      247   Late      Location                  0.526750   \n",
       "\n",
       "     Corrected feature clustering score  Temporal clustering score  \\\n",
       "0                              0.485292                   0.562750   \n",
       "1                              0.582875                   0.486750   \n",
       "2                              0.532000                   0.660500   \n",
       "3                              0.474292                   0.596500   \n",
       "4                              0.565833                   0.680000   \n",
       "..                                  ...                        ...   \n",
       "491                            0.388000                   0.698875   \n",
       "492                            0.503000                   0.603500   \n",
       "493                            0.563750                   0.768250   \n",
       "494                            0.428750                   0.683750   \n",
       "495                            0.386750                   0.545000   \n",
       "\n",
       "     Recall probability  \n",
       "0              0.484375  \n",
       "1              0.859375  \n",
       "2              0.625000  \n",
       "3              0.531250  \n",
       "4              0.546875  \n",
       "..                  ...  \n",
       "491            0.484375  \n",
       "492            0.671875  \n",
       "493            0.609375  \n",
       "494            0.539062  \n",
       "495            0.570312  \n",
       "\n",
       "[496 rows x 7 columns]"
      ]
     },
     "execution_count": 51,
     "metadata": {},
     "output_type": "execute_result"
    }
   ],
   "source": [
    "clustering_results = create_clustering_df(results)\n",
    "clustering_results"
   ]
  },
  {
   "cell_type": "code",
   "execution_count": 52,
   "metadata": {},
   "outputs": [],
   "source": [
    "def corr_helper(clustering_results, x='Feature clustering score', y='Recall probability', xlists=None, ylists=None):\n",
    "    clustering_results = clustering_results.query('Condition != \"feature-rich\"')\n",
    "\n",
    "    def print_corr(a, b, label=None, n_iter=1000):\n",
    "        corr = stats.pearsonr(a, b)\n",
    "\n",
    "        # compute bootstrap-estimated 95% confidence interval\n",
    "        bootstrapped = []        \n",
    "        max_tries = 10\n",
    "        tries = 0\n",
    "        for i in range(n_iter):\n",
    "            inds = np.random.randint(0, len(a), len(a))\n",
    "            while len(np.unique(a.iloc[inds])) == 1 and len(np.unique(b.iloc[inds])) == 1 and tries < max_tries:\n",
    "                inds = np.random.randint(0, len(a), len(a))\n",
    "                tries += 1\n",
    "            if tries >= max_tries:\n",
    "                pass\n",
    "            tries = 0\n",
    "            bootstrapped.append(stats.pearsonr(a.iloc[inds], b.iloc[inds])[0])\n",
    "        low, high = np.percentile(bootstrapped, [2.5, 97.5])\n",
    "\n",
    "        if label is None:\n",
    "            prefix = ''\n",
    "        else:\n",
    "            prefix = label + ': '\n",
    "\n",
    "        if corr.pvalue < 0.001:\n",
    "            p_string = 'p < 0.001'\n",
    "        else:\n",
    "            p_string = f'p = {corr.pvalue:.3f}'\n",
    "\n",
    "        print(f'\\t{prefix}: r({len(a) - 2}) = {corr.statistic:.3f},~{p_string},~' + '\\mathrm{CI}' + f' = [{low:.3f},~{high:.3f}]')\n",
    "        return corr\n",
    "\n",
    "    if xlists is not None:\n",
    "        x_results = clustering_results.query('List == @xlists')\n",
    "    else:\n",
    "        x_results = clustering_results\n",
    "    \n",
    "    if ylists is not None:\n",
    "        y_results = clustering_results.query('List == @ylists')\n",
    "    else:\n",
    "        y_results = clustering_results\n",
    "    \n",
    "    print(f'Correlations between {x} and {y} (x lists: {xlists}, y lists: {ylists})')\n",
    "    # Combine across all conditions, compute correlation across subjects\n",
    "    print_corr(x_results[x], y_results[y], label='Combined (across subjects)')\n",
    "\n",
    "    # Per-condition (across subjects)\n",
    "    print('\\n')\n",
    "    min_r = np.inf\n",
    "    max_p = -np.inf\n",
    "\n",
    "    for c in clustering_results['Condition'].unique():\n",
    "        corr = print_corr(x_results.query('Condition == @c')[x], y_results.query('Condition == @c')[y], label=f'{c} (across subjects)')\n",
    "        min_r = min(min_r, corr.statistic)\n",
    "        max_p = max(max_p, corr.pvalue)\n",
    "    print(f'\\tWithin condition, across subjects: all $r$s $\\geq {min_r:.3f}$, all $p$s $\\leq {max_p:.3f}$')\n",
    "\n",
    "    # Across-condition correlation\n",
    "    print('\\n')\n",
    "    x_ave = x_results.groupby('Condition').mean(numeric_only=True)[x]\n",
    "    y_ave = y_results.groupby('Condition').mean(numeric_only=True)[y]\n",
    "    print_corr(x_ave, y_ave, label='Across conditions')"
   ]
  },
  {
   "attachments": {},
   "cell_type": "markdown",
   "metadata": {},
   "source": [
    "## Recall probability vs. feature clustering\n",
    "\n",
    "### Early vs. early"
   ]
  },
  {
   "cell_type": "code",
   "execution_count": 53,
   "metadata": {},
   "outputs": [
    {
     "name": "stdout",
     "output_type": "stream",
     "text": [
      "Correlations between Feature clustering score and Recall probability (x lists: Early, y lists: Early)\n",
      "\tCombined (across subjects): : r(246) = 0.495,~p < 0.001,~\\mathrm{CI} = [0.378,~0.601]\n",
      "\n",
      "\n",
      "\tFeature-rich (across subjects): : r(65) = 0.758,~p < 0.001,~\\mathrm{CI} = [0.540,~0.868]\n",
      "\tCategory (across subjects): : r(28) = 0.862,~p < 0.001,~\\mathrm{CI} = [0.774,~0.921]\n",
      "\tSize (across subjects): : r(28) = 0.897,~p < 0.001,~\\mathrm{CI} = [0.807,~0.947]\n",
      "\tLength (across subjects): : r(28) = 0.481,~p = 0.007,~\\mathrm{CI} = [0.051,~0.714]\n",
      "\tFirst letter (across subjects): : r(28) = 0.414,~p = 0.023,~\\mathrm{CI} = [0.017,~0.745]\n",
      "\tColor (across subjects): : r(29) = 0.331,~p = 0.069,~\\mathrm{CI} = [-0.043,~0.628]\n",
      "\tLocation (across subjects): : r(28) = 0.360,~p = 0.051,~\\mathrm{CI} = [0.055,~0.642]\n",
      "\tWithin condition, across subjects: all $r$s $\\geq 0.331$, all $p$s $\\leq 0.069$\n",
      "\n",
      "\n",
      "\tAcross conditions: : r(5) = 0.512,~p = 0.240,~\\mathrm{CI} = [-0.915,~0.965]\n"
     ]
    }
   ],
   "source": [
    "corr_helper(clustering_results, x='Feature clustering score', y='Recall probability', xlists='Early', ylists='Early')"
   ]
  },
  {
   "attachments": {},
   "cell_type": "markdown",
   "metadata": {},
   "source": [
    "### Late vs. late"
   ]
  },
  {
   "cell_type": "code",
   "execution_count": 54,
   "metadata": {},
   "outputs": [
    {
     "name": "stdout",
     "output_type": "stream",
     "text": [
      "Correlations between Feature clustering score and Recall probability (x lists: Late, y lists: Late)\n",
      "\tCombined (across subjects): : r(246) = 0.470,~p < 0.001,~\\mathrm{CI} = [0.348,~0.581]\n",
      "\n",
      "\n",
      "\tFeature-rich (across subjects): : r(65) = 0.825,~p < 0.001,~\\mathrm{CI} = [0.717,~0.903]\n",
      "\tCategory (across subjects): : r(28) = 0.662,~p < 0.001,~\\mathrm{CI} = [0.361,~0.887]\n",
      "\tSize (across subjects): : r(28) = 0.744,~p < 0.001,~\\mathrm{CI} = [0.470,~0.912]\n",
      "\tLength (across subjects): : r(28) = 0.520,~p = 0.003,~\\mathrm{CI} = [0.238,~0.741]\n",
      "\tFirst letter (across subjects): : r(28) = 0.404,~p = 0.027,~\\mathrm{CI} = [-0.014,~0.735]\n",
      "\tColor (across subjects): : r(29) = 0.532,~p = 0.002,~\\mathrm{CI} = [0.256,~0.737]\n",
      "\tLocation (across subjects): : r(28) = 0.419,~p = 0.021,~\\mathrm{CI} = [0.065,~0.655]\n",
      "\tWithin condition, across subjects: all $r$s $\\geq 0.404$, all $p$s $\\leq 0.027$\n",
      "\n",
      "\n",
      "\tAcross conditions: : r(5) = -0.292,~p = 0.526,~\\mathrm{CI} = [-0.809,~0.591]\n"
     ]
    }
   ],
   "source": [
    "corr_helper(clustering_results, x='Feature clustering score', y='Recall probability', xlists='Late', ylists='Late')"
   ]
  },
  {
   "attachments": {},
   "cell_type": "markdown",
   "metadata": {},
   "source": [
    "### Late vs. Early"
   ]
  },
  {
   "cell_type": "code",
   "execution_count": 55,
   "metadata": {},
   "outputs": [
    {
     "name": "stdout",
     "output_type": "stream",
     "text": [
      "Correlations between Feature clustering score and Recall probability (x lists: Early, y lists: Late)\n",
      "\tCombined (across subjects): : r(246) = 0.283,~p < 0.001,~\\mathrm{CI} = [0.145,~0.417]\n",
      "\n",
      "\n",
      "\tFeature-rich (across subjects): : r(65) = 0.591,~p < 0.001,~\\mathrm{CI} = [0.275,~0.768]\n",
      "\tCategory (across subjects): : r(28) = 0.474,~p = 0.008,~\\mathrm{CI} = [0.197,~0.698]\n",
      "\tSize (across subjects): : r(28) = 0.574,~p < 0.001,~\\mathrm{CI} = [0.319,~0.746]\n",
      "\tLength (across subjects): : r(28) = 0.405,~p = 0.027,~\\mathrm{CI} = [0.102,~0.615]\n",
      "\tFirst letter (across subjects): : r(28) = 0.385,~p = 0.035,~\\mathrm{CI} = [-0.057,~0.759]\n",
      "\tColor (across subjects): : r(29) = 0.212,~p = 0.251,~\\mathrm{CI} = [-0.194,~0.510]\n",
      "\tLocation (across subjects): : r(28) = 0.320,~p = 0.085,~\\mathrm{CI} = [0.017,~0.591]\n",
      "\tWithin condition, across subjects: all $r$s $\\geq 0.212$, all $p$s $\\leq 0.251$\n",
      "\n",
      "\n",
      "\tAcross conditions: : r(5) = -0.145,~p = 0.757,~\\mathrm{CI} = [-0.898,~0.841]\n"
     ]
    }
   ],
   "source": [
    "corr_helper(clustering_results, x='Feature clustering score', y='Recall probability', xlists='Early', ylists='Late')"
   ]
  },
  {
   "attachments": {},
   "cell_type": "markdown",
   "metadata": {},
   "source": [
    "### Early vs. Late"
   ]
  },
  {
   "cell_type": "code",
   "execution_count": 56,
   "metadata": {},
   "outputs": [
    {
     "name": "stdout",
     "output_type": "stream",
     "text": [
      "Correlations between Feature clustering score and Recall probability (x lists: Late, y lists: Early)\n",
      "\tCombined (across subjects): : r(246) = 0.495,~p < 0.001,~\\mathrm{CI} = [0.359,~0.601]\n",
      "\n",
      "\n",
      "\tFeature-rich (across subjects): : r(65) = 0.693,~p < 0.001,~\\mathrm{CI} = [0.436,~0.837]\n",
      "\tCategory (across subjects): : r(28) = 0.687,~p < 0.001,~\\mathrm{CI} = [0.475,~0.821]\n",
      "\tSize (across subjects): : r(28) = 0.561,~p = 0.001,~\\mathrm{CI} = [0.304,~0.770]\n",
      "\tLength (across subjects): : r(28) = 0.438,~p = 0.015,~\\mathrm{CI} = [0.051,~0.731]\n",
      "\tFirst letter (across subjects): : r(28) = 0.377,~p = 0.040,~\\mathrm{CI} = [0.031,~0.653]\n",
      "\tColor (across subjects): : r(29) = 0.431,~p = 0.016,~\\mathrm{CI} = [0.108,~0.656]\n",
      "\tLocation (across subjects): : r(28) = 0.395,~p = 0.031,~\\mathrm{CI} = [0.126,~0.649]\n",
      "\tWithin condition, across subjects: all $r$s $\\geq 0.377$, all $p$s $\\leq 0.040$\n",
      "\n",
      "\n",
      "\tAcross conditions: : r(5) = 0.445,~p = 0.317,~\\mathrm{CI} = [-0.740,~0.986]\n"
     ]
    }
   ],
   "source": [
    "corr_helper(clustering_results, x='Feature clustering score', y='Recall probability', xlists='Late', ylists='Early')"
   ]
  },
  {
   "attachments": {},
   "cell_type": "markdown",
   "metadata": {},
   "source": [
    "## Temporal clustering vs. feature clustering\n",
    "\n",
    "### Early vs. early"
   ]
  },
  {
   "cell_type": "code",
   "execution_count": 57,
   "metadata": {},
   "outputs": [
    {
     "name": "stdout",
     "output_type": "stream",
     "text": [
      "Correlations between Feature clustering score and Temporal clustering score (x lists: Early, y lists: Early)\n",
      "\tCombined (across subjects): : r(246) = 0.838,~p < 0.001,~\\mathrm{CI} = [0.777,~0.885]\n",
      "\n",
      "\n",
      "\tFeature-rich (across subjects): : r(65) = 0.538,~p < 0.001,~\\mathrm{CI} = [0.087,~0.751]\n",
      "\tCategory (across subjects): : r(28) = 0.965,~p < 0.001,~\\mathrm{CI} = [0.912,~0.993]\n",
      "\tSize (across subjects): : r(28) = 0.926,~p < 0.001,~\\mathrm{CI} = [0.869,~0.963]\n",
      "\tLength (across subjects): : r(28) = 0.945,~p < 0.001,~\\mathrm{CI} = [0.886,~0.977]\n",
      "\tFirst letter (across subjects): : r(28) = 0.855,~p < 0.001,~\\mathrm{CI} = [0.727,~0.929]\n",
      "\tColor (across subjects): : r(29) = 0.817,~p < 0.001,~\\mathrm{CI} = [0.665,~0.901]\n",
      "\tLocation (across subjects): : r(28) = 0.883,~p < 0.001,~\\mathrm{CI} = [0.783,~0.947]\n",
      "\tWithin condition, across subjects: all $r$s $\\geq 0.538$, all $p$s $\\leq 0.000$\n",
      "\n",
      "\n",
      "\tAcross conditions: : r(5) = 0.941,~p = 0.002,~\\mathrm{CI} = [0.643,~0.995]\n"
     ]
    }
   ],
   "source": [
    "corr_helper(clustering_results, x='Feature clustering score', y='Temporal clustering score', xlists='Early', ylists='Early')"
   ]
  },
  {
   "attachments": {},
   "cell_type": "markdown",
   "metadata": {},
   "source": [
    "### Late vs. late"
   ]
  },
  {
   "cell_type": "code",
   "execution_count": 58,
   "metadata": {},
   "outputs": [
    {
     "name": "stdout",
     "output_type": "stream",
     "text": [
      "Correlations between Feature clustering score and Temporal clustering score (x lists: Late, y lists: Late)\n",
      "\tCombined (across subjects): : r(246) = 0.302,~p < 0.001,~\\mathrm{CI} = [0.169,~0.424]\n",
      "\n",
      "\n",
      "\tFeature-rich (across subjects): : r(65) = 0.467,~p < 0.001,~\\mathrm{CI} = [0.027,~0.729]\n",
      "\tCategory (across subjects): : r(28) = 0.293,~p = 0.116,~\\mathrm{CI} = [-0.082,~0.588]\n",
      "\tSize (across subjects): : r(28) = 0.307,~p = 0.099,~\\mathrm{CI} = [-0.107,~0.663]\n",
      "\tLength (across subjects): : r(28) = 0.353,~p = 0.056,~\\mathrm{CI} = [-0.009,~0.687]\n",
      "\tFirst letter (across subjects): : r(28) = 0.660,~p < 0.001,~\\mathrm{CI} = [0.437,~0.817]\n",
      "\tColor (across subjects): : r(29) = 0.333,~p = 0.068,~\\mathrm{CI} = [-0.061,~0.669]\n",
      "\tLocation (across subjects): : r(28) = 0.235,~p = 0.212,~\\mathrm{CI} = [-0.142,~0.523]\n",
      "\tWithin condition, across subjects: all $r$s $\\geq 0.235$, all $p$s $\\leq 0.212$\n",
      "\n",
      "\n",
      "\tAcross conditions: : r(5) = -0.192,~p = 0.681,~\\mathrm{CI} = [-0.833,~0.657]\n"
     ]
    }
   ],
   "source": [
    "corr_helper(clustering_results, x='Feature clustering score', y='Temporal clustering score', xlists='Late', ylists='Late')"
   ]
  },
  {
   "attachments": {},
   "cell_type": "markdown",
   "metadata": {},
   "source": [
    "### Late vs. early"
   ]
  },
  {
   "cell_type": "code",
   "execution_count": 59,
   "metadata": {},
   "outputs": [
    {
     "name": "stdout",
     "output_type": "stream",
     "text": [
      "Correlations between Feature clustering score and Temporal clustering score (x lists: Early, y lists: Late)\n",
      "\tCombined (across subjects): : r(246) = 0.269,~p < 0.001,~\\mathrm{CI} = [0.114,~0.405]\n",
      "\n",
      "\n",
      "\tFeature-rich (across subjects): : r(65) = 0.358,~p = 0.003,~\\mathrm{CI} = [-0.195,~0.649]\n",
      "\tCategory (across subjects): : r(28) = 0.298,~p = 0.110,~\\mathrm{CI} = [0.022,~0.521]\n",
      "\tSize (across subjects): : r(28) = 0.314,~p = 0.091,~\\mathrm{CI} = [0.001,~0.562]\n",
      "\tLength (across subjects): : r(28) = 0.535,~p = 0.002,~\\mathrm{CI} = [0.238,~0.768]\n",
      "\tFirst letter (across subjects): : r(28) = 0.443,~p = 0.014,~\\mathrm{CI} = [0.057,~0.740]\n",
      "\tColor (across subjects): : r(29) = 0.491,~p = 0.005,~\\mathrm{CI} = [0.050,~0.726]\n",
      "\tLocation (across subjects): : r(28) = 0.355,~p = 0.054,~\\mathrm{CI} = [0.042,~0.612]\n",
      "\tWithin condition, across subjects: all $r$s $\\geq 0.298$, all $p$s $\\leq 0.110$\n",
      "\n",
      "\n",
      "\tAcross conditions: : r(5) = 0.154,~p = 0.742,~\\mathrm{CI} = [-0.506,~0.934]\n"
     ]
    }
   ],
   "source": [
    "corr_helper(clustering_results, x='Feature clustering score', y='Temporal clustering score', xlists='Early', ylists='Late')"
   ]
  },
  {
   "attachments": {},
   "cell_type": "markdown",
   "metadata": {},
   "source": [
    "### Early vs. late"
   ]
  },
  {
   "cell_type": "code",
   "execution_count": 60,
   "metadata": {},
   "outputs": [
    {
     "name": "stdout",
     "output_type": "stream",
     "text": [
      "Correlations between Feature clustering score and Temporal clustering score (x lists: Late, y lists: Early)\n",
      "\tCombined (across subjects): : r(246) = 0.493,~p < 0.001,~\\mathrm{CI} = [0.373,~0.600]\n",
      "\n",
      "\n",
      "\tFeature-rich (across subjects): : r(65) = 0.336,~p = 0.005,~\\mathrm{CI} = [-0.159,~0.659]\n",
      "\tCategory (across subjects): : r(28) = 0.613,~p < 0.001,~\\mathrm{CI} = [0.382,~0.773]\n",
      "\tSize (across subjects): : r(28) = 0.392,~p = 0.032,~\\mathrm{CI} = [0.055,~0.655]\n",
      "\tLength (across subjects): : r(28) = 0.271,~p = 0.148,~\\mathrm{CI} = [-0.093,~0.570]\n",
      "\tFirst letter (across subjects): : r(28) = 0.345,~p = 0.062,~\\mathrm{CI} = [-0.050,~0.669]\n",
      "\tColor (across subjects): : r(29) = 0.005,~p = 0.980,~\\mathrm{CI} = [-0.417,~0.415]\n",
      "\tLocation (across subjects): : r(28) = 0.240,~p = 0.201,~\\mathrm{CI} = [-0.087,~0.511]\n",
      "\tWithin condition, across subjects: all $r$s $\\geq 0.005$, all $p$s $\\leq 0.980$\n",
      "\n",
      "\n",
      "\tAcross conditions: : r(5) = 0.823,~p = 0.023,~\\mathrm{CI} = [-0.084,~0.985]\n"
     ]
    }
   ],
   "source": [
    "corr_helper(clustering_results, x='Feature clustering score', y='Temporal clustering score', xlists='Late', ylists='Early')"
   ]
  },
  {
   "attachments": {},
   "cell_type": "markdown",
   "metadata": {},
   "source": [
    "## Feature clustering on early vs. late lists"
   ]
  },
  {
   "cell_type": "code",
   "execution_count": 61,
   "metadata": {},
   "outputs": [
    {
     "name": "stdout",
     "output_type": "stream",
     "text": [
      "Correlations between Feature clustering score and Feature clustering score (x lists: Late, y lists: Early)\n",
      "\tCombined (across subjects): : r(246) = 0.551,~p < 0.001,~\\mathrm{CI} = [0.431,~0.648]\n",
      "\n",
      "\n",
      "\tFeature-rich (across subjects): : r(65) = 0.706,~p < 0.001,~\\mathrm{CI} = [0.261,~0.872]\n",
      "\tCategory (across subjects): : r(28) = 0.590,~p < 0.001,~\\mathrm{CI} = [0.366,~0.754]\n",
      "\tSize (across subjects): : r(28) = 0.488,~p = 0.006,~\\mathrm{CI} = [0.156,~0.723]\n",
      "\tLength (across subjects): : r(28) = 0.384,~p = 0.036,~\\mathrm{CI} = [0.032,~0.667]\n",
      "\tFirst letter (across subjects): : r(28) = 0.202,~p = 0.284,~\\mathrm{CI} = [-0.252,~0.660]\n",
      "\tColor (across subjects): : r(29) = -0.183,~p = 0.325,~\\mathrm{CI} = [-0.560,~0.253]\n",
      "\tLocation (across subjects): : r(28) = 0.031,~p = 0.870,~\\mathrm{CI} = [-0.235,~0.301]\n",
      "\tWithin condition, across subjects: all $r$s $\\geq -0.183$, all $p$s $\\leq 0.870$\n",
      "\n",
      "\n",
      "\tAcross conditions: : r(5) = 0.861,~p = 0.013,~\\mathrm{CI} = [-0.404,~0.998]\n"
     ]
    }
   ],
   "source": [
    "corr_helper(clustering_results, x='Feature clustering score', y='Feature clustering score', xlists='Late', ylists='Early')"
   ]
  },
  {
   "attachments": {},
   "cell_type": "markdown",
   "metadata": {},
   "source": [
    "# Difference analyses (early - late lists)"
   ]
  },
  {
   "cell_type": "code",
   "execution_count": 62,
   "metadata": {},
   "outputs": [
    {
     "data": {
      "text/html": [
       "<div>\n",
       "<style scoped>\n",
       "    .dataframe tbody tr th:only-of-type {\n",
       "        vertical-align: middle;\n",
       "    }\n",
       "\n",
       "    .dataframe tbody tr th {\n",
       "        vertical-align: top;\n",
       "    }\n",
       "\n",
       "    .dataframe thead th {\n",
       "        text-align: right;\n",
       "    }\n",
       "</style>\n",
       "<table border=\"1\" class=\"dataframe\">\n",
       "  <thead>\n",
       "    <tr style=\"text-align: right;\">\n",
       "      <th></th>\n",
       "      <th>Subject</th>\n",
       "      <th>List</th>\n",
       "      <th>Condition</th>\n",
       "      <th>Feature clustering score</th>\n",
       "      <th>Corrected feature clustering score</th>\n",
       "      <th>Temporal clustering score</th>\n",
       "      <th>Recall probability</th>\n",
       "    </tr>\n",
       "  </thead>\n",
       "  <tbody>\n",
       "    <tr>\n",
       "      <th>0</th>\n",
       "      <td>0</td>\n",
       "      <td>Early - Late</td>\n",
       "      <td>Feature-rich</td>\n",
       "      <td>-0.050729</td>\n",
       "      <td>0.485292</td>\n",
       "      <td>-0.045000</td>\n",
       "      <td>0.039062</td>\n",
       "    </tr>\n",
       "    <tr>\n",
       "      <th>1</th>\n",
       "      <td>1</td>\n",
       "      <td>Early - Late</td>\n",
       "      <td>Feature-rich</td>\n",
       "      <td>-0.058125</td>\n",
       "      <td>0.582875</td>\n",
       "      <td>-0.039750</td>\n",
       "      <td>-0.031250</td>\n",
       "    </tr>\n",
       "    <tr>\n",
       "      <th>2</th>\n",
       "      <td>2</td>\n",
       "      <td>Early - Late</td>\n",
       "      <td>Feature-rich</td>\n",
       "      <td>0.092667</td>\n",
       "      <td>0.532000</td>\n",
       "      <td>0.259625</td>\n",
       "      <td>0.148438</td>\n",
       "    </tr>\n",
       "    <tr>\n",
       "      <th>3</th>\n",
       "      <td>3</td>\n",
       "      <td>Early - Late</td>\n",
       "      <td>Feature-rich</td>\n",
       "      <td>0.070625</td>\n",
       "      <td>0.474292</td>\n",
       "      <td>-0.019375</td>\n",
       "      <td>0.125000</td>\n",
       "    </tr>\n",
       "    <tr>\n",
       "      <th>4</th>\n",
       "      <td>4</td>\n",
       "      <td>Early - Late</td>\n",
       "      <td>Feature-rich</td>\n",
       "      <td>0.089312</td>\n",
       "      <td>0.565833</td>\n",
       "      <td>0.194500</td>\n",
       "      <td>0.101562</td>\n",
       "    </tr>\n",
       "    <tr>\n",
       "      <th>...</th>\n",
       "      <td>...</td>\n",
       "      <td>...</td>\n",
       "      <td>...</td>\n",
       "      <td>...</td>\n",
       "      <td>...</td>\n",
       "      <td>...</td>\n",
       "      <td>...</td>\n",
       "    </tr>\n",
       "    <tr>\n",
       "      <th>461</th>\n",
       "      <td>243</td>\n",
       "      <td>Early - Late</td>\n",
       "      <td>Location</td>\n",
       "      <td>0.272875</td>\n",
       "      <td>0.397500</td>\n",
       "      <td>0.011625</td>\n",
       "      <td>-0.031250</td>\n",
       "    </tr>\n",
       "    <tr>\n",
       "      <th>462</th>\n",
       "      <td>244</td>\n",
       "      <td>Early - Late</td>\n",
       "      <td>Location</td>\n",
       "      <td>0.229750</td>\n",
       "      <td>0.527500</td>\n",
       "      <td>0.248500</td>\n",
       "      <td>-0.046875</td>\n",
       "    </tr>\n",
       "    <tr>\n",
       "      <th>463</th>\n",
       "      <td>245</td>\n",
       "      <td>Early - Late</td>\n",
       "      <td>Location</td>\n",
       "      <td>-0.001750</td>\n",
       "      <td>0.320750</td>\n",
       "      <td>-0.017250</td>\n",
       "      <td>-0.062500</td>\n",
       "    </tr>\n",
       "    <tr>\n",
       "      <th>464</th>\n",
       "      <td>246</td>\n",
       "      <td>Early - Late</td>\n",
       "      <td>Location</td>\n",
       "      <td>0.436625</td>\n",
       "      <td>0.647750</td>\n",
       "      <td>0.162500</td>\n",
       "      <td>0.109375</td>\n",
       "    </tr>\n",
       "    <tr>\n",
       "      <th>465</th>\n",
       "      <td>247</td>\n",
       "      <td>Early - Late</td>\n",
       "      <td>Location</td>\n",
       "      <td>-0.031000</td>\n",
       "      <td>0.431250</td>\n",
       "      <td>0.062250</td>\n",
       "      <td>0.031250</td>\n",
       "    </tr>\n",
       "  </tbody>\n",
       "</table>\n",
       "<p>248 rows × 7 columns</p>\n",
       "</div>"
      ],
      "text/plain": [
       "     Subject          List     Condition  Feature clustering score  \\\n",
       "0          0  Early - Late  Feature-rich                 -0.050729   \n",
       "1          1  Early - Late  Feature-rich                 -0.058125   \n",
       "2          2  Early - Late  Feature-rich                  0.092667   \n",
       "3          3  Early - Late  Feature-rich                  0.070625   \n",
       "4          4  Early - Late  Feature-rich                  0.089312   \n",
       "..       ...           ...           ...                       ...   \n",
       "461      243  Early - Late      Location                  0.272875   \n",
       "462      244  Early - Late      Location                  0.229750   \n",
       "463      245  Early - Late      Location                 -0.001750   \n",
       "464      246  Early - Late      Location                  0.436625   \n",
       "465      247  Early - Late      Location                 -0.031000   \n",
       "\n",
       "     Corrected feature clustering score  Temporal clustering score  \\\n",
       "0                              0.485292                  -0.045000   \n",
       "1                              0.582875                  -0.039750   \n",
       "2                              0.532000                   0.259625   \n",
       "3                              0.474292                  -0.019375   \n",
       "4                              0.565833                   0.194500   \n",
       "..                                  ...                        ...   \n",
       "461                            0.397500                   0.011625   \n",
       "462                            0.527500                   0.248500   \n",
       "463                            0.320750                  -0.017250   \n",
       "464                            0.647750                   0.162500   \n",
       "465                            0.431250                   0.062250   \n",
       "\n",
       "     Recall probability  \n",
       "0              0.039062  \n",
       "1             -0.031250  \n",
       "2              0.148438  \n",
       "3              0.125000  \n",
       "4              0.101562  \n",
       "..                  ...  \n",
       "461           -0.031250  \n",
       "462           -0.046875  \n",
       "463           -0.062500  \n",
       "464            0.109375  \n",
       "465            0.031250  \n",
       "\n",
       "[248 rows x 7 columns]"
      ]
     },
     "execution_count": 62,
     "metadata": {},
     "output_type": "execute_result"
    }
   ],
   "source": [
    "clustering_result_diffs = clustering_results.query('List == \"Early\"').copy()\n",
    "clustering_result_diffs['List'] = 'Early - Late'\n",
    "clustering_result_diffs['Feature clustering score'] = clustering_result_diffs['Feature clustering score'].values - clustering_results.query('List == \"Late\"')['Feature clustering score'].values\n",
    "clustering_result_diffs['Temporal clustering score'] = clustering_result_diffs['Temporal clustering score'].values - clustering_results.query('List == \"Late\"')['Temporal clustering score'].values\n",
    "clustering_result_diffs['Recall probability'] = clustering_result_diffs['Recall probability'].values - clustering_results.query('List == \"Late\"')['Recall probability'].values\n",
    "clustering_result_diffs"
   ]
  },
  {
   "attachments": {},
   "cell_type": "markdown",
   "metadata": {},
   "source": [
    "## Recall probability versus feature clustering (differences)"
   ]
  },
  {
   "cell_type": "code",
   "execution_count": 63,
   "metadata": {},
   "outputs": [
    {
     "name": "stdout",
     "output_type": "stream",
     "text": [
      "Correlations between Feature clustering score and Recall probability (x lists: Early - Late, y lists: Early - Late)\n"
     ]
    },
    {
     "name": "stdout",
     "output_type": "stream",
     "text": [
      "\tCombined (across subjects): : r(246) = 0.291,~p < 0.001,~\\mathrm{CI} = [0.140,~0.434]\n",
      "\n",
      "\n",
      "\tFeature-rich (across subjects): : r(65) = 0.658,~p < 0.001,~\\mathrm{CI} = [0.534,~0.784]\n",
      "\tCategory (across subjects): : r(28) = 0.350,~p = 0.058,~\\mathrm{CI} = [-0.007,~0.644]\n",
      "\tSize (across subjects): : r(28) = 0.708,~p < 0.001,~\\mathrm{CI} = [0.429,~0.869]\n",
      "\tLength (across subjects): : r(28) = 0.205,~p = 0.276,~\\mathrm{CI} = [-0.128,~0.489]\n",
      "\tFirst letter (across subjects): : r(28) = 0.081,~p = 0.672,~\\mathrm{CI} = [-0.396,~0.605]\n",
      "\tColor (across subjects): : r(29) = 0.155,~p = 0.406,~\\mathrm{CI} = [-0.153,~0.534]\n",
      "\tLocation (across subjects): : r(28) = 0.052,~p = 0.787,~\\mathrm{CI} = [-0.303,~0.381]\n",
      "\tWithin condition, across subjects: all $r$s $\\geq 0.052$, all $p$s $\\leq 0.787$\n",
      "\n",
      "\n",
      "\tAcross conditions: : r(5) = 0.337,~p = 0.459,~\\mathrm{CI} = [-0.943,~0.912]\n"
     ]
    }
   ],
   "source": [
    "corr_helper(clustering_result_diffs, x='Feature clustering score', y='Recall probability', xlists='Early - Late', ylists='Early - Late')"
   ]
  },
  {
   "attachments": {},
   "cell_type": "markdown",
   "metadata": {},
   "source": [
    "### Temporal clustering versus featuer clustering (differences)"
   ]
  },
  {
   "cell_type": "code",
   "execution_count": 64,
   "metadata": {},
   "outputs": [
    {
     "name": "stdout",
     "output_type": "stream",
     "text": [
      "Correlations between Feature clustering score and Temporal clustering score (x lists: Early - Late, y lists: Early - Late)\n",
      "\tCombined (across subjects): : r(246) = 0.436,~p < 0.001,~\\mathrm{CI} = [0.319,~0.533]\n",
      "\n",
      "\n",
      "\tFeature-rich (across subjects): : r(65) = 0.427,~p < 0.001,~\\mathrm{CI} = [0.188,~0.622]\n",
      "\tCategory (across subjects): : r(28) = 0.110,~p = 0.564,~\\mathrm{CI} = [-0.277,~0.439]\n",
      "\tSize (across subjects): : r(28) = 0.447,~p = 0.013,~\\mathrm{CI} = [0.056,~0.725]\n",
      "\tLength (across subjects): : r(28) = 0.482,~p = 0.007,~\\mathrm{CI} = [0.246,~0.707]\n",
      "\tFirst letter (across subjects): : r(28) = 0.584,~p < 0.001,~\\mathrm{CI} = [0.255,~0.764]\n",
      "\tColor (across subjects): : r(29) = 0.406,~p = 0.023,~\\mathrm{CI} = [0.078,~0.689]\n",
      "\tLocation (across subjects): : r(28) = 0.498,~p = 0.005,~\\mathrm{CI} = [0.282,~0.680]\n",
      "\tWithin condition, across subjects: all $r$s $\\geq 0.110$, all $p$s $\\leq 0.564$\n",
      "\n",
      "\n",
      "\tAcross conditions: : r(5) = 0.564,~p = 0.188,~\\mathrm{CI} = [-0.483,~0.950]\n"
     ]
    }
   ],
   "source": [
    "corr_helper(clustering_result_diffs, x='Feature clustering score', y='Temporal clustering score', xlists='Early - Late', ylists='Early - Late')"
   ]
  },
  {
   "attachments": {},
   "cell_type": "markdown",
   "metadata": {},
   "source": [
    "# Adaptive condition\n",
    "\n",
    "## Accuracy: comparing across each list type\n",
    "\n",
    "### Stabilize vs. random"
   ]
  },
  {
   "cell_type": "code",
   "execution_count": 65,
   "metadata": {},
   "outputs": [
    {
     "name": "stdout",
     "output_type": "stream",
     "text": [
      "t(59) = 1.740,~p = 0.087,~d = 0.095,~\\mathrm{CI} = [-0.184,~3.856]\n"
     ]
    }
   ],
   "source": [
    "ttest(results['accuracy']['adaptive'], results['accuracy']['adaptive'], x_lists='stabilize', y_lists='random', independent_sample=False);"
   ]
  },
  {
   "attachments": {},
   "cell_type": "markdown",
   "metadata": {},
   "source": [
    "### Destabilize vs. random"
   ]
  },
  {
   "cell_type": "code",
   "execution_count": 66,
   "metadata": {},
   "outputs": [
    {
     "name": "stdout",
     "output_type": "stream",
     "text": [
      "t(59) = -0.249,~p = 0.804,~d = -0.017,~\\mathrm{CI} = [-2.327,~1.650]\n"
     ]
    }
   ],
   "source": [
    "ttest(results['accuracy']['adaptive'], results['accuracy']['adaptive'], x_lists='destabilize', y_lists='random', independent_sample=False);"
   ]
  },
  {
   "attachments": {},
   "cell_type": "markdown",
   "metadata": {},
   "source": [
    "### Stabilize vs. destabilize"
   ]
  },
  {
   "cell_type": "code",
   "execution_count": 67,
   "metadata": {},
   "outputs": [
    {
     "name": "stdout",
     "output_type": "stream",
     "text": [
      "t(59) = 1.714,~p = 0.092,~d = 0.114,~\\mathrm{CI} = [-0.057,~4.224]\n"
     ]
    }
   ],
   "source": [
    "ttest(results['accuracy']['adaptive'], results['accuracy']['adaptive'], x_lists='stabilize', y_lists='destabilize', independent_sample=False);"
   ]
  },
  {
   "attachments": {},
   "cell_type": "markdown",
   "metadata": {},
   "source": [
    "## Temporal clustering: comparing across each list type\n",
    "\n",
    "### Stabilize vs. random"
   ]
  },
  {
   "cell_type": "code",
   "execution_count": 68,
   "metadata": {},
   "outputs": [
    {
     "name": "stdout",
     "output_type": "stream",
     "text": [
      "t(59) = 3.428,~p = 0.001,~d = 0.306,~\\mathrm{CI} = [1.623,~5.588]\n"
     ]
    }
   ],
   "source": [
    "ttest(results['fingerprint']['adaptive'], results['fingerprint']['adaptive'], x_lists='stabilize', y_lists='random', independent_sample=False, x_col='temporal', y_col='temporal');"
   ]
  },
  {
   "attachments": {},
   "cell_type": "markdown",
   "metadata": {},
   "source": [
    "### Destabilize vs. random"
   ]
  },
  {
   "cell_type": "code",
   "execution_count": 69,
   "metadata": {},
   "outputs": [
    {
     "name": "stdout",
     "output_type": "stream",
     "text": [
      "t(59) = -0.880,~p = 0.382,~d = -0.081,~\\mathrm{CI} = [-3.157,~1.057]\n"
     ]
    }
   ],
   "source": [
    "ttest(results['fingerprint']['adaptive'], results['fingerprint']['adaptive'], x_lists='destabilize', y_lists='random', independent_sample=False, x_col='temporal', y_col='temporal');"
   ]
  },
  {
   "attachments": {},
   "cell_type": "markdown",
   "metadata": {},
   "source": [
    "### Stabilize vs. destabilize"
   ]
  },
  {
   "cell_type": "code",
   "execution_count": 70,
   "metadata": {},
   "outputs": [
    {
     "name": "stdout",
     "output_type": "stream",
     "text": [
      "t(59) = 4.174,~p < 0.001,~d = 0.374,~\\mathrm{CI} = [2.048,~6.661]\n"
     ]
    }
   ],
   "source": [
    "ttest(results['fingerprint']['adaptive'], results['fingerprint']['adaptive'], x_lists='stabilize', y_lists='destabilize', independent_sample=False, x_col='temporal', y_col='temporal');"
   ]
  },
  {
   "attachments": {},
   "cell_type": "markdown",
   "metadata": {},
   "source": [
    "## Correlations between accuracy and temporal clustering (adaptive condition)"
   ]
  },
  {
   "cell_type": "code",
   "execution_count": 71,
   "metadata": {},
   "outputs": [
    {
     "data": {
      "text/html": [
       "<div>\n",
       "<style scoped>\n",
       "    .dataframe tbody tr th:only-of-type {\n",
       "        vertical-align: middle;\n",
       "    }\n",
       "\n",
       "    .dataframe tbody tr th {\n",
       "        vertical-align: top;\n",
       "    }\n",
       "\n",
       "    .dataframe thead th {\n",
       "        text-align: right;\n",
       "    }\n",
       "</style>\n",
       "<table border=\"1\" class=\"dataframe\">\n",
       "  <thead>\n",
       "    <tr style=\"text-align: right;\">\n",
       "      <th></th>\n",
       "      <th>Subject</th>\n",
       "      <th>Condition</th>\n",
       "      <th>Recall probability</th>\n",
       "      <th>Temporal clustering score</th>\n",
       "      <th>List</th>\n",
       "    </tr>\n",
       "  </thead>\n",
       "  <tbody>\n",
       "    <tr>\n",
       "      <th>0</th>\n",
       "      <td>0</td>\n",
       "      <td>destabilize</td>\n",
       "      <td>0.578125</td>\n",
       "      <td>0.47100</td>\n",
       "      <td>All</td>\n",
       "    </tr>\n",
       "    <tr>\n",
       "      <th>1</th>\n",
       "      <td>1</td>\n",
       "      <td>destabilize</td>\n",
       "      <td>0.250000</td>\n",
       "      <td>0.34775</td>\n",
       "      <td>All</td>\n",
       "    </tr>\n",
       "    <tr>\n",
       "      <th>2</th>\n",
       "      <td>2</td>\n",
       "      <td>destabilize</td>\n",
       "      <td>0.515625</td>\n",
       "      <td>0.51500</td>\n",
       "      <td>All</td>\n",
       "    </tr>\n",
       "    <tr>\n",
       "      <th>3</th>\n",
       "      <td>3</td>\n",
       "      <td>destabilize</td>\n",
       "      <td>0.625000</td>\n",
       "      <td>0.86400</td>\n",
       "      <td>All</td>\n",
       "    </tr>\n",
       "    <tr>\n",
       "      <th>4</th>\n",
       "      <td>4</td>\n",
       "      <td>destabilize</td>\n",
       "      <td>0.500000</td>\n",
       "      <td>0.46650</td>\n",
       "      <td>All</td>\n",
       "    </tr>\n",
       "    <tr>\n",
       "      <th>...</th>\n",
       "      <td>...</td>\n",
       "      <td>...</td>\n",
       "      <td>...</td>\n",
       "      <td>...</td>\n",
       "      <td>...</td>\n",
       "    </tr>\n",
       "    <tr>\n",
       "      <th>235</th>\n",
       "      <td>55</td>\n",
       "      <td>stabilize</td>\n",
       "      <td>0.406250</td>\n",
       "      <td>0.58750</td>\n",
       "      <td>All</td>\n",
       "    </tr>\n",
       "    <tr>\n",
       "      <th>236</th>\n",
       "      <td>56</td>\n",
       "      <td>stabilize</td>\n",
       "      <td>0.703125</td>\n",
       "      <td>0.81600</td>\n",
       "      <td>All</td>\n",
       "    </tr>\n",
       "    <tr>\n",
       "      <th>237</th>\n",
       "      <td>57</td>\n",
       "      <td>stabilize</td>\n",
       "      <td>0.343750</td>\n",
       "      <td>0.41925</td>\n",
       "      <td>All</td>\n",
       "    </tr>\n",
       "    <tr>\n",
       "      <th>238</th>\n",
       "      <td>58</td>\n",
       "      <td>stabilize</td>\n",
       "      <td>0.343750</td>\n",
       "      <td>0.56250</td>\n",
       "      <td>All</td>\n",
       "    </tr>\n",
       "    <tr>\n",
       "      <th>239</th>\n",
       "      <td>59</td>\n",
       "      <td>stabilize</td>\n",
       "      <td>0.562500</td>\n",
       "      <td>0.74850</td>\n",
       "      <td>All</td>\n",
       "    </tr>\n",
       "  </tbody>\n",
       "</table>\n",
       "<p>180 rows × 5 columns</p>\n",
       "</div>"
      ],
      "text/plain": [
       "     Subject    Condition  Recall probability  Temporal clustering score List\n",
       "0          0  destabilize            0.578125                    0.47100  All\n",
       "1          1  destabilize            0.250000                    0.34775  All\n",
       "2          2  destabilize            0.515625                    0.51500  All\n",
       "3          3  destabilize            0.625000                    0.86400  All\n",
       "4          4  destabilize            0.500000                    0.46650  All\n",
       "..       ...          ...                 ...                        ...  ...\n",
       "235       55    stabilize            0.406250                    0.58750  All\n",
       "236       56    stabilize            0.703125                    0.81600  All\n",
       "237       57    stabilize            0.343750                    0.41925  All\n",
       "238       58    stabilize            0.343750                    0.56250  All\n",
       "239       59    stabilize            0.562500                    0.74850  All\n",
       "\n",
       "[180 rows x 5 columns]"
      ]
     },
     "execution_count": 71,
     "metadata": {},
     "output_type": "execute_result"
    }
   ],
   "source": [
    "df = results['accuracy']['adaptive'].data.reset_index().query('List not in [\"init\"]').rename({0: 'Recall probability'}, axis=1)\n",
    "df['Temporal clustering score'] = results['fingerprint']['adaptive'].data.reset_index().query('List not in [\"init\"]')['temporal']\n",
    "df.rename({'List': 'Condition'}, axis=1, inplace=True)\n",
    "df['List'] = 'All'\n",
    "df"
   ]
  },
  {
   "cell_type": "code",
   "execution_count": 72,
   "metadata": {},
   "outputs": [
    {
     "name": "stdout",
     "output_type": "stream",
     "text": [
      "Correlations between Temporal clustering score and Recall probability (x lists: All, y lists: All)\n",
      "\tCombined (across subjects): : r(178) = 0.701,~p < 0.001,~\\mathrm{CI} = [0.579,~0.792]\n",
      "\n",
      "\n",
      "\tdestabilize (across subjects): : r(58) = 0.674,~p < 0.001,~\\mathrm{CI} = [0.454,~0.814]\n",
      "\trandom (across subjects): : r(58) = 0.651,~p < 0.001,~\\mathrm{CI} = [0.369,~0.832]\n",
      "\tstabilize (across subjects): : r(58) = 0.784,~p < 0.001,~\\mathrm{CI} = [0.616,~0.881]\n",
      "\tWithin condition, across subjects: all $r$s $\\geq 0.651$, all $p$s $\\leq 0.000$\n",
      "\n",
      "\n",
      "\tAcross conditions: : r(1) = 0.998,~p = 0.044,~\\mathrm{CI} = [0.998,~1.000]\n"
     ]
    }
   ],
   "source": [
    "corr_helper(df, x='Temporal clustering score', y='Recall probability', xlists='All', ylists='All')"
   ]
  },
  {
   "cell_type": "markdown",
   "metadata": {},
   "source": [
    "# Fingerprint stability analysis (feature-rich)\n",
    "\n",
    "Each participant in the feature-rich condition studied and recalled a total of 16 lists, yielding 16 sets of “fingerprints” for that participant.  Below we asked: holding out one of these fingerprints at a time, could we “match up” which participant it belonged to?  Specifically, we created two distributions of correlations.  The first distribution comprised “within-participant” correlations between the fingerprint from a held-out list and the average fingerprint from all remaining lists.  Each participant contributes a total of 16 correlations to this distribution.  The second distribution comprise  “across-participant” correlations between one the fingerprint from one held-out list from one participant, and the average fingerprints (across all lists) for each other participant.  We repeat these across-participant comparisons for each pairing of lists (from the “template” participant) and other participants.  Therefore each participant contributes $16 \\times (N - 1)$ correlations to this second distribution (one per list, times $N - 1$--- i.e., the number of participants excluding the template participant). "
   ]
  },
  {
   "cell_type": "code",
   "execution_count": 73,
   "metadata": {},
   "outputs": [
    {
     "name": "stderr",
     "output_type": "stream",
     "text": [
      "100%|██████████| 67/67 [00:52<00:00,  1.27it/s]\n"
     ]
    }
   ],
   "source": [
    "# load in *per list* fingerprints for the feature-rich condition\n",
    "from analyze import results_file, analyze_data\n",
    "\n",
    "raw_results, _, _ = analyze_data(savefile=results_file)\n",
    "fingerprints = raw_results['fingerprint']['feature-rich'].data.reset_index()\n",
    "\n",
    "include = features\n",
    "include.append('temporal')\n",
    "\n",
    "within_corrs = []\n",
    "across_corrs = []\n",
    "\n",
    "# for each participant, for each list, compute the correlation between the fingerprint for that list and the average fingerprint for the other lists\n",
    "for x in tqdm(fingerprints['Subject'].unique()):\n",
    "    for y in fingerprints.query('Subject == @x')['List'].unique():\n",
    "        with warnings.catch_warnings():\n",
    "            warnings.simplefilter('ignore')\n",
    "            ref = fingerprints.query('Subject == @x and List == @y')[include].mean().values\n",
    "            within = fingerprints.query('Subject == @x and List != @y')[include].mean().values\n",
    "            within_corrs.append(stats.pearsonr(ref, within)[0])\n",
    "\n",
    "            for z in fingerprints['Subject'].unique():\n",
    "                if z == x:\n",
    "                    continue\n",
    "                across = fingerprints.query('Subject == @z')[include].mean().values\n",
    "                across_corrs.append(stats.pearsonr(ref, across)[0])\n"
   ]
  },
  {
   "cell_type": "code",
   "execution_count": 74,
   "metadata": {},
   "outputs": [],
   "source": [
    "def ttest_helper(a, b, independent=True, n_iter=1000, alpha=0.05, prefix=''):\n",
    "    if independent:\n",
    "        results = stats.ttest_ind(a, b)\n",
    "        df = len(a) + len(b) - 2\n",
    "    else:\n",
    "        results = stats.ttest_rel(a, b)\n",
    "        df = len(a) - 1\n",
    "    t, p = results.statistic, results.pvalue\n",
    "    \n",
    "    # compute bootstrap-estimated 95% confidence interval\n",
    "    bootstrapped = []\n",
    "    n_iter = 1000\n",
    "    for i in range(n_iter):\n",
    "        if independent:\n",
    "            bootstrapped.append(stats.ttest_ind(np.random.choice(a, len(a), replace=True), np.random.choice(b, len(b), replace=True)).statistic)\n",
    "        else:\n",
    "            inds = np.random.randint(0, len(a), len(b))\n",
    "            bootstrapped.append(stats.ttest_rel(a[inds], b[inds]).statistic)\n",
    "    \n",
    "    low, high = np.percentile(bootstrapped, [alpha * 50, 100 - (alpha * 50)])\n",
    "\n",
    "    if p < 0.001:\n",
    "        p_string = 'p < 0.001'\n",
    "    else:\n",
    "        p_string = f'p = {p:.3f}'\n",
    "\n",
    "    d = (np.mean(within_corrs) - np.mean(across_corrs)) / np.sqrt((np.std(within_corrs) ** 2 + np.std(across_corrs) ** 2) / 2)\n",
    "\n",
    "    print(f'{prefix}t({df}) = {t:.3f},~{p_string},~d = {d:.3f},~' + '\\mathrm{CI}' + f' = [{low:.3f},~{high:.3f}]')\n",
    "    return t, df, d, p, low, high"
   ]
  },
  {
   "cell_type": "code",
   "execution_count": 75,
   "metadata": {},
   "outputs": [
    {
     "name": "stdout",
     "output_type": "stream",
     "text": [
      "Within list correlation: 0.483 +/- 0.357\n",
      "Across list correlation: 0.424 +/- 0.374\n",
      "Within vs. across list correlation: t(70280) = 5.077,~p < 0.001,~d = 0.162,~\\mathrm{CI} = [3.160,~6.856]\n"
     ]
    }
   ],
   "source": [
    "within_corrs = np.array(within_corrs)\n",
    "across_corrs = np.array(across_corrs)\n",
    "\n",
    "# remove nans\n",
    "within_corrs = within_corrs[~np.isnan(within_corrs)]\n",
    "across_corrs = across_corrs[~np.isnan(across_corrs)]\n",
    "\n",
    "print(f'Within list correlation: {np.mean(within_corrs):.3f} +/- {np.std(within_corrs):.3f}')\n",
    "print(f'Across list correlation: {np.mean(across_corrs):.3f} +/- {np.std(across_corrs):.3f}')\n",
    "\n",
    "ttest_helper(within_corrs, across_corrs, independent=True, prefix='Within vs. across list correlation: ');"
   ]
  },
  {
   "cell_type": "markdown",
   "metadata": {},
   "source": [
    "# Clustering by feature rank"
   ]
  },
  {
   "cell_type": "code",
   "execution_count": 76,
   "metadata": {},
   "outputs": [
    {
     "data": {
      "text/html": [
       "<div>\n",
       "<style scoped>\n",
       "    .dataframe tbody tr th:only-of-type {\n",
       "        vertical-align: middle;\n",
       "    }\n",
       "\n",
       "    .dataframe tbody tr th {\n",
       "        vertical-align: top;\n",
       "    }\n",
       "\n",
       "    .dataframe thead th {\n",
       "        text-align: right;\n",
       "    }\n",
       "</style>\n",
       "<table border=\"1\" class=\"dataframe\">\n",
       "  <thead>\n",
       "    <tr style=\"text-align: right;\">\n",
       "      <th></th>\n",
       "      <th>Rank 1</th>\n",
       "      <th>Rank 2</th>\n",
       "      <th>Rank 3</th>\n",
       "      <th>Rank 4</th>\n",
       "      <th>Rank 5</th>\n",
       "      <th>Rank 6</th>\n",
       "      <th>Rank 7</th>\n",
       "    </tr>\n",
       "    <tr>\n",
       "      <th>Subject</th>\n",
       "      <th></th>\n",
       "      <th></th>\n",
       "      <th></th>\n",
       "      <th></th>\n",
       "      <th></th>\n",
       "      <th></th>\n",
       "      <th></th>\n",
       "    </tr>\n",
       "  </thead>\n",
       "  <tbody>\n",
       "    <tr>\n",
       "      <th>0</th>\n",
       "      <td>0.759750</td>\n",
       "      <td>0.620000</td>\n",
       "      <td>0.585250</td>\n",
       "      <td>0.497000</td>\n",
       "      <td>0.487000</td>\n",
       "      <td>0.384125</td>\n",
       "      <td>0.375688</td>\n",
       "    </tr>\n",
       "    <tr>\n",
       "      <th>1</th>\n",
       "      <td>0.993250</td>\n",
       "      <td>0.906000</td>\n",
       "      <td>0.506625</td>\n",
       "      <td>0.464875</td>\n",
       "      <td>0.418250</td>\n",
       "      <td>0.401500</td>\n",
       "      <td>0.347750</td>\n",
       "    </tr>\n",
       "    <tr>\n",
       "      <th>2</th>\n",
       "      <td>0.730625</td>\n",
       "      <td>0.705000</td>\n",
       "      <td>0.530687</td>\n",
       "      <td>0.470625</td>\n",
       "      <td>0.423937</td>\n",
       "      <td>0.339438</td>\n",
       "      <td>0.283375</td>\n",
       "    </tr>\n",
       "    <tr>\n",
       "      <th>3</th>\n",
       "      <td>0.606187</td>\n",
       "      <td>0.576000</td>\n",
       "      <td>0.550312</td>\n",
       "      <td>0.546312</td>\n",
       "      <td>0.501312</td>\n",
       "      <td>0.369000</td>\n",
       "      <td>0.361437</td>\n",
       "    </tr>\n",
       "    <tr>\n",
       "      <th>4</th>\n",
       "      <td>0.675000</td>\n",
       "      <td>0.587500</td>\n",
       "      <td>0.582750</td>\n",
       "      <td>0.518000</td>\n",
       "      <td>0.469062</td>\n",
       "      <td>0.443000</td>\n",
       "      <td>0.441000</td>\n",
       "    </tr>\n",
       "    <tr>\n",
       "      <th>...</th>\n",
       "      <td>...</td>\n",
       "      <td>...</td>\n",
       "      <td>...</td>\n",
       "      <td>...</td>\n",
       "      <td>...</td>\n",
       "      <td>...</td>\n",
       "      <td>...</td>\n",
       "    </tr>\n",
       "    <tr>\n",
       "      <th>62</th>\n",
       "      <td>0.623812</td>\n",
       "      <td>0.602125</td>\n",
       "      <td>0.564813</td>\n",
       "      <td>0.464250</td>\n",
       "      <td>0.460813</td>\n",
       "      <td>0.363875</td>\n",
       "      <td>0.335500</td>\n",
       "    </tr>\n",
       "    <tr>\n",
       "      <th>63</th>\n",
       "      <td>0.724562</td>\n",
       "      <td>0.577125</td>\n",
       "      <td>0.435937</td>\n",
       "      <td>0.416500</td>\n",
       "      <td>0.399125</td>\n",
       "      <td>0.366250</td>\n",
       "      <td>0.358438</td>\n",
       "    </tr>\n",
       "    <tr>\n",
       "      <th>64</th>\n",
       "      <td>0.885250</td>\n",
       "      <td>0.762375</td>\n",
       "      <td>0.569000</td>\n",
       "      <td>0.455875</td>\n",
       "      <td>0.438375</td>\n",
       "      <td>0.408375</td>\n",
       "      <td>0.390875</td>\n",
       "    </tr>\n",
       "    <tr>\n",
       "      <th>65</th>\n",
       "      <td>0.723187</td>\n",
       "      <td>0.501437</td>\n",
       "      <td>0.461313</td>\n",
       "      <td>0.449437</td>\n",
       "      <td>0.440250</td>\n",
       "      <td>0.431812</td>\n",
       "      <td>0.409250</td>\n",
       "    </tr>\n",
       "    <tr>\n",
       "      <th>66</th>\n",
       "      <td>0.841562</td>\n",
       "      <td>0.715812</td>\n",
       "      <td>0.640437</td>\n",
       "      <td>0.557750</td>\n",
       "      <td>0.452000</td>\n",
       "      <td>0.450313</td>\n",
       "      <td>0.421563</td>\n",
       "    </tr>\n",
       "  </tbody>\n",
       "</table>\n",
       "<p>67 rows × 7 columns</p>\n",
       "</div>"
      ],
      "text/plain": [
       "           Rank 1    Rank 2    Rank 3    Rank 4    Rank 5    Rank 6    Rank 7\n",
       "Subject                                                                      \n",
       "0        0.759750  0.620000  0.585250  0.497000  0.487000  0.384125  0.375688\n",
       "1        0.993250  0.906000  0.506625  0.464875  0.418250  0.401500  0.347750\n",
       "2        0.730625  0.705000  0.530687  0.470625  0.423937  0.339438  0.283375\n",
       "3        0.606187  0.576000  0.550312  0.546312  0.501312  0.369000  0.361437\n",
       "4        0.675000  0.587500  0.582750  0.518000  0.469062  0.443000  0.441000\n",
       "...           ...       ...       ...       ...       ...       ...       ...\n",
       "62       0.623812  0.602125  0.564813  0.464250  0.460813  0.363875  0.335500\n",
       "63       0.724562  0.577125  0.435937  0.416500  0.399125  0.366250  0.358438\n",
       "64       0.885250  0.762375  0.569000  0.455875  0.438375  0.408375  0.390875\n",
       "65       0.723187  0.501437  0.461313  0.449437  0.440250  0.431812  0.409250\n",
       "66       0.841562  0.715812  0.640437  0.557750  0.452000  0.450313  0.421563\n",
       "\n",
       "[67 rows x 7 columns]"
      ]
     },
     "execution_count": 76,
     "metadata": {},
     "output_type": "execute_result"
    }
   ],
   "source": [
    "# sort each row in descending order and rename the columns to match the sort ranks\n",
    "\n",
    "x = results_by_list['fingerprint']['feature-rich'].data\n",
    "x = x.groupby('Subject').mean().apply(lambda x: x.sort_values(ascending=False, ignore_index=True), axis=1)\n",
    "x.columns = [f'Rank {i}' for i in range(1, len(x.columns) + 1)]\n",
    "x"
   ]
  },
  {
   "cell_type": "code",
   "execution_count": 77,
   "metadata": {},
   "outputs": [
    {
     "name": "stdout",
     "output_type": "stream",
     "text": [
      "Rank 1: t(66) = 12.751,~p < 0.001,~d = 0.162,~\\mathrm{CI} = [8.741,~19.718]\n",
      "Rank 2: t(66) = 8.196,~p < 0.001,~d = 0.162,~\\mathrm{CI} = [4.849,~13.291]\n",
      "Rank 3: t(66) = 3.243,~p = 0.002,~d = 0.162,~\\mathrm{CI} = [1.049,~6.795]\n",
      "Rank 4: t(66) = -3.112,~p = 0.003,~d = 0.162,~\\mathrm{CI} = [-5.161,~-1.909]\n",
      "Rank 5: t(66) = -7.154,~p < 0.001,~d = 0.162,~\\mathrm{CI} = [-12.551,~-5.426]\n",
      "Rank 6: t(66) = -12.608,~p < 0.001,~d = 0.162,~\\mathrm{CI} = [-21.801,~-9.261]\n",
      "Rank 7: t(66) = -18.397,~p < 0.001,~d = 0.162,~\\mathrm{CI} = [-27.415,~-14.103]\n"
     ]
    }
   ],
   "source": [
    "rank_table = TTestTable()\n",
    "\n",
    "for rank in x.columns:\n",
    "    rank_table.add_stat(f'{rank}', ttest_helper(x[rank], 0.5 * np.ones_like(x[rank]), independent=False, prefix=f'{rank}: '))\n",
    "\n",
    "rank_table.to_latex(table_dir.joinpath('rank_table.tex'), alpha=0.05, method='fdr_bh')"
   ]
  }
 ],
 "metadata": {
  "kernelspec": {
   "display_name": "frfr",
   "language": "python",
   "name": "frfr"
  },
  "language_info": {
   "codemirror_mode": {
    "name": "ipython",
    "version": 3
   },
   "file_extension": ".py",
   "mimetype": "text/x-python",
   "name": "python",
   "nbconvert_exporter": "python",
   "pygments_lexer": "ipython3",
   "version": "3.10.4"
  },
  "vscode": {
   "interpreter": {
    "hash": "ece6198bba427cbc67eade80d2f26cc97e756f38697f95066add8df0785cdc08"
   }
  }
 },
 "nbformat": 4,
 "nbformat_minor": 2
}
