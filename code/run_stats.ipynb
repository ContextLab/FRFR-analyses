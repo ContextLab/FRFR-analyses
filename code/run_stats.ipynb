{
 "cells": [
  {
   "cell_type": "code",
   "execution_count": 1,
   "metadata": {},
   "outputs": [
    {
     "name": "stdout",
     "output_type": "stream",
     "text": [
      "Requirement already satisfied: pip in /Users/jmanning/opt/anaconda3/envs/quail/lib/python3.10/site-packages (22.3.1)\n",
      "Note: you may need to restart the kernel to use updated packages.\n",
      "Requirement already satisfied: davos in /Users/jmanning/opt/anaconda3/envs/quail/lib/python3.10/site-packages (0.1.0)\n",
      "Requirement already satisfied: packaging in /Users/jmanning/opt/anaconda3/envs/quail/lib/python3.10/site-packages (from davos) (21.3)\n",
      "Requirement already satisfied: setuptools in /Users/jmanning/opt/anaconda3/envs/quail/lib/python3.10/site-packages (from davos) (65.5.1)\n",
      "Requirement already satisfied: pyparsing!=3.0.5,>=2.0.2 in /Users/jmanning/opt/anaconda3/envs/quail/lib/python3.10/site-packages (from packaging->davos) (3.0.9)\n",
      "Note: you may need to restart the kernel to use updated packages.\n"
     ]
    }
   ],
   "source": [
    "%pip install --upgrade pip\n",
    "%pip install davos\n",
    "import davos"
   ]
  },
  {
   "cell_type": "code",
   "execution_count": 2,
   "metadata": {},
   "outputs": [],
   "source": [
    "smuggle pandas as pd # pip: pandas==1.5.1\n",
    "smuggle numpy as np # pip: numpy==1.23.4\n",
    "smuggle seaborn as sns # pip: seaborn==0.12.1\n",
    "smuggle dill as pickle # pip: dill==0.3.6\n",
    "\n",
    "smuggle h5py # pip: h5py==3.7.0\n",
    "smuggle pathos # pip: pathos==0.3.0\n",
    "smuggle quail # pip: quail==0.2.1\n",
    "smuggle requests # pip: requests==2.28.1\n",
    "smuggle os\n",
    "smuggle warnings\n",
    "smuggle string\n",
    "\n",
    "from tqdm smuggle tqdm # pip: tqdm==4.64.1\n",
    "from matplotlib smuggle pyplot as plt #pip: matplotlib==3.6.2\n",
    "from matplotlib.ticker smuggle MaxNLocator\n",
    "from pathos.multiprocessing smuggle ProcessingPool as Pool # pip: pathos==0.3.0\n",
    "from multiprocessing smuggle cpu_count  # pip: multiprocess==0.70.14\n",
    "from sklearn.decomposition smuggle IncrementalPCA as PCA # pip: scikit-learn==1.1.3\n",
    "from scipy smuggle stats # pip: scipy==1.10.0\n",
    "\n",
    "# local functions\n",
    "from dataloader import datadir, grouping, feature_groupings, descriptions, sort_by_grouping, fetch_data\n",
    "from analyze import analyze_data, recover_fingerprint_features, organize_by_listgroup, random, adaptive, non_adaptive_exclude_random, \\\n",
    "                    select_conds, select_lists, filter, get_diffs, stack_diffs, pnr_matrix, accuracy2df, adaptive_listnum2cond, \\\n",
    "                    clustering_matrices, average_by_cond, rename_features, fingerprint2temporal, get_boundaries, \\\n",
    "                    recall_accuracy_near_boundaries, results, results_by_list, analyses, listgroups, orders, ttest, merge_results"
   ]
  },
  {
   "attachments": {},
   "cell_type": "markdown",
   "metadata": {},
   "source": [
    "# Performance on *feature rich* versus *reduced* lists:\n",
    "  - accuracy\n",
    "  - temporal clustering\n",
    "  - non-visual feature-based clustering (category, size, length, first letter)"
   ]
  },
  {
   "cell_type": "code",
   "execution_count": 3,
   "metadata": {},
   "outputs": [
    {
     "name": "stdout",
     "output_type": "stream",
     "text": [
      "Accuracy for feature rich vs. reduced (all lists):\n",
      "t(126) = -0.290, p = 0.772\n"
     ]
    }
   ],
   "source": [
    "print('Accuracy for feature rich vs. reduced (all lists):')\n",
    "ttest(results['accuracy']['feature rich'], results['accuracy']['reduced'])"
   ]
  },
  {
   "cell_type": "code",
   "execution_count": 4,
   "metadata": {},
   "outputs": [
    {
     "name": "stdout",
     "output_type": "stream",
     "text": [
      "Temporal clustering for feature rich vs. reduced (all lists):\n",
      "t(126) = 10.624, p = 0.000\n"
     ]
    }
   ],
   "source": [
    "print('Temporal clustering for feature rich vs. reduced (all lists):')\n",
    "ttest(results['fingerprint']['feature rich'], results['fingerprint']['reduced'], x_col='temporal', y_col='temporal')"
   ]
  },
  {
   "cell_type": "code",
   "execution_count": 5,
   "metadata": {},
   "outputs": [
    {
     "name": "stdout",
     "output_type": "stream",
     "text": [
      "category clustering for feature rich vs. reduced (all lists):\n",
      "t(126) = 10.077, p = 0.000\n",
      "\n",
      "\n",
      "size clustering for feature rich vs. reduced (all lists):\n",
      "t(126) = 11.829, p = 0.000\n",
      "\n",
      "\n",
      "wordLength clustering for feature rich vs. reduced (all lists):\n",
      "t(126) = 10.639, p = 0.000\n",
      "\n",
      "\n",
      "firstLetter clustering for feature rich vs. reduced (all lists):\n",
      "t(126) = 7.775, p = 0.000\n"
     ]
    }
   ],
   "source": [
    "features = ['category', 'size', 'wordLength', 'firstLetter']\n",
    "for i, f in enumerate(features):\n",
    "    print(f'{f} clustering for feature rich vs. reduced (all lists):')\n",
    "    ttest(results['fingerprint']['feature rich'], results['fingerprint']['reduced'], x_col=f, y_col=f)\n",
    "\n",
    "    if i < len(features) - 1:\n",
    "        print('\\n')"
   ]
  },
  {
   "attachments": {},
   "cell_type": "markdown",
   "metadata": {},
   "source": [
    "# Performance on {*feature rich*, *reduced*} lists versus *reduced ({early, late})* lists\n",
    "We'll compare early and late lists separately (e.g., early to early, late to late, early to late, etc.)\n",
    "\n",
    "Metrics:\n",
    "  - accuracy\n",
    "  - temporal clustering\n",
    "  - non-visual feature-based clustering (category, size, length, first letter)\n",
    "\n",
    "## Early vs. late (all conditions and metrics)"
   ]
  },
  {
   "attachments": {},
   "cell_type": "markdown",
   "metadata": {},
   "source": [
    "### Accuracy"
   ]
  },
  {
   "cell_type": "code",
   "execution_count": 6,
   "metadata": {},
   "outputs": [
    {
     "name": "stdout",
     "output_type": "stream",
     "text": [
      "Accuracy for feature rich (early lists) vs. feature rich (late lists):\n",
      "t(66) = 4.553, p = 0.000\n"
     ]
    }
   ],
   "source": [
    "print('Accuracy for feature rich (early lists) vs. feature rich (late lists):')\n",
    "ttest(results['accuracy']['feature rich'], results['accuracy']['feature rich'], x_lists='Early', y_lists='Late', independent_sample=False)"
   ]
  },
  {
   "cell_type": "code",
   "execution_count": 7,
   "metadata": {},
   "outputs": [
    {
     "name": "stdout",
     "output_type": "stream",
     "text": [
      "Accuracy for reduced (early lists) vs. reduced (late lists):\n",
      "t(60) = 2.434, p = 0.018\n"
     ]
    }
   ],
   "source": [
    "print('Accuracy for reduced (early lists) vs. reduced (late lists):')\n",
    "ttest(results['accuracy']['reduced'], results['accuracy']['reduced'], x_lists='Early', y_lists='Late', independent_sample=False)"
   ]
  },
  {
   "cell_type": "code",
   "execution_count": 8,
   "metadata": {},
   "outputs": [
    {
     "name": "stdout",
     "output_type": "stream",
     "text": [
      "Accuracy for reduced (early) (early lists) vs. reduced (early) (late lists):\n",
      "t(41) = 1.499, p = 0.141\n"
     ]
    }
   ],
   "source": [
    "print('Accuracy for reduced (early) (early lists) vs. reduced (early) (late lists):')\n",
    "ttest(results['accuracy']['reduced (early)'], results['accuracy']['reduced (early)'], x_lists='Early', y_lists='Late', independent_sample=False)"
   ]
  },
  {
   "cell_type": "code",
   "execution_count": 9,
   "metadata": {},
   "outputs": [
    {
     "name": "stdout",
     "output_type": "stream",
     "text": [
      "Accuracy for reduced (late) (early lists) vs. reduced (late) (late lists):\n",
      "t(40) = 1.462, p = 0.152\n"
     ]
    }
   ],
   "source": [
    "print('Accuracy for reduced (late) (early lists) vs. reduced (late) (late lists):')\n",
    "ttest(results['accuracy']['reduced (late)'], results['accuracy']['reduced (late)'], x_lists='Early', y_lists='Late', independent_sample=False)"
   ]
  },
  {
   "attachments": {},
   "cell_type": "markdown",
   "metadata": {},
   "source": [
    "### Temporal clustering"
   ]
  },
  {
   "cell_type": "code",
   "execution_count": 10,
   "metadata": {},
   "outputs": [
    {
     "name": "stdout",
     "output_type": "stream",
     "text": [
      "Temporal clustering for feature rich (early lists) vs. feature rich (late lists):\n",
      "t(66) = 2.318, p = 0.024\n"
     ]
    }
   ],
   "source": [
    "print('Temporal clustering for feature rich (early lists) vs. feature rich (late lists):')\n",
    "ttest(results['fingerprint']['feature rich'], results['fingerprint']['feature rich'], x_col='temporal', y_col='temporal', x_lists='Early', y_lists='Late', independent_sample=False)"
   ]
  },
  {
   "cell_type": "code",
   "execution_count": 11,
   "metadata": {},
   "outputs": [
    {
     "name": "stdout",
     "output_type": "stream",
     "text": [
      "Temporal clustering for reduced (early lists) vs. reduced (late lists):\n",
      "t(60) = 0.929, p = 0.357\n"
     ]
    }
   ],
   "source": [
    "print('Temporal clustering for reduced (early lists) vs. reduced (late lists):')\n",
    "ttest(results['fingerprint']['reduced'], results['fingerprint']['reduced'], x_col='temporal', y_col='temporal', x_lists='Early', y_lists='Late', independent_sample=False)"
   ]
  },
  {
   "cell_type": "code",
   "execution_count": 12,
   "metadata": {},
   "outputs": [
    {
     "name": "stdout",
     "output_type": "stream",
     "text": [
      "Temporal clustering for reduced (early) (early lists) vs. reduced (early) (late lists):\n",
      "t(41) = 0.998, p = 0.324\n"
     ]
    }
   ],
   "source": [
    "print('Temporal clustering for reduced (early) (early lists) vs. reduced (early) (late lists):')\n",
    "ttest(results['fingerprint']['reduced (early)'], results['fingerprint']['reduced (early)'], x_col='temporal', y_col='temporal', x_lists='Early', y_lists='Late', independent_sample=False)"
   ]
  },
  {
   "cell_type": "code",
   "execution_count": 13,
   "metadata": {},
   "outputs": [
    {
     "name": "stdout",
     "output_type": "stream",
     "text": [
      "Temporal clustering for reduced (late) (early lists) vs. reduced (late) (late lists):\n",
      "t(40) = 1.099, p = 0.278\n"
     ]
    }
   ],
   "source": [
    "print('Temporal clustering for reduced (late) (early lists) vs. reduced (late) (late lists):')\n",
    "ttest(results['fingerprint']['reduced (late)'], results['fingerprint']['reduced (late)'], x_col='temporal', y_col='temporal', x_lists='Early', y_lists='Late', independent_sample=False)"
   ]
  },
  {
   "attachments": {},
   "cell_type": "markdown",
   "metadata": {},
   "source": [
    "### Non-visual feature based clustering"
   ]
  },
  {
   "cell_type": "code",
   "execution_count": 14,
   "metadata": {},
   "outputs": [
    {
     "name": "stdout",
     "output_type": "stream",
     "text": [
      "category clustering for feature rich (early lists) vs. feature rich (late lists):\n",
      "t(66) = 3.805, p = 0.000\n",
      "\n",
      "\n",
      "size clustering for feature rich (early lists) vs. feature rich (late lists):\n",
      "t(66) = 2.190, p = 0.032\n",
      "\n",
      "\n",
      "wordLength clustering for feature rich (early lists) vs. feature rich (late lists):\n",
      "t(66) = 0.161, p = 0.872\n",
      "\n",
      "\n",
      "firstLetter clustering for feature rich (early lists) vs. feature rich (late lists):\n",
      "t(66) = 0.410, p = 0.683\n"
     ]
    }
   ],
   "source": [
    "for i, f in enumerate(features):\n",
    "    print(f'{f} clustering for feature rich (early lists) vs. feature rich (late lists):')\n",
    "    ttest(results['fingerprint']['feature rich'], results['fingerprint']['feature rich'], x_col=f, y_col=f, x_lists='Early', y_lists='Late', independent_sample=False)\n",
    "\n",
    "    if i < len(features) - 1:\n",
    "        print('\\n')"
   ]
  },
  {
   "cell_type": "code",
   "execution_count": 15,
   "metadata": {},
   "outputs": [
    {
     "name": "stdout",
     "output_type": "stream",
     "text": [
      "category clustering for reduced (early lists) vs. reduced (late lists):\n",
      "t(60) = 2.856, p = 0.006\n",
      "\n",
      "\n",
      "size clustering for reduced (early lists) vs. reduced (late lists):\n",
      "t(60) = 2.947, p = 0.005\n",
      "\n",
      "\n",
      "wordLength clustering for reduced (early lists) vs. reduced (late lists):\n",
      "t(60) = 3.528, p = 0.001\n",
      "\n",
      "\n",
      "firstLetter clustering for reduced (early lists) vs. reduced (late lists):\n",
      "t(60) = 2.275, p = 0.026\n"
     ]
    }
   ],
   "source": [
    "for i, f in enumerate(features):\n",
    "    print(f'{f} clustering for reduced (early lists) vs. reduced (late lists):')\n",
    "    ttest(results['fingerprint']['reduced'], results['fingerprint']['reduced'], x_col=f, y_col=f, x_lists='Early', y_lists='Late', independent_sample=False)\n",
    "\n",
    "    if i < len(features) - 1:\n",
    "        print('\\n')"
   ]
  },
  {
   "cell_type": "code",
   "execution_count": 16,
   "metadata": {},
   "outputs": [
    {
     "name": "stdout",
     "output_type": "stream",
     "text": [
      "category clustering for reduced (early) (early lists) vs. reduced (early) (late lists):\n",
      "t(41) = 0.753, p = 0.456\n",
      "\n",
      "\n",
      "size clustering for reduced (early) (early lists) vs. reduced (early) (late lists):\n",
      "t(41) = 0.721, p = 0.475\n",
      "\n",
      "\n",
      "wordLength clustering for reduced (early) (early lists) vs. reduced (early) (late lists):\n",
      "t(41) = 0.493, p = 0.625\n",
      "\n",
      "\n",
      "firstLetter clustering for reduced (early) (early lists) vs. reduced (early) (late lists):\n",
      "t(41) = 0.780, p = 0.440\n"
     ]
    }
   ],
   "source": [
    "for i, f in enumerate(features):\n",
    "    print(f'{f} clustering for reduced (early) (early lists) vs. reduced (early) (late lists):')\n",
    "    ttest(results['fingerprint']['reduced (early)'], results['fingerprint']['reduced (early)'], x_col=f, y_col=f, x_lists='Early', y_lists='Late', independent_sample=False)\n",
    "\n",
    "    if i < len(features) - 1:\n",
    "        print('\\n')"
   ]
  },
  {
   "cell_type": "code",
   "execution_count": 17,
   "metadata": {},
   "outputs": [
    {
     "name": "stdout",
     "output_type": "stream",
     "text": [
      "category clustering for reduced (late) (early lists) vs. reduced (late) (late lists):\n",
      "t(40) = -0.086, p = 0.932\n",
      "\n",
      "\n",
      "size clustering for reduced (late) (early lists) vs. reduced (late) (late lists):\n",
      "t(40) = 0.746, p = 0.460\n",
      "\n",
      "\n",
      "wordLength clustering for reduced (late) (early lists) vs. reduced (late) (late lists):\n",
      "t(40) = 1.476, p = 0.148\n",
      "\n",
      "\n",
      "firstLetter clustering for reduced (late) (early lists) vs. reduced (late) (late lists):\n",
      "t(40) = 0.966, p = 0.340\n"
     ]
    }
   ],
   "source": [
    "for i, f in enumerate(features):\n",
    "    print(f'{f} clustering for reduced (late) (early lists) vs. reduced (late) (late lists):')\n",
    "    ttest(results['fingerprint']['reduced (late)'], results['fingerprint']['reduced (late)'], x_col=f, y_col=f, x_lists='Early', y_lists='Late', independent_sample=False)\n",
    "\n",
    "    if i < len(features) - 1:\n",
    "        print('\\n')"
   ]
  },
  {
   "attachments": {},
   "cell_type": "markdown",
   "metadata": {},
   "source": [
    "## Feature rich vs. reduced ({early, late})\n",
    "\n",
    "### Accuracy"
   ]
  },
  {
   "cell_type": "code",
   "execution_count": 18,
   "metadata": {},
   "outputs": [
    {
     "name": "stdout",
     "output_type": "stream",
     "text": [
      "Accuracy for feature rich vs. reduced (early) (all lists):\n",
      "t(107) = -2.230, p = 0.028\n"
     ]
    }
   ],
   "source": [
    "print('Accuracy for feature rich vs. reduced (early) (all lists):')\n",
    "ttest(results['accuracy']['feature rich'], results['accuracy']['reduced (early)'])"
   ]
  },
  {
   "cell_type": "code",
   "execution_count": 19,
   "metadata": {},
   "outputs": [
    {
     "name": "stdout",
     "output_type": "stream",
     "text": [
      "Accuracy for feature rich vs. reduced (late) (all lists):\n",
      "t(106) = -0.638, p = 0.525\n"
     ]
    }
   ],
   "source": [
    "print('Accuracy for feature rich vs. reduced (late) (all lists):')\n",
    "ttest(results['accuracy']['feature rich'], results['accuracy']['reduced (late)'])"
   ]
  },
  {
   "attachments": {},
   "cell_type": "markdown",
   "metadata": {},
   "source": [
    "### Temporal clustering"
   ]
  },
  {
   "cell_type": "code",
   "execution_count": 20,
   "metadata": {},
   "outputs": [
    {
     "name": "stdout",
     "output_type": "stream",
     "text": [
      "Temporal clustering for feature rich vs. reduced (early) (all lists):\n",
      "t(107) = -1.434, p = 0.154\n"
     ]
    }
   ],
   "source": [
    "print('Temporal clustering for feature rich vs. reduced (early) (all lists):')\n",
    "ttest(results['fingerprint']['feature rich'], results['fingerprint']['reduced (early)'], x_col='temporal', y_col='temporal')"
   ]
  },
  {
   "cell_type": "code",
   "execution_count": 21,
   "metadata": {},
   "outputs": [
    {
     "name": "stdout",
     "output_type": "stream",
     "text": [
      "Temporal clustering for feature rich vs. reduced (late) (all lists):\n",
      "t(106) = -0.536, p = 0.593\n"
     ]
    }
   ],
   "source": [
    "print('Temporal clustering for feature rich vs. reduced (late) (all lists):')\n",
    "ttest(results['fingerprint']['feature rich'], results['fingerprint']['reduced (late)'], x_col='temporal', y_col='temporal')"
   ]
  },
  {
   "attachments": {},
   "cell_type": "markdown",
   "metadata": {},
   "source": [
    "### Non-visual feature based clustering"
   ]
  },
  {
   "cell_type": "code",
   "execution_count": 22,
   "metadata": {},
   "outputs": [
    {
     "name": "stdout",
     "output_type": "stream",
     "text": [
      "category clustering for feature rich vs. reduced (early) (all lists):\n",
      "t(107) = -0.216, p = 0.829\n",
      "\n",
      "\n",
      "size clustering for feature rich vs. reduced (early) (all lists):\n",
      "t(107) = -0.481, p = 0.632\n",
      "\n",
      "\n",
      "wordLength clustering for feature rich vs. reduced (early) (all lists):\n",
      "t(107) = -1.002, p = 0.319\n",
      "\n",
      "\n",
      "firstLetter clustering for feature rich vs. reduced (early) (all lists):\n",
      "t(107) = -0.534, p = 0.595\n"
     ]
    }
   ],
   "source": [
    "features = ['category', 'size', 'wordLength', 'firstLetter']\n",
    "for i, f in enumerate(features):\n",
    "    print(f'{f} clustering for feature rich vs. reduced (early) (all lists):')\n",
    "    ttest(results['fingerprint']['feature rich'], results['fingerprint']['reduced (early)'], x_col=f, y_col=f)\n",
    "\n",
    "    if i < len(features) - 1:\n",
    "        print('\\n')"
   ]
  },
  {
   "cell_type": "code",
   "execution_count": 23,
   "metadata": {},
   "outputs": [
    {
     "name": "stdout",
     "output_type": "stream",
     "text": [
      "category clustering for feature rich vs. reduced (late) (all lists):\n",
      "t(106) = -1.316, p = 0.191\n",
      "\n",
      "\n",
      "size clustering for feature rich vs. reduced (late) (all lists):\n",
      "t(106) = -1.304, p = 0.195\n",
      "\n",
      "\n",
      "wordLength clustering for feature rich vs. reduced (late) (all lists):\n",
      "t(106) = -1.359, p = 0.177\n",
      "\n",
      "\n",
      "firstLetter clustering for feature rich vs. reduced (late) (all lists):\n",
      "t(106) = 0.850, p = 0.397\n"
     ]
    }
   ],
   "source": [
    "features = ['category', 'size', 'wordLength', 'firstLetter']\n",
    "for i, f in enumerate(features):\n",
    "    print(f'{f} clustering for feature rich vs. reduced (late) (all lists):')\n",
    "    ttest(results['fingerprint']['feature rich'], results['fingerprint']['reduced (late)'], x_col=f, y_col=f)\n",
    "\n",
    "    if i < len(features) - 1:\n",
    "        print('\\n')"
   ]
  },
  {
   "attachments": {},
   "cell_type": "markdown",
   "metadata": {},
   "source": [
    "## Reduced vs. reduced ({early, late})\n",
    "\n",
    "### Accuracy"
   ]
  },
  {
   "cell_type": "code",
   "execution_count": 24,
   "metadata": {},
   "outputs": [
    {
     "name": "stdout",
     "output_type": "stream",
     "text": [
      "Accuracy for reduced vs. reduced (early) (all lists):\n",
      "t(101) = -2.045, p = 0.043\n"
     ]
    }
   ],
   "source": [
    "print('Accuracy for reduced vs. reduced (early) (all lists):')\n",
    "ttest(results['accuracy']['reduced'], results['accuracy']['reduced (early)'])"
   ]
  },
  {
   "cell_type": "code",
   "execution_count": 25,
   "metadata": {},
   "outputs": [
    {
     "name": "stdout",
     "output_type": "stream",
     "text": [
      "Accuracy for reduced vs. reduced (late) (all lists):\n",
      "t(100) = -0.407, p = 0.685\n"
     ]
    }
   ],
   "source": [
    "print('Accuracy for reduced vs. reduced (late) (all lists):')\n",
    "ttest(results['accuracy']['reduced'], results['accuracy']['reduced (late)'])"
   ]
  },
  {
   "attachments": {},
   "cell_type": "markdown",
   "metadata": {},
   "source": [
    "### Temporal clustering"
   ]
  },
  {
   "cell_type": "code",
   "execution_count": 26,
   "metadata": {},
   "outputs": [
    {
     "name": "stdout",
     "output_type": "stream",
     "text": [
      "Temporal clustering for reduced vs. reduced (early) (all lists):\n",
      "t(101) = -10.789, p = 0.000\n"
     ]
    }
   ],
   "source": [
    "print('Temporal clustering for reduced vs. reduced (early) (all lists):')\n",
    "ttest(results['fingerprint']['reduced'], results['fingerprint']['reduced (early)'], x_col='temporal', y_col='temporal')"
   ]
  },
  {
   "cell_type": "code",
   "execution_count": 27,
   "metadata": {},
   "outputs": [
    {
     "name": "stdout",
     "output_type": "stream",
     "text": [
      "Temporal clustering for reduced vs. reduced (late) (all lists):\n",
      "t(100) = -9.780, p = 0.000\n"
     ]
    }
   ],
   "source": [
    "print('Temporal clustering for reduced vs. reduced (late) (all lists):')\n",
    "ttest(results['fingerprint']['reduced'], results['fingerprint']['reduced (late)'], x_col='temporal', y_col='temporal')"
   ]
  },
  {
   "attachments": {},
   "cell_type": "markdown",
   "metadata": {},
   "source": [
    "### Non-visual feature based clustering"
   ]
  },
  {
   "cell_type": "code",
   "execution_count": 28,
   "metadata": {},
   "outputs": [
    {
     "name": "stdout",
     "output_type": "stream",
     "text": [
      "category clustering for reduced vs. reduced (early) (all lists):\n",
      "t(101) = -9.770, p = 0.000\n",
      "\n",
      "\n",
      "size clustering for reduced vs. reduced (early) (all lists):\n",
      "t(101) = -12.149, p = 0.000\n",
      "\n",
      "\n",
      "wordLength clustering for reduced vs. reduced (early) (all lists):\n",
      "t(101) = -10.722, p = 0.000\n",
      "\n",
      "\n",
      "firstLetter clustering for reduced vs. reduced (early) (all lists):\n",
      "t(101) = -7.331, p = 0.000\n"
     ]
    }
   ],
   "source": [
    "features = ['category', 'size', 'wordLength', 'firstLetter']\n",
    "for i, f in enumerate(features):\n",
    "    print(f'{f} clustering for reduced vs. reduced (early) (all lists):')\n",
    "    ttest(results['fingerprint']['reduced'], results['fingerprint']['reduced (early)'], x_col=f, y_col=f)\n",
    "\n",
    "    if i < len(features) - 1:\n",
    "        print('\\n')"
   ]
  },
  {
   "cell_type": "code",
   "execution_count": 29,
   "metadata": {},
   "outputs": [
    {
     "name": "stdout",
     "output_type": "stream",
     "text": [
      "category clustering for reduced vs. reduced (late) (all lists):\n",
      "t(100) = -10.232, p = 0.000\n",
      "\n",
      "\n",
      "size clustering for reduced vs. reduced (late) (all lists):\n",
      "t(100) = -12.107, p = 0.000\n",
      "\n",
      "\n",
      "wordLength clustering for reduced vs. reduced (late) (all lists):\n",
      "t(100) = -9.691, p = 0.000\n",
      "\n",
      "\n",
      "firstLetter clustering for reduced vs. reduced (late) (all lists):\n",
      "t(100) = -5.443, p = 0.000\n"
     ]
    }
   ],
   "source": [
    "features = ['category', 'size', 'wordLength', 'firstLetter']\n",
    "for i, f in enumerate(features):\n",
    "    print(f'{f} clustering for reduced vs. reduced (late) (all lists):')\n",
    "    ttest(results['fingerprint']['reduced'], results['fingerprint']['reduced (late)'], x_col=f, y_col=f)\n",
    "\n",
    "    if i < len(features) - 1:\n",
    "        print('\\n')"
   ]
  },
  {
   "attachments": {},
   "cell_type": "markdown",
   "metadata": {},
   "source": [
    "# Order manipulation analyses\n",
    "\n",
    "- When lists are sorted by a given feature, how is memory performance affected (relative to feature rich -- early lists only)?\n",
    "- Do some order manipulations matter more than others?  E.g. compare semantic vs. lexicographic vs. visual -- early lists only"
   ]
  },
  {
   "attachments": {},
   "cell_type": "markdown",
   "metadata": {},
   "source": [
    "### Accuracy"
   ]
  },
  {
   "cell_type": "code",
   "execution_count": 30,
   "metadata": {},
   "outputs": [
    {
     "name": "stdout",
     "output_type": "stream",
     "text": [
      "Accuracy for category vs. feature rich (early lists):\n",
      "t(95) = 3.034, p = 0.003\n",
      "\n",
      "Accuracy for size vs. feature rich (early lists):\n",
      "t(95) = -1.013, p = 0.314\n",
      "\n",
      "Accuracy for length vs. feature rich (early lists):\n",
      "t(95) = -0.550, p = 0.584\n",
      "\n",
      "Accuracy for first letter vs. feature rich (early lists):\n",
      "t(95) = -0.690, p = 0.492\n",
      "\n",
      "Accuracy for color vs. feature rich (early lists):\n",
      "t(96) = 1.850, p = 0.067\n",
      "\n",
      "Accuracy for location vs. feature rich (early lists):\n",
      "t(95) = 0.043, p = 0.966\n"
     ]
    }
   ],
   "source": [
    "print('Accuracy for category vs. feature rich (early lists):')\n",
    "ttest(results['accuracy']['category'], results['accuracy']['feature rich'], x_lists='Early', y_lists='Early')\n",
    "\n",
    "print('\\nAccuracy for size vs. feature rich (early lists):')\n",
    "ttest(results['accuracy']['size'], results['accuracy']['feature rich'], x_lists='Early', y_lists='Early')\n",
    "\n",
    "print('\\nAccuracy for length vs. feature rich (early lists):')\n",
    "ttest(results['accuracy']['length'], results['accuracy']['feature rich'], x_lists='Early', y_lists='Early')\n",
    "\n",
    "print('\\nAccuracy for first letter vs. feature rich (early lists):')\n",
    "ttest(results['accuracy']['first letter'], results['accuracy']['feature rich'], x_lists='Early', y_lists='Early')\n",
    "\n",
    "print('\\nAccuracy for color vs. feature rich (early lists):')\n",
    "ttest(results['accuracy']['color'], results['accuracy']['feature rich'], x_lists='Early', y_lists='Early')\n",
    "\n",
    "print('\\nAccuracy for location vs. feature rich (early lists):')\n",
    "ttest(results['accuracy']['location'], results['accuracy']['feature rich'], x_lists='Early', y_lists='Early')"
   ]
  },
  {
   "attachments": {},
   "cell_type": "markdown",
   "metadata": {},
   "source": [
    "### Temporal clustering"
   ]
  },
  {
   "cell_type": "code",
   "execution_count": 31,
   "metadata": {},
   "outputs": [
    {
     "name": "stdout",
     "output_type": "stream",
     "text": [
      "Temporal clustering for category vs. feature rich (early lists):\n",
      "t(95) = 8.508, p = 0.000\n",
      "\n",
      "Temporal clustering for size vs. feature rich (early lists):\n",
      "t(95) = 2.429, p = 0.017\n",
      "\n",
      "Temporal clustering for length vs. feature rich (early lists):\n",
      "t(95) = -1.666, p = 0.099\n",
      "\n",
      "Temporal clustering for first letter vs. feature rich (early lists):\n",
      "t(95) = 2.587, p = 0.011\n",
      "\n",
      "Temporal clustering for color vs. feature rich (early lists):\n",
      "t(96) = -1.064, p = 0.290\n",
      "\n",
      "Temporal clustering for location vs. feature rich (early lists):\n",
      "t(95) = 1.682, p = 0.096\n"
     ]
    }
   ],
   "source": [
    "print('Temporal clustering for category vs. feature rich (early lists):')\n",
    "ttest(results['fingerprint']['category'], results['fingerprint']['feature rich'], x_lists='Early', y_lists='Early', x_col='temporal', y_col='temporal')\n",
    "\n",
    "print('\\nTemporal clustering for size vs. feature rich (early lists):')\n",
    "ttest(results['fingerprint']['size'], results['fingerprint']['feature rich'], x_lists='Early', y_lists='Early', x_col='temporal', y_col='temporal')\n",
    "\n",
    "print('\\nTemporal clustering for length vs. feature rich (early lists):')\n",
    "ttest(results['fingerprint']['length'], results['fingerprint']['feature rich'], x_lists='Early', y_lists='Early', x_col='temporal', y_col='temporal')\n",
    "\n",
    "print('\\nTemporal clustering for first letter vs. feature rich (early lists):')\n",
    "ttest(results['fingerprint']['first letter'], results['fingerprint']['feature rich'], x_lists='Early', y_lists='Early', x_col='temporal', y_col='temporal')\n",
    "\n",
    "print('\\nTemporal clustering for color vs. feature rich (early lists):')\n",
    "ttest(results['fingerprint']['color'], results['fingerprint']['feature rich'], x_lists='Early', y_lists='Early', x_col='temporal', y_col='temporal')\n",
    "\n",
    "print('\\nTemporal clustering for location vs. feature rich (early lists):')\n",
    "ttest(results['fingerprint']['location'], results['fingerprint']['feature rich'], x_lists='Early', y_lists='Early', x_col='temporal', y_col='temporal')"
   ]
  },
  {
   "attachments": {},
   "cell_type": "markdown",
   "metadata": {},
   "source": [
    "### Feature-based clustering"
   ]
  },
  {
   "cell_type": "code",
   "execution_count": 32,
   "metadata": {},
   "outputs": [
    {
     "name": "stdout",
     "output_type": "stream",
     "text": [
      "category clustering for category vs. feature rich (early lists):\n",
      "t(95) = 4.305, p = 0.000\n",
      "\n",
      "\n",
      "size clustering for category vs. feature rich (early lists):\n",
      "t(95) = 3.777, p = 0.000\n",
      "\n",
      "\n",
      "wordLength clustering for category vs. feature rich (early lists):\n",
      "t(95) = 0.457, p = 0.649\n",
      "\n",
      "\n",
      "firstLetter clustering for category vs. feature rich (early lists):\n",
      "t(95) = 0.105, p = 0.917\n",
      "\n",
      "\n",
      "color clustering for category vs. feature rich (early lists):\n",
      "t(95) = -0.126, p = 0.900\n",
      "\n",
      "\n",
      "location clustering for category vs. feature rich (early lists):\n",
      "t(95) = -0.099, p = 0.922\n",
      "\n",
      "\n",
      "--- \n",
      "\n",
      "category clustering for size vs. feature rich (early lists):\n",
      "t(95) = 0.187, p = 0.852\n",
      "\n",
      "\n",
      "size clustering for size vs. feature rich (early lists):\n",
      "t(95) = 1.895, p = 0.061\n",
      "\n",
      "\n",
      "wordLength clustering for size vs. feature rich (early lists):\n",
      "t(95) = 0.384, p = 0.702\n",
      "\n",
      "\n",
      "firstLetter clustering for size vs. feature rich (early lists):\n",
      "t(95) = -0.998, p = 0.321\n",
      "\n",
      "\n",
      "color clustering for size vs. feature rich (early lists):\n",
      "t(95) = -0.806, p = 0.422\n",
      "\n",
      "\n",
      "location clustering for size vs. feature rich (early lists):\n",
      "t(95) = -0.447, p = 0.656\n",
      "\n",
      "\n",
      "--- \n",
      "\n",
      "category clustering for length vs. feature rich (early lists):\n",
      "t(95) = -0.237, p = 0.813\n",
      "\n",
      "\n",
      "size clustering for length vs. feature rich (early lists):\n",
      "t(95) = 0.065, p = 0.948\n",
      "\n",
      "\n",
      "wordLength clustering for length vs. feature rich (early lists):\n",
      "t(95) = 5.586, p = 0.000\n",
      "\n",
      "\n",
      "firstLetter clustering for length vs. feature rich (early lists):\n",
      "t(95) = -0.277, p = 0.782\n",
      "\n",
      "\n",
      "color clustering for length vs. feature rich (early lists):\n",
      "t(95) = -0.591, p = 0.556\n",
      "\n",
      "\n",
      "location clustering for length vs. feature rich (early lists):\n",
      "t(95) = 0.043, p = 0.966\n",
      "\n",
      "\n",
      "--- \n",
      "\n",
      "category clustering for first letter vs. feature rich (early lists):\n",
      "t(95) = -1.613, p = 0.110\n",
      "\n",
      "\n",
      "size clustering for first letter vs. feature rich (early lists):\n",
      "t(95) = -0.590, p = 0.557\n",
      "\n",
      "\n",
      "wordLength clustering for first letter vs. feature rich (early lists):\n",
      "t(95) = 0.186, p = 0.853\n",
      "\n",
      "\n",
      "firstLetter clustering for first letter vs. feature rich (early lists):\n",
      "t(95) = 6.105, p = 0.000\n",
      "\n",
      "\n",
      "color clustering for first letter vs. feature rich (early lists):\n",
      "t(95) = 0.289, p = 0.773\n",
      "\n",
      "\n",
      "location clustering for first letter vs. feature rich (early lists):\n",
      "t(95) = -0.050, p = 0.960\n",
      "\n",
      "\n",
      "--- \n",
      "\n",
      "category clustering for color vs. feature rich (early lists):\n",
      "t(96) = -0.437, p = 0.663\n",
      "\n",
      "\n",
      "size clustering for color vs. feature rich (early lists):\n",
      "t(96) = -0.277, p = 0.782\n",
      "\n",
      "\n",
      "wordLength clustering for color vs. feature rich (early lists):\n",
      "t(96) = 0.400, p = 0.690\n",
      "\n",
      "\n",
      "firstLetter clustering for color vs. feature rich (early lists):\n",
      "t(96) = 0.922, p = 0.359\n",
      "\n",
      "\n",
      "color clustering for color vs. feature rich (early lists):\n",
      "t(96) = 3.211, p = 0.002\n",
      "\n",
      "\n",
      "location clustering for color vs. feature rich (early lists):\n",
      "t(96) = 0.472, p = 0.638\n",
      "\n",
      "\n",
      "--- \n",
      "\n",
      "category clustering for location vs. feature rich (early lists):\n",
      "t(95) = 0.786, p = 0.434\n",
      "\n",
      "\n",
      "size clustering for location vs. feature rich (early lists):\n",
      "t(95) = 0.146, p = 0.884\n",
      "\n",
      "\n",
      "wordLength clustering for location vs. feature rich (early lists):\n",
      "t(95) = 0.715, p = 0.476\n",
      "\n",
      "\n",
      "firstLetter clustering for location vs. feature rich (early lists):\n",
      "t(95) = 0.347, p = 0.729\n",
      "\n",
      "\n",
      "color clustering for location vs. feature rich (early lists):\n",
      "t(95) = 0.104, p = 0.917\n",
      "\n",
      "\n",
      "location clustering for location vs. feature rich (early lists):\n",
      "t(95) = 7.425, p = 0.000\n"
     ]
    }
   ],
   "source": [
    "conds = ['category', 'size', 'length', 'first letter', 'color', 'location']\n",
    "features = ['category', 'size', 'wordLength', 'firstLetter', 'color', 'location']\n",
    "\n",
    "for i, c in enumerate(conds):\n",
    "    for j, f in enumerate(features):\n",
    "        print(f'{f} clustering for {c} vs. feature rich (early lists):')\n",
    "        ttest(results['fingerprint'][c], results['fingerprint']['feature rich'], x_col=f, y_col=f, x_lists='Early', y_lists='Early')\n",
    "\n",
    "        if (j < len(features) - 1) or (i < len(conds) - 1):\n",
    "            print('\\n')\n",
    "    \n",
    "    if i < len(conds) - 1:\n",
    "        print('--- \\n')"
   ]
  },
  {
   "attachments": {},
   "cell_type": "markdown",
   "metadata": {},
   "source": [
    "## Combine \"categories\" of features:\n",
    "  - semantic = category + size\n",
    "  - lexicographic = length + first letter\n",
    "  - visual = color + location"
   ]
  },
  {
   "cell_type": "code",
   "execution_count": 42,
   "metadata": {},
   "outputs": [],
   "source": [
    "groups = {k: v for k, v in feature_groupings.items() if k in ['semantic', 'lexicographic', 'visual']}\n",
    "\n",
    "merged_results = {}\n",
    "for k, v in results.items():\n",
    "    if k not in ['fingerprint', 'accuracy']:\n",
    "        continue\n",
    "    merged_results[k] = merge_results(v, groups)"
   ]
  },
  {
   "attachments": {},
   "cell_type": "markdown",
   "metadata": {},
   "source": [
    "## Compare semantic vs. feature rich\n",
    "\n",
    "### Accuracy"
   ]
  },
  {
   "cell_type": "code",
   "execution_count": 46,
   "metadata": {},
   "outputs": [
    {
     "name": "stdout",
     "output_type": "stream",
     "text": [
      "Accuracy for semantic vs. feature rich (early lists):\n",
      "t(125) = 1.197, p = 0.233\n",
      "\n",
      "Accuracy for lexicographic vs. feature rich (early lists):\n",
      "t(125) = -0.776, p = 0.439\n",
      "\n",
      "Accuracy for visual vs. feature rich (early lists):\n",
      "t(126) = 1.256, p = 0.212\n"
     ]
    }
   ],
   "source": [
    "print('Accuracy for semantic vs. feature rich (early lists):')\n",
    "ttest(merged_results['accuracy']['semantic'], results['accuracy']['feature rich'], x_lists='Early', y_lists='Early')\n",
    "\n",
    "print('\\nAccuracy for lexicographic vs. feature rich (early lists):')\n",
    "ttest(merged_results['accuracy']['lexicographic'], results['accuracy']['feature rich'], x_lists='Early', y_lists='Early')\n",
    "\n",
    "print('\\nAccuracy for visual vs. feature rich (early lists):')\n",
    "ttest(merged_results['accuracy']['visual'], results['accuracy']['feature rich'], x_lists='Early', y_lists='Early')"
   ]
  },
  {
   "attachments": {},
   "cell_type": "markdown",
   "metadata": {},
   "source": [
    "### Temporal clustering"
   ]
  },
  {
   "cell_type": "code",
   "execution_count": 48,
   "metadata": {},
   "outputs": [
    {
     "name": "stdout",
     "output_type": "stream",
     "text": [
      "Temporal clustering for semantic vs. feature rich (early lists):\n",
      "t(125) = 6.183, p = 0.000\n",
      "\n",
      "Temporal clustering for lexicographic vs. feature rich (early lists):\n",
      "t(125) = 0.549, p = 0.584\n",
      "\n",
      "Temporal clustering for visual vs. feature rich (early lists):\n",
      "t(126) = 0.405, p = 0.686\n"
     ]
    }
   ],
   "source": [
    "print('Temporal clustering for semantic vs. feature rich (early lists):')\n",
    "ttest(merged_results['fingerprint']['semantic'], results['fingerprint']['feature rich'], x_lists='Early', y_lists='Early', x_col='temporal', y_col='temporal')\n",
    "\n",
    "print('\\nTemporal clustering for lexicographic vs. feature rich (early lists):')\n",
    "ttest(merged_results['fingerprint']['lexicographic'], results['fingerprint']['feature rich'], x_lists='Early', y_lists='Early', x_col='temporal', y_col='temporal')\n",
    "\n",
    "print('\\nTemporal clustering for visual vs. feature rich (early lists):')\n",
    "ttest(merged_results['fingerprint']['visual'], results['fingerprint']['feature rich'], x_lists='Early', y_lists='Early', x_col='temporal', y_col='temporal')"
   ]
  },
  {
   "attachments": {},
   "cell_type": "markdown",
   "metadata": {},
   "source": [
    "### Feature based clustering"
   ]
  },
  {
   "cell_type": "code",
   "execution_count": 50,
   "metadata": {},
   "outputs": [
    {
     "name": "stdout",
     "output_type": "stream",
     "text": [
      "category clustering for semantic vs. feature rich (early lists):\n",
      "t(125) = 2.524, p = 0.013\n",
      "\n",
      "\n",
      "size clustering for semantic vs. feature rich (early lists):\n",
      "t(125) = 3.510, p = 0.001\n",
      "\n",
      "\n",
      "wordLength clustering for semantic vs. feature rich (early lists):\n",
      "t(125) = 0.539, p = 0.591\n",
      "\n",
      "\n",
      "firstLetter clustering for semantic vs. feature rich (early lists):\n",
      "t(125) = -0.587, p = 0.558\n",
      "\n",
      "\n",
      "color clustering for semantic vs. feature rich (early lists):\n",
      "t(125) = -0.579, p = 0.564\n",
      "\n",
      "\n",
      "location clustering for semantic vs. feature rich (early lists):\n",
      "t(125) = -0.346, p = 0.730\n",
      "\n",
      "\n",
      "--- \n",
      "\n",
      "category clustering for lexicographic vs. feature rich (early lists):\n",
      "t(125) = -1.078, p = 0.283\n",
      "\n",
      "\n",
      "size clustering for lexicographic vs. feature rich (early lists):\n",
      "t(125) = -0.310, p = 0.757\n",
      "\n",
      "\n",
      "wordLength clustering for lexicographic vs. feature rich (early lists):\n",
      "t(125) = 3.426, p = 0.001\n",
      "\n",
      "\n",
      "firstLetter clustering for lexicographic vs. feature rich (early lists):\n",
      "t(125) = 3.236, p = 0.002\n",
      "\n",
      "\n",
      "color clustering for lexicographic vs. feature rich (early lists):\n",
      "t(125) = -0.209, p = 0.835\n",
      "\n",
      "\n",
      "location clustering for lexicographic vs. feature rich (early lists):\n",
      "t(125) = -0.004, p = 0.997\n",
      "\n",
      "\n",
      "--- \n",
      "\n",
      "category clustering for visual vs. feature rich (early lists):\n",
      "t(126) = 0.204, p = 0.839\n",
      "\n",
      "\n",
      "size clustering for visual vs. feature rich (early lists):\n",
      "t(126) = -0.093, p = 0.926\n",
      "\n",
      "\n",
      "wordLength clustering for visual vs. feature rich (early lists):\n",
      "t(126) = 0.714, p = 0.476\n",
      "\n",
      "\n",
      "firstLetter clustering for visual vs. feature rich (early lists):\n",
      "t(126) = 0.820, p = 0.414\n",
      "\n",
      "\n",
      "color clustering for visual vs. feature rich (early lists):\n",
      "t(126) = 2.099, p = 0.038\n",
      "\n",
      "\n",
      "location clustering for visual vs. feature rich (early lists):\n",
      "t(126) = 4.392, p = 0.000\n"
     ]
    }
   ],
   "source": [
    "conds = ['semantic', 'lexicographic', 'visual']\n",
    "features = ['category', 'size', 'wordLength', 'firstLetter', 'color', 'location']\n",
    "\n",
    "for i, c in enumerate(conds):\n",
    "    for j, f in enumerate(features):\n",
    "        print(f'{f} clustering for {c} vs. feature rich (early lists):')\n",
    "        ttest(merged_results['fingerprint'][c], results['fingerprint']['feature rich'], x_col=f, y_col=f, x_lists='Early', y_lists='Early')\n",
    "\n",
    "        if (j < len(features) - 1) or (i < len(conds) - 1):\n",
    "            print('\\n')\n",
    "    \n",
    "    if i < len(conds) - 1:\n",
    "        print('--- \\n')"
   ]
  },
  {
   "attachments": {},
   "cell_type": "markdown",
   "metadata": {},
   "source": [
    "## Compare each pair of (category of) order manipulation conditions (semantic, lexicographic, and visual)"
   ]
  },
  {
   "attachments": {},
   "cell_type": "markdown",
   "metadata": {},
   "source": [
    "### Accuracy"
   ]
  },
  {
   "cell_type": "code",
   "execution_count": 60,
   "metadata": {},
   "outputs": [
    {
     "name": "stdout",
     "output_type": "stream",
     "text": [
      "Accuracy for semantic vs. lexicographic (early lists):\n",
      "t(118) = 1.936, p = 0.055\n",
      "\n",
      "Accuracy for semantic vs. lexicographic (late lists):\n",
      "t(118) = -0.388, p = 0.699\n",
      "\n",
      "\n",
      "\n",
      "Accuracy for semantic vs. visual (early lists):\n",
      "t(119) = 0.113, p = 0.910\n",
      "\n",
      "Accuracy for semantic vs. visual (late lists):\n",
      "t(119) = -0.833, p = 0.407\n",
      "\n",
      "\n",
      "\n",
      "Accuracy for lexicographic vs. visual (early lists):\n",
      "t(119) = -2.145, p = 0.034\n",
      "\n",
      "Accuracy for lexicographic vs. visual (late lists):\n",
      "t(119) = -0.352, p = 0.726\n",
      "\n",
      "\n",
      "\n"
     ]
    }
   ],
   "source": [
    "for i, c1 in enumerate(conds):\n",
    "    for c2 in conds[i+1:]:\n",
    "        print(f'Accuracy for {c1} vs. {c2} (early lists):')\n",
    "        ttest(merged_results['accuracy'][c1], merged_results['accuracy'][c2], x_lists='Early', y_lists='Early')\n",
    "\n",
    "        print(f'\\nAccuracy for {c1} vs. {c2} (late lists):')\n",
    "        ttest(merged_results['accuracy'][c1], merged_results['accuracy'][c2], x_lists='Late', y_lists='Late')\n",
    "\n",
    "        print('\\n\\n')"
   ]
  },
  {
   "attachments": {},
   "cell_type": "markdown",
   "metadata": {},
   "source": [
    "### Temporal clustering"
   ]
  },
  {
   "cell_type": "code",
   "execution_count": 61,
   "metadata": {},
   "outputs": [
    {
     "name": "stdout",
     "output_type": "stream",
     "text": [
      "Temporal clustering for semantic vs. lexicographic (early lists):\n",
      "t(118) = 5.572, p = 0.000\n",
      "\n",
      "Temporal clustering for semantic vs. lexicographic (late lists):\n",
      "t(118) = -0.693, p = 0.490\n",
      "\n",
      "\n",
      "Temporal clustering for semantic vs. visual (early lists):\n",
      "t(119) = 6.215, p = 0.000\n",
      "\n",
      "Temporal clustering for semantic vs. visual (late lists):\n",
      "t(119) = -0.308, p = 0.759\n",
      "\n",
      "\n",
      "Temporal clustering for lexicographic vs. visual (early lists):\n",
      "t(119) = 0.189, p = 0.850\n",
      "\n",
      "Temporal clustering for lexicographic vs. visual (late lists):\n",
      "t(119) = 0.505, p = 0.615\n",
      "\n",
      "\n"
     ]
    }
   ],
   "source": [
    "for i, c1 in enumerate(conds):\n",
    "    for c2 in conds[i+1:]:\n",
    "        print(f'Temporal clustering for {c1} vs. {c2} (early lists):')\n",
    "        ttest(merged_results['fingerprint'][c1], merged_results['fingerprint'][c2], x_lists='Early', y_lists='Early', x_col='temporal', y_col='temporal')\n",
    "\n",
    "        print(f'\\nTemporal clustering for {c1} vs. {c2} (late lists):')\n",
    "        ttest(merged_results['fingerprint'][c1], merged_results['fingerprint'][c2], x_lists='Late', y_lists='Late', x_col='temporal', y_col='temporal')\n",
    "\n",
    "        print('\\n')"
   ]
  },
  {
   "attachments": {},
   "cell_type": "markdown",
   "metadata": {},
   "source": [
    "### Feature-based clustering"
   ]
  },
  {
   "cell_type": "code",
   "execution_count": 63,
   "metadata": {},
   "outputs": [
    {
     "name": "stdout",
     "output_type": "stream",
     "text": [
      "category clustering for semantic vs. lexicographic (early lists):\n",
      "t(118) = 3.492, p = 0.001\n",
      "\n",
      "category clustering for semantic vs. lexicographic (late lists):\n",
      "t(118) = -0.734, p = 0.464\n",
      "\n",
      "\n",
      "size clustering for semantic vs. lexicographic (early lists):\n",
      "t(118) = 3.972, p = 0.000\n",
      "\n",
      "size clustering for semantic vs. lexicographic (late lists):\n",
      "t(118) = -1.628, p = 0.106\n",
      "\n",
      "\n",
      "wordLength clustering for semantic vs. lexicographic (early lists):\n",
      "t(118) = -3.112, p = 0.002\n",
      "\n",
      "wordLength clustering for semantic vs. lexicographic (late lists):\n",
      "t(118) = 1.199, p = 0.233\n",
      "\n",
      "\n",
      "firstLetter clustering for semantic vs. lexicographic (early lists):\n",
      "t(118) = -3.686, p = 0.000\n",
      "\n",
      "firstLetter clustering for semantic vs. lexicographic (late lists):\n",
      "t(118) = -1.025, p = 0.307\n",
      "\n",
      "\n",
      "color clustering for semantic vs. lexicographic (early lists):\n",
      "t(118) = -0.388, p = 0.699\n",
      "\n",
      "color clustering for semantic vs. lexicographic (late lists):\n",
      "t(118) = -0.606, p = 0.546\n",
      "\n",
      "\n",
      "location clustering for semantic vs. lexicographic (early lists):\n",
      "t(118) = -0.337, p = 0.737\n",
      "\n",
      "location clustering for semantic vs. lexicographic (late lists):\n",
      "t(118) = 0.323, p = 0.747\n",
      "\n",
      "\n",
      "category clustering for semantic vs. visual (early lists):\n",
      "t(119) = 2.702, p = 0.008\n",
      "\n",
      "category clustering for semantic vs. visual (late lists):\n",
      "t(119) = -1.290, p = 0.200\n",
      "\n",
      "\n",
      "size clustering for semantic vs. visual (early lists):\n",
      "t(119) = 4.230, p = 0.000\n",
      "\n",
      "size clustering for semantic vs. visual (late lists):\n",
      "t(119) = -1.312, p = 0.192\n",
      "\n",
      "\n",
      "wordLength clustering for semantic vs. visual (early lists):\n",
      "t(119) = -0.184, p = 0.855\n",
      "\n",
      "wordLength clustering for semantic vs. visual (late lists):\n",
      "t(119) = -2.183, p = 0.031\n",
      "\n",
      "\n",
      "firstLetter clustering for semantic vs. visual (early lists):\n",
      "t(119) = -1.458, p = 0.147\n",
      "\n",
      "firstLetter clustering for semantic vs. visual (late lists):\n",
      "t(119) = -1.720, p = 0.088\n",
      "\n",
      "\n",
      "color clustering for semantic vs. visual (early lists):\n",
      "t(119) = -2.659, p = 0.009\n",
      "\n",
      "color clustering for semantic vs. visual (late lists):\n",
      "t(119) = -0.921, p = 0.359\n",
      "\n",
      "\n",
      "location clustering for semantic vs. visual (early lists):\n",
      "t(119) = -4.604, p = 0.000\n",
      "\n",
      "location clustering for semantic vs. visual (late lists):\n",
      "t(119) = -0.916, p = 0.362\n",
      "\n",
      "\n",
      "category clustering for lexicographic vs. visual (early lists):\n",
      "t(119) = -1.424, p = 0.157\n",
      "\n",
      "category clustering for lexicographic vs. visual (late lists):\n",
      "t(119) = -0.361, p = 0.719\n",
      "\n",
      "\n",
      "size clustering for lexicographic vs. visual (early lists):\n",
      "t(119) = -0.266, p = 0.790\n",
      "\n",
      "size clustering for lexicographic vs. visual (late lists):\n",
      "t(119) = 0.579, p = 0.564\n",
      "\n",
      "\n",
      "wordLength clustering for lexicographic vs. visual (early lists):\n",
      "t(119) = 3.024, p = 0.003\n",
      "\n",
      "wordLength clustering for lexicographic vs. visual (late lists):\n",
      "t(119) = -3.306, p = 0.001\n",
      "\n",
      "\n",
      "firstLetter clustering for lexicographic vs. visual (early lists):\n",
      "t(119) = 2.644, p = 0.009\n",
      "\n",
      "firstLetter clustering for lexicographic vs. visual (late lists):\n",
      "t(119) = -0.621, p = 0.536\n",
      "\n",
      "\n",
      "color clustering for lexicographic vs. visual (early lists):\n",
      "t(119) = -2.366, p = 0.020\n",
      "\n",
      "color clustering for lexicographic vs. visual (late lists):\n",
      "t(119) = -0.365, p = 0.716\n",
      "\n",
      "\n",
      "location clustering for lexicographic vs. visual (early lists):\n",
      "t(119) = -4.265, p = 0.000\n",
      "\n",
      "location clustering for lexicographic vs. visual (late lists):\n",
      "t(119) = -1.240, p = 0.218\n",
      "\n",
      "\n"
     ]
    }
   ],
   "source": [
    "for i, c1 in enumerate(conds):\n",
    "    for c2 in conds[i+1:]:\n",
    "        for f in features:\n",
    "            print(f'{f} clustering for {c1} vs. {c2} (early lists):')\n",
    "            ttest(merged_results['fingerprint'][c1], merged_results['fingerprint'][c2], x_col=f, y_col=f, x_lists='Early', y_lists='Early')\n",
    "\n",
    "            print(f'\\n{f} clustering for {c1} vs. {c2} (late lists):')\n",
    "            ttest(merged_results['fingerprint'][c1], merged_results['fingerprint'][c2], x_col=f, y_col=f, x_lists='Late', y_lists='Late')\n",
    "\n",
    "            print('\\n')"
   ]
  },
  {
   "attachments": {},
   "cell_type": "markdown",
   "metadata": {},
   "source": [
    "# When *early* lists are sorted by a given feature, how is memory performance on *late* lists affected (relative to *feature rich* late lists)\n",
    "\n",
    "### Accuracy"
   ]
  },
  {
   "cell_type": "code",
   "execution_count": 57,
   "metadata": {},
   "outputs": [
    {
     "name": "stdout",
     "output_type": "stream",
     "text": [
      "Accuracy for semantic vs. feature rich (late lists):\n",
      "t(125) = 0.487, p = 0.627\n",
      "\n",
      "Accuracy for lexicographic vs. feature rich (late lists):\n",
      "t(125) = 0.878, p = 0.382\n",
      "\n",
      "Accuracy for visual vs. feature rich (late lists):\n",
      "t(126) = 1.437, p = 0.153\n"
     ]
    }
   ],
   "source": [
    "print('Accuracy for semantic vs. feature rich (late lists):')\n",
    "ttest(merged_results['accuracy']['semantic'], results['accuracy']['feature rich'], x_lists='Late', y_lists='Late')\n",
    "\n",
    "print('\\nAccuracy for lexicographic vs. feature rich (late lists):')\n",
    "ttest(merged_results['accuracy']['lexicographic'], results['accuracy']['feature rich'], x_lists='Late', y_lists='Late')\n",
    "\n",
    "print('\\nAccuracy for visual vs. feature rich (late lists):')\n",
    "ttest(merged_results['accuracy']['visual'], results['accuracy']['feature rich'], x_lists='Late', y_lists='Late')"
   ]
  },
  {
   "attachments": {},
   "cell_type": "markdown",
   "metadata": {},
   "source": [
    "### Temporal clustering"
   ]
  },
  {
   "cell_type": "code",
   "execution_count": 58,
   "metadata": {},
   "outputs": [
    {
     "name": "stdout",
     "output_type": "stream",
     "text": [
      "Temporal clustering for semantic vs. feature rich (late lists):\n",
      "t(125) = 0.146, p = 0.884\n",
      "\n",
      "Temporal clustering for lexicographic vs. feature rich (late lists):\n",
      "t(125) = 0.923, p = 0.358\n",
      "\n",
      "Temporal clustering for visual vs. feature rich (late lists):\n",
      "t(126) = 0.525, p = 0.601\n"
     ]
    }
   ],
   "source": [
    "print('Temporal clustering for semantic vs. feature rich (late lists):')\n",
    "ttest(merged_results['fingerprint']['semantic'], results['fingerprint']['feature rich'], x_lists='Late', y_lists='Late', x_col='temporal', y_col='temporal')\n",
    "\n",
    "print('\\nTemporal clustering for lexicographic vs. feature rich (late lists):')\n",
    "ttest(merged_results['fingerprint']['lexicographic'], results['fingerprint']['feature rich'], x_lists='Late', y_lists='Late', x_col='temporal', y_col='temporal')\n",
    "\n",
    "print('\\nTemporal clustering for visual vs. feature rich (late lists):')\n",
    "ttest(merged_results['fingerprint']['visual'], results['fingerprint']['feature rich'], x_lists='Late', y_lists='Late', x_col='temporal', y_col='temporal')"
   ]
  },
  {
   "attachments": {},
   "cell_type": "markdown",
   "metadata": {},
   "source": [
    "## Feature-based clustering"
   ]
  },
  {
   "cell_type": "code",
   "execution_count": 66,
   "metadata": {},
   "outputs": [
    {
     "name": "stdout",
     "output_type": "stream",
     "text": [
      "category clustering for semantic vs. feature rich (late lists):\n",
      "t(125) = -0.066, p = 0.947\n",
      "\n",
      "\n",
      "size clustering for semantic vs. feature rich (late lists):\n",
      "t(125) = -0.832, p = 0.407\n",
      "\n",
      "\n",
      "wordLength clustering for semantic vs. feature rich (late lists):\n",
      "t(125) = -0.009, p = 0.993\n",
      "\n",
      "\n",
      "firstLetter clustering for semantic vs. feature rich (late lists):\n",
      "t(125) = -0.899, p = 0.370\n",
      "\n",
      "\n",
      "color clustering for semantic vs. feature rich (late lists):\n",
      "t(125) = -0.570, p = 0.570\n",
      "\n",
      "\n",
      "location clustering for semantic vs. feature rich (late lists):\n",
      "t(125) = -0.537, p = 0.592\n",
      "\n",
      "\n",
      "--- \n",
      "\n",
      "category clustering for lexicographic vs. feature rich (late lists):\n",
      "t(125) = 0.673, p = 0.502\n",
      "\n",
      "\n",
      "size clustering for lexicographic vs. feature rich (late lists):\n",
      "t(125) = 0.808, p = 0.421\n",
      "\n",
      "\n",
      "wordLength clustering for lexicographic vs. feature rich (late lists):\n",
      "t(125) = -1.234, p = 0.220\n",
      "\n",
      "\n",
      "firstLetter clustering for lexicographic vs. feature rich (late lists):\n",
      "t(125) = 0.223, p = 0.824\n",
      "\n",
      "\n",
      "color clustering for lexicographic vs. feature rich (late lists):\n",
      "t(125) = 0.017, p = 0.986\n",
      "\n",
      "\n",
      "location clustering for lexicographic vs. feature rich (late lists):\n",
      "t(125) = -0.846, p = 0.399\n",
      "\n",
      "\n",
      "--- \n",
      "\n",
      "category clustering for visual vs. feature rich (late lists):\n",
      "t(126) = 1.189, p = 0.237\n",
      "\n",
      "\n",
      "size clustering for visual vs. feature rich (late lists):\n",
      "t(126) = 0.336, p = 0.737\n",
      "\n",
      "\n",
      "wordLength clustering for visual vs. feature rich (late lists):\n",
      "t(126) = 2.199, p = 0.030\n",
      "\n",
      "\n",
      "firstLetter clustering for visual vs. feature rich (late lists):\n",
      "t(126) = 0.930, p = 0.354\n",
      "\n",
      "\n",
      "color clustering for visual vs. feature rich (late lists):\n",
      "t(126) = 0.368, p = 0.714\n",
      "\n",
      "\n",
      "location clustering for visual vs. feature rich (late lists):\n",
      "t(126) = 0.315, p = 0.753\n"
     ]
    }
   ],
   "source": [
    "conds = ['semantic', 'lexicographic', 'visual']\n",
    "features = ['category', 'size', 'wordLength', 'firstLetter', 'color', 'location']\n",
    "\n",
    "for i, c in enumerate(conds):\n",
    "    for j, f in enumerate(features):\n",
    "        print(f'{f} clustering for {c} vs. feature rich (late lists):')\n",
    "        ttest(merged_results['fingerprint'][c], results['fingerprint']['feature rich'], x_col=f, y_col=f, x_lists='Late', y_lists='Late')\n",
    "\n",
    "        if (j < len(features) - 1) or (i < len(conds) - 1):\n",
    "            print('\\n')\n",
    "    \n",
    "    if i < len(conds) - 1:\n",
    "        print('--- \\n')"
   ]
  },
  {
   "cell_type": "code",
   "execution_count": null,
   "metadata": {},
   "outputs": [],
   "source": []
  },
  {
   "attachments": {},
   "cell_type": "markdown",
   "metadata": {},
   "source": [
    "\n",
    "- when lists are sorted by a given feature, how is memory performance affected (relative to feature rich -- early lists only)?\n",
    "  - do some order manipulations matter more than others?  e.g. compare semantic vs. lexicographic vs. visual -- early lists only\n",
    "\n",
    "\n",
    "- are order effects \"sticky\"?\n",
    "  - when *early* lists are sorted by a given feature, how is memory performance on *late* lists affected (relative to feature rich -- late lists only)?\n",
    "  - do some order manipulations matter more than others?  e.g. compare semantic vs. lexicographic vs. visual -- late lists only\n",
    "\n",
    "  - compare behavior on early vs. late lists for order manipulation condition\n",
    "    - does feature clustering on early lists correlate with recall on early (or late) lists?\n",
    "    - does feature clustering on late lists correlate with recall on early (or late) lists?\n",
    "    - (ditto, but replace \"recall\" with \"temporal clustering\")\n",
    "\n",
    "\n",
    "- for feature-rich lists, do order effects matter?\n",
    "  - recall + dynamics + organization on order-manipulation conditions vs. feature rich\n",
    "  - fingerprint trajectories: how much do fingerprints change over time, are they sensitive to order manipulations?\n",
    "\n",
    "- are fingerprints maleable?  how does match between fingerprint + presentation order affect recall performance (adaptive conditions)?"
   ]
  },
  {
   "cell_type": "code",
   "execution_count": null,
   "metadata": {},
   "outputs": [],
   "source": []
  }
 ],
 "metadata": {
  "kernelspec": {
   "display_name": "quail",
   "language": "python",
   "name": "python3"
  },
  "language_info": {
   "codemirror_mode": {
    "name": "ipython",
    "version": 3
   },
   "file_extension": ".py",
   "mimetype": "text/x-python",
   "name": "python",
   "nbconvert_exporter": "python",
   "pygments_lexer": "ipython3",
   "version": "3.10.6"
  },
  "orig_nbformat": 4,
  "vscode": {
   "interpreter": {
    "hash": "ece6198bba427cbc67eade80d2f26cc97e756f38697f95066add8df0785cdc08"
   }
  }
 },
 "nbformat": 4,
 "nbformat_minor": 2
}
