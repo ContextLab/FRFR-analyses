{
 "cells": [
  {
   "cell_type": "code",
   "execution_count": 1,
   "metadata": {},
   "outputs": [
    {
     "name": "stdout",
     "output_type": "stream",
     "text": [
      "Requirement already satisfied: pip in /Users/jmanning/opt/anaconda3/envs/quail/lib/python3.10/site-packages (22.3.1)\n",
      "Note: you may need to restart the kernel to use updated packages.\n",
      "Requirement already satisfied: davos in /Users/jmanning/opt/anaconda3/envs/quail/lib/python3.10/site-packages (0.1.0)\n",
      "Requirement already satisfied: packaging in /Users/jmanning/opt/anaconda3/envs/quail/lib/python3.10/site-packages (from davos) (21.3)\n",
      "Requirement already satisfied: setuptools in /Users/jmanning/opt/anaconda3/envs/quail/lib/python3.10/site-packages (from davos) (65.5.1)\n",
      "Requirement already satisfied: pyparsing!=3.0.5,>=2.0.2 in /Users/jmanning/opt/anaconda3/envs/quail/lib/python3.10/site-packages (from packaging->davos) (3.0.9)\n",
      "Note: you may need to restart the kernel to use updated packages.\n"
     ]
    }
   ],
   "source": [
    "%pip install --upgrade pip\n",
    "%pip install davos\n",
    "import davos"
   ]
  },
  {
   "cell_type": "code",
   "execution_count": 2,
   "metadata": {},
   "outputs": [],
   "source": [
    "smuggle pandas as pd # pip: pandas==1.5.1\n",
    "smuggle numpy as np # pip: numpy==1.23.4\n",
    "smuggle seaborn as sns # pip: seaborn==0.12.1\n",
    "smuggle dill as pickle # pip: dill==0.3.6\n",
    "\n",
    "smuggle h5py # pip: h5py==3.7.0\n",
    "smuggle pathos # pip: pathos==0.3.0\n",
    "smuggle quail # pip: quail==0.2.1\n",
    "smuggle requests # pip: requests==2.28.1\n",
    "smuggle os\n",
    "smuggle warnings\n",
    "smuggle string\n",
    "\n",
    "from tqdm smuggle tqdm # pip: tqdm==4.64.1\n",
    "from matplotlib smuggle pyplot as plt #pip: matplotlib==3.6.2\n",
    "from matplotlib.ticker smuggle MaxNLocator\n",
    "from pathos.multiprocessing smuggle ProcessingPool as Pool # pip: pathos==0.3.0\n",
    "from multiprocessing smuggle cpu_count  # pip: multiprocess==0.70.14\n",
    "from sklearn.decomposition smuggle IncrementalPCA as PCA # pip: scikit-learn==1.1.3\n",
    "\n",
    "# local functions\n",
    "from dataloader import datadir, grouping, feature_groupings, colors, descriptions, sort_by_grouping, fetch_data\n",
    "from analyze import analyze_data"
   ]
  },
  {
   "cell_type": "code",
   "execution_count": null,
   "metadata": {},
   "outputs": [],
   "source": []
  }
 ],
 "metadata": {
  "kernelspec": {
   "display_name": "quail",
   "language": "python",
   "name": "python3"
  },
  "language_info": {
   "codemirror_mode": {
    "name": "ipython",
    "version": 3
   },
   "file_extension": ".py",
   "mimetype": "text/x-python",
   "name": "python",
   "nbconvert_exporter": "python",
   "pygments_lexer": "ipython3",
   "version": "3.10.6"
  },
  "orig_nbformat": 4,
  "vscode": {
   "interpreter": {
    "hash": "ece6198bba427cbc67eade80d2f26cc97e756f38697f95066add8df0785cdc08"
   }
  }
 },
 "nbformat": 4,
 "nbformat_minor": 2
}
