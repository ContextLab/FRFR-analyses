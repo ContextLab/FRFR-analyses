{
 "cells": [
  {
   "cell_type": "code",
   "execution_count": 1,
   "metadata": {},
   "outputs": [],
   "source": [
    "try:\n",
    "    import davos\n",
    "except:\n",
    "    %pip install davos\n",
    "    import davos\n",
    "\n",
    "davos.config.suppress_stdout = False"
   ]
  },
  {
   "cell_type": "code",
   "execution_count": 2,
   "metadata": {},
   "outputs": [],
   "source": [
    "smuggle pandas as pd # pip: pandas==1.5.1\n",
    "smuggle numpy as np # pip: numpy==1.22.3\n",
    "smuggle seaborn as sns # pip: seaborn==0.12.1\n",
    "smuggle dill as pickle # pip: dill==0.3.6\n",
    "\n",
    "smuggle h5py # pip: h5py==3.7.0\n",
    "smuggle pathos # pip: pathos==0.3.0\n",
    "smuggle quail # pip: quail==0.2.2\n",
    "smuggle requests # pip: requests==2.28.1\n",
    "smuggle os\n",
    "smuggle warnings\n",
    "smuggle string\n",
    "\n",
    "from tqdm smuggle tqdm # pip: tqdm==4.64.1\n",
    "from matplotlib smuggle pyplot as plt #pip: matplotlib==3.6.2\n",
    "from matplotlib.ticker smuggle MaxNLocator\n",
    "from pathos.multiprocessing smuggle ProcessingPool as Pool # pip: pathos==0.3.0\n",
    "from multiprocessing smuggle cpu_count  # pip: multiprocess==0.70.14\n",
    "from sklearn.decomposition smuggle IncrementalPCA as PCA # pip: scikit-learn==1.1.3\n",
    "from scipy smuggle stats # pip: scipy==1.10.0\n",
    "\n",
    "# local functions\n",
    "from dataloader import datadir, grouping, feature_groupings, descriptions, sort_by_grouping, fetch_data\n",
    "from analyze import analyze_data, recover_fingerprint_features, organize_by_listgroup, random, adaptive, non_adaptive_exclude_random, \\\n",
    "                    select_conds, select_lists, filter, get_diffs, stack_diffs, pnr_matrix, accuracy2df, adaptive_listnum2cond, \\\n",
    "                    clustering_matrices, average_by_cond, rename_features, fingerprint2temporal, get_boundaries, \\\n",
    "                    recall_accuracy_near_boundaries, results, results_by_list, analyses, listgroups, orders, ttest, merge_results, \\\n",
    "                    create_clustering_df"
   ]
  },
  {
   "attachments": {},
   "cell_type": "markdown",
   "metadata": {},
   "source": [
    "# Performance on *feature rich* versus *reduced* lists:\n",
    "  - accuracy\n",
    "  - temporal clustering\n",
    "  - non-visual feature-based clustering (category, size, length, first letter)"
   ]
  },
  {
   "cell_type": "code",
   "execution_count": 3,
   "metadata": {},
   "outputs": [
    {
     "name": "stdout",
     "output_type": "stream",
     "text": [
      "Accuracy for feature rich vs. reduced (all lists):\n",
      "t(126) = -0.290, p = 0.772, d = -0.051, CI = [-2.372, 1.644]\n"
     ]
    }
   ],
   "source": [
    "print('Accuracy for feature rich vs. reduced (all lists):')\n",
    "ttest(results['accuracy']['feature rich'], results['accuracy']['reduced'])"
   ]
  },
  {
   "cell_type": "code",
   "execution_count": 4,
   "metadata": {},
   "outputs": [
    {
     "name": "stdout",
     "output_type": "stream",
     "text": [
      "Temporal clustering for feature rich vs. reduced (all lists):\n",
      "t(126) = 10.632, p < 0.001, d = 1.882, CI = [7.796, 13.872]\n"
     ]
    }
   ],
   "source": [
    "print('Temporal clustering for feature rich vs. reduced (all lists):')\n",
    "ttest(results['fingerprint']['feature rich'], results['fingerprint']['reduced'], x_col='temporal', y_col='temporal')"
   ]
  },
  {
   "cell_type": "code",
   "execution_count": 5,
   "metadata": {},
   "outputs": [
    {
     "name": "stdout",
     "output_type": "stream",
     "text": [
      "category clustering for feature rich vs. reduced (all lists):\n",
      "t(126) = 10.148, p < 0.001, d = 1.796, CI = [7.524, 13.695]\n",
      "\n",
      "\n",
      "size clustering for feature rich vs. reduced (all lists):\n",
      "t(126) = 12.033, p < 0.001, d = 2.129, CI = [8.955, 15.618]\n",
      "\n",
      "\n",
      "wordLength clustering for feature rich vs. reduced (all lists):\n",
      "t(126) = 10.720, p < 0.001, d = 1.897, CI = [7.492, 15.148]\n",
      "\n",
      "\n",
      "firstLetter clustering for feature rich vs. reduced (all lists):\n",
      "t(126) = 6.679, p < 0.001, d = 1.182, CI = [4.372, 9.383]\n"
     ]
    }
   ],
   "source": [
    "features = ['category', 'size', 'wordLength', 'firstLetter']\n",
    "for i, f in enumerate(features):\n",
    "    print(f'{f} clustering for feature rich vs. reduced (all lists):')\n",
    "    ttest(results['fingerprint']['feature rich'], results['fingerprint']['reduced'], x_col=f, y_col=f)\n",
    "\n",
    "    if i < len(features) - 1:\n",
    "        print('\\n')"
   ]
  },
  {
   "attachments": {},
   "cell_type": "markdown",
   "metadata": {},
   "source": [
    "# Performance on {*feature rich*, *reduced*} lists versus *reduced ({early, late})* lists\n",
    "We'll compare early and late lists separately (e.g., early to early, late to late, early to late, etc.)\n",
    "\n",
    "Metrics:\n",
    "  - accuracy\n",
    "  - temporal clustering\n",
    "  - non-visual feature-based clustering (category, size, length, first letter)\n",
    "\n",
    "## Early vs. late (all conditions and metrics)"
   ]
  },
  {
   "attachments": {},
   "cell_type": "markdown",
   "metadata": {},
   "source": [
    "### Accuracy"
   ]
  },
  {
   "cell_type": "code",
   "execution_count": 6,
   "metadata": {},
   "outputs": [
    {
     "name": "stdout",
     "output_type": "stream",
     "text": [
      "Accuracy for feature rich (early lists) vs. feature rich (late lists):\n",
      "t(66) = 4.553, p < 0.001, d = 0.233, CI = [2.425, 7.132]\n"
     ]
    }
   ],
   "source": [
    "print('Accuracy for feature rich (early lists) vs. feature rich (late lists):')\n",
    "ttest(results['accuracy']['feature rich'], results['accuracy']['feature rich'], x_lists='Early', y_lists='Late', independent_sample=False)"
   ]
  },
  {
   "cell_type": "code",
   "execution_count": 7,
   "metadata": {},
   "outputs": [
    {
     "name": "stdout",
     "output_type": "stream",
     "text": [
      "Accuracy for reduced (early lists) vs. reduced (late lists):\n",
      "t(60) = 2.434, p = 0.018, d = 0.134, CI = [0.361, 4.873]\n"
     ]
    }
   ],
   "source": [
    "print('Accuracy for reduced (early lists) vs. reduced (late lists):')\n",
    "ttest(results['accuracy']['reduced'], results['accuracy']['reduced'], x_lists='Early', y_lists='Late', independent_sample=False)"
   ]
  },
  {
   "cell_type": "code",
   "execution_count": 8,
   "metadata": {},
   "outputs": [
    {
     "name": "stdout",
     "output_type": "stream",
     "text": [
      "Accuracy for reduced (early) (early lists) vs. reduced (early) (late lists):\n",
      "t(41) = 1.499, p = 0.141, d = 0.098, CI = [-0.419, 3.499]\n"
     ]
    }
   ],
   "source": [
    "print('Accuracy for reduced (early) (early lists) vs. reduced (early) (late lists):')\n",
    "ttest(results['accuracy']['reduced (early)'], results['accuracy']['reduced (early)'], x_lists='Early', y_lists='Late', independent_sample=False)"
   ]
  },
  {
   "cell_type": "code",
   "execution_count": 9,
   "metadata": {},
   "outputs": [
    {
     "name": "stdout",
     "output_type": "stream",
     "text": [
      "Accuracy for reduced (late) (early lists) vs. reduced (late) (late lists):\n",
      "t(40) = 1.462, p = 0.152, d = 0.121, CI = [-0.301, 2.864]\n"
     ]
    }
   ],
   "source": [
    "print('Accuracy for reduced (late) (early lists) vs. reduced (late) (late lists):')\n",
    "ttest(results['accuracy']['reduced (late)'], results['accuracy']['reduced (late)'], x_lists='Early', y_lists='Late', independent_sample=False)"
   ]
  },
  {
   "attachments": {},
   "cell_type": "markdown",
   "metadata": {},
   "source": [
    "### Temporal clustering"
   ]
  },
  {
   "cell_type": "code",
   "execution_count": 10,
   "metadata": {},
   "outputs": [
    {
     "name": "stdout",
     "output_type": "stream",
     "text": [
      "Temporal clustering for feature rich (early lists) vs. feature rich (late lists):\n",
      "t(66) = 2.268, p = 0.027, d = 0.181, CI = [0.272, 4.450]\n"
     ]
    }
   ],
   "source": [
    "print('Temporal clustering for feature rich (early lists) vs. feature rich (late lists):')\n",
    "ttest(results['fingerprint']['feature rich'], results['fingerprint']['feature rich'], x_col='temporal', y_col='temporal', x_lists='Early', y_lists='Late', independent_sample=False)"
   ]
  },
  {
   "cell_type": "code",
   "execution_count": 11,
   "metadata": {},
   "outputs": [
    {
     "name": "stdout",
     "output_type": "stream",
     "text": [
      "Temporal clustering for reduced (early lists) vs. reduced (late lists):\n"
     ]
    },
    {
     "name": "stdout",
     "output_type": "stream",
     "text": [
      "t(60) = 0.986, p = 0.328, d = 0.061, CI = [-0.980, 3.190]\n"
     ]
    }
   ],
   "source": [
    "print('Temporal clustering for reduced (early lists) vs. reduced (late lists):')\n",
    "ttest(results['fingerprint']['reduced'], results['fingerprint']['reduced'], x_col='temporal', y_col='temporal', x_lists='Early', y_lists='Late', independent_sample=False)"
   ]
  },
  {
   "cell_type": "code",
   "execution_count": 12,
   "metadata": {},
   "outputs": [
    {
     "name": "stdout",
     "output_type": "stream",
     "text": [
      "Temporal clustering for reduced (early) (early lists) vs. reduced (early) (late lists):\n"
     ]
    },
    {
     "name": "stdout",
     "output_type": "stream",
     "text": [
      "t(41) = 0.857, p = 0.396, d = 0.068, CI = [-1.030, 2.929]\n"
     ]
    }
   ],
   "source": [
    "print('Temporal clustering for reduced (early) (early lists) vs. reduced (early) (late lists):')\n",
    "ttest(results['fingerprint']['reduced (early)'], results['fingerprint']['reduced (early)'], x_col='temporal', y_col='temporal', x_lists='Early', y_lists='Late', independent_sample=False)"
   ]
  },
  {
   "cell_type": "code",
   "execution_count": 13,
   "metadata": {},
   "outputs": [
    {
     "name": "stdout",
     "output_type": "stream",
     "text": [
      "Temporal clustering for reduced (late) (early lists) vs. reduced (late) (late lists):\n",
      "t(40) = 1.244, p = 0.221, d = 0.128, CI = [-0.794, 3.152]\n"
     ]
    }
   ],
   "source": [
    "print('Temporal clustering for reduced (late) (early lists) vs. reduced (late) (late lists):')\n",
    "ttest(results['fingerprint']['reduced (late)'], results['fingerprint']['reduced (late)'], x_col='temporal', y_col='temporal', x_lists='Early', y_lists='Late', independent_sample=False)"
   ]
  },
  {
   "attachments": {},
   "cell_type": "markdown",
   "metadata": {},
   "source": [
    "### Non-visual feature based clustering"
   ]
  },
  {
   "cell_type": "code",
   "execution_count": 14,
   "metadata": {},
   "outputs": [
    {
     "name": "stdout",
     "output_type": "stream",
     "text": [
      "category clustering for feature rich (early lists) vs. feature rich (late lists):\n"
     ]
    },
    {
     "name": "stdout",
     "output_type": "stream",
     "text": [
      "t(66) = 3.684, p < 0.001, d = 0.220, CI = [1.829, 5.851]\n",
      "\n",
      "\n",
      "size clustering for feature rich (early lists) vs. feature rich (late lists):\n",
      "t(66) = 1.629, p = 0.108, d = 0.100, CI = [-0.333, 3.859]\n",
      "\n",
      "\n",
      "wordLength clustering for feature rich (early lists) vs. feature rich (late lists):\n",
      "t(66) = -0.100, p = 0.921, d = -0.010, CI = [-2.099, 1.870]\n",
      "\n",
      "\n",
      "firstLetter clustering for feature rich (early lists) vs. feature rich (late lists):\n",
      "t(66) = -0.412, p = 0.681, d = -0.045, CI = [-2.388, 1.636]\n"
     ]
    }
   ],
   "source": [
    "for i, f in enumerate(features):\n",
    "    print(f'{f} clustering for feature rich (early lists) vs. feature rich (late lists):')\n",
    "    ttest(results['fingerprint']['feature rich'], results['fingerprint']['feature rich'], x_col=f, y_col=f, x_lists='Early', y_lists='Late', independent_sample=False)\n",
    "\n",
    "    if i < len(features) - 1:\n",
    "        print('\\n')"
   ]
  },
  {
   "cell_type": "code",
   "execution_count": 15,
   "metadata": {},
   "outputs": [
    {
     "name": "stdout",
     "output_type": "stream",
     "text": [
      "category clustering for reduced (early lists) vs. reduced (late lists):\n",
      "t(60) = 2.755, p = 0.008, d = 0.177, CI = [0.781, 5.266]\n",
      "\n",
      "\n",
      "size clustering for reduced (early lists) vs. reduced (late lists):\n",
      "t(60) = 3.081, p = 0.003, d = 0.201, CI = [1.204, 5.389]\n",
      "\n",
      "\n",
      "wordLength clustering for reduced (early lists) vs. reduced (late lists):\n",
      "t(60) = 3.762, p < 0.001, d = 0.261, CI = [1.694, 6.639]\n",
      "\n",
      "\n",
      "firstLetter clustering for reduced (early lists) vs. reduced (late lists):\n",
      "t(60) = 1.721, p = 0.090, d = 0.175, CI = [-0.121, 4.149]\n"
     ]
    }
   ],
   "source": [
    "for i, f in enumerate(features):\n",
    "    print(f'{f} clustering for reduced (early lists) vs. reduced (late lists):')\n",
    "    ttest(results['fingerprint']['reduced'], results['fingerprint']['reduced'], x_col=f, y_col=f, x_lists='Early', y_lists='Late', independent_sample=False)\n",
    "\n",
    "    if i < len(features) - 1:\n",
    "        print('\\n')"
   ]
  },
  {
   "cell_type": "code",
   "execution_count": 16,
   "metadata": {},
   "outputs": [
    {
     "name": "stdout",
     "output_type": "stream",
     "text": [
      "category clustering for reduced (early) (early lists) vs. reduced (early) (late lists):\n"
     ]
    },
    {
     "name": "stdout",
     "output_type": "stream",
     "text": [
      "t(41) = 0.707, p = 0.484, d = 0.068, CI = [-1.307, 2.659]\n",
      "\n",
      "\n",
      "size clustering for reduced (early) (early lists) vs. reduced (early) (late lists):\n",
      "t(41) = 0.803, p = 0.427, d = 0.079, CI = [-1.214, 2.875]\n",
      "\n",
      "\n",
      "wordLength clustering for reduced (early) (early lists) vs. reduced (early) (late lists):\n",
      "t(41) = 0.461, p = 0.648, d = 0.060, CI = [-1.619, 2.350]\n",
      "\n",
      "\n",
      "firstLetter clustering for reduced (early) (early lists) vs. reduced (early) (late lists):\n",
      "t(41) = 0.781, p = 0.439, d = 0.101, CI = [-1.112, 2.967]\n"
     ]
    }
   ],
   "source": [
    "for i, f in enumerate(features):\n",
    "    print(f'{f} clustering for reduced (early) (early lists) vs. reduced (early) (late lists):')\n",
    "    ttest(results['fingerprint']['reduced (early)'], results['fingerprint']['reduced (early)'], x_col=f, y_col=f, x_lists='Early', y_lists='Late', independent_sample=False)\n",
    "\n",
    "    if i < len(features) - 1:\n",
    "        print('\\n')"
   ]
  },
  {
   "cell_type": "code",
   "execution_count": 17,
   "metadata": {},
   "outputs": [
    {
     "name": "stdout",
     "output_type": "stream",
     "text": [
      "category clustering for reduced (late) (early lists) vs. reduced (late) (late lists):\n"
     ]
    },
    {
     "name": "stdout",
     "output_type": "stream",
     "text": [
      "t(40) = -0.101, p = 0.920, d = -0.009, CI = [-2.279, 1.760]\n",
      "\n",
      "\n",
      "size clustering for reduced (late) (early lists) vs. reduced (late) (late lists):\n",
      "t(40) = 0.555, p = 0.582, d = 0.058, CI = [-1.675, 2.458]\n",
      "\n",
      "\n",
      "wordLength clustering for reduced (late) (early lists) vs. reduced (late) (late lists):\n",
      "t(40) = 1.482, p = 0.146, d = 0.126, CI = [-0.468, 3.756]\n",
      "\n",
      "\n",
      "firstLetter clustering for reduced (late) (early lists) vs. reduced (late) (late lists):\n",
      "t(40) = -0.143, p = 0.887, d = -0.017, CI = [-2.425, 1.811]\n"
     ]
    }
   ],
   "source": [
    "for i, f in enumerate(features):\n",
    "    print(f'{f} clustering for reduced (late) (early lists) vs. reduced (late) (late lists):')\n",
    "    ttest(results['fingerprint']['reduced (late)'], results['fingerprint']['reduced (late)'], x_col=f, y_col=f, x_lists='Early', y_lists='Late', independent_sample=False)\n",
    "\n",
    "    if i < len(features) - 1:\n",
    "        print('\\n')"
   ]
  },
  {
   "attachments": {},
   "cell_type": "markdown",
   "metadata": {},
   "source": [
    "## Feature rich vs. reduced ({early, late})\n",
    "\n",
    "### Accuracy"
   ]
  },
  {
   "cell_type": "code",
   "execution_count": 18,
   "metadata": {},
   "outputs": [
    {
     "name": "stdout",
     "output_type": "stream",
     "text": [
      "Accuracy for feature rich vs. reduced (early) (all lists):\n",
      "t(107) = -2.230, p = 0.028, d = -0.439, CI = [-4.282, -0.199]\n"
     ]
    }
   ],
   "source": [
    "print('Accuracy for feature rich vs. reduced (early) (all lists):')\n",
    "ttest(results['accuracy']['feature rich'], results['accuracy']['reduced (early)'])"
   ]
  },
  {
   "cell_type": "code",
   "execution_count": 19,
   "metadata": {},
   "outputs": [
    {
     "name": "stdout",
     "output_type": "stream",
     "text": [
      "Accuracy for feature rich vs. reduced (late) (all lists):\n",
      "t(106) = -0.638, p = 0.525, d = -0.126, CI = [-2.710, 1.255]\n"
     ]
    }
   ],
   "source": [
    "print('Accuracy for feature rich vs. reduced (late) (all lists):')\n",
    "ttest(results['accuracy']['feature rich'], results['accuracy']['reduced (late)'])"
   ]
  },
  {
   "attachments": {},
   "cell_type": "markdown",
   "metadata": {},
   "source": [
    "### Temporal clustering"
   ]
  },
  {
   "cell_type": "code",
   "execution_count": 20,
   "metadata": {},
   "outputs": [
    {
     "name": "stdout",
     "output_type": "stream",
     "text": [
      "Temporal clustering for feature rich vs. reduced (early) (all lists):\n",
      "t(107) = -1.379, p = 0.171, d = -0.271, CI = [-3.361, 0.658]\n"
     ]
    }
   ],
   "source": [
    "print('Temporal clustering for feature rich vs. reduced (early) (all lists):')\n",
    "ttest(results['fingerprint']['feature rich'], results['fingerprint']['reduced (early)'], x_col='temporal', y_col='temporal')"
   ]
  },
  {
   "cell_type": "code",
   "execution_count": 21,
   "metadata": {},
   "outputs": [
    {
     "name": "stdout",
     "output_type": "stream",
     "text": [
      "Temporal clustering for feature rich vs. reduced (late) (all lists):\n",
      "t(106) = -0.535, p = 0.593, d = -0.106, CI = [-2.554, 1.367]\n"
     ]
    }
   ],
   "source": [
    "print('Temporal clustering for feature rich vs. reduced (late) (all lists):')\n",
    "ttest(results['fingerprint']['feature rich'], results['fingerprint']['reduced (late)'], x_col='temporal', y_col='temporal')"
   ]
  },
  {
   "attachments": {},
   "cell_type": "markdown",
   "metadata": {},
   "source": [
    "### Non-visual feature based clustering"
   ]
  },
  {
   "cell_type": "code",
   "execution_count": 22,
   "metadata": {},
   "outputs": [
    {
     "name": "stdout",
     "output_type": "stream",
     "text": [
      "category clustering for feature rich vs. reduced (early) (all lists):\n",
      "t(107) = 0.013, p = 0.989, d = 0.003, CI = [-1.776, 2.098]\n",
      "\n",
      "\n",
      "size clustering for feature rich vs. reduced (early) (all lists):\n",
      "t(107) = -0.349, p = 0.728, d = -0.069, CI = [-2.186, 1.601]\n",
      "\n",
      "\n",
      "wordLength clustering for feature rich vs. reduced (early) (all lists):\n",
      "t(107) = -0.581, p = 0.563, d = -0.114, CI = [-2.273, 1.451]\n",
      "\n",
      "\n",
      "firstLetter clustering for feature rich vs. reduced (early) (all lists):\n",
      "t(107) = 0.636, p = 0.526, d = 0.125, CI = [-1.279, 2.909]\n"
     ]
    }
   ],
   "source": [
    "features = ['category', 'size', 'wordLength', 'firstLetter']\n",
    "for i, f in enumerate(features):\n",
    "    print(f'{f} clustering for feature rich vs. reduced (early) (all lists):')\n",
    "    ttest(results['fingerprint']['feature rich'], results['fingerprint']['reduced (early)'], x_col=f, y_col=f)\n",
    "\n",
    "    if i < len(features) - 1:\n",
    "        print('\\n')"
   ]
  },
  {
   "cell_type": "code",
   "execution_count": 23,
   "metadata": {},
   "outputs": [
    {
     "name": "stdout",
     "output_type": "stream",
     "text": [
      "category clustering for feature rich vs. reduced (late) (all lists):\n",
      "t(106) = -1.345, p = 0.181, d = -0.267, CI = [-3.492, 0.530]\n",
      "\n",
      "\n",
      "size clustering for feature rich vs. reduced (late) (all lists):\n",
      "t(106) = -1.441, p = 0.153, d = -0.286, CI = [-3.673, 0.509]\n",
      "\n",
      "\n",
      "wordLength clustering for feature rich vs. reduced (late) (all lists):\n",
      "t(106) = -1.261, p = 0.210, d = -0.250, CI = [-3.692, 0.886]\n",
      "\n",
      "\n",
      "firstLetter clustering for feature rich vs. reduced (late) (all lists):\n",
      "t(106) = 0.939, p = 0.350, d = 0.186, CI = [-1.046, 3.016]\n"
     ]
    }
   ],
   "source": [
    "features = ['category', 'size', 'wordLength', 'firstLetter']\n",
    "for i, f in enumerate(features):\n",
    "    print(f'{f} clustering for feature rich vs. reduced (late) (all lists):')\n",
    "    ttest(results['fingerprint']['feature rich'], results['fingerprint']['reduced (late)'], x_col=f, y_col=f)\n",
    "\n",
    "    if i < len(features) - 1:\n",
    "        print('\\n')"
   ]
  },
  {
   "attachments": {},
   "cell_type": "markdown",
   "metadata": {},
   "source": [
    "## Reduced vs. reduced ({early, late})\n",
    "\n",
    "### Accuracy"
   ]
  },
  {
   "cell_type": "code",
   "execution_count": 24,
   "metadata": {},
   "outputs": [
    {
     "name": "stdout",
     "output_type": "stream",
     "text": [
      "Accuracy for reduced vs. reduced (early) (all lists):\n",
      "t(101) = -2.045, p = 0.043, d = -0.410, CI = [-4.086, -0.154]\n"
     ]
    }
   ],
   "source": [
    "print('Accuracy for reduced vs. reduced (early) (all lists):')\n",
    "ttest(results['accuracy']['reduced'], results['accuracy']['reduced (early)'])"
   ]
  },
  {
   "cell_type": "code",
   "execution_count": 25,
   "metadata": {},
   "outputs": [
    {
     "name": "stdout",
     "output_type": "stream",
     "text": [
      "Accuracy for reduced vs. reduced (late) (all lists):\n",
      "t(100) = -0.407, p = 0.685, d = -0.082, CI = [-2.440, 1.623]\n"
     ]
    }
   ],
   "source": [
    "print('Accuracy for reduced vs. reduced (late) (all lists):')\n",
    "ttest(results['accuracy']['reduced'], results['accuracy']['reduced (late)'])"
   ]
  },
  {
   "attachments": {},
   "cell_type": "markdown",
   "metadata": {},
   "source": [
    "### Temporal clustering"
   ]
  },
  {
   "cell_type": "code",
   "execution_count": 26,
   "metadata": {},
   "outputs": [
    {
     "name": "stdout",
     "output_type": "stream",
     "text": [
      "Temporal clustering for reduced vs. reduced (early) (all lists):\n",
      "t(101) = -10.689, p < 0.001, d = -2.143, CI = [-13.488, -8.527]\n"
     ]
    }
   ],
   "source": [
    "print('Temporal clustering for reduced vs. reduced (early) (all lists):')\n",
    "ttest(results['fingerprint']['reduced'], results['fingerprint']['reduced (early)'], x_col='temporal', y_col='temporal')"
   ]
  },
  {
   "cell_type": "code",
   "execution_count": 27,
   "metadata": {},
   "outputs": [
    {
     "name": "stdout",
     "output_type": "stream",
     "text": [
      "Temporal clustering for reduced vs. reduced (late) (all lists):\n",
      "t(100) = -9.885, p < 0.001, d = -1.996, CI = [-14.408, -6.722]\n"
     ]
    }
   ],
   "source": [
    "print('Temporal clustering for reduced vs. reduced (late) (all lists):')\n",
    "ttest(results['fingerprint']['reduced'], results['fingerprint']['reduced (late)'], x_col='temporal', y_col='temporal')"
   ]
  },
  {
   "attachments": {},
   "cell_type": "markdown",
   "metadata": {},
   "source": [
    "### Non-visual feature based clustering"
   ]
  },
  {
   "cell_type": "code",
   "execution_count": 28,
   "metadata": {},
   "outputs": [
    {
     "name": "stdout",
     "output_type": "stream",
     "text": [
      "category clustering for reduced vs. reduced (early) (all lists):\n",
      "t(101) = -9.538, p < 0.001, d = -1.912, CI = [-12.128, -7.347]\n",
      "\n",
      "\n",
      "size clustering for reduced vs. reduced (early) (all lists):\n",
      "t(101) = -12.222, p < 0.001, d = -2.451, CI = [-15.488, -9.883]\n",
      "\n",
      "\n",
      "wordLength clustering for reduced vs. reduced (early) (all lists):\n",
      "t(101) = -10.620, p < 0.001, d = -2.129, CI = [-13.777, -8.273]\n",
      "\n",
      "\n",
      "firstLetter clustering for reduced vs. reduced (early) (all lists):\n",
      "t(101) = -5.213, p < 0.001, d = -1.045, CI = [-7.416, -3.326]\n"
     ]
    }
   ],
   "source": [
    "features = ['category', 'size', 'wordLength', 'firstLetter']\n",
    "for i, f in enumerate(features):\n",
    "    print(f'{f} clustering for reduced vs. reduced (early) (all lists):')\n",
    "    ttest(results['fingerprint']['reduced'], results['fingerprint']['reduced (early)'], x_col=f, y_col=f)\n",
    "\n",
    "    if i < len(features) - 1:\n",
    "        print('\\n')"
   ]
  },
  {
   "cell_type": "code",
   "execution_count": 29,
   "metadata": {},
   "outputs": [
    {
     "name": "stdout",
     "output_type": "stream",
     "text": [
      "category clustering for reduced vs. reduced (late) (all lists):\n",
      "t(100) = -10.436, p < 0.001, d = -2.107, CI = [-15.817, -7.047]\n",
      "\n",
      "\n",
      "size clustering for reduced vs. reduced (late) (all lists):\n",
      "t(100) = -12.413, p < 0.001, d = -2.507, CI = [-18.340, -8.377]\n",
      "\n",
      "\n",
      "wordLength clustering for reduced vs. reduced (late) (all lists):\n",
      "t(100) = -9.672, p < 0.001, d = -1.953, CI = [-14.421, -6.222]\n",
      "\n",
      "\n",
      "firstLetter clustering for reduced vs. reduced (late) (all lists):\n",
      "t(100) = -4.555, p < 0.001, d = -0.920, CI = [-7.238, -2.377]\n"
     ]
    }
   ],
   "source": [
    "features = ['category', 'size', 'wordLength', 'firstLetter']\n",
    "for i, f in enumerate(features):\n",
    "    print(f'{f} clustering for reduced vs. reduced (late) (all lists):')\n",
    "    ttest(results['fingerprint']['reduced'], results['fingerprint']['reduced (late)'], x_col=f, y_col=f)\n",
    "\n",
    "    if i < len(features) - 1:\n",
    "        print('\\n')"
   ]
  },
  {
   "attachments": {},
   "cell_type": "markdown",
   "metadata": {},
   "source": [
    "# Order manipulation analyses\n",
    "\n",
    "- When lists are sorted by a given feature, how is memory performance affected (relative to feature rich -- early lists only)?\n",
    "- Do some order manipulations matter more than others?  E.g. compare semantic vs. lexicographic vs. visual -- early lists only"
   ]
  },
  {
   "attachments": {},
   "cell_type": "markdown",
   "metadata": {},
   "source": [
    "### Accuracy"
   ]
  },
  {
   "cell_type": "code",
   "execution_count": 30,
   "metadata": {},
   "outputs": [
    {
     "name": "stdout",
     "output_type": "stream",
     "text": [
      "Accuracy for category vs. feature rich (early lists):\n"
     ]
    },
    {
     "name": "stdout",
     "output_type": "stream",
     "text": [
      "t(95) = 3.034, p = 0.003, d = 0.667, CI = [1.168, 5.159]\n",
      "\n",
      "Accuracy for size vs. feature rich (early lists):\n",
      "t(95) = -1.013, p = 0.314, d = -0.223, CI = [-3.276, 0.801]\n",
      "\n",
      "Accuracy for length vs. feature rich (early lists):\n",
      "t(95) = -0.550, p = 0.584, d = -0.121, CI = [-2.559, 1.434]\n",
      "\n",
      "Accuracy for first letter vs. feature rich (early lists):\n",
      "t(95) = -0.690, p = 0.492, d = -0.152, CI = [-2.646, 1.348]\n",
      "\n",
      "Accuracy for color vs. feature rich (early lists):\n",
      "t(96) = 1.850, p = 0.067, d = 0.402, CI = [0.047, 3.857]\n",
      "\n",
      "Accuracy for location vs. feature rich (early lists):\n",
      "t(95) = 0.043, p = 0.966, d = 0.010, CI = [-1.838, 1.743]\n"
     ]
    }
   ],
   "source": [
    "print('Accuracy for category vs. feature rich (early lists):')\n",
    "ttest(results['accuracy']['category'], results['accuracy']['feature rich'], x_lists='Early', y_lists='Early')\n",
    "\n",
    "print('\\nAccuracy for size vs. feature rich (early lists):')\n",
    "ttest(results['accuracy']['size'], results['accuracy']['feature rich'], x_lists='Early', y_lists='Early')\n",
    "\n",
    "print('\\nAccuracy for length vs. feature rich (early lists):')\n",
    "ttest(results['accuracy']['length'], results['accuracy']['feature rich'], x_lists='Early', y_lists='Early')\n",
    "\n",
    "print('\\nAccuracy for first letter vs. feature rich (early lists):')\n",
    "ttest(results['accuracy']['first letter'], results['accuracy']['feature rich'], x_lists='Early', y_lists='Early')\n",
    "\n",
    "print('\\nAccuracy for color vs. feature rich (early lists):')\n",
    "ttest(results['accuracy']['color'], results['accuracy']['feature rich'], x_lists='Early', y_lists='Early')\n",
    "\n",
    "print('\\nAccuracy for location vs. feature rich (early lists):')\n",
    "ttest(results['accuracy']['location'], results['accuracy']['feature rich'], x_lists='Early', y_lists='Early')"
   ]
  },
  {
   "attachments": {},
   "cell_type": "markdown",
   "metadata": {},
   "source": [
    "### Temporal clustering"
   ]
  },
  {
   "cell_type": "code",
   "execution_count": 31,
   "metadata": {},
   "outputs": [
    {
     "name": "stdout",
     "output_type": "stream",
     "text": [
      "Temporal clustering for category vs. feature rich (early lists):\n",
      "t(95) = 8.813, p < 0.001, d = 1.936, CI = [6.758, 12.404]\n",
      "\n",
      "Temporal clustering for size vs. feature rich (early lists):\n",
      "t(95) = 2.630, p = 0.010, d = 0.578, CI = [0.632, 4.810]\n",
      "\n",
      "Temporal clustering for length vs. feature rich (early lists):\n",
      "t(95) = -1.547, p = 0.125, d = -0.340, CI = [-3.697, 0.270]\n",
      "\n",
      "Temporal clustering for first letter vs. feature rich (early lists):\n",
      "t(95) = 2.858, p = 0.005, d = 0.628, CI = [1.133, 4.906]\n",
      "\n",
      "Temporal clustering for color vs. feature rich (early lists):\n",
      "t(96) = -1.339, p = 0.184, d = -0.291, CI = [-3.074, 0.308]\n",
      "\n",
      "Temporal clustering for location vs. feature rich (early lists):\n",
      "t(95) = 1.705, p = 0.092, d = 0.374, CI = [-0.088, 3.604]\n"
     ]
    }
   ],
   "source": [
    "print('Temporal clustering for category vs. feature rich (early lists):')\n",
    "ttest(results['fingerprint']['category'], results['fingerprint']['feature rich'], x_lists='Early', y_lists='Early', x_col='temporal', y_col='temporal')\n",
    "\n",
    "print('\\nTemporal clustering for size vs. feature rich (early lists):')\n",
    "ttest(results['fingerprint']['size'], results['fingerprint']['feature rich'], x_lists='Early', y_lists='Early', x_col='temporal', y_col='temporal')\n",
    "\n",
    "print('\\nTemporal clustering for length vs. feature rich (early lists):')\n",
    "ttest(results['fingerprint']['length'], results['fingerprint']['feature rich'], x_lists='Early', y_lists='Early', x_col='temporal', y_col='temporal')\n",
    "\n",
    "print('\\nTemporal clustering for first letter vs. feature rich (early lists):')\n",
    "ttest(results['fingerprint']['first letter'], results['fingerprint']['feature rich'], x_lists='Early', y_lists='Early', x_col='temporal', y_col='temporal')\n",
    "\n",
    "print('\\nTemporal clustering for color vs. feature rich (early lists):')\n",
    "ttest(results['fingerprint']['color'], results['fingerprint']['feature rich'], x_lists='Early', y_lists='Early', x_col='temporal', y_col='temporal')\n",
    "\n",
    "print('\\nTemporal clustering for location vs. feature rich (early lists):')\n",
    "ttest(results['fingerprint']['location'], results['fingerprint']['feature rich'], x_lists='Early', y_lists='Early', x_col='temporal', y_col='temporal')"
   ]
  },
  {
   "attachments": {},
   "cell_type": "markdown",
   "metadata": {},
   "source": [
    "### Feature-based clustering"
   ]
  },
  {
   "cell_type": "code",
   "execution_count": 32,
   "metadata": {},
   "outputs": [
    {
     "name": "stdout",
     "output_type": "stream",
     "text": [
      "category clustering for category vs. feature rich (early lists):\n",
      "t(95) = 4.429, p < 0.001, d = 0.973, CI = [3.027, 6.216]\n",
      "\n",
      "\n",
      "size clustering for category vs. feature rich (early lists):\n",
      "t(95) = 3.727, p < 0.001, d = 0.819, CI = [2.129, 5.753]\n",
      "\n",
      "\n",
      "wordLength clustering for category vs. feature rich (early lists):\n",
      "t(95) = 0.154, p = 0.878, d = 0.034, CI = [-1.797, 1.909]\n",
      "\n",
      "\n",
      "firstLetter clustering for category vs. feature rich (early lists):\n",
      "t(95) = -1.610, p = 0.111, d = -0.354, CI = [-3.880, 0.257]\n",
      "\n",
      "\n",
      "color clustering for category vs. feature rich (early lists):\n",
      "t(95) = -0.375, p = 0.709, d = -0.082, CI = [-2.648, 1.503]\n",
      "\n",
      "\n",
      "location clustering for category vs. feature rich (early lists):\n",
      "t(95) = -0.347, p = 0.730, d = -0.076, CI = [-2.237, 1.449]\n",
      "\n",
      "\n",
      "--- \n",
      "\n",
      "category clustering for size vs. feature rich (early lists):\n",
      "t(95) = 0.330, p = 0.742, d = 0.073, CI = [-1.783, 2.241]\n",
      "\n",
      "\n",
      "size clustering for size vs. feature rich (early lists):\n",
      "t(95) = 2.421, p = 0.017, d = 0.532, CI = [0.583, 4.484]\n",
      "\n",
      "\n",
      "wordLength clustering for size vs. feature rich (early lists):\n",
      "t(95) = 0.664, p = 0.508, d = 0.146, CI = [-1.031, 2.407]\n",
      "\n",
      "\n",
      "firstLetter clustering for size vs. feature rich (early lists):\n",
      "t(95) = 0.210, p = 0.834, d = 0.046, CI = [-1.553, 2.213]\n",
      "\n",
      "\n",
      "color clustering for size vs. feature rich (early lists):\n",
      "t(95) = -0.667, p = 0.506, d = -0.147, CI = [-3.019, 1.059]\n",
      "\n",
      "\n",
      "location clustering for size vs. feature rich (early lists):\n",
      "t(95) = -0.060, p = 0.952, d = -0.013, CI = [-2.169, 1.883]\n",
      "\n",
      "\n",
      "--- \n",
      "\n",
      "category clustering for length vs. feature rich (early lists):\n",
      "t(95) = -0.178, p = 0.859, d = -0.039, CI = [-2.441, 1.923]\n",
      "\n",
      "\n",
      "size clustering for length vs. feature rich (early lists):\n",
      "t(95) = 0.334, p = 0.739, d = 0.073, CI = [-1.643, 2.354]\n",
      "\n",
      "\n",
      "wordLength clustering for length vs. feature rich (early lists):\n",
      "t(95) = 5.898, p < 0.001, d = 1.296, CI = [3.945, 8.433]\n",
      "\n",
      "\n",
      "firstLetter clustering for length vs. feature rich (early lists):\n",
      "t(95) = 0.758, p = 0.450, d = 0.167, CI = [-0.985, 2.684]\n",
      "\n",
      "\n",
      "color clustering for length vs. feature rich (early lists):\n",
      "t(95) = -0.434, p = 0.666, d = -0.095, CI = [-2.519, 1.476]\n",
      "\n",
      "\n",
      "location clustering for length vs. feature rich (early lists):\n",
      "t(95) = 0.345, p = 0.731, d = 0.076, CI = [-1.666, 2.263]\n",
      "\n",
      "\n",
      "--- \n",
      "\n",
      "category clustering for first letter vs. feature rich (early lists):\n",
      "t(95) = -1.604, p = 0.112, d = -0.352, CI = [-3.873, 0.188]\n",
      "\n",
      "\n",
      "size clustering for first letter vs. feature rich (early lists):\n",
      "t(95) = -0.359, p = 0.721, d = -0.079, CI = [-2.299, 1.273]\n",
      "\n",
      "\n",
      "wordLength clustering for first letter vs. feature rich (early lists):\n",
      "t(95) = 0.359, p = 0.720, d = 0.079, CI = [-1.461, 2.229]\n",
      "\n",
      "\n",
      "firstLetter clustering for first letter vs. feature rich (early lists):\n",
      "t(95) = 8.845, p < 0.001, d = 1.943, CI = [6.857, 11.286]\n",
      "\n",
      "\n",
      "color clustering for first letter vs. feature rich (early lists):\n",
      "t(95) = 0.613, p = 0.542, d = 0.135, CI = [-1.309, 2.369]\n",
      "\n",
      "\n",
      "location clustering for first letter vs. feature rich (early lists):\n",
      "t(95) = 0.307, p = 0.759, d = 0.067, CI = [-1.655, 2.134]\n",
      "\n",
      "\n",
      "--- \n",
      "\n",
      "category clustering for color vs. feature rich (early lists):\n",
      "t(96) = -0.619, p = 0.538, d = -0.134, CI = [-2.658, 0.981]\n",
      "\n",
      "\n",
      "size clustering for color vs. feature rich (early lists):\n",
      "t(96) = -0.535, p = 0.594, d = -0.116, CI = [-2.351, 1.134]\n",
      "\n",
      "\n",
      "wordLength clustering for color vs. feature rich (early lists):\n",
      "t(96) = 0.007, p = 0.994, d = 0.002, CI = [-1.874, 1.743]\n",
      "\n",
      "\n",
      "firstLetter clustering for color vs. feature rich (early lists):\n",
      "t(96) = -0.133, p = 0.895, d = -0.029, CI = [-2.120, 1.993]\n",
      "\n",
      "\n",
      "color clustering for color vs. feature rich (early lists):\n",
      "t(96) = 3.035, p = 0.003, d = 0.659, CI = [1.344, 4.894]\n",
      "\n",
      "\n",
      "location clustering for color vs. feature rich (early lists):\n",
      "t(96) = 0.201, p = 0.841, d = 0.044, CI = [-1.833, 1.996]\n",
      "\n",
      "\n",
      "--- \n",
      "\n",
      "category clustering for location vs. feature rich (early lists):\n",
      "t(95) = 0.672, p = 0.503, d = 0.148, CI = [-0.982, 2.208]\n",
      "\n",
      "\n",
      "size clustering for location vs. feature rich (early lists):\n",
      "t(95) = 0.403, p = 0.688, d = 0.088, CI = [-1.368, 1.892]\n",
      "\n",
      "\n",
      "wordLength clustering for location vs. feature rich (early lists):\n",
      "t(95) = 0.926, p = 0.357, d = 0.203, CI = [-0.818, 2.651]\n",
      "\n",
      "\n",
      "firstLetter clustering for location vs. feature rich (early lists):\n",
      "t(95) = 0.228, p = 0.820, d = 0.050, CI = [-1.496, 1.857]\n",
      "\n",
      "\n",
      "color clustering for location vs. feature rich (early lists):\n",
      "t(95) = 0.165, p = 0.869, d = 0.036, CI = [-1.774, 1.872]\n",
      "\n",
      "\n",
      "location clustering for location vs. feature rich (early lists):\n",
      "t(95) = 7.766, p < 0.001, d = 1.706, CI = [5.533, 10.519]\n"
     ]
    }
   ],
   "source": [
    "conds = ['category', 'size', 'length', 'first letter', 'color', 'location']\n",
    "features = ['category', 'size', 'wordLength', 'firstLetter', 'color', 'location']\n",
    "\n",
    "for i, c in enumerate(conds):\n",
    "    for j, f in enumerate(features):\n",
    "        print(f'{f} clustering for {c} vs. feature rich (early lists):')\n",
    "        ttest(results['fingerprint'][c], results['fingerprint']['feature rich'], x_col=f, y_col=f, x_lists='Early', y_lists='Early')\n",
    "\n",
    "        if (j < len(features) - 1) or (i < len(conds) - 1):\n",
    "            print('\\n')\n",
    "    \n",
    "    if i < len(conds) - 1:\n",
    "        print('--- \\n')"
   ]
  },
  {
   "attachments": {},
   "cell_type": "markdown",
   "metadata": {},
   "source": [
    "## Combine \"categories\" of features:\n",
    "  - semantic = category + size\n",
    "  - lexicographic = length + first letter\n",
    "  - visual = color + location"
   ]
  },
  {
   "cell_type": "code",
   "execution_count": 33,
   "metadata": {},
   "outputs": [],
   "source": [
    "groups = {k: v for k, v in feature_groupings.items() if k in ['semantic', 'lexicographic', 'visual']}\n",
    "\n",
    "merged_results = {}\n",
    "for k, v in results.items():\n",
    "    if k not in ['fingerprint', 'accuracy']:\n",
    "        continue\n",
    "    merged_results[k] = merge_results(v, groups)"
   ]
  },
  {
   "attachments": {},
   "cell_type": "markdown",
   "metadata": {},
   "source": [
    "## Compare semantic vs. feature rich\n",
    "\n",
    "### Accuracy"
   ]
  },
  {
   "cell_type": "code",
   "execution_count": 34,
   "metadata": {},
   "outputs": [
    {
     "name": "stdout",
     "output_type": "stream",
     "text": [
      "Accuracy for semantic vs. feature rich (early lists):\n",
      "t(125) = 1.197, p = 0.233, d = 0.213, CI = [-0.827, 3.186]\n",
      "\n",
      "Accuracy for lexicographic vs. feature rich (early lists):\n",
      "t(125) = -0.776, p = 0.439, d = -0.138, CI = [-2.780, 1.294]\n",
      "\n",
      "Accuracy for visual vs. feature rich (early lists):\n",
      "t(126) = 1.256, p = 0.212, d = 0.222, CI = [-0.620, 2.964]\n"
     ]
    }
   ],
   "source": [
    "print('Accuracy for semantic vs. feature rich (early lists):')\n",
    "ttest(merged_results['accuracy']['semantic'], results['accuracy']['feature rich'], x_lists='Early', y_lists='Early')\n",
    "\n",
    "print('\\nAccuracy for lexicographic vs. feature rich (early lists):')\n",
    "ttest(merged_results['accuracy']['lexicographic'], results['accuracy']['feature rich'], x_lists='Early', y_lists='Early')\n",
    "\n",
    "print('\\nAccuracy for visual vs. feature rich (early lists):')\n",
    "ttest(merged_results['accuracy']['visual'], results['accuracy']['feature rich'], x_lists='Early', y_lists='Early')"
   ]
  },
  {
   "cell_type": "code",
   "execution_count": 35,
   "metadata": {},
   "outputs": [
    {
     "name": "stdout",
     "output_type": "stream",
     "text": [
      "Accuracy for semantic vs. feature rich (early lists):\n",
      "t(125) = 1.197, p = 0.233, d = 0.213, CI = [-0.619, 3.149]\n",
      "\n",
      "Accuracy for lexicographic vs. feature rich (early lists):\n",
      "t(125) = -0.776, p = 0.439, d = -0.138, CI = [-2.815, 1.047]\n",
      "\n",
      "Accuracy for visual vs. feature rich (early lists):\n",
      "t(126) = 1.256, p = 0.212, d = 0.222, CI = [-0.771, 3.156]\n"
     ]
    }
   ],
   "source": [
    "print('Accuracy for semantic vs. feature rich (early lists):')\n",
    "ttest(merged_results['accuracy']['semantic'], results['accuracy']['feature rich'], x_lists='Early', y_lists='Early')\n",
    "\n",
    "print('\\nAccuracy for lexicographic vs. feature rich (early lists):')\n",
    "ttest(merged_results['accuracy']['lexicographic'], results['accuracy']['feature rich'], x_lists='Early', y_lists='Early')\n",
    "\n",
    "print('\\nAccuracy for visual vs. feature rich (early lists):')\n",
    "ttest(merged_results['accuracy']['visual'], results['accuracy']['feature rich'], x_lists='Early', y_lists='Early')"
   ]
  },
  {
   "attachments": {},
   "cell_type": "markdown",
   "metadata": {},
   "source": [
    "### Temporal clustering"
   ]
  },
  {
   "cell_type": "code",
   "execution_count": 36,
   "metadata": {},
   "outputs": [
    {
     "name": "stdout",
     "output_type": "stream",
     "text": [
      "Temporal clustering for semantic vs. feature rich (early lists):\n",
      "t(125) = 6.474, p < 0.001, d = 1.151, CI = [4.411, 9.003]\n",
      "\n",
      "Temporal clustering for lexicographic vs. feature rich (early lists):\n",
      "t(125) = 0.786, p = 0.433, d = 0.140, CI = [-1.196, 2.779]\n",
      "\n",
      "Temporal clustering for visual vs. feature rich (early lists):\n",
      "t(126) = 0.254, p = 0.800, d = 0.045, CI = [-1.687, 2.183]\n"
     ]
    }
   ],
   "source": [
    "print('Temporal clustering for semantic vs. feature rich (early lists):')\n",
    "ttest(merged_results['fingerprint']['semantic'], results['fingerprint']['feature rich'], x_lists='Early', y_lists='Early', x_col='temporal', y_col='temporal')\n",
    "\n",
    "print('\\nTemporal clustering for lexicographic vs. feature rich (early lists):')\n",
    "ttest(merged_results['fingerprint']['lexicographic'], results['fingerprint']['feature rich'], x_lists='Early', y_lists='Early', x_col='temporal', y_col='temporal')\n",
    "\n",
    "print('\\nTemporal clustering for visual vs. feature rich (early lists):')\n",
    "ttest(merged_results['fingerprint']['visual'], results['fingerprint']['feature rich'], x_lists='Early', y_lists='Early', x_col='temporal', y_col='temporal')"
   ]
  },
  {
   "attachments": {},
   "cell_type": "markdown",
   "metadata": {},
   "source": [
    "### Feature based clustering"
   ]
  },
  {
   "cell_type": "code",
   "execution_count": 37,
   "metadata": {},
   "outputs": [
    {
     "name": "stdout",
     "output_type": "stream",
     "text": [
      "category clustering for semantic vs. feature rich (early lists):\n",
      "t(125) = 2.722, p = 0.007, d = 0.484, CI = [0.863, 4.894]\n",
      "\n",
      "\n",
      "size clustering for semantic vs. feature rich (early lists):\n",
      "t(125) = 3.866, p < 0.001, d = 0.687, CI = [2.054, 5.916]\n",
      "\n",
      "\n",
      "wordLength clustering for semantic vs. feature rich (early lists):\n",
      "t(125) = 0.521, p = 0.603, d = 0.093, CI = [-1.419, 2.313]\n",
      "\n",
      "\n",
      "firstLetter clustering for semantic vs. feature rich (early lists):\n",
      "t(125) = -0.842, p = 0.401, d = -0.150, CI = [-2.948, 1.254]\n",
      "\n",
      "\n",
      "color clustering for semantic vs. feature rich (early lists):\n",
      "t(125) = -0.650, p = 0.517, d = -0.116, CI = [-2.836, 1.236]\n",
      "\n",
      "\n",
      "location clustering for semantic vs. feature rich (early lists):\n",
      "t(125) = -0.251, p = 0.802, d = -0.045, CI = [-2.378, 1.738]\n",
      "\n",
      "\n",
      "--- \n",
      "\n",
      "category clustering for lexicographic vs. feature rich (early lists):\n",
      "t(125) = -1.040, p = 0.301, d = -0.185, CI = [-3.154, 0.948]\n",
      "\n",
      "\n",
      "size clustering for lexicographic vs. feature rich (early lists):\n",
      "t(125) = 0.006, p = 0.995, d = 0.001, CI = [-2.056, 1.903]\n",
      "\n",
      "\n",
      "wordLength clustering for lexicographic vs. feature rich (early lists):\n",
      "t(125) = 3.682, p < 0.001, d = 0.655, CI = [1.881, 5.719]\n",
      "\n",
      "\n",
      "firstLetter clustering for lexicographic vs. feature rich (early lists):\n",
      "t(125) = 5.134, p < 0.001, d = 0.912, CI = [3.374, 7.147]\n",
      "\n",
      "\n",
      "color clustering for lexicographic vs. feature rich (early lists):\n",
      "t(125) = 0.092, p = 0.927, d = 0.016, CI = [-1.942, 1.949]\n",
      "\n",
      "\n",
      "location clustering for lexicographic vs. feature rich (early lists):\n",
      "t(125) = 0.407, p = 0.685, d = 0.072, CI = [-1.559, 2.324]\n",
      "\n",
      "\n",
      "--- \n",
      "\n",
      "category clustering for visual vs. feature rich (early lists):\n",
      "t(126) = 0.012, p = 0.991, d = 0.002, CI = [-2.119, 1.827]\n",
      "\n",
      "\n",
      "size clustering for visual vs. feature rich (early lists):\n",
      "t(126) = -0.104, p = 0.917, d = -0.018, CI = [-2.174, 1.736]\n",
      "\n",
      "\n",
      "wordLength clustering for visual vs. feature rich (early lists):\n",
      "t(126) = 0.592, p = 0.555, d = 0.105, CI = [-1.276, 2.389]\n",
      "\n",
      "\n",
      "firstLetter clustering for visual vs. feature rich (early lists):\n",
      "t(126) = 0.040, p = 0.968, d = 0.007, CI = [-1.848, 2.035]\n",
      "\n",
      "\n",
      "color clustering for visual vs. feature rich (early lists):\n",
      "t(126) = 2.022, p = 0.045, d = 0.358, CI = [0.283, 3.728]\n",
      "\n",
      "\n",
      "location clustering for visual vs. feature rich (early lists):\n",
      "t(126) = 4.390, p < 0.001, d = 0.777, CI = [2.610, 6.177]\n"
     ]
    }
   ],
   "source": [
    "conds = ['semantic', 'lexicographic', 'visual']\n",
    "features = ['category', 'size', 'wordLength', 'firstLetter', 'color', 'location']\n",
    "\n",
    "for i, c in enumerate(conds):\n",
    "    for j, f in enumerate(features):\n",
    "        print(f'{f} clustering for {c} vs. feature rich (early lists):')\n",
    "        ttest(merged_results['fingerprint'][c], results['fingerprint']['feature rich'], x_col=f, y_col=f, x_lists='Early', y_lists='Early')\n",
    "\n",
    "        if (j < len(features) - 1) or (i < len(conds) - 1):\n",
    "            print('\\n')\n",
    "    \n",
    "    if i < len(conds) - 1:\n",
    "        print('--- \\n')"
   ]
  },
  {
   "attachments": {},
   "cell_type": "markdown",
   "metadata": {},
   "source": [
    "## Compare each pair of (category of) order manipulation conditions (semantic, lexicographic, and visual)"
   ]
  },
  {
   "attachments": {},
   "cell_type": "markdown",
   "metadata": {},
   "source": [
    "### Accuracy"
   ]
  },
  {
   "cell_type": "code",
   "execution_count": 38,
   "metadata": {},
   "outputs": [
    {
     "name": "stdout",
     "output_type": "stream",
     "text": [
      "Accuracy for semantic vs. lexicographic (early lists):\n",
      "t(118) = 1.936, p = 0.055, d = 0.353, CI = [0.199, 4.017]\n",
      "\n",
      "Accuracy for semantic vs. lexicographic (late lists):\n",
      "t(118) = -0.388, p = 0.699, d = -0.071, CI = [-2.462, 1.566]\n",
      "\n",
      "\n",
      "\n",
      "Accuracy for semantic vs. visual (early lists):\n",
      "t(119) = 0.113, p = 0.910, d = 0.021, CI = [-1.881, 2.053]\n",
      "\n",
      "Accuracy for semantic vs. visual (late lists):\n",
      "t(119) = -0.833, p = 0.407, d = -0.151, CI = [-2.862, 1.110]\n",
      "\n",
      "\n",
      "\n",
      "Accuracy for lexicographic vs. visual (early lists):\n",
      "t(119) = -2.145, p = 0.034, d = -0.390, CI = [-4.151, -0.212]\n",
      "\n",
      "Accuracy for lexicographic vs. visual (late lists):\n",
      "t(119) = -0.352, p = 0.726, d = -0.064, CI = [-2.239, 1.747]\n",
      "\n",
      "\n",
      "\n"
     ]
    }
   ],
   "source": [
    "for i, c1 in enumerate(conds):\n",
    "    for c2 in conds[i+1:]:\n",
    "        print(f'Accuracy for {c1} vs. {c2} (early lists):')\n",
    "        ttest(merged_results['accuracy'][c1], merged_results['accuracy'][c2], x_lists='Early', y_lists='Early')\n",
    "\n",
    "        print(f'\\nAccuracy for {c1} vs. {c2} (late lists):')\n",
    "        ttest(merged_results['accuracy'][c1], merged_results['accuracy'][c2], x_lists='Late', y_lists='Late')\n",
    "\n",
    "        print('\\n\\n')"
   ]
  },
  {
   "attachments": {},
   "cell_type": "markdown",
   "metadata": {},
   "source": [
    "### Temporal clustering"
   ]
  },
  {
   "cell_type": "code",
   "execution_count": 39,
   "metadata": {},
   "outputs": [
    {
     "name": "stdout",
     "output_type": "stream",
     "text": [
      "Temporal clustering for semantic vs. lexicographic (early lists):\n"
     ]
    },
    {
     "name": "stdout",
     "output_type": "stream",
     "text": [
      "t(118) = 5.620, p < 0.001, d = 1.026, CI = [3.596, 8.202]\n",
      "\n",
      "Temporal clustering for semantic vs. lexicographic (late lists):\n",
      "t(118) = -0.758, p = 0.450, d = -0.138, CI = [-2.756, 1.150]\n",
      "\n",
      "\n",
      "Temporal clustering for semantic vs. visual (early lists):\n",
      "t(119) = 6.613, p < 0.001, d = 1.202, CI = [4.354, 9.324]\n",
      "\n",
      "Temporal clustering for semantic vs. visual (late lists):\n",
      "t(119) = -0.322, p = 0.748, d = -0.059, CI = [-2.419, 1.715]\n",
      "\n",
      "\n",
      "Temporal clustering for lexicographic vs. visual (early lists):\n",
      "t(119) = 0.589, p = 0.557, d = 0.107, CI = [-1.461, 2.574]\n",
      "\n",
      "Temporal clustering for lexicographic vs. visual (late lists):\n",
      "t(119) = 0.562, p = 0.575, d = 0.102, CI = [-1.560, 2.538]\n",
      "\n",
      "\n"
     ]
    }
   ],
   "source": [
    "for i, c1 in enumerate(conds):\n",
    "    for c2 in conds[i+1:]:\n",
    "        print(f'Temporal clustering for {c1} vs. {c2} (early lists):')\n",
    "        ttest(merged_results['fingerprint'][c1], merged_results['fingerprint'][c2], x_lists='Early', y_lists='Early', x_col='temporal', y_col='temporal')\n",
    "\n",
    "        print(f'\\nTemporal clustering for {c1} vs. {c2} (late lists):')\n",
    "        ttest(merged_results['fingerprint'][c1], merged_results['fingerprint'][c2], x_lists='Late', y_lists='Late', x_col='temporal', y_col='temporal')\n",
    "\n",
    "        print('\\n')"
   ]
  },
  {
   "attachments": {},
   "cell_type": "markdown",
   "metadata": {},
   "source": [
    "### Feature-based clustering"
   ]
  },
  {
   "cell_type": "code",
   "execution_count": 40,
   "metadata": {},
   "outputs": [
    {
     "name": "stdout",
     "output_type": "stream",
     "text": [
      "category clustering for semantic vs. lexicographic (early lists):\n",
      "t(118) = 3.667, p < 0.001, d = 0.670, CI = [1.704, 5.943]\n",
      "\n",
      "category clustering for semantic vs. lexicographic (late lists):\n",
      "t(118) = -0.720, p = 0.473, d = -0.131, CI = [-2.697, 1.131]\n",
      "\n",
      "\n",
      "size clustering for semantic vs. lexicographic (early lists):\n",
      "t(118) = 4.043, p < 0.001, d = 0.738, CI = [2.073, 6.171]\n",
      "\n",
      "size clustering for semantic vs. lexicographic (late lists):\n",
      "t(118) = -1.897, p = 0.060, d = -0.346, CI = [-3.929, 0.058]\n",
      "\n",
      "\n",
      "wordLength clustering for semantic vs. lexicographic (early lists):\n",
      "t(118) = -3.390, p < 0.001, d = -0.619, CI = [-5.503, -1.532]\n",
      "\n",
      "wordLength clustering for semantic vs. lexicographic (late lists):\n",
      "t(118) = 1.153, p = 0.251, d = 0.211, CI = [-0.837, 3.244]\n",
      "\n",
      "\n",
      "firstLetter clustering for semantic vs. lexicographic (early lists):\n",
      "t(118) = -5.705, p < 0.001, d = -1.042, CI = [-7.825, -3.781]\n",
      "\n",
      "firstLetter clustering for semantic vs. lexicographic (late lists):\n",
      "t(118) = -0.880, p = 0.381, d = -0.161, CI = [-2.933, 1.167]\n",
      "\n",
      "\n",
      "color clustering for semantic vs. lexicographic (early lists):\n",
      "t(118) = -0.767, p = 0.444, d = -0.140, CI = [-2.910, 1.135]\n",
      "\n",
      "color clustering for semantic vs. lexicographic (late lists):\n",
      "t(118) = -0.728, p = 0.468, d = -0.133, CI = [-2.781, 1.236]\n",
      "\n",
      "\n",
      "location clustering for semantic vs. lexicographic (early lists):\n",
      "t(118) = -0.658, p = 0.512, d = -0.120, CI = [-2.634, 1.264]\n",
      "\n",
      "location clustering for semantic vs. lexicographic (late lists):\n",
      "t(118) = 0.111, p = 0.912, d = 0.020, CI = [-1.934, 2.086]\n",
      "\n",
      "\n",
      "category clustering for semantic vs. visual (early lists):\n",
      "t(119) = 3.114, p = 0.002, d = 0.566, CI = [1.163, 5.520]\n",
      "\n",
      "category clustering for semantic vs. visual (late lists):\n",
      "t(119) = -1.292, p = 0.199, d = -0.235, CI = [-3.278, 0.758]\n",
      "\n",
      "\n",
      "size clustering for semantic vs. visual (early lists):\n",
      "t(119) = 4.692, p < 0.001, d = 0.853, CI = [2.757, 6.932]\n",
      "\n",
      "size clustering for semantic vs. visual (late lists):\n",
      "t(119) = -1.349, p = 0.180, d = -0.245, CI = [-3.373, 0.480]\n",
      "\n",
      "\n",
      "wordLength clustering for semantic vs. visual (early lists):\n",
      "t(119) = -0.068, p = 0.946, d = -0.012, CI = [-2.035, 1.819]\n",
      "\n",
      "wordLength clustering for semantic vs. visual (late lists):\n",
      "t(119) = -2.074, p = 0.040, d = -0.377, CI = [-4.130, -0.312]\n",
      "\n",
      "\n",
      "firstLetter clustering for semantic vs. visual (early lists):\n",
      "t(119) = -0.842, p = 0.401, d = -0.153, CI = [-2.907, 1.141]\n",
      "\n",
      "firstLetter clustering for semantic vs. visual (late lists):\n",
      "t(119) = -1.355, p = 0.178, d = -0.246, CI = [-3.316, 0.501]\n",
      "\n",
      "\n",
      "color clustering for semantic vs. visual (early lists):\n",
      "t(119) = -2.673, p = 0.009, d = -0.486, CI = [-4.711, -0.890]\n",
      "\n",
      "color clustering for semantic vs. visual (late lists):\n",
      "t(119) = -0.869, p = 0.386, d = -0.158, CI = [-2.798, 1.221]\n",
      "\n",
      "\n",
      "location clustering for semantic vs. visual (early lists):\n",
      "t(119) = -4.499, p < 0.001, d = -0.818, CI = [-6.454, -2.730]\n",
      "\n",
      "location clustering for semantic vs. visual (late lists):\n",
      "t(119) = -0.737, p = 0.462, d = -0.134, CI = [-2.810, 1.115]\n",
      "\n",
      "\n",
      "category clustering for lexicographic vs. visual (early lists):\n",
      "t(119) = -1.186, p = 0.238, d = -0.216, CI = [-3.245, 0.758]\n",
      "\n",
      "category clustering for lexicographic vs. visual (late lists):\n",
      "t(119) = -0.377, p = 0.707, d = -0.069, CI = [-2.212, 1.635]\n",
      "\n",
      "\n",
      "size clustering for lexicographic vs. visual (early lists):\n",
      "t(119) = 0.118, p = 0.906, d = 0.021, CI = [-1.762, 2.133]\n",
      "\n",
      "size clustering for lexicographic vs. visual (late lists):\n",
      "t(119) = 0.828, p = 0.409, d = 0.151, CI = [-1.011, 2.675]\n",
      "\n",
      "\n",
      "wordLength clustering for lexicographic vs. visual (early lists):\n",
      "t(119) = 3.399, p < 0.001, d = 0.618, CI = [1.448, 5.348]\n",
      "\n",
      "wordLength clustering for lexicographic vs. visual (late lists):\n",
      "t(119) = -3.103, p = 0.002, d = -0.564, CI = [-5.056, -1.195]\n",
      "\n",
      "\n",
      "firstLetter clustering for lexicographic vs. visual (early lists):\n",
      "t(119) = 4.859, p < 0.001, d = 0.883, CI = [3.102, 6.921]\n",
      "\n",
      "firstLetter clustering for lexicographic vs. visual (late lists):\n",
      "t(119) = -0.436, p = 0.664, d = -0.079, CI = [-2.349, 1.516]\n",
      "\n",
      "\n",
      "color clustering for lexicographic vs. visual (early lists):\n",
      "t(119) = -1.988, p = 0.049, d = -0.361, CI = [-4.070, -0.112]\n",
      "\n",
      "color clustering for lexicographic vs. visual (late lists):\n",
      "t(119) = -0.200, p = 0.842, d = -0.036, CI = [-2.046, 1.707]\n",
      "\n",
      "\n",
      "location clustering for lexicographic vs. visual (early lists):\n",
      "t(119) = -3.966, p < 0.001, d = -0.721, CI = [-5.957, -2.159]\n",
      "\n",
      "location clustering for lexicographic vs. visual (late lists):\n",
      "t(119) = -0.832, p = 0.407, d = -0.151, CI = [-2.909, 1.250]\n",
      "\n",
      "\n"
     ]
    }
   ],
   "source": [
    "for i, c1 in enumerate(conds):\n",
    "    for c2 in conds[i+1:]:\n",
    "        for f in features:\n",
    "            print(f'{f} clustering for {c1} vs. {c2} (early lists):')\n",
    "            ttest(merged_results['fingerprint'][c1], merged_results['fingerprint'][c2], x_col=f, y_col=f, x_lists='Early', y_lists='Early')\n",
    "\n",
    "            print(f'\\n{f} clustering for {c1} vs. {c2} (late lists):')\n",
    "            ttest(merged_results['fingerprint'][c1], merged_results['fingerprint'][c2], x_col=f, y_col=f, x_lists='Late', y_lists='Late')\n",
    "\n",
    "            print('\\n')"
   ]
  },
  {
   "attachments": {},
   "cell_type": "markdown",
   "metadata": {},
   "source": [
    "# When *early* lists are sorted by a given feature, how is memory performance on *late* lists affected (relative to *feature rich* late lists)\n",
    "\n",
    "### Accuracy"
   ]
  },
  {
   "cell_type": "code",
   "execution_count": 41,
   "metadata": {},
   "outputs": [
    {
     "name": "stdout",
     "output_type": "stream",
     "text": [
      "Accuracy for semantic vs. feature rich (late lists):\n",
      "t(125) = 0.487, p = 0.627, d = 0.087, CI = [-1.444, 2.375]\n",
      "\n",
      "Accuracy for lexicographic vs. feature rich (late lists):\n",
      "t(125) = 0.878, p = 0.382, d = 0.156, CI = [-1.086, 2.872]\n",
      "\n",
      "Accuracy for visual vs. feature rich (late lists):\n",
      "t(126) = 1.437, p = 0.153, d = 0.254, CI = [-0.613, 3.496]\n"
     ]
    }
   ],
   "source": [
    "print('Accuracy for semantic vs. feature rich (late lists):')\n",
    "ttest(merged_results['accuracy']['semantic'], results['accuracy']['feature rich'], x_lists='Late', y_lists='Late')\n",
    "\n",
    "print('\\nAccuracy for lexicographic vs. feature rich (late lists):')\n",
    "ttest(merged_results['accuracy']['lexicographic'], results['accuracy']['feature rich'], x_lists='Late', y_lists='Late')\n",
    "\n",
    "print('\\nAccuracy for visual vs. feature rich (late lists):')\n",
    "ttest(merged_results['accuracy']['visual'], results['accuracy']['feature rich'], x_lists='Late', y_lists='Late')"
   ]
  },
  {
   "attachments": {},
   "cell_type": "markdown",
   "metadata": {},
   "source": [
    "### Temporal clustering"
   ]
  },
  {
   "cell_type": "code",
   "execution_count": 42,
   "metadata": {},
   "outputs": [
    {
     "name": "stdout",
     "output_type": "stream",
     "text": [
      "Temporal clustering for semantic vs. feature rich (late lists):\n"
     ]
    },
    {
     "name": "stdout",
     "output_type": "stream",
     "text": [
      "t(125) = 0.157, p = 0.875, d = 0.028, CI = [-1.852, 1.958]\n",
      "\n",
      "Temporal clustering for lexicographic vs. feature rich (late lists):\n",
      "t(125) = 0.998, p = 0.320, d = 0.177, CI = [-0.966, 2.967]\n",
      "\n",
      "Temporal clustering for visual vs. feature rich (late lists):\n",
      "t(126) = 0.548, p = 0.585, d = 0.097, CI = [-1.662, 2.399]\n"
     ]
    }
   ],
   "source": [
    "print('Temporal clustering for semantic vs. feature rich (late lists):')\n",
    "ttest(merged_results['fingerprint']['semantic'], results['fingerprint']['feature rich'], x_lists='Late', y_lists='Late', x_col='temporal', y_col='temporal')\n",
    "\n",
    "print('\\nTemporal clustering for lexicographic vs. feature rich (late lists):')\n",
    "ttest(merged_results['fingerprint']['lexicographic'], results['fingerprint']['feature rich'], x_lists='Late', y_lists='Late', x_col='temporal', y_col='temporal')\n",
    "\n",
    "print('\\nTemporal clustering for visual vs. feature rich (late lists):')\n",
    "ttest(merged_results['fingerprint']['visual'], results['fingerprint']['feature rich'], x_lists='Late', y_lists='Late', x_col='temporal', y_col='temporal')"
   ]
  },
  {
   "attachments": {},
   "cell_type": "markdown",
   "metadata": {},
   "source": [
    "## Feature-based clustering"
   ]
  },
  {
   "cell_type": "code",
   "execution_count": 43,
   "metadata": {},
   "outputs": [
    {
     "name": "stdout",
     "output_type": "stream",
     "text": [
      "category clustering for semantic vs. feature rich (late lists):\n",
      "t(125) = -0.041, p = 0.967, d = -0.007, CI = [-2.011, 1.903]\n",
      "\n",
      "\n",
      "size clustering for semantic vs. feature rich (late lists):\n",
      "t(125) = -0.989, p = 0.324, d = -0.176, CI = [-3.042, 1.049]\n",
      "\n",
      "\n",
      "wordLength clustering for semantic vs. feature rich (late lists):\n",
      "t(125) = -0.045, p = 0.964, d = -0.008, CI = [-2.108, 1.821]\n",
      "\n",
      "\n",
      "firstLetter clustering for semantic vs. feature rich (late lists):\n",
      "t(125) = -0.369, p = 0.713, d = -0.066, CI = [-2.430, 1.570]\n",
      "\n",
      "\n",
      "color clustering for semantic vs. feature rich (late lists):\n",
      "t(125) = -0.602, p = 0.548, d = -0.107, CI = [-2.762, 1.335]\n",
      "\n",
      "\n",
      "location clustering for semantic vs. feature rich (late lists):\n",
      "t(125) = -0.521, p = 0.603, d = -0.093, CI = [-2.558, 1.284]\n",
      "\n",
      "\n",
      "--- \n",
      "\n",
      "category clustering for lexicographic vs. feature rich (late lists):\n",
      "t(125) = 0.678, p = 0.499, d = 0.121, CI = [-1.379, 2.591]\n",
      "\n",
      "\n",
      "size clustering for lexicographic vs. feature rich (late lists):\n",
      "t(125) = 0.915, p = 0.362, d = 0.163, CI = [-0.948, 2.834]\n",
      "\n",
      "\n",
      "wordLength clustering for lexicographic vs. feature rich (late lists):\n",
      "t(125) = -1.200, p = 0.233, d = -0.213, CI = [-3.453, 0.851]\n",
      "\n",
      "\n",
      "firstLetter clustering for lexicographic vs. feature rich (late lists):\n",
      "t(125) = 0.606, p = 0.546, d = 0.108, CI = [-1.303, 2.642]\n",
      "\n",
      "\n",
      "color clustering for lexicographic vs. feature rich (late lists):\n",
      "t(125) = 0.094, p = 0.925, d = 0.017, CI = [-2.015, 1.815]\n",
      "\n",
      "\n",
      "location clustering for lexicographic vs. feature rich (late lists):\n",
      "t(125) = -0.619, p = 0.537, d = -0.110, CI = [-2.924, 1.345]\n",
      "\n",
      "\n",
      "--- \n",
      "\n",
      "category clustering for visual vs. feature rich (late lists):\n",
      "t(126) = 1.209, p = 0.229, d = 0.214, CI = [-0.813, 3.085]\n",
      "\n",
      "\n",
      "size clustering for visual vs. feature rich (late lists):\n",
      "t(126) = 0.202, p = 0.840, d = 0.036, CI = [-1.723, 2.173]\n",
      "\n",
      "\n",
      "wordLength clustering for visual vs. feature rich (late lists):\n",
      "t(126) = 2.005, p = 0.047, d = 0.355, CI = [0.122, 3.774]\n",
      "\n",
      "\n",
      "firstLetter clustering for visual vs. feature rich (late lists):\n",
      "t(126) = 1.124, p = 0.263, d = 0.199, CI = [-0.667, 3.161]\n",
      "\n",
      "\n",
      "color clustering for visual vs. feature rich (late lists):\n",
      "t(126) = 0.278, p = 0.781, d = 0.049, CI = [-1.851, 2.212]\n",
      "\n",
      "\n",
      "location clustering for visual vs. feature rich (late lists):\n",
      "t(126) = 0.165, p = 0.869, d = 0.029, CI = [-1.854, 2.027]\n"
     ]
    }
   ],
   "source": [
    "conds = ['semantic', 'lexicographic', 'visual']\n",
    "features = ['category', 'size', 'wordLength', 'firstLetter', 'color', 'location']\n",
    "\n",
    "for i, c in enumerate(conds):\n",
    "    for j, f in enumerate(features):\n",
    "        print(f'{f} clustering for {c} vs. feature rich (late lists):')\n",
    "        ttest(merged_results['fingerprint'][c], results['fingerprint']['feature rich'], x_col=f, y_col=f, x_lists='Late', y_lists='Late')\n",
    "\n",
    "        if (j < len(features) - 1) or (i < len(conds) - 1):\n",
    "            print('\\n')\n",
    "    \n",
    "    if i < len(conds) - 1:\n",
    "        print('--- \\n')"
   ]
  },
  {
   "attachments": {},
   "cell_type": "markdown",
   "metadata": {},
   "source": [
    "# Individual difference feature clustering analyses, part 1\n",
    "\n",
    "Compute the correlations (across participants) between feature clustering, recall probability, and temporal clustering for early and late lists.  As a summary, also compute the correlations (across conditions) between the per-condition averages.  Note: for each feature clustering score, consider only the condition of interest-- e.g., for the category condition consider category clustering, for the length condition consider length clustering, and so on.\n",
    "\n",
    "Start by creating a dataframe that combines across all of the order manipulation conditions:\n",
    "  - index: subject, list group --- but rename subjects so they're unique across conditions\n",
    "  - columns:\n",
    "    - feature clustering score: pick out the appropriate element of that list/subject's fingerprint, based on the current condition\n",
    "    - temporal clustering score\n",
    "    - recall probability\n",
    "    - condition"
   ]
  },
  {
   "cell_type": "code",
   "execution_count": 44,
   "metadata": {},
   "outputs": [
    {
     "data": {
      "text/html": [
       "<div>\n",
       "<style scoped>\n",
       "    .dataframe tbody tr th:only-of-type {\n",
       "        vertical-align: middle;\n",
       "    }\n",
       "\n",
       "    .dataframe tbody tr th {\n",
       "        vertical-align: top;\n",
       "    }\n",
       "\n",
       "    .dataframe thead th {\n",
       "        text-align: right;\n",
       "    }\n",
       "</style>\n",
       "<table border=\"1\" class=\"dataframe\">\n",
       "  <thead>\n",
       "    <tr style=\"text-align: right;\">\n",
       "      <th></th>\n",
       "      <th>Subject</th>\n",
       "      <th>List</th>\n",
       "      <th>Condition</th>\n",
       "      <th>Feature clustering score</th>\n",
       "      <th>Corrected feature clustering score</th>\n",
       "      <th>Temporal clustering score</th>\n",
       "      <th>Recall probability</th>\n",
       "    </tr>\n",
       "  </thead>\n",
       "  <tbody>\n",
       "    <tr>\n",
       "      <th>0</th>\n",
       "      <td>0</td>\n",
       "      <td>Early</td>\n",
       "      <td>Feature rich</td>\n",
       "      <td>0.495229</td>\n",
       "      <td>0.485292</td>\n",
       "      <td>0.562750</td>\n",
       "      <td>0.484375</td>\n",
       "    </tr>\n",
       "    <tr>\n",
       "      <th>1</th>\n",
       "      <td>1</td>\n",
       "      <td>Early</td>\n",
       "      <td>Feature rich</td>\n",
       "      <td>0.559542</td>\n",
       "      <td>0.582875</td>\n",
       "      <td>0.486750</td>\n",
       "      <td>0.859375</td>\n",
       "    </tr>\n",
       "    <tr>\n",
       "      <th>2</th>\n",
       "      <td>2</td>\n",
       "      <td>Early</td>\n",
       "      <td>Feature rich</td>\n",
       "      <td>0.538500</td>\n",
       "      <td>0.532000</td>\n",
       "      <td>0.660500</td>\n",
       "      <td>0.625000</td>\n",
       "    </tr>\n",
       "    <tr>\n",
       "      <th>3</th>\n",
       "      <td>3</td>\n",
       "      <td>Early</td>\n",
       "      <td>Feature rich</td>\n",
       "      <td>0.519375</td>\n",
       "      <td>0.474292</td>\n",
       "      <td>0.596500</td>\n",
       "      <td>0.531250</td>\n",
       "    </tr>\n",
       "    <tr>\n",
       "      <th>4</th>\n",
       "      <td>4</td>\n",
       "      <td>Early</td>\n",
       "      <td>Feature rich</td>\n",
       "      <td>0.566917</td>\n",
       "      <td>0.565833</td>\n",
       "      <td>0.680000</td>\n",
       "      <td>0.546875</td>\n",
       "    </tr>\n",
       "    <tr>\n",
       "      <th>...</th>\n",
       "      <td>...</td>\n",
       "      <td>...</td>\n",
       "      <td>...</td>\n",
       "      <td>...</td>\n",
       "      <td>...</td>\n",
       "      <td>...</td>\n",
       "      <td>...</td>\n",
       "    </tr>\n",
       "    <tr>\n",
       "      <th>491</th>\n",
       "      <td>243</td>\n",
       "      <td>Late</td>\n",
       "      <td>Location</td>\n",
       "      <td>0.407500</td>\n",
       "      <td>0.388000</td>\n",
       "      <td>0.698875</td>\n",
       "      <td>0.484375</td>\n",
       "    </tr>\n",
       "    <tr>\n",
       "      <th>492</th>\n",
       "      <td>244</td>\n",
       "      <td>Late</td>\n",
       "      <td>Location</td>\n",
       "      <td>0.553750</td>\n",
       "      <td>0.503000</td>\n",
       "      <td>0.603500</td>\n",
       "      <td>0.671875</td>\n",
       "    </tr>\n",
       "    <tr>\n",
       "      <th>493</th>\n",
       "      <td>245</td>\n",
       "      <td>Late</td>\n",
       "      <td>Location</td>\n",
       "      <td>0.598250</td>\n",
       "      <td>0.563750</td>\n",
       "      <td>0.768250</td>\n",
       "      <td>0.609375</td>\n",
       "    </tr>\n",
       "    <tr>\n",
       "      <th>494</th>\n",
       "      <td>246</td>\n",
       "      <td>Late</td>\n",
       "      <td>Location</td>\n",
       "      <td>0.405000</td>\n",
       "      <td>0.428750</td>\n",
       "      <td>0.683750</td>\n",
       "      <td>0.539062</td>\n",
       "    </tr>\n",
       "    <tr>\n",
       "      <th>495</th>\n",
       "      <td>247</td>\n",
       "      <td>Late</td>\n",
       "      <td>Location</td>\n",
       "      <td>0.526750</td>\n",
       "      <td>0.386750</td>\n",
       "      <td>0.545000</td>\n",
       "      <td>0.570312</td>\n",
       "    </tr>\n",
       "  </tbody>\n",
       "</table>\n",
       "<p>496 rows × 7 columns</p>\n",
       "</div>"
      ],
      "text/plain": [
       "     Subject   List     Condition  Feature clustering score  \\\n",
       "0          0  Early  Feature rich                  0.495229   \n",
       "1          1  Early  Feature rich                  0.559542   \n",
       "2          2  Early  Feature rich                  0.538500   \n",
       "3          3  Early  Feature rich                  0.519375   \n",
       "4          4  Early  Feature rich                  0.566917   \n",
       "..       ...    ...           ...                       ...   \n",
       "491      243   Late      Location                  0.407500   \n",
       "492      244   Late      Location                  0.553750   \n",
       "493      245   Late      Location                  0.598250   \n",
       "494      246   Late      Location                  0.405000   \n",
       "495      247   Late      Location                  0.526750   \n",
       "\n",
       "     Corrected feature clustering score  Temporal clustering score  \\\n",
       "0                              0.485292                   0.562750   \n",
       "1                              0.582875                   0.486750   \n",
       "2                              0.532000                   0.660500   \n",
       "3                              0.474292                   0.596500   \n",
       "4                              0.565833                   0.680000   \n",
       "..                                  ...                        ...   \n",
       "491                            0.388000                   0.698875   \n",
       "492                            0.503000                   0.603500   \n",
       "493                            0.563750                   0.768250   \n",
       "494                            0.428750                   0.683750   \n",
       "495                            0.386750                   0.545000   \n",
       "\n",
       "     Recall probability  \n",
       "0              0.484375  \n",
       "1              0.859375  \n",
       "2              0.625000  \n",
       "3              0.531250  \n",
       "4              0.546875  \n",
       "..                  ...  \n",
       "491            0.484375  \n",
       "492            0.671875  \n",
       "493            0.609375  \n",
       "494            0.539062  \n",
       "495            0.570312  \n",
       "\n",
       "[496 rows x 7 columns]"
      ]
     },
     "execution_count": 44,
     "metadata": {},
     "output_type": "execute_result"
    }
   ],
   "source": [
    "clustering_results = create_clustering_df(results)\n",
    "clustering_results"
   ]
  },
  {
   "cell_type": "code",
   "execution_count": 45,
   "metadata": {},
   "outputs": [],
   "source": [
    "def corr_helper(clustering_results, x='Feature clustering score', y='Recall probability', xlists=None, ylists=None):\n",
    "    clustering_results = clustering_results.query('Condition != \"Feature rich\"')\n",
    "\n",
    "    def print_corr(a, b, label=None, n_iter=1000):\n",
    "        corr = stats.pearsonr(a, b)\n",
    "\n",
    "        # compute bootstrap-estimated 95% confidence interval\n",
    "        bootstrapped = []        \n",
    "        max_tries = 10\n",
    "        tries = 0\n",
    "        for i in range(n_iter):\n",
    "            inds = np.random.randint(0, len(a), len(a))\n",
    "            while len(np.unique(a.iloc[inds])) == 1 and len(np.unique(b.iloc[inds])) == 1 and tries < max_tries:\n",
    "                inds = np.random.randint(0, len(a), len(a))\n",
    "                tries += 1\n",
    "            if tries >= max_tries:\n",
    "                pass\n",
    "            tries = 0\n",
    "            bootstrapped.append(stats.pearsonr(a.iloc[inds], b.iloc[inds])[0])\n",
    "        low, high = np.percentile(bootstrapped, [2.5, 97.5])\n",
    "\n",
    "        if label is None:\n",
    "            prefix = ''\n",
    "        else:\n",
    "            prefix = label + ': '\n",
    "\n",
    "        if corr.pvalue < 0.001:\n",
    "            p_string = 'p < 0.001'\n",
    "        else:\n",
    "            p_string = f'p = {corr.pvalue:.3f}'\n",
    "\n",
    "        print(f'\\t{prefix}: r({len(a) - 2}) = {corr.statistic:.3f}, {p_string}, CI = [{low:.3f}, {high:.3f}]')\n",
    "        return corr\n",
    "\n",
    "    if xlists is not None:\n",
    "        x_results = clustering_results.query('List == @xlists')\n",
    "    else:\n",
    "        x_results = clustering_results\n",
    "    \n",
    "    if ylists is not None:\n",
    "        y_results = clustering_results.query('List == @ylists')\n",
    "    else:\n",
    "        y_results = clustering_results\n",
    "    \n",
    "    print(f'Correlations between {x} and {y} (x lists: {xlists}, y lists: {ylists})')\n",
    "    # Combine across all conditions, compute correlation across subjects\n",
    "    print_corr(x_results[x], y_results[y], label='Combined (across subjects)')\n",
    "\n",
    "    # Per-condition (across subjects)\n",
    "    print('\\n')\n",
    "    min_r = np.inf\n",
    "    max_p = -np.inf\n",
    "\n",
    "    for c in clustering_results['Condition'].unique():\n",
    "        corr = print_corr(x_results.query('Condition == @c')[x], y_results.query('Condition == @c')[y], label=f'{c} (across subjects)')\n",
    "        min_r = min(min_r, corr.statistic)\n",
    "        max_p = max(max_p, corr.pvalue)\n",
    "    print(f'\\tWithin condition, across subjects: all $r$s $\\geq {min_r:.3f}$, all $p$s $\\leq {max_p:.3f}$')\n",
    "\n",
    "    # Across-condition correlation\n",
    "    print('\\n')\n",
    "    x_ave = x_results.groupby('Condition').mean(numeric_only=True)[x]\n",
    "    y_ave = y_results.groupby('Condition').mean(numeric_only=True)[y]\n",
    "    print_corr(x_ave, y_ave, label='Across conditions')"
   ]
  },
  {
   "attachments": {},
   "cell_type": "markdown",
   "metadata": {},
   "source": [
    "## Recall probability vs. feature clustering\n",
    "\n",
    "### Early vs. early"
   ]
  },
  {
   "cell_type": "code",
   "execution_count": 46,
   "metadata": {},
   "outputs": [
    {
     "name": "stdout",
     "output_type": "stream",
     "text": [
      "Correlations between Feature clustering score and Recall probability (x lists: Early, y lists: Early)\n"
     ]
    },
    {
     "name": "stdout",
     "output_type": "stream",
     "text": [
      "\tCombined (across subjects): : r(179) = 0.492, p < 0.001, CI = [0.363, 0.607]\n",
      "\n",
      "\n",
      "\tCategory (across subjects): : r(28) = 0.862, p < 0.001, CI = [0.774, 0.921]\n",
      "\tSize (across subjects): : r(28) = 0.897, p < 0.001, CI = [0.808, 0.948]\n",
      "\tLength (across subjects): : r(28) = 0.481, p = 0.007, CI = [0.077, 0.721]\n",
      "\tFirst letter (across subjects): : r(28) = 0.414, p = 0.023, CI = [-0.011, 0.733]\n",
      "\tColor (across subjects): : r(29) = 0.331, p = 0.069, CI = [-0.039, 0.619]\n",
      "\tLocation (across subjects): : r(28) = 0.360, p = 0.051, CI = [0.042, 0.620]\n",
      "\tWithin condition, across subjects: all $r$s $\\geq 0.331$, all $p$s $\\leq 0.069$\n",
      "\n",
      "\n",
      "\tAcross conditions: : r(4) = 0.511, p = 0.300, CI = [-0.999, 0.997]\n"
     ]
    }
   ],
   "source": [
    "corr_helper(clustering_results, x='Feature clustering score', y='Recall probability', xlists='Early', ylists='Early')"
   ]
  },
  {
   "attachments": {},
   "cell_type": "markdown",
   "metadata": {},
   "source": [
    "### Late vs. late"
   ]
  },
  {
   "cell_type": "code",
   "execution_count": 47,
   "metadata": {},
   "outputs": [
    {
     "name": "stdout",
     "output_type": "stream",
     "text": [
      "Correlations between Feature clustering score and Recall probability (x lists: Late, y lists: Late)\n"
     ]
    },
    {
     "name": "stdout",
     "output_type": "stream",
     "text": [
      "\tCombined (across subjects): : r(179) = 0.403, p < 0.001, CI = [0.263, 0.522]\n",
      "\n",
      "\n",
      "\tCategory (across subjects): : r(28) = 0.662, p < 0.001, CI = [0.343, 0.871]\n",
      "\tSize (across subjects): : r(28) = 0.744, p < 0.001, CI = [0.488, 0.916]\n",
      "\tLength (across subjects): : r(28) = 0.520, p = 0.003, CI = [0.238, 0.730]\n",
      "\tFirst letter (across subjects): : r(28) = 0.404, p = 0.027, CI = [-0.033, 0.721]\n",
      "\tColor (across subjects): : r(29) = 0.532, p = 0.002, CI = [0.263, 0.745]\n",
      "\tLocation (across subjects): : r(28) = 0.419, p = 0.021, CI = [0.089, 0.658]\n",
      "\tWithin condition, across subjects: all $r$s $\\geq 0.404$, all $p$s $\\leq 0.027$\n",
      "\n",
      "\n",
      "\tAcross conditions: : r(4) = -0.304, p = 0.559, CI = [-0.875, 0.684]\n"
     ]
    }
   ],
   "source": [
    "corr_helper(clustering_results, x='Feature clustering score', y='Recall probability', xlists='Late', ylists='Late')"
   ]
  },
  {
   "attachments": {},
   "cell_type": "markdown",
   "metadata": {},
   "source": [
    "### Late vs. Early"
   ]
  },
  {
   "cell_type": "code",
   "execution_count": 48,
   "metadata": {},
   "outputs": [
    {
     "name": "stdout",
     "output_type": "stream",
     "text": [
      "Correlations between Feature clustering score and Recall probability (x lists: Early, y lists: Late)\n",
      "\tCombined (across subjects): : r(179) = 0.230, p = 0.002, CI = [0.081, 0.369]\n",
      "\n",
      "\n",
      "\tCategory (across subjects): : r(28) = 0.474, p = 0.008, CI = [0.207, 0.699]\n",
      "\tSize (across subjects): : r(28) = 0.574, p < 0.001, CI = [0.383, 0.747]\n",
      "\tLength (across subjects): : r(28) = 0.405, p = 0.027, CI = [0.113, 0.622]\n",
      "\tFirst letter (across subjects): : r(28) = 0.385, p = 0.035, CI = [-0.038, 0.751]\n",
      "\tColor (across subjects): : r(29) = 0.212, p = 0.251, CI = [-0.191, 0.533]\n",
      "\tLocation (across subjects): : r(28) = 0.320, p = 0.085, CI = [-0.025, 0.603]\n",
      "\tWithin condition, across subjects: all $r$s $\\geq 0.212$, all $p$s $\\leq 0.251$\n",
      "\n",
      "\n",
      "\tAcross conditions: : r(4) = -0.338, p = 0.512, CI = [-0.988, 0.657]\n"
     ]
    }
   ],
   "source": [
    "corr_helper(clustering_results, x='Feature clustering score', y='Recall probability', xlists='Early', ylists='Late')"
   ]
  },
  {
   "attachments": {},
   "cell_type": "markdown",
   "metadata": {},
   "source": [
    "### Early vs. Late"
   ]
  },
  {
   "cell_type": "code",
   "execution_count": 49,
   "metadata": {},
   "outputs": [
    {
     "name": "stdout",
     "output_type": "stream",
     "text": [
      "Correlations between Feature clustering score and Recall probability (x lists: Late, y lists: Early)\n",
      "\tCombined (across subjects): : r(179) = 0.464, p < 0.001, CI = [0.326, 0.580]\n",
      "\n",
      "\n",
      "\tCategory (across subjects): : r(28) = 0.687, p < 0.001, CI = [0.478, 0.815]\n",
      "\tSize (across subjects): : r(28) = 0.561, p = 0.001, CI = [0.269, 0.754]\n",
      "\tLength (across subjects): : r(28) = 0.438, p = 0.015, CI = [0.074, 0.714]\n",
      "\tFirst letter (across subjects): : r(28) = 0.377, p = 0.040, CI = [0.057, 0.682]\n",
      "\tColor (across subjects): : r(29) = 0.431, p = 0.016, CI = [0.160, 0.655]\n",
      "\tLocation (across subjects): : r(28) = 0.395, p = 0.031, CI = [0.112, 0.635]\n",
      "\tWithin condition, across subjects: all $r$s $\\geq 0.377$, all $p$s $\\leq 0.040$\n",
      "\n",
      "\n",
      "\tAcross conditions: : r(4) = 0.451, p = 0.369, CI = [-0.853, 0.998]\n"
     ]
    }
   ],
   "source": [
    "corr_helper(clustering_results, x='Feature clustering score', y='Recall probability', xlists='Late', ylists='Early')"
   ]
  },
  {
   "attachments": {},
   "cell_type": "markdown",
   "metadata": {},
   "source": [
    "## Temporal clustering vs. feature clustering\n",
    "\n",
    "### Early vs. early"
   ]
  },
  {
   "cell_type": "code",
   "execution_count": 50,
   "metadata": {},
   "outputs": [
    {
     "name": "stdout",
     "output_type": "stream",
     "text": [
      "Correlations between Feature clustering score and Temporal clustering score (x lists: Early, y lists: Early)\n",
      "\tCombined (across subjects): : r(179) = 0.916, p < 0.001, CI = [0.888, 0.937]\n",
      "\n",
      "\n",
      "\tCategory (across subjects): : r(28) = 0.965, p < 0.001, CI = [0.915, 0.993]\n",
      "\tSize (across subjects): : r(28) = 0.926, p < 0.001, CI = [0.869, 0.963]\n",
      "\tLength (across subjects): : r(28) = 0.945, p < 0.001, CI = [0.886, 0.976]\n",
      "\tFirst letter (across subjects): : r(28) = 0.855, p < 0.001, CI = [0.726, 0.934]\n",
      "\tColor (across subjects): : r(29) = 0.817, p < 0.001, CI = [0.685, 0.900]\n",
      "\tLocation (across subjects): : r(28) = 0.883, p < 0.001, CI = [0.759, 0.950]\n",
      "\tWithin condition, across subjects: all $r$s $\\geq 0.817$, all $p$s $\\leq 0.000$\n",
      "\n",
      "\n",
      "\tAcross conditions: : r(4) = 0.946, p = 0.004, CI = [0.545, 1.000]\n"
     ]
    }
   ],
   "source": [
    "corr_helper(clustering_results, x='Feature clustering score', y='Temporal clustering score', xlists='Early', ylists='Early')"
   ]
  },
  {
   "attachments": {},
   "cell_type": "markdown",
   "metadata": {},
   "source": [
    "### Late vs. late"
   ]
  },
  {
   "cell_type": "code",
   "execution_count": 51,
   "metadata": {},
   "outputs": [
    {
     "name": "stdout",
     "output_type": "stream",
     "text": [
      "Correlations between Feature clustering score and Temporal clustering score (x lists: Late, y lists: Late)\n"
     ]
    },
    {
     "name": "stdout",
     "output_type": "stream",
     "text": [
      "\tCombined (across subjects): : r(179) = 0.273, p < 0.001, CI = [0.151, 0.381]\n",
      "\n",
      "\n",
      "\tCategory (across subjects): : r(28) = 0.293, p = 0.116, CI = [-0.133, 0.582]\n",
      "\tSize (across subjects): : r(28) = 0.307, p = 0.099, CI = [-0.087, 0.653]\n",
      "\tLength (across subjects): : r(28) = 0.353, p = 0.056, CI = [-0.025, 0.668]\n",
      "\tFirst letter (across subjects): : r(28) = 0.660, p < 0.001, CI = [0.452, 0.812]\n",
      "\tColor (across subjects): : r(29) = 0.333, p = 0.068, CI = [-0.024, 0.667]\n",
      "\tLocation (across subjects): : r(28) = 0.235, p = 0.212, CI = [-0.141, 0.533]\n",
      "\tWithin condition, across subjects: all $r$s $\\geq 0.235$, all $p$s $\\leq 0.212$\n",
      "\n",
      "\n",
      "\tAcross conditions: : r(4) = -0.190, p = 0.718, CI = [-0.958, 0.768]\n"
     ]
    }
   ],
   "source": [
    "corr_helper(clustering_results, x='Feature clustering score', y='Temporal clustering score', xlists='Late', ylists='Late')"
   ]
  },
  {
   "attachments": {},
   "cell_type": "markdown",
   "metadata": {},
   "source": [
    "### Late vs. early"
   ]
  },
  {
   "cell_type": "code",
   "execution_count": 52,
   "metadata": {},
   "outputs": [
    {
     "name": "stdout",
     "output_type": "stream",
     "text": [
      "Correlations between Feature clustering score and Temporal clustering score (x lists: Early, y lists: Late)\n",
      "\tCombined (across subjects): : r(179) = 0.266, p < 0.001, CI = [0.140, 0.394]\n",
      "\n",
      "\n",
      "\tCategory (across subjects): : r(28) = 0.298, p = 0.110, CI = [0.018, 0.520]\n",
      "\tSize (across subjects): : r(28) = 0.314, p = 0.091, CI = [0.013, 0.572]\n",
      "\tLength (across subjects): : r(28) = 0.535, p = 0.002, CI = [0.227, 0.776]\n",
      "\tFirst letter (across subjects): : r(28) = 0.443, p = 0.014, CI = [0.058, 0.753]\n",
      "\tColor (across subjects): : r(29) = 0.491, p = 0.005, CI = [0.116, 0.717]\n",
      "\tLocation (across subjects): : r(28) = 0.355, p = 0.054, CI = [0.031, 0.624]\n",
      "\tWithin condition, across subjects: all $r$s $\\geq 0.298$, all $p$s $\\leq 0.110$\n",
      "\n",
      "\n",
      "\tAcross conditions: : r(4) = 0.064, p = 0.903, CI = [-0.920, 1.000]\n"
     ]
    }
   ],
   "source": [
    "corr_helper(clustering_results, x='Feature clustering score', y='Temporal clustering score', xlists='Early', ylists='Late')"
   ]
  },
  {
   "attachments": {},
   "cell_type": "markdown",
   "metadata": {},
   "source": [
    "### Early vs. late"
   ]
  },
  {
   "cell_type": "code",
   "execution_count": 53,
   "metadata": {},
   "outputs": [
    {
     "name": "stdout",
     "output_type": "stream",
     "text": [
      "Correlations between Feature clustering score and Temporal clustering score (x lists: Late, y lists: Early)\n",
      "\tCombined (across subjects): : r(179) = 0.549, p < 0.001, CI = [0.434, 0.640]\n",
      "\n",
      "\n",
      "\tCategory (across subjects): : r(28) = 0.613, p < 0.001, CI = [0.401, 0.778]\n",
      "\tSize (across subjects): : r(28) = 0.392, p = 0.032, CI = [0.086, 0.639]\n",
      "\tLength (across subjects): : r(28) = 0.271, p = 0.148, CI = [-0.063, 0.574]\n",
      "\tFirst letter (across subjects): : r(28) = 0.345, p = 0.062, CI = [-0.062, 0.657]\n",
      "\tColor (across subjects): : r(29) = 0.005, p = 0.980, CI = [-0.421, 0.379]\n",
      "\tLocation (across subjects): : r(28) = 0.240, p = 0.201, CI = [-0.046, 0.516]\n",
      "\tWithin condition, across subjects: all $r$s $\\geq 0.005$, all $p$s $\\leq 0.980$\n",
      "\n",
      "\n",
      "\tAcross conditions: : r(4) = 0.855, p = 0.030, CI = [0.191, 0.996]\n"
     ]
    }
   ],
   "source": [
    "corr_helper(clustering_results, x='Feature clustering score', y='Temporal clustering score', xlists='Late', ylists='Early')"
   ]
  },
  {
   "attachments": {},
   "cell_type": "markdown",
   "metadata": {},
   "source": [
    "## Feature clustering on early vs. late lists"
   ]
  },
  {
   "cell_type": "code",
   "execution_count": 54,
   "metadata": {},
   "outputs": [
    {
     "name": "stdout",
     "output_type": "stream",
     "text": [
      "Correlations between Feature clustering score and Feature clustering score (x lists: Late, y lists: Early)\n"
     ]
    },
    {
     "name": "stdout",
     "output_type": "stream",
     "text": [
      "\tCombined (across subjects): : r(179) = 0.591, p < 0.001, CI = [0.478, 0.687]\n",
      "\n",
      "\n",
      "\tCategory (across subjects): : r(28) = 0.590, p < 0.001, CI = [0.361, 0.758]\n",
      "\tSize (across subjects): : r(28) = 0.488, p = 0.006, CI = [0.138, 0.728]\n",
      "\tLength (across subjects): : r(28) = 0.384, p = 0.036, CI = [0.053, 0.678]\n",
      "\tFirst letter (across subjects): : r(28) = 0.202, p = 0.284, CI = [-0.227, 0.646]\n",
      "\tColor (across subjects): : r(29) = -0.183, p = 0.325, CI = [-0.533, 0.233]\n",
      "\tLocation (across subjects): : r(28) = 0.031, p = 0.870, CI = [-0.256, 0.297]\n",
      "\tWithin condition, across subjects: all $r$s $\\geq -0.183$, all $p$s $\\leq 0.870$\n",
      "\n",
      "\n",
      "\tAcross conditions: : r(4) = 0.942, p = 0.005, CI = [0.488, 1.000]\n"
     ]
    }
   ],
   "source": [
    "corr_helper(clustering_results, x='Feature clustering score', y='Feature clustering score', xlists='Late', ylists='Early')"
   ]
  },
  {
   "attachments": {},
   "cell_type": "markdown",
   "metadata": {},
   "source": [
    "# Difference analyses (early - late lists)"
   ]
  },
  {
   "cell_type": "code",
   "execution_count": 55,
   "metadata": {},
   "outputs": [
    {
     "data": {
      "text/html": [
       "<div>\n",
       "<style scoped>\n",
       "    .dataframe tbody tr th:only-of-type {\n",
       "        vertical-align: middle;\n",
       "    }\n",
       "\n",
       "    .dataframe tbody tr th {\n",
       "        vertical-align: top;\n",
       "    }\n",
       "\n",
       "    .dataframe thead th {\n",
       "        text-align: right;\n",
       "    }\n",
       "</style>\n",
       "<table border=\"1\" class=\"dataframe\">\n",
       "  <thead>\n",
       "    <tr style=\"text-align: right;\">\n",
       "      <th></th>\n",
       "      <th>Subject</th>\n",
       "      <th>List</th>\n",
       "      <th>Condition</th>\n",
       "      <th>Feature clustering score</th>\n",
       "      <th>Corrected feature clustering score</th>\n",
       "      <th>Temporal clustering score</th>\n",
       "      <th>Recall probability</th>\n",
       "    </tr>\n",
       "  </thead>\n",
       "  <tbody>\n",
       "    <tr>\n",
       "      <th>0</th>\n",
       "      <td>0</td>\n",
       "      <td>Early - Late</td>\n",
       "      <td>Feature rich</td>\n",
       "      <td>-0.050729</td>\n",
       "      <td>0.485292</td>\n",
       "      <td>-0.045000</td>\n",
       "      <td>0.039062</td>\n",
       "    </tr>\n",
       "    <tr>\n",
       "      <th>1</th>\n",
       "      <td>1</td>\n",
       "      <td>Early - Late</td>\n",
       "      <td>Feature rich</td>\n",
       "      <td>-0.058125</td>\n",
       "      <td>0.582875</td>\n",
       "      <td>-0.039750</td>\n",
       "      <td>-0.031250</td>\n",
       "    </tr>\n",
       "    <tr>\n",
       "      <th>2</th>\n",
       "      <td>2</td>\n",
       "      <td>Early - Late</td>\n",
       "      <td>Feature rich</td>\n",
       "      <td>0.092667</td>\n",
       "      <td>0.532000</td>\n",
       "      <td>0.259625</td>\n",
       "      <td>0.148438</td>\n",
       "    </tr>\n",
       "    <tr>\n",
       "      <th>3</th>\n",
       "      <td>3</td>\n",
       "      <td>Early - Late</td>\n",
       "      <td>Feature rich</td>\n",
       "      <td>0.070625</td>\n",
       "      <td>0.474292</td>\n",
       "      <td>-0.019375</td>\n",
       "      <td>0.125000</td>\n",
       "    </tr>\n",
       "    <tr>\n",
       "      <th>4</th>\n",
       "      <td>4</td>\n",
       "      <td>Early - Late</td>\n",
       "      <td>Feature rich</td>\n",
       "      <td>0.089312</td>\n",
       "      <td>0.565833</td>\n",
       "      <td>0.194500</td>\n",
       "      <td>0.101562</td>\n",
       "    </tr>\n",
       "    <tr>\n",
       "      <th>...</th>\n",
       "      <td>...</td>\n",
       "      <td>...</td>\n",
       "      <td>...</td>\n",
       "      <td>...</td>\n",
       "      <td>...</td>\n",
       "      <td>...</td>\n",
       "      <td>...</td>\n",
       "    </tr>\n",
       "    <tr>\n",
       "      <th>461</th>\n",
       "      <td>243</td>\n",
       "      <td>Early - Late</td>\n",
       "      <td>Location</td>\n",
       "      <td>0.272875</td>\n",
       "      <td>0.397500</td>\n",
       "      <td>0.011625</td>\n",
       "      <td>-0.031250</td>\n",
       "    </tr>\n",
       "    <tr>\n",
       "      <th>462</th>\n",
       "      <td>244</td>\n",
       "      <td>Early - Late</td>\n",
       "      <td>Location</td>\n",
       "      <td>0.229750</td>\n",
       "      <td>0.527500</td>\n",
       "      <td>0.248500</td>\n",
       "      <td>-0.046875</td>\n",
       "    </tr>\n",
       "    <tr>\n",
       "      <th>463</th>\n",
       "      <td>245</td>\n",
       "      <td>Early - Late</td>\n",
       "      <td>Location</td>\n",
       "      <td>-0.001750</td>\n",
       "      <td>0.320750</td>\n",
       "      <td>-0.017250</td>\n",
       "      <td>-0.062500</td>\n",
       "    </tr>\n",
       "    <tr>\n",
       "      <th>464</th>\n",
       "      <td>246</td>\n",
       "      <td>Early - Late</td>\n",
       "      <td>Location</td>\n",
       "      <td>0.436625</td>\n",
       "      <td>0.647750</td>\n",
       "      <td>0.162500</td>\n",
       "      <td>0.109375</td>\n",
       "    </tr>\n",
       "    <tr>\n",
       "      <th>465</th>\n",
       "      <td>247</td>\n",
       "      <td>Early - Late</td>\n",
       "      <td>Location</td>\n",
       "      <td>-0.031000</td>\n",
       "      <td>0.431250</td>\n",
       "      <td>0.062250</td>\n",
       "      <td>0.031250</td>\n",
       "    </tr>\n",
       "  </tbody>\n",
       "</table>\n",
       "<p>248 rows × 7 columns</p>\n",
       "</div>"
      ],
      "text/plain": [
       "     Subject          List     Condition  Feature clustering score  \\\n",
       "0          0  Early - Late  Feature rich                 -0.050729   \n",
       "1          1  Early - Late  Feature rich                 -0.058125   \n",
       "2          2  Early - Late  Feature rich                  0.092667   \n",
       "3          3  Early - Late  Feature rich                  0.070625   \n",
       "4          4  Early - Late  Feature rich                  0.089312   \n",
       "..       ...           ...           ...                       ...   \n",
       "461      243  Early - Late      Location                  0.272875   \n",
       "462      244  Early - Late      Location                  0.229750   \n",
       "463      245  Early - Late      Location                 -0.001750   \n",
       "464      246  Early - Late      Location                  0.436625   \n",
       "465      247  Early - Late      Location                 -0.031000   \n",
       "\n",
       "     Corrected feature clustering score  Temporal clustering score  \\\n",
       "0                              0.485292                  -0.045000   \n",
       "1                              0.582875                  -0.039750   \n",
       "2                              0.532000                   0.259625   \n",
       "3                              0.474292                  -0.019375   \n",
       "4                              0.565833                   0.194500   \n",
       "..                                  ...                        ...   \n",
       "461                            0.397500                   0.011625   \n",
       "462                            0.527500                   0.248500   \n",
       "463                            0.320750                  -0.017250   \n",
       "464                            0.647750                   0.162500   \n",
       "465                            0.431250                   0.062250   \n",
       "\n",
       "     Recall probability  \n",
       "0              0.039062  \n",
       "1             -0.031250  \n",
       "2              0.148438  \n",
       "3              0.125000  \n",
       "4              0.101562  \n",
       "..                  ...  \n",
       "461           -0.031250  \n",
       "462           -0.046875  \n",
       "463           -0.062500  \n",
       "464            0.109375  \n",
       "465            0.031250  \n",
       "\n",
       "[248 rows x 7 columns]"
      ]
     },
     "execution_count": 55,
     "metadata": {},
     "output_type": "execute_result"
    }
   ],
   "source": [
    "clustering_result_diffs = clustering_results.query('List == \"Early\"').copy()\n",
    "clustering_result_diffs['List'] = 'Early - Late'\n",
    "clustering_result_diffs['Feature clustering score'] = clustering_result_diffs['Feature clustering score'].values - clustering_results.query('List == \"Late\"')['Feature clustering score'].values\n",
    "clustering_result_diffs['Temporal clustering score'] = clustering_result_diffs['Temporal clustering score'].values - clustering_results.query('List == \"Late\"')['Temporal clustering score'].values\n",
    "clustering_result_diffs['Recall probability'] = clustering_result_diffs['Recall probability'].values - clustering_results.query('List == \"Late\"')['Recall probability'].values\n",
    "clustering_result_diffs"
   ]
  },
  {
   "attachments": {},
   "cell_type": "markdown",
   "metadata": {},
   "source": [
    "## Recall probability versus feature clustering (differences)"
   ]
  },
  {
   "cell_type": "code",
   "execution_count": 56,
   "metadata": {},
   "outputs": [
    {
     "name": "stdout",
     "output_type": "stream",
     "text": [
      "Correlations between Feature clustering score and Recall probability (x lists: Early - Late, y lists: Early - Late)\n"
     ]
    },
    {
     "name": "stdout",
     "output_type": "stream",
     "text": [
      "\tCombined (across subjects): : r(179) = 0.307, p < 0.001, CI = [0.136, 0.469]\n",
      "\n",
      "\n",
      "\tCategory (across subjects): : r(28) = 0.350, p = 0.058, CI = [0.028, 0.630]\n",
      "\tSize (across subjects): : r(28) = 0.708, p < 0.001, CI = [0.462, 0.876]\n",
      "\tLength (across subjects): : r(28) = 0.205, p = 0.276, CI = [-0.111, 0.479]\n",
      "\tFirst letter (across subjects): : r(28) = 0.081, p = 0.672, CI = [-0.416, 0.593]\n",
      "\tColor (across subjects): : r(29) = 0.155, p = 0.406, CI = [-0.142, 0.515]\n",
      "\tLocation (across subjects): : r(28) = 0.052, p = 0.787, CI = [-0.301, 0.360]\n",
      "\tWithin condition, across subjects: all $r$s $\\geq 0.052$, all $p$s $\\leq 0.787$\n",
      "\n",
      "\n",
      "\tAcross conditions: : r(4) = 0.635, p = 0.176, CI = [-0.927, 0.983]\n"
     ]
    }
   ],
   "source": [
    "corr_helper(clustering_result_diffs, x='Feature clustering score', y='Recall probability', xlists='Early - Late', ylists='Early - Late')"
   ]
  },
  {
   "attachments": {},
   "cell_type": "markdown",
   "metadata": {},
   "source": [
    "### Temporal clustering versus featuer clustering (differences)"
   ]
  },
  {
   "cell_type": "code",
   "execution_count": 57,
   "metadata": {},
   "outputs": [
    {
     "name": "stdout",
     "output_type": "stream",
     "text": [
      "Correlations between Feature clustering score and Temporal clustering score (x lists: Early - Late, y lists: Early - Late)\n",
      "\tCombined (across subjects): : r(179) = 0.426, p < 0.001, CI = [0.287, 0.536]\n",
      "\n",
      "\n",
      "\tCategory (across subjects): : r(28) = 0.110, p = 0.564, CI = [-0.303, 0.447]\n",
      "\tSize (across subjects): : r(28) = 0.447, p = 0.013, CI = [0.077, 0.733]\n",
      "\tLength (across subjects): : r(28) = 0.482, p = 0.007, CI = [0.257, 0.703]\n",
      "\tFirst letter (across subjects): : r(28) = 0.584, p < 0.001, CI = [0.246, 0.764]\n",
      "\tColor (across subjects): : r(29) = 0.406, p = 0.023, CI = [0.055, 0.707]\n",
      "\tLocation (across subjects): : r(28) = 0.498, p = 0.005, CI = [0.274, 0.695]\n",
      "\tWithin condition, across subjects: all $r$s $\\geq 0.110$, all $p$s $\\leq 0.564$\n",
      "\n",
      "\n",
      "\tAcross conditions: : r(4) = 0.649, p = 0.163, CI = [-0.784, 0.997]\n"
     ]
    }
   ],
   "source": [
    "corr_helper(clustering_result_diffs, x='Feature clustering score', y='Temporal clustering score', xlists='Early - Late', ylists='Early - Late')"
   ]
  },
  {
   "attachments": {},
   "cell_type": "markdown",
   "metadata": {},
   "source": [
    "# Adaptive condition\n",
    "\n",
    "## Accuracy: comparing across each list type\n",
    "\n",
    "### Stabilize vs. random"
   ]
  },
  {
   "cell_type": "code",
   "execution_count": 58,
   "metadata": {},
   "outputs": [
    {
     "name": "stdout",
     "output_type": "stream",
     "text": [
      "t(59) = 1.740, p = 0.087, d = 0.095, CI = [-0.161, 3.980]\n"
     ]
    }
   ],
   "source": [
    "ttest(results['accuracy']['adaptive'], results['accuracy']['adaptive'], x_lists='stabilize', y_lists='random', independent_sample=False)"
   ]
  },
  {
   "attachments": {},
   "cell_type": "markdown",
   "metadata": {},
   "source": [
    "### Destabilize vs. random"
   ]
  },
  {
   "cell_type": "code",
   "execution_count": 59,
   "metadata": {},
   "outputs": [
    {
     "name": "stdout",
     "output_type": "stream",
     "text": [
      "t(59) = -0.249, p = 0.804, d = -0.017, CI = [-2.431, 1.561]\n"
     ]
    }
   ],
   "source": [
    "ttest(results['accuracy']['adaptive'], results['accuracy']['adaptive'], x_lists='destabilize', y_lists='random', independent_sample=False)"
   ]
  },
  {
   "attachments": {},
   "cell_type": "markdown",
   "metadata": {},
   "source": [
    "### Stabilize vs. destabilize"
   ]
  },
  {
   "cell_type": "code",
   "execution_count": 60,
   "metadata": {},
   "outputs": [
    {
     "name": "stdout",
     "output_type": "stream",
     "text": [
      "t(59) = 1.714, p = 0.092, d = 0.114, CI = [-0.237, 4.258]\n"
     ]
    }
   ],
   "source": [
    "ttest(results['accuracy']['adaptive'], results['accuracy']['adaptive'], x_lists='stabilize', y_lists='destabilize', independent_sample=False)"
   ]
  },
  {
   "attachments": {},
   "cell_type": "markdown",
   "metadata": {},
   "source": [
    "## Temporal clustering: comparing across each list type\n",
    "\n",
    "### Stabilize vs. random"
   ]
  },
  {
   "cell_type": "code",
   "execution_count": 61,
   "metadata": {},
   "outputs": [
    {
     "name": "stdout",
     "output_type": "stream",
     "text": [
      "t(59) = 3.428, p = 0.001, d = 0.306, CI = [1.616, 5.335]\n"
     ]
    }
   ],
   "source": [
    "ttest(results['fingerprint']['adaptive'], results['fingerprint']['adaptive'], x_lists='stabilize', y_lists='random', independent_sample=False, x_col='temporal', y_col='temporal')"
   ]
  },
  {
   "attachments": {},
   "cell_type": "markdown",
   "metadata": {},
   "source": [
    "### Destabilize vs. random"
   ]
  },
  {
   "cell_type": "code",
   "execution_count": 62,
   "metadata": {},
   "outputs": [
    {
     "name": "stdout",
     "output_type": "stream",
     "text": [
      "t(59) = -0.880, p = 0.382, d = -0.081, CI = [-3.166, 0.991]\n"
     ]
    }
   ],
   "source": [
    "ttest(results['fingerprint']['adaptive'], results['fingerprint']['adaptive'], x_lists='destabilize', y_lists='random', independent_sample=False, x_col='temporal', y_col='temporal')"
   ]
  },
  {
   "attachments": {},
   "cell_type": "markdown",
   "metadata": {},
   "source": [
    "### Stabilize vs. destabilize"
   ]
  },
  {
   "cell_type": "code",
   "execution_count": 63,
   "metadata": {},
   "outputs": [
    {
     "name": "stdout",
     "output_type": "stream",
     "text": [
      "t(59) = 4.174, p < 0.001, d = 0.374, CI = [2.072, 6.931]\n"
     ]
    }
   ],
   "source": [
    "ttest(results['fingerprint']['adaptive'], results['fingerprint']['adaptive'], x_lists='stabilize', y_lists='destabilize', independent_sample=False, x_col='temporal', y_col='temporal')"
   ]
  },
  {
   "attachments": {},
   "cell_type": "markdown",
   "metadata": {},
   "source": [
    "## Correlations between accuracy and temporal clustering (adaptive condition)"
   ]
  },
  {
   "cell_type": "code",
   "execution_count": 64,
   "metadata": {},
   "outputs": [
    {
     "data": {
      "text/html": [
       "<div>\n",
       "<style scoped>\n",
       "    .dataframe tbody tr th:only-of-type {\n",
       "        vertical-align: middle;\n",
       "    }\n",
       "\n",
       "    .dataframe tbody tr th {\n",
       "        vertical-align: top;\n",
       "    }\n",
       "\n",
       "    .dataframe thead th {\n",
       "        text-align: right;\n",
       "    }\n",
       "</style>\n",
       "<table border=\"1\" class=\"dataframe\">\n",
       "  <thead>\n",
       "    <tr style=\"text-align: right;\">\n",
       "      <th></th>\n",
       "      <th>Subject</th>\n",
       "      <th>Condition</th>\n",
       "      <th>Recall probability</th>\n",
       "      <th>Temporal clustering score</th>\n",
       "      <th>List</th>\n",
       "    </tr>\n",
       "  </thead>\n",
       "  <tbody>\n",
       "    <tr>\n",
       "      <th>0</th>\n",
       "      <td>0</td>\n",
       "      <td>destabilize</td>\n",
       "      <td>0.578125</td>\n",
       "      <td>0.47100</td>\n",
       "      <td>All</td>\n",
       "    </tr>\n",
       "    <tr>\n",
       "      <th>1</th>\n",
       "      <td>1</td>\n",
       "      <td>destabilize</td>\n",
       "      <td>0.250000</td>\n",
       "      <td>0.34775</td>\n",
       "      <td>All</td>\n",
       "    </tr>\n",
       "    <tr>\n",
       "      <th>2</th>\n",
       "      <td>2</td>\n",
       "      <td>destabilize</td>\n",
       "      <td>0.515625</td>\n",
       "      <td>0.51500</td>\n",
       "      <td>All</td>\n",
       "    </tr>\n",
       "    <tr>\n",
       "      <th>3</th>\n",
       "      <td>3</td>\n",
       "      <td>destabilize</td>\n",
       "      <td>0.625000</td>\n",
       "      <td>0.86400</td>\n",
       "      <td>All</td>\n",
       "    </tr>\n",
       "    <tr>\n",
       "      <th>4</th>\n",
       "      <td>4</td>\n",
       "      <td>destabilize</td>\n",
       "      <td>0.500000</td>\n",
       "      <td>0.46650</td>\n",
       "      <td>All</td>\n",
       "    </tr>\n",
       "    <tr>\n",
       "      <th>...</th>\n",
       "      <td>...</td>\n",
       "      <td>...</td>\n",
       "      <td>...</td>\n",
       "      <td>...</td>\n",
       "      <td>...</td>\n",
       "    </tr>\n",
       "    <tr>\n",
       "      <th>235</th>\n",
       "      <td>55</td>\n",
       "      <td>stabilize</td>\n",
       "      <td>0.406250</td>\n",
       "      <td>0.58750</td>\n",
       "      <td>All</td>\n",
       "    </tr>\n",
       "    <tr>\n",
       "      <th>236</th>\n",
       "      <td>56</td>\n",
       "      <td>stabilize</td>\n",
       "      <td>0.703125</td>\n",
       "      <td>0.81600</td>\n",
       "      <td>All</td>\n",
       "    </tr>\n",
       "    <tr>\n",
       "      <th>237</th>\n",
       "      <td>57</td>\n",
       "      <td>stabilize</td>\n",
       "      <td>0.343750</td>\n",
       "      <td>0.41925</td>\n",
       "      <td>All</td>\n",
       "    </tr>\n",
       "    <tr>\n",
       "      <th>238</th>\n",
       "      <td>58</td>\n",
       "      <td>stabilize</td>\n",
       "      <td>0.343750</td>\n",
       "      <td>0.56250</td>\n",
       "      <td>All</td>\n",
       "    </tr>\n",
       "    <tr>\n",
       "      <th>239</th>\n",
       "      <td>59</td>\n",
       "      <td>stabilize</td>\n",
       "      <td>0.562500</td>\n",
       "      <td>0.74850</td>\n",
       "      <td>All</td>\n",
       "    </tr>\n",
       "  </tbody>\n",
       "</table>\n",
       "<p>180 rows × 5 columns</p>\n",
       "</div>"
      ],
      "text/plain": [
       "     Subject    Condition  Recall probability  Temporal clustering score List\n",
       "0          0  destabilize            0.578125                    0.47100  All\n",
       "1          1  destabilize            0.250000                    0.34775  All\n",
       "2          2  destabilize            0.515625                    0.51500  All\n",
       "3          3  destabilize            0.625000                    0.86400  All\n",
       "4          4  destabilize            0.500000                    0.46650  All\n",
       "..       ...          ...                 ...                        ...  ...\n",
       "235       55    stabilize            0.406250                    0.58750  All\n",
       "236       56    stabilize            0.703125                    0.81600  All\n",
       "237       57    stabilize            0.343750                    0.41925  All\n",
       "238       58    stabilize            0.343750                    0.56250  All\n",
       "239       59    stabilize            0.562500                    0.74850  All\n",
       "\n",
       "[180 rows x 5 columns]"
      ]
     },
     "execution_count": 64,
     "metadata": {},
     "output_type": "execute_result"
    }
   ],
   "source": [
    "df = results['accuracy']['adaptive'].data.reset_index().query('List not in [\"init\"]').rename({0: 'Recall probability'}, axis=1)\n",
    "df['Temporal clustering score'] = results['fingerprint']['adaptive'].data.reset_index().query('List not in [\"init\"]')['temporal']\n",
    "df.rename({'List': 'Condition'}, axis=1, inplace=True)\n",
    "df['List'] = 'All'\n",
    "df"
   ]
  },
  {
   "cell_type": "code",
   "execution_count": 65,
   "metadata": {},
   "outputs": [
    {
     "name": "stdout",
     "output_type": "stream",
     "text": [
      "Correlations between Temporal clustering score and Recall probability (x lists: All, y lists: All)\n",
      "\tCombined (across subjects): : r(178) = 0.701, p < 0.001, CI = [0.584, 0.787]\n",
      "\n",
      "\n",
      "\tdestabilize (across subjects): : r(58) = 0.674, p < 0.001, CI = [0.446, 0.812]\n",
      "\trandom (across subjects): : r(58) = 0.651, p < 0.001, CI = [0.410, 0.838]\n",
      "\tstabilize (across subjects): : r(58) = 0.784, p < 0.001, CI = [0.616, 0.883]\n",
      "\tWithin condition, across subjects: all $r$s $\\geq 0.651$, all $p$s $\\leq 0.000$\n",
      "\n",
      "\n",
      "\tAcross conditions: : r(1) = 0.998, p = 0.044, CI = [0.998, 1.000]\n"
     ]
    }
   ],
   "source": [
    "corr_helper(df, x='Temporal clustering score', y='Recall probability', xlists='All', ylists='All')"
   ]
  },
  {
   "cell_type": "markdown",
   "metadata": {},
   "source": [
    "# Difference scores between fingerprints and temporally corrected fingerprints"
   ]
  },
  {
   "cell_type": "markdown",
   "metadata": {},
   "source": []
  }
 ],
 "metadata": {
  "kernelspec": {
   "display_name": "frfr",
   "language": "python",
   "name": "frfr"
  },
  "language_info": {
   "codemirror_mode": {
    "name": "ipython",
    "version": 3
   },
   "file_extension": ".py",
   "mimetype": "text/x-python",
   "name": "python",
   "nbconvert_exporter": "python",
   "pygments_lexer": "ipython3",
   "version": "3.10.4"
  },
  "vscode": {
   "interpreter": {
    "hash": "ece6198bba427cbc67eade80d2f26cc97e756f38697f95066add8df0785cdc08"
   }
  }
 },
 "nbformat": 4,
 "nbformat_minor": 2
}
