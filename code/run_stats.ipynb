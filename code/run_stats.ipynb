{
 "cells": [
  {
   "cell_type": "code",
   "execution_count": 106,
   "metadata": {},
   "outputs": [],
   "source": [
    "try:\n",
    "    import davos\n",
    "except:\n",
    "    %pip install davos\n",
    "    import davos\n",
    "\n",
    "davos.config.suppress_stdout = False"
   ]
  },
  {
   "cell_type": "code",
   "execution_count": 107,
   "metadata": {},
   "outputs": [],
   "source": [
    "smuggle pandas as pd # pip: pandas==1.5.1\n",
    "smuggle numpy as np # pip: numpy==1.22.3\n",
    "smuggle seaborn as sns # pip: seaborn==0.12.1\n",
    "smuggle dill as pickle # pip: dill==0.3.6\n",
    "\n",
    "smuggle h5py # pip: h5py==3.7.0\n",
    "smuggle pathos # pip: pathos==0.3.0\n",
    "smuggle quail # pip: quail==0.2.2\n",
    "smuggle requests # pip: requests==2.28.1\n",
    "smuggle os\n",
    "smuggle warnings\n",
    "smuggle string\n",
    "from copy smuggle copy\n",
    "\n",
    "from tqdm smuggle tqdm # pip: tqdm==4.64.1\n",
    "from matplotlib smuggle pyplot as plt #pip: matplotlib==3.6.2\n",
    "from matplotlib.ticker smuggle MaxNLocator\n",
    "from pathos.multiprocessing smuggle ProcessingPool as Pool # pip: pathos==0.3.0\n",
    "from multiprocessing smuggle cpu_count  # pip: multiprocess==0.70.14\n",
    "from sklearn.decomposition smuggle IncrementalPCA as PCA # pip: scikit-learn==1.1.3\n",
    "from scipy smuggle stats # pip: scipy==1.10.0\n",
    "\n",
    "# local functions\n",
    "from dataloader import datadir, grouping, feature_groupings, descriptions, sort_by_grouping, fetch_data\n",
    "from analyze import analyze_data, recover_fingerprint_features, organize_by_listgroup, random, adaptive, non_adaptive_exclude_random, \\\n",
    "                    select_conds, select_lists, filter, get_diffs, stack_diffs, pnr_matrix, accuracy2df, adaptive_listnum2cond, \\\n",
    "                    clustering_matrices, average_by_cond, rename_features, fingerprint2temporal, get_boundaries, \\\n",
    "                    recall_accuracy_near_boundaries, results, results_by_list, analyses, listgroups, orders, ttest, merge_results, \\\n",
    "                    create_clustering_df"
   ]
  },
  {
   "attachments": {},
   "cell_type": "markdown",
   "metadata": {},
   "source": [
    "# Performance on *feature rich* versus *reduced* lists:\n",
    "  - accuracy\n",
    "  - temporal clustering\n",
    "  - non-visual feature-based clustering (category, size, length, first letter)"
   ]
  },
  {
   "cell_type": "code",
   "execution_count": 108,
   "metadata": {},
   "outputs": [
    {
     "name": "stdout",
     "output_type": "stream",
     "text": [
      "Accuracy for feature rich vs. reduced (all lists):\n",
      "t(126) = -0.290, p = 0.772, d = -0.051, CI = [-2.263, 1.614]\n"
     ]
    }
   ],
   "source": [
    "print('Accuracy for feature rich vs. reduced (all lists):')\n",
    "ttest(results['accuracy']['feature rich'], results['accuracy']['reduced'])"
   ]
  },
  {
   "cell_type": "code",
   "execution_count": 109,
   "metadata": {},
   "outputs": [
    {
     "name": "stdout",
     "output_type": "stream",
     "text": [
      "Temporal clustering for feature rich vs. reduced (all lists):\n",
      "t(126) = 10.632, p < 0.001, d = 1.882, CI = [7.890, 14.056]\n"
     ]
    }
   ],
   "source": [
    "print('Temporal clustering for feature rich vs. reduced (all lists):')\n",
    "ttest(results['fingerprint']['feature rich'], results['fingerprint']['reduced'], x_col='temporal', y_col='temporal')"
   ]
  },
  {
   "cell_type": "code",
   "execution_count": 110,
   "metadata": {},
   "outputs": [
    {
     "name": "stdout",
     "output_type": "stream",
     "text": [
      "category clustering for feature rich vs. reduced (all lists):\n",
      "t(126) = 10.148, p < 0.001, d = 1.796, CI = [7.426, 13.529]\n",
      "\n",
      "\n",
      "size clustering for feature rich vs. reduced (all lists):\n",
      "t(126) = 12.033, p < 0.001, d = 2.129, CI = [9.151, 15.557]\n",
      "\n",
      "\n",
      "wordLength clustering for feature rich vs. reduced (all lists):\n",
      "t(126) = 10.720, p < 0.001, d = 1.897, CI = [7.091, 15.203]\n",
      "\n",
      "\n",
      "firstLetter clustering for feature rich vs. reduced (all lists):\n",
      "t(126) = 6.679, p < 0.001, d = 1.182, CI = [4.327, 9.377]\n"
     ]
    }
   ],
   "source": [
    "features = ['category', 'size', 'wordLength', 'firstLetter']\n",
    "for i, f in enumerate(features):\n",
    "    print(f'{f} clustering for feature rich vs. reduced (all lists):')\n",
    "    ttest(results['fingerprint']['feature rich'], results['fingerprint']['reduced'], x_col=f, y_col=f)\n",
    "\n",
    "    if i < len(features) - 1:\n",
    "        print('\\n')"
   ]
  },
  {
   "attachments": {},
   "cell_type": "markdown",
   "metadata": {},
   "source": [
    "# Performance on {*feature rich*, *reduced*} lists versus *reduced ({early, late})* lists\n",
    "We'll compare early and late lists separately (e.g., early to early, late to late, early to late, etc.)\n",
    "\n",
    "Metrics:\n",
    "  - accuracy\n",
    "  - temporal clustering\n",
    "  - non-visual feature-based clustering (category, size, length, first letter)\n",
    "\n",
    "## Early vs. late (all conditions and metrics)"
   ]
  },
  {
   "attachments": {},
   "cell_type": "markdown",
   "metadata": {},
   "source": [
    "### Accuracy"
   ]
  },
  {
   "cell_type": "code",
   "execution_count": 111,
   "metadata": {},
   "outputs": [
    {
     "name": "stdout",
     "output_type": "stream",
     "text": [
      "Accuracy for feature rich (early lists) vs. feature rich (late lists):\n",
      "t(66) = 4.553, p < 0.001, d = 0.233, CI = [2.547, 7.200]\n"
     ]
    }
   ],
   "source": [
    "print('Accuracy for feature rich (early lists) vs. feature rich (late lists):')\n",
    "ttest(results['accuracy']['feature rich'], results['accuracy']['feature rich'], x_lists='Early', y_lists='Late', independent_sample=False)"
   ]
  },
  {
   "cell_type": "code",
   "execution_count": 112,
   "metadata": {},
   "outputs": [
    {
     "name": "stdout",
     "output_type": "stream",
     "text": [
      "Accuracy for reduced (early lists) vs. reduced (late lists):\n",
      "t(60) = 2.434, p = 0.018, d = 0.134, CI = [0.355, 4.929]\n"
     ]
    }
   ],
   "source": [
    "print('Accuracy for reduced (early lists) vs. reduced (late lists):')\n",
    "ttest(results['accuracy']['reduced'], results['accuracy']['reduced'], x_lists='Early', y_lists='Late', independent_sample=False)"
   ]
  },
  {
   "cell_type": "code",
   "execution_count": 113,
   "metadata": {},
   "outputs": [
    {
     "name": "stdout",
     "output_type": "stream",
     "text": [
      "Accuracy for reduced (early) (early lists) vs. reduced (early) (late lists):\n",
      "t(41) = 1.499, p = 0.141, d = 0.098, CI = [-0.352, 3.607]\n"
     ]
    }
   ],
   "source": [
    "print('Accuracy for reduced (early) (early lists) vs. reduced (early) (late lists):')\n",
    "ttest(results['accuracy']['reduced (early)'], results['accuracy']['reduced (early)'], x_lists='Early', y_lists='Late', independent_sample=False)"
   ]
  },
  {
   "cell_type": "code",
   "execution_count": 114,
   "metadata": {},
   "outputs": [
    {
     "name": "stdout",
     "output_type": "stream",
     "text": [
      "Accuracy for reduced (late) (early lists) vs. reduced (late) (late lists):\n",
      "t(40) = 1.462, p = 0.152, d = 0.121, CI = [-0.552, 2.989]\n"
     ]
    }
   ],
   "source": [
    "print('Accuracy for reduced (late) (early lists) vs. reduced (late) (late lists):')\n",
    "ttest(results['accuracy']['reduced (late)'], results['accuracy']['reduced (late)'], x_lists='Early', y_lists='Late', independent_sample=False)"
   ]
  },
  {
   "attachments": {},
   "cell_type": "markdown",
   "metadata": {},
   "source": [
    "### Temporal clustering"
   ]
  },
  {
   "cell_type": "code",
   "execution_count": 115,
   "metadata": {},
   "outputs": [
    {
     "name": "stdout",
     "output_type": "stream",
     "text": [
      "Temporal clustering for feature rich (early lists) vs. feature rich (late lists):\n",
      "t(66) = 2.268, p = 0.027, d = 0.181, CI = [0.477, 4.297]\n"
     ]
    }
   ],
   "source": [
    "print('Temporal clustering for feature rich (early lists) vs. feature rich (late lists):')\n",
    "ttest(results['fingerprint']['feature rich'], results['fingerprint']['feature rich'], x_col='temporal', y_col='temporal', x_lists='Early', y_lists='Late', independent_sample=False)"
   ]
  },
  {
   "cell_type": "code",
   "execution_count": 116,
   "metadata": {},
   "outputs": [
    {
     "name": "stdout",
     "output_type": "stream",
     "text": [
      "Temporal clustering for reduced (early lists) vs. reduced (late lists):\n",
      "t(60) = 0.986, p = 0.328, d = 0.061, CI = [-0.782, 3.436]\n"
     ]
    }
   ],
   "source": [
    "print('Temporal clustering for reduced (early lists) vs. reduced (late lists):')\n",
    "ttest(results['fingerprint']['reduced'], results['fingerprint']['reduced'], x_col='temporal', y_col='temporal', x_lists='Early', y_lists='Late', independent_sample=False)"
   ]
  },
  {
   "cell_type": "code",
   "execution_count": 117,
   "metadata": {},
   "outputs": [
    {
     "name": "stdout",
     "output_type": "stream",
     "text": [
      "Temporal clustering for reduced (early) (early lists) vs. reduced (early) (late lists):\n",
      "t(41) = 0.857, p = 0.396, d = 0.068, CI = [-1.048, 2.877]\n"
     ]
    }
   ],
   "source": [
    "print('Temporal clustering for reduced (early) (early lists) vs. reduced (early) (late lists):')\n",
    "ttest(results['fingerprint']['reduced (early)'], results['fingerprint']['reduced (early)'], x_col='temporal', y_col='temporal', x_lists='Early', y_lists='Late', independent_sample=False)"
   ]
  },
  {
   "cell_type": "code",
   "execution_count": 118,
   "metadata": {},
   "outputs": [
    {
     "name": "stdout",
     "output_type": "stream",
     "text": [
      "Temporal clustering for reduced (late) (early lists) vs. reduced (late) (late lists):\n",
      "t(40) = 1.244, p = 0.221, d = 0.128, CI = [-0.667, 3.174]\n"
     ]
    }
   ],
   "source": [
    "print('Temporal clustering for reduced (late) (early lists) vs. reduced (late) (late lists):')\n",
    "ttest(results['fingerprint']['reduced (late)'], results['fingerprint']['reduced (late)'], x_col='temporal', y_col='temporal', x_lists='Early', y_lists='Late', independent_sample=False)"
   ]
  },
  {
   "attachments": {},
   "cell_type": "markdown",
   "metadata": {},
   "source": [
    "### Non-visual feature based clustering"
   ]
  },
  {
   "cell_type": "code",
   "execution_count": 119,
   "metadata": {},
   "outputs": [
    {
     "name": "stdout",
     "output_type": "stream",
     "text": [
      "category clustering for feature rich (early lists) vs. feature rich (late lists):\n",
      "t(66) = 3.684, p < 0.001, d = 0.220, CI = [1.782, 5.932]\n",
      "\n",
      "\n",
      "size clustering for feature rich (early lists) vs. feature rich (late lists):\n",
      "t(66) = 1.629, p = 0.108, d = 0.100, CI = [-0.361, 3.611]\n",
      "\n",
      "\n",
      "wordLength clustering for feature rich (early lists) vs. feature rich (late lists):\n",
      "t(66) = -0.100, p = 0.921, d = -0.010, CI = [-2.363, 1.896]\n",
      "\n",
      "\n",
      "firstLetter clustering for feature rich (early lists) vs. feature rich (late lists):\n",
      "t(66) = -0.412, p = 0.681, d = -0.045, CI = [-2.331, 1.515]\n"
     ]
    }
   ],
   "source": [
    "for i, f in enumerate(features):\n",
    "    print(f'{f} clustering for feature rich (early lists) vs. feature rich (late lists):')\n",
    "    ttest(results['fingerprint']['feature rich'], results['fingerprint']['feature rich'], x_col=f, y_col=f, x_lists='Early', y_lists='Late', independent_sample=False)\n",
    "\n",
    "    if i < len(features) - 1:\n",
    "        print('\\n')"
   ]
  },
  {
   "cell_type": "code",
   "execution_count": 120,
   "metadata": {},
   "outputs": [
    {
     "name": "stdout",
     "output_type": "stream",
     "text": [
      "category clustering for reduced (early lists) vs. reduced (late lists):\n",
      "t(60) = 2.755, p = 0.008, d = 0.177, CI = [0.765, 5.107]\n",
      "\n",
      "\n",
      "size clustering for reduced (early lists) vs. reduced (late lists):\n",
      "t(60) = 3.081, p = 0.003, d = 0.201, CI = [1.032, 5.125]\n",
      "\n",
      "\n",
      "wordLength clustering for reduced (early lists) vs. reduced (late lists):\n",
      "t(60) = 3.762, p < 0.001, d = 0.261, CI = [1.824, 6.465]\n",
      "\n",
      "\n",
      "firstLetter clustering for reduced (early lists) vs. reduced (late lists):\n",
      "t(60) = 1.721, p = 0.090, d = 0.175, CI = [-0.155, 4.125]\n"
     ]
    }
   ],
   "source": [
    "for i, f in enumerate(features):\n",
    "    print(f'{f} clustering for reduced (early lists) vs. reduced (late lists):')\n",
    "    ttest(results['fingerprint']['reduced'], results['fingerprint']['reduced'], x_col=f, y_col=f, x_lists='Early', y_lists='Late', independent_sample=False)\n",
    "\n",
    "    if i < len(features) - 1:\n",
    "        print('\\n')"
   ]
  },
  {
   "cell_type": "code",
   "execution_count": 121,
   "metadata": {},
   "outputs": [
    {
     "name": "stdout",
     "output_type": "stream",
     "text": [
      "category clustering for reduced (early) (early lists) vs. reduced (early) (late lists):\n",
      "t(41) = 0.707, p = 0.484, d = 0.068, CI = [-1.432, 2.664]\n",
      "\n",
      "\n",
      "size clustering for reduced (early) (early lists) vs. reduced (early) (late lists):\n",
      "t(41) = 0.803, p = 0.427, d = 0.079, CI = [-1.167, 2.897]\n",
      "\n",
      "\n",
      "wordLength clustering for reduced (early) (early lists) vs. reduced (early) (late lists):\n",
      "t(41) = 0.461, p = 0.648, d = 0.060, CI = [-1.406, 2.443]\n",
      "\n",
      "\n",
      "firstLetter clustering for reduced (early) (early lists) vs. reduced (early) (late lists):\n",
      "t(41) = 0.781, p = 0.439, d = 0.101, CI = [-1.144, 2.957]\n"
     ]
    }
   ],
   "source": [
    "for i, f in enumerate(features):\n",
    "    print(f'{f} clustering for reduced (early) (early lists) vs. reduced (early) (late lists):')\n",
    "    ttest(results['fingerprint']['reduced (early)'], results['fingerprint']['reduced (early)'], x_col=f, y_col=f, x_lists='Early', y_lists='Late', independent_sample=False)\n",
    "\n",
    "    if i < len(features) - 1:\n",
    "        print('\\n')"
   ]
  },
  {
   "cell_type": "code",
   "execution_count": 122,
   "metadata": {},
   "outputs": [
    {
     "name": "stdout",
     "output_type": "stream",
     "text": [
      "category clustering for reduced (late) (early lists) vs. reduced (late) (late lists):\n",
      "t(40) = -0.101, p = 0.920, d = -0.009, CI = [-2.306, 1.711]\n",
      "\n",
      "\n",
      "size clustering for reduced (late) (early lists) vs. reduced (late) (late lists):\n",
      "t(40) = 0.555, p = 0.582, d = 0.058, CI = [-1.453, 2.318]\n",
      "\n",
      "\n",
      "wordLength clustering for reduced (late) (early lists) vs. reduced (late) (late lists):\n",
      "t(40) = 1.482, p = 0.146, d = 0.126, CI = [-0.496, 3.570]\n",
      "\n",
      "\n",
      "firstLetter clustering for reduced (late) (early lists) vs. reduced (late) (late lists):\n",
      "t(40) = -0.143, p = 0.887, d = -0.017, CI = [-2.289, 1.945]\n"
     ]
    }
   ],
   "source": [
    "for i, f in enumerate(features):\n",
    "    print(f'{f} clustering for reduced (late) (early lists) vs. reduced (late) (late lists):')\n",
    "    ttest(results['fingerprint']['reduced (late)'], results['fingerprint']['reduced (late)'], x_col=f, y_col=f, x_lists='Early', y_lists='Late', independent_sample=False)\n",
    "\n",
    "    if i < len(features) - 1:\n",
    "        print('\\n')"
   ]
  },
  {
   "attachments": {},
   "cell_type": "markdown",
   "metadata": {},
   "source": [
    "## Feature rich vs. reduced ({early, late})\n",
    "\n",
    "### Accuracy"
   ]
  },
  {
   "cell_type": "code",
   "execution_count": 123,
   "metadata": {},
   "outputs": [
    {
     "name": "stdout",
     "output_type": "stream",
     "text": [
      "Accuracy for feature rich vs. reduced (early) (all lists):\n",
      "t(107) = -2.230, p = 0.028, d = -0.439, CI = [-4.244, -0.264]\n"
     ]
    }
   ],
   "source": [
    "print('Accuracy for feature rich vs. reduced (early) (all lists):')\n",
    "ttest(results['accuracy']['feature rich'], results['accuracy']['reduced (early)'])"
   ]
  },
  {
   "cell_type": "code",
   "execution_count": 124,
   "metadata": {},
   "outputs": [
    {
     "name": "stdout",
     "output_type": "stream",
     "text": [
      "Accuracy for feature rich vs. reduced (late) (all lists):\n",
      "t(106) = -0.638, p = 0.525, d = -0.126, CI = [-2.711, 1.328]\n"
     ]
    }
   ],
   "source": [
    "print('Accuracy for feature rich vs. reduced (late) (all lists):')\n",
    "ttest(results['accuracy']['feature rich'], results['accuracy']['reduced (late)'])"
   ]
  },
  {
   "attachments": {},
   "cell_type": "markdown",
   "metadata": {},
   "source": [
    "### Temporal clustering"
   ]
  },
  {
   "cell_type": "code",
   "execution_count": 125,
   "metadata": {},
   "outputs": [
    {
     "name": "stdout",
     "output_type": "stream",
     "text": [
      "Temporal clustering for feature rich vs. reduced (early) (all lists):\n",
      "t(107) = -1.379, p = 0.171, d = -0.271, CI = [-3.362, 0.658]\n"
     ]
    }
   ],
   "source": [
    "print('Temporal clustering for feature rich vs. reduced (early) (all lists):')\n",
    "ttest(results['fingerprint']['feature rich'], results['fingerprint']['reduced (early)'], x_col='temporal', y_col='temporal')"
   ]
  },
  {
   "cell_type": "code",
   "execution_count": 126,
   "metadata": {},
   "outputs": [
    {
     "name": "stdout",
     "output_type": "stream",
     "text": [
      "Temporal clustering for feature rich vs. reduced (late) (all lists):\n",
      "t(106) = -0.535, p = 0.593, d = -0.106, CI = [-2.646, 1.531]\n"
     ]
    }
   ],
   "source": [
    "print('Temporal clustering for feature rich vs. reduced (late) (all lists):')\n",
    "ttest(results['fingerprint']['feature rich'], results['fingerprint']['reduced (late)'], x_col='temporal', y_col='temporal')"
   ]
  },
  {
   "attachments": {},
   "cell_type": "markdown",
   "metadata": {},
   "source": [
    "### Non-visual feature based clustering"
   ]
  },
  {
   "cell_type": "code",
   "execution_count": 127,
   "metadata": {},
   "outputs": [
    {
     "name": "stdout",
     "output_type": "stream",
     "text": [
      "category clustering for feature rich vs. reduced (early) (all lists):\n",
      "t(107) = 0.013, p = 0.989, d = 0.003, CI = [-1.783, 2.120]\n",
      "\n",
      "\n",
      "size clustering for feature rich vs. reduced (early) (all lists):\n",
      "t(107) = -0.349, p = 0.728, d = -0.069, CI = [-2.124, 1.494]\n",
      "\n",
      "\n",
      "wordLength clustering for feature rich vs. reduced (early) (all lists):\n",
      "t(107) = -0.581, p = 0.563, d = -0.114, CI = [-2.338, 1.329]\n",
      "\n",
      "\n",
      "firstLetter clustering for feature rich vs. reduced (early) (all lists):\n",
      "t(107) = 0.636, p = 0.526, d = 0.125, CI = [-1.207, 2.826]\n"
     ]
    }
   ],
   "source": [
    "features = ['category', 'size', 'wordLength', 'firstLetter']\n",
    "for i, f in enumerate(features):\n",
    "    print(f'{f} clustering for feature rich vs. reduced (early) (all lists):')\n",
    "    ttest(results['fingerprint']['feature rich'], results['fingerprint']['reduced (early)'], x_col=f, y_col=f)\n",
    "\n",
    "    if i < len(features) - 1:\n",
    "        print('\\n')"
   ]
  },
  {
   "cell_type": "code",
   "execution_count": 128,
   "metadata": {},
   "outputs": [
    {
     "name": "stdout",
     "output_type": "stream",
     "text": [
      "category clustering for feature rich vs. reduced (late) (all lists):\n",
      "t(106) = -1.345, p = 0.181, d = -0.267, CI = [-3.559, 0.569]\n",
      "\n",
      "\n",
      "size clustering for feature rich vs. reduced (late) (all lists):\n",
      "t(106) = -1.441, p = 0.153, d = -0.286, CI = [-3.737, 0.578]\n",
      "\n",
      "\n",
      "wordLength clustering for feature rich vs. reduced (late) (all lists):\n",
      "t(106) = -1.261, p = 0.210, d = -0.250, CI = [-3.736, 0.811]\n",
      "\n",
      "\n",
      "firstLetter clustering for feature rich vs. reduced (late) (all lists):\n",
      "t(106) = 0.939, p = 0.350, d = 0.186, CI = [-0.932, 2.921]\n"
     ]
    }
   ],
   "source": [
    "features = ['category', 'size', 'wordLength', 'firstLetter']\n",
    "for i, f in enumerate(features):\n",
    "    print(f'{f} clustering for feature rich vs. reduced (late) (all lists):')\n",
    "    ttest(results['fingerprint']['feature rich'], results['fingerprint']['reduced (late)'], x_col=f, y_col=f)\n",
    "\n",
    "    if i < len(features) - 1:\n",
    "        print('\\n')"
   ]
  },
  {
   "attachments": {},
   "cell_type": "markdown",
   "metadata": {},
   "source": [
    "## Reduced vs. reduced ({early, late})\n",
    "\n",
    "### Accuracy"
   ]
  },
  {
   "cell_type": "code",
   "execution_count": 129,
   "metadata": {},
   "outputs": [
    {
     "name": "stdout",
     "output_type": "stream",
     "text": [
      "Accuracy for reduced vs. reduced (early) (all lists):\n",
      "t(101) = -2.045, p = 0.043, d = -0.410, CI = [-3.812, -0.175]\n"
     ]
    }
   ],
   "source": [
    "print('Accuracy for reduced vs. reduced (early) (all lists):')\n",
    "ttest(results['accuracy']['reduced'], results['accuracy']['reduced (early)'])"
   ]
  },
  {
   "cell_type": "code",
   "execution_count": 130,
   "metadata": {},
   "outputs": [
    {
     "name": "stdout",
     "output_type": "stream",
     "text": [
      "Accuracy for reduced vs. reduced (late) (all lists):\n",
      "t(100) = -0.407, p = 0.685, d = -0.082, CI = [-2.520, 1.435]\n"
     ]
    }
   ],
   "source": [
    "print('Accuracy for reduced vs. reduced (late) (all lists):')\n",
    "ttest(results['accuracy']['reduced'], results['accuracy']['reduced (late)'])"
   ]
  },
  {
   "attachments": {},
   "cell_type": "markdown",
   "metadata": {},
   "source": [
    "### Temporal clustering"
   ]
  },
  {
   "cell_type": "code",
   "execution_count": 131,
   "metadata": {},
   "outputs": [
    {
     "name": "stdout",
     "output_type": "stream",
     "text": [
      "Temporal clustering for reduced vs. reduced (early) (all lists):\n",
      "t(101) = -10.689, p < 0.001, d = -2.143, CI = [-13.400, -8.526]\n"
     ]
    }
   ],
   "source": [
    "print('Temporal clustering for reduced vs. reduced (early) (all lists):')\n",
    "ttest(results['fingerprint']['reduced'], results['fingerprint']['reduced (early)'], x_col='temporal', y_col='temporal')"
   ]
  },
  {
   "cell_type": "code",
   "execution_count": 132,
   "metadata": {},
   "outputs": [
    {
     "name": "stdout",
     "output_type": "stream",
     "text": [
      "Temporal clustering for reduced vs. reduced (late) (all lists):\n",
      "t(100) = -9.885, p < 0.001, d = -1.996, CI = [-14.439, -6.547]\n"
     ]
    }
   ],
   "source": [
    "print('Temporal clustering for reduced vs. reduced (late) (all lists):')\n",
    "ttest(results['fingerprint']['reduced'], results['fingerprint']['reduced (late)'], x_col='temporal', y_col='temporal')"
   ]
  },
  {
   "attachments": {},
   "cell_type": "markdown",
   "metadata": {},
   "source": [
    "### Non-visual feature based clustering"
   ]
  },
  {
   "cell_type": "code",
   "execution_count": 133,
   "metadata": {},
   "outputs": [
    {
     "name": "stdout",
     "output_type": "stream",
     "text": [
      "category clustering for reduced vs. reduced (early) (all lists):\n",
      "t(101) = -9.538, p < 0.001, d = -1.912, CI = [-12.262, -7.558]\n",
      "\n",
      "\n",
      "size clustering for reduced vs. reduced (early) (all lists):\n",
      "t(101) = -12.222, p < 0.001, d = -2.451, CI = [-15.418, -9.763]\n",
      "\n",
      "\n",
      "wordLength clustering for reduced vs. reduced (early) (all lists):\n",
      "t(101) = -10.620, p < 0.001, d = -2.129, CI = [-14.149, -8.346]\n",
      "\n",
      "\n",
      "firstLetter clustering for reduced vs. reduced (early) (all lists):\n",
      "t(101) = -5.213, p < 0.001, d = -1.045, CI = [-7.341, -3.436]\n"
     ]
    }
   ],
   "source": [
    "features = ['category', 'size', 'wordLength', 'firstLetter']\n",
    "for i, f in enumerate(features):\n",
    "    print(f'{f} clustering for reduced vs. reduced (early) (all lists):')\n",
    "    ttest(results['fingerprint']['reduced'], results['fingerprint']['reduced (early)'], x_col=f, y_col=f)\n",
    "\n",
    "    if i < len(features) - 1:\n",
    "        print('\\n')"
   ]
  },
  {
   "cell_type": "code",
   "execution_count": 134,
   "metadata": {},
   "outputs": [
    {
     "name": "stdout",
     "output_type": "stream",
     "text": [
      "category clustering for reduced vs. reduced (late) (all lists):\n",
      "t(100) = -10.436, p < 0.001, d = -2.107, CI = [-15.533, -7.108]\n",
      "\n",
      "\n",
      "size clustering for reduced vs. reduced (late) (all lists):\n",
      "t(100) = -12.413, p < 0.001, d = -2.507, CI = [-18.183, -8.493]\n",
      "\n",
      "\n",
      "wordLength clustering for reduced vs. reduced (late) (all lists):\n",
      "t(100) = -9.672, p < 0.001, d = -1.953, CI = [-14.600, -6.274]\n",
      "\n",
      "\n",
      "firstLetter clustering for reduced vs. reduced (late) (all lists):\n",
      "t(100) = -4.555, p < 0.001, d = -0.920, CI = [-7.167, -2.387]\n"
     ]
    }
   ],
   "source": [
    "features = ['category', 'size', 'wordLength', 'firstLetter']\n",
    "for i, f in enumerate(features):\n",
    "    print(f'{f} clustering for reduced vs. reduced (late) (all lists):')\n",
    "    ttest(results['fingerprint']['reduced'], results['fingerprint']['reduced (late)'], x_col=f, y_col=f)\n",
    "\n",
    "    if i < len(features) - 1:\n",
    "        print('\\n')"
   ]
  },
  {
   "attachments": {},
   "cell_type": "markdown",
   "metadata": {},
   "source": [
    "# Order manipulation analyses\n",
    "\n",
    "- When lists are sorted by a given feature, how is memory performance affected (relative to feature rich -- early lists only)?\n",
    "- Do some order manipulations matter more than others?  E.g. compare semantic vs. lexicographic vs. visual -- early lists only"
   ]
  },
  {
   "attachments": {},
   "cell_type": "markdown",
   "metadata": {},
   "source": [
    "### Accuracy"
   ]
  },
  {
   "cell_type": "code",
   "execution_count": 135,
   "metadata": {},
   "outputs": [
    {
     "name": "stdout",
     "output_type": "stream",
     "text": [
      "Accuracy for category vs. feature rich (early lists):\n",
      "t(95) = 3.034, p = 0.003, d = 0.667, CI = [1.249, 5.399]\n",
      "\n",
      "Accuracy for size vs. feature rich (early lists):\n",
      "t(95) = -1.013, p = 0.314, d = -0.223, CI = [-3.275, 1.063]\n",
      "\n",
      "Accuracy for length vs. feature rich (early lists):\n",
      "t(95) = -0.550, p = 0.584, d = -0.121, CI = [-2.505, 1.278]\n",
      "\n",
      "Accuracy for first letter vs. feature rich (early lists):\n",
      "t(95) = -0.690, p = 0.492, d = -0.152, CI = [-2.719, 1.076]\n",
      "\n",
      "Accuracy for color vs. feature rich (early lists):\n",
      "t(96) = 1.850, p = 0.067, d = 0.402, CI = [0.073, 3.668]\n",
      "\n",
      "Accuracy for location vs. feature rich (early lists):\n",
      "t(95) = 0.043, p = 0.966, d = 0.010, CI = [-1.677, 1.540]\n"
     ]
    }
   ],
   "source": [
    "print('Accuracy for category vs. feature rich (early lists):')\n",
    "ttest(results['accuracy']['category'], results['accuracy']['feature rich'], x_lists='Early', y_lists='Early')\n",
    "\n",
    "print('\\nAccuracy for size vs. feature rich (early lists):')\n",
    "ttest(results['accuracy']['size'], results['accuracy']['feature rich'], x_lists='Early', y_lists='Early')\n",
    "\n",
    "print('\\nAccuracy for length vs. feature rich (early lists):')\n",
    "ttest(results['accuracy']['length'], results['accuracy']['feature rich'], x_lists='Early', y_lists='Early')\n",
    "\n",
    "print('\\nAccuracy for first letter vs. feature rich (early lists):')\n",
    "ttest(results['accuracy']['first letter'], results['accuracy']['feature rich'], x_lists='Early', y_lists='Early')\n",
    "\n",
    "print('\\nAccuracy for color vs. feature rich (early lists):')\n",
    "ttest(results['accuracy']['color'], results['accuracy']['feature rich'], x_lists='Early', y_lists='Early')\n",
    "\n",
    "print('\\nAccuracy for location vs. feature rich (early lists):')\n",
    "ttest(results['accuracy']['location'], results['accuracy']['feature rich'], x_lists='Early', y_lists='Early')"
   ]
  },
  {
   "attachments": {},
   "cell_type": "markdown",
   "metadata": {},
   "source": [
    "### Temporal clustering"
   ]
  },
  {
   "cell_type": "code",
   "execution_count": 136,
   "metadata": {},
   "outputs": [
    {
     "name": "stdout",
     "output_type": "stream",
     "text": [
      "Temporal clustering for category vs. feature rich (early lists):\n",
      "t(95) = 8.813, p < 0.001, d = 1.936, CI = [6.847, 12.119]\n",
      "\n",
      "Temporal clustering for size vs. feature rich (early lists):\n",
      "t(95) = 2.630, p = 0.010, d = 0.578, CI = [0.686, 4.720]\n",
      "\n",
      "Temporal clustering for length vs. feature rich (early lists):\n",
      "t(95) = -1.547, p = 0.125, d = -0.340, CI = [-3.670, 0.167]\n",
      "\n",
      "Temporal clustering for first letter vs. feature rich (early lists):\n",
      "t(95) = 2.858, p = 0.005, d = 0.628, CI = [1.003, 4.808]\n",
      "\n",
      "Temporal clustering for color vs. feature rich (early lists):\n",
      "t(96) = -1.339, p = 0.184, d = -0.291, CI = [-3.339, 0.323]\n",
      "\n",
      "Temporal clustering for location vs. feature rich (early lists):\n",
      "t(95) = 1.705, p = 0.092, d = 0.374, CI = [-0.077, 3.598]\n"
     ]
    }
   ],
   "source": [
    "print('Temporal clustering for category vs. feature rich (early lists):')\n",
    "ttest(results['fingerprint']['category'], results['fingerprint']['feature rich'], x_lists='Early', y_lists='Early', x_col='temporal', y_col='temporal')\n",
    "\n",
    "print('\\nTemporal clustering for size vs. feature rich (early lists):')\n",
    "ttest(results['fingerprint']['size'], results['fingerprint']['feature rich'], x_lists='Early', y_lists='Early', x_col='temporal', y_col='temporal')\n",
    "\n",
    "print('\\nTemporal clustering for length vs. feature rich (early lists):')\n",
    "ttest(results['fingerprint']['length'], results['fingerprint']['feature rich'], x_lists='Early', y_lists='Early', x_col='temporal', y_col='temporal')\n",
    "\n",
    "print('\\nTemporal clustering for first letter vs. feature rich (early lists):')\n",
    "ttest(results['fingerprint']['first letter'], results['fingerprint']['feature rich'], x_lists='Early', y_lists='Early', x_col='temporal', y_col='temporal')\n",
    "\n",
    "print('\\nTemporal clustering for color vs. feature rich (early lists):')\n",
    "ttest(results['fingerprint']['color'], results['fingerprint']['feature rich'], x_lists='Early', y_lists='Early', x_col='temporal', y_col='temporal')\n",
    "\n",
    "print('\\nTemporal clustering for location vs. feature rich (early lists):')\n",
    "ttest(results['fingerprint']['location'], results['fingerprint']['feature rich'], x_lists='Early', y_lists='Early', x_col='temporal', y_col='temporal')"
   ]
  },
  {
   "attachments": {},
   "cell_type": "markdown",
   "metadata": {},
   "source": [
    "### Feature-based clustering"
   ]
  },
  {
   "cell_type": "code",
   "execution_count": 137,
   "metadata": {},
   "outputs": [
    {
     "name": "stdout",
     "output_type": "stream",
     "text": [
      "category clustering for category vs. feature rich (early lists):\n",
      "t(95) = 4.429, p < 0.001, d = 0.973, CI = [2.936, 6.327]\n",
      "\n",
      "\n",
      "size clustering for category vs. feature rich (early lists):\n",
      "t(95) = 3.727, p < 0.001, d = 0.819, CI = [1.927, 5.619]\n",
      "\n",
      "\n",
      "wordLength clustering for category vs. feature rich (early lists):\n",
      "t(95) = 0.154, p = 0.878, d = 0.034, CI = [-1.700, 1.862]\n",
      "\n",
      "\n",
      "firstLetter clustering for category vs. feature rich (early lists):\n",
      "t(95) = -1.610, p = 0.111, d = -0.354, CI = [-3.772, 0.136]\n",
      "\n",
      "\n",
      "color clustering for category vs. feature rich (early lists):\n",
      "t(95) = -0.375, p = 0.709, d = -0.082, CI = [-2.766, 1.512]\n",
      "\n",
      "\n",
      "location clustering for category vs. feature rich (early lists):\n",
      "t(95) = -0.347, p = 0.730, d = -0.076, CI = [-2.621, 1.601]\n",
      "\n",
      "\n",
      "--- \n",
      "\n",
      "category clustering for size vs. feature rich (early lists):\n",
      "t(95) = 0.330, p = 0.742, d = 0.073, CI = [-1.609, 2.373]\n",
      "\n",
      "\n",
      "size clustering for size vs. feature rich (early lists):\n",
      "t(95) = 2.421, p = 0.017, d = 0.532, CI = [0.586, 4.431]\n",
      "\n",
      "\n",
      "wordLength clustering for size vs. feature rich (early lists):\n",
      "t(95) = 0.664, p = 0.508, d = 0.146, CI = [-1.107, 2.339]\n",
      "\n",
      "\n",
      "firstLetter clustering for size vs. feature rich (early lists):\n",
      "t(95) = 0.210, p = 0.834, d = 0.046, CI = [-2.041, 2.147]\n",
      "\n",
      "\n",
      "color clustering for size vs. feature rich (early lists):\n",
      "t(95) = -0.667, p = 0.506, d = -0.147, CI = [-2.741, 1.067]\n",
      "\n",
      "\n",
      "location clustering for size vs. feature rich (early lists):\n",
      "t(95) = -0.060, p = 0.952, d = -0.013, CI = [-2.106, 1.848]\n",
      "\n",
      "\n",
      "--- \n",
      "\n",
      "category clustering for length vs. feature rich (early lists):\n",
      "t(95) = -0.178, p = 0.859, d = -0.039, CI = [-2.300, 1.924]\n",
      "\n",
      "\n",
      "size clustering for length vs. feature rich (early lists):\n",
      "t(95) = 0.334, p = 0.739, d = 0.073, CI = [-1.722, 2.404]\n",
      "\n",
      "\n",
      "wordLength clustering for length vs. feature rich (early lists):\n",
      "t(95) = 5.898, p < 0.001, d = 1.296, CI = [3.970, 8.491]\n",
      "\n",
      "\n",
      "firstLetter clustering for length vs. feature rich (early lists):\n",
      "t(95) = 0.758, p = 0.450, d = 0.167, CI = [-1.152, 2.714]\n",
      "\n",
      "\n",
      "color clustering for length vs. feature rich (early lists):\n",
      "t(95) = -0.434, p = 0.666, d = -0.095, CI = [-2.608, 1.430]\n",
      "\n",
      "\n",
      "location clustering for length vs. feature rich (early lists):\n",
      "t(95) = 0.345, p = 0.731, d = 0.076, CI = [-1.615, 2.225]\n",
      "\n",
      "\n",
      "--- \n",
      "\n",
      "category clustering for first letter vs. feature rich (early lists):\n",
      "t(95) = -1.604, p = 0.112, d = -0.352, CI = [-3.627, 0.137]\n",
      "\n",
      "\n",
      "size clustering for first letter vs. feature rich (early lists):\n",
      "t(95) = -0.359, p = 0.721, d = -0.079, CI = [-2.347, 1.265]\n",
      "\n",
      "\n",
      "wordLength clustering for first letter vs. feature rich (early lists):\n",
      "t(95) = 0.359, p = 0.720, d = 0.079, CI = [-1.728, 2.240]\n",
      "\n",
      "\n",
      "firstLetter clustering for first letter vs. feature rich (early lists):\n",
      "t(95) = 8.845, p < 0.001, d = 1.943, CI = [7.013, 11.350]\n",
      "\n",
      "\n",
      "color clustering for first letter vs. feature rich (early lists):\n",
      "t(95) = 0.613, p = 0.542, d = 0.135, CI = [-1.293, 2.273]\n",
      "\n",
      "\n",
      "location clustering for first letter vs. feature rich (early lists):\n",
      "t(95) = 0.307, p = 0.759, d = 0.067, CI = [-1.591, 2.199]\n",
      "\n",
      "\n",
      "--- \n",
      "\n",
      "category clustering for color vs. feature rich (early lists):\n",
      "t(96) = -0.619, p = 0.538, d = -0.134, CI = [-2.556, 1.034]\n",
      "\n",
      "\n",
      "size clustering for color vs. feature rich (early lists):\n",
      "t(96) = -0.535, p = 0.594, d = -0.116, CI = [-2.593, 1.176]\n",
      "\n",
      "\n",
      "wordLength clustering for color vs. feature rich (early lists):\n",
      "t(96) = 0.007, p = 0.994, d = 0.002, CI = [-1.875, 1.809]\n",
      "\n",
      "\n",
      "firstLetter clustering for color vs. feature rich (early lists):\n",
      "t(96) = -0.133, p = 0.895, d = -0.029, CI = [-2.311, 1.922]\n",
      "\n",
      "\n",
      "color clustering for color vs. feature rich (early lists):\n",
      "t(96) = 3.035, p = 0.003, d = 0.659, CI = [1.233, 5.005]\n",
      "\n",
      "\n",
      "location clustering for color vs. feature rich (early lists):\n",
      "t(96) = 0.201, p = 0.841, d = 0.044, CI = [-1.744, 2.000]\n",
      "\n",
      "\n",
      "--- \n",
      "\n",
      "category clustering for location vs. feature rich (early lists):\n",
      "t(95) = 0.672, p = 0.503, d = 0.148, CI = [-1.026, 2.218]\n",
      "\n",
      "\n",
      "size clustering for location vs. feature rich (early lists):\n",
      "t(95) = 0.403, p = 0.688, d = 0.088, CI = [-1.264, 1.882]\n",
      "\n",
      "\n",
      "wordLength clustering for location vs. feature rich (early lists):\n",
      "t(95) = 0.926, p = 0.357, d = 0.203, CI = [-0.877, 2.649]\n",
      "\n",
      "\n",
      "firstLetter clustering for location vs. feature rich (early lists):\n",
      "t(95) = 0.228, p = 0.820, d = 0.050, CI = [-1.603, 1.892]\n",
      "\n",
      "\n",
      "color clustering for location vs. feature rich (early lists):\n",
      "t(95) = 0.165, p = 0.869, d = 0.036, CI = [-1.983, 1.812]\n",
      "\n",
      "\n",
      "location clustering for location vs. feature rich (early lists):\n",
      "t(95) = 7.766, p < 0.001, d = 1.706, CI = [5.769, 10.409]\n"
     ]
    }
   ],
   "source": [
    "conds = ['category', 'size', 'length', 'first letter', 'color', 'location']\n",
    "features = ['category', 'size', 'wordLength', 'firstLetter', 'color', 'location']\n",
    "\n",
    "for i, c in enumerate(conds):\n",
    "    for j, f in enumerate(features):\n",
    "        print(f'{f} clustering for {c} vs. feature rich (early lists):')\n",
    "        ttest(results['fingerprint'][c], results['fingerprint']['feature rich'], x_col=f, y_col=f, x_lists='Early', y_lists='Early')\n",
    "\n",
    "        if (j < len(features) - 1) or (i < len(conds) - 1):\n",
    "            print('\\n')\n",
    "    \n",
    "    if i < len(conds) - 1:\n",
    "        print('--- \\n')"
   ]
  },
  {
   "attachments": {},
   "cell_type": "markdown",
   "metadata": {},
   "source": [
    "## Combine \"categories\" of features:\n",
    "  - semantic = category + size\n",
    "  - lexicographic = length + first letter\n",
    "  - visual = color + location"
   ]
  },
  {
   "cell_type": "code",
   "execution_count": 138,
   "metadata": {},
   "outputs": [],
   "source": [
    "groups = {k: v for k, v in feature_groupings.items() if k in ['semantic', 'lexicographic', 'visual']}\n",
    "\n",
    "merged_results = {}\n",
    "for k, v in results.items():\n",
    "    if k not in ['fingerprint', 'accuracy', 'corrected fingerprint']:\n",
    "        continue\n",
    "    merged_results[k] = merge_results(v, groups)"
   ]
  },
  {
   "attachments": {},
   "cell_type": "markdown",
   "metadata": {},
   "source": [
    "## Compare semantic vs. feature rich\n",
    "\n",
    "### Accuracy"
   ]
  },
  {
   "cell_type": "code",
   "execution_count": 139,
   "metadata": {},
   "outputs": [
    {
     "name": "stdout",
     "output_type": "stream",
     "text": [
      "Accuracy for semantic vs. feature rich (early lists):\n",
      "t(125) = 1.197, p = 0.233, d = 0.213, CI = [-0.748, 3.129]\n",
      "\n",
      "Accuracy for lexicographic vs. feature rich (early lists):\n",
      "t(125) = -0.776, p = 0.439, d = -0.138, CI = [-2.920, 1.124]\n",
      "\n",
      "Accuracy for visual vs. feature rich (early lists):\n",
      "t(126) = 1.256, p = 0.212, d = 0.222, CI = [-0.778, 3.122]\n"
     ]
    }
   ],
   "source": [
    "print('Accuracy for semantic vs. feature rich (early lists):')\n",
    "ttest(merged_results['accuracy']['semantic'], results['accuracy']['feature rich'], x_lists='Early', y_lists='Early')\n",
    "\n",
    "print('\\nAccuracy for lexicographic vs. feature rich (early lists):')\n",
    "ttest(merged_results['accuracy']['lexicographic'], results['accuracy']['feature rich'], x_lists='Early', y_lists='Early')\n",
    "\n",
    "print('\\nAccuracy for visual vs. feature rich (early lists):')\n",
    "ttest(merged_results['accuracy']['visual'], results['accuracy']['feature rich'], x_lists='Early', y_lists='Early')"
   ]
  },
  {
   "cell_type": "code",
   "execution_count": 140,
   "metadata": {},
   "outputs": [
    {
     "name": "stdout",
     "output_type": "stream",
     "text": [
      "Accuracy for semantic vs. feature rich (early lists):\n",
      "t(125) = 1.197, p = 0.233, d = 0.213, CI = [-0.662, 3.135]\n",
      "\n",
      "Accuracy for lexicographic vs. feature rich (early lists):\n",
      "t(125) = -0.776, p = 0.439, d = -0.138, CI = [-2.809, 1.083]\n",
      "\n",
      "Accuracy for visual vs. feature rich (early lists):\n",
      "t(126) = 1.256, p = 0.212, d = 0.222, CI = [-0.790, 3.238]\n"
     ]
    }
   ],
   "source": [
    "print('Accuracy for semantic vs. feature rich (early lists):')\n",
    "ttest(merged_results['accuracy']['semantic'], results['accuracy']['feature rich'], x_lists='Early', y_lists='Early')\n",
    "\n",
    "print('\\nAccuracy for lexicographic vs. feature rich (early lists):')\n",
    "ttest(merged_results['accuracy']['lexicographic'], results['accuracy']['feature rich'], x_lists='Early', y_lists='Early')\n",
    "\n",
    "print('\\nAccuracy for visual vs. feature rich (early lists):')\n",
    "ttest(merged_results['accuracy']['visual'], results['accuracy']['feature rich'], x_lists='Early', y_lists='Early')"
   ]
  },
  {
   "attachments": {},
   "cell_type": "markdown",
   "metadata": {},
   "source": [
    "### Temporal clustering"
   ]
  },
  {
   "cell_type": "code",
   "execution_count": 141,
   "metadata": {},
   "outputs": [
    {
     "name": "stdout",
     "output_type": "stream",
     "text": [
      "Temporal clustering for semantic vs. feature rich (early lists):\n",
      "t(125) = 6.474, p < 0.001, d = 1.151, CI = [4.493, 8.866]\n",
      "\n",
      "Temporal clustering for lexicographic vs. feature rich (early lists):\n",
      "t(125) = 0.786, p = 0.433, d = 0.140, CI = [-1.213, 2.682]\n",
      "\n",
      "Temporal clustering for visual vs. feature rich (early lists):\n",
      "t(126) = 0.254, p = 0.800, d = 0.045, CI = [-1.757, 2.181]\n"
     ]
    }
   ],
   "source": [
    "print('Temporal clustering for semantic vs. feature rich (early lists):')\n",
    "ttest(merged_results['fingerprint']['semantic'], results['fingerprint']['feature rich'], x_lists='Early', y_lists='Early', x_col='temporal', y_col='temporal')\n",
    "\n",
    "print('\\nTemporal clustering for lexicographic vs. feature rich (early lists):')\n",
    "ttest(merged_results['fingerprint']['lexicographic'], results['fingerprint']['feature rich'], x_lists='Early', y_lists='Early', x_col='temporal', y_col='temporal')\n",
    "\n",
    "print('\\nTemporal clustering for visual vs. feature rich (early lists):')\n",
    "ttest(merged_results['fingerprint']['visual'], results['fingerprint']['feature rich'], x_lists='Early', y_lists='Early', x_col='temporal', y_col='temporal')"
   ]
  },
  {
   "attachments": {},
   "cell_type": "markdown",
   "metadata": {},
   "source": [
    "### Feature based clustering"
   ]
  },
  {
   "cell_type": "code",
   "execution_count": 142,
   "metadata": {},
   "outputs": [
    {
     "name": "stdout",
     "output_type": "stream",
     "text": [
      "category clustering for semantic vs. feature rich (early lists):\n",
      "t(125) = 2.722, p = 0.007, d = 0.484, CI = [0.708, 4.832]\n",
      "\n",
      "\n",
      "size clustering for semantic vs. feature rich (early lists):\n",
      "t(125) = 3.866, p < 0.001, d = 0.687, CI = [2.037, 5.881]\n",
      "\n",
      "\n",
      "wordLength clustering for semantic vs. feature rich (early lists):\n",
      "t(125) = 0.521, p = 0.603, d = 0.093, CI = [-1.567, 2.460]\n",
      "\n",
      "\n",
      "firstLetter clustering for semantic vs. feature rich (early lists):\n",
      "t(125) = -0.842, p = 0.401, d = -0.150, CI = [-2.908, 1.088]\n",
      "\n",
      "\n",
      "color clustering for semantic vs. feature rich (early lists):\n",
      "t(125) = -0.650, p = 0.517, d = -0.116, CI = [-2.714, 1.191]\n",
      "\n",
      "\n",
      "location clustering for semantic vs. feature rich (early lists):\n",
      "t(125) = -0.251, p = 0.802, d = -0.045, CI = [-2.445, 1.526]\n",
      "\n",
      "\n",
      "--- \n",
      "\n",
      "category clustering for lexicographic vs. feature rich (early lists):\n",
      "t(125) = -1.040, p = 0.301, d = -0.185, CI = [-3.213, 0.825]\n",
      "\n",
      "\n",
      "size clustering for lexicographic vs. feature rich (early lists):\n",
      "t(125) = 0.006, p = 0.995, d = 0.001, CI = [-2.012, 1.887]\n",
      "\n",
      "\n",
      "wordLength clustering for lexicographic vs. feature rich (early lists):\n",
      "t(125) = 3.682, p < 0.001, d = 0.655, CI = [1.806, 5.581]\n",
      "\n",
      "\n",
      "firstLetter clustering for lexicographic vs. feature rich (early lists):\n",
      "t(125) = 5.134, p < 0.001, d = 0.912, CI = [3.265, 7.233]\n",
      "\n",
      "\n",
      "color clustering for lexicographic vs. feature rich (early lists):\n",
      "t(125) = 0.092, p = 0.927, d = 0.016, CI = [-1.968, 2.005]\n",
      "\n",
      "\n",
      "location clustering for lexicographic vs. feature rich (early lists):\n",
      "t(125) = 0.407, p = 0.685, d = 0.072, CI = [-1.550, 2.352]\n",
      "\n",
      "\n",
      "--- \n",
      "\n",
      "category clustering for visual vs. feature rich (early lists):\n",
      "t(126) = 0.012, p = 0.991, d = 0.002, CI = [-1.974, 1.747]\n",
      "\n",
      "\n",
      "size clustering for visual vs. feature rich (early lists):\n",
      "t(126) = -0.104, p = 0.917, d = -0.018, CI = [-2.009, 1.913]\n",
      "\n",
      "\n",
      "wordLength clustering for visual vs. feature rich (early lists):\n",
      "t(126) = 0.592, p = 0.555, d = 0.105, CI = [-1.510, 2.512]\n",
      "\n",
      "\n",
      "firstLetter clustering for visual vs. feature rich (early lists):\n",
      "t(126) = 0.040, p = 0.968, d = 0.007, CI = [-1.881, 1.978]\n",
      "\n",
      "\n",
      "color clustering for visual vs. feature rich (early lists):\n",
      "t(126) = 2.022, p = 0.045, d = 0.358, CI = [0.063, 4.021]\n",
      "\n",
      "\n",
      "location clustering for visual vs. feature rich (early lists):\n",
      "t(126) = 4.390, p < 0.001, d = 0.777, CI = [2.750, 6.384]\n"
     ]
    }
   ],
   "source": [
    "conds = ['semantic', 'lexicographic', 'visual']\n",
    "features = ['category', 'size', 'wordLength', 'firstLetter', 'color', 'location']\n",
    "\n",
    "for i, c in enumerate(conds):\n",
    "    for j, f in enumerate(features):\n",
    "        print(f'{f} clustering for {c} vs. feature rich (early lists):')\n",
    "        ttest(merged_results['fingerprint'][c], results['fingerprint']['feature rich'], x_col=f, y_col=f, x_lists='Early', y_lists='Early')\n",
    "\n",
    "        if (j < len(features) - 1) or (i < len(conds) - 1):\n",
    "            print('\\n')\n",
    "    \n",
    "    if i < len(conds) - 1:\n",
    "        print('--- \\n')"
   ]
  },
  {
   "attachments": {},
   "cell_type": "markdown",
   "metadata": {},
   "source": [
    "## Compare each pair of (category of) order manipulation conditions (semantic, lexicographic, and visual)"
   ]
  },
  {
   "attachments": {},
   "cell_type": "markdown",
   "metadata": {},
   "source": [
    "### Accuracy"
   ]
  },
  {
   "cell_type": "code",
   "execution_count": 143,
   "metadata": {},
   "outputs": [
    {
     "name": "stdout",
     "output_type": "stream",
     "text": [
      "Accuracy for semantic vs. lexicographic (early lists):\n",
      "t(118) = 1.936, p = 0.055, d = 0.353, CI = [-0.006, 3.984]\n",
      "\n",
      "Accuracy for semantic vs. lexicographic (late lists):\n",
      "t(118) = -0.388, p = 0.699, d = -0.071, CI = [-2.519, 1.504]\n",
      "\n",
      "\n",
      "\n",
      "Accuracy for semantic vs. visual (early lists):\n",
      "t(119) = 0.113, p = 0.910, d = 0.021, CI = [-1.874, 2.064]\n",
      "\n",
      "Accuracy for semantic vs. visual (late lists):\n",
      "t(119) = -0.833, p = 0.407, d = -0.151, CI = [-3.157, 1.020]\n",
      "\n",
      "\n",
      "\n",
      "Accuracy for lexicographic vs. visual (early lists):\n",
      "t(119) = -2.145, p = 0.034, d = -0.390, CI = [-4.126, -0.139]\n",
      "\n",
      "Accuracy for lexicographic vs. visual (late lists):\n",
      "t(119) = -0.352, p = 0.726, d = -0.064, CI = [-2.319, 1.569]\n",
      "\n",
      "\n",
      "\n"
     ]
    }
   ],
   "source": [
    "for i, c1 in enumerate(conds):\n",
    "    for c2 in conds[i+1:]:\n",
    "        print(f'Accuracy for {c1} vs. {c2} (early lists):')\n",
    "        ttest(merged_results['accuracy'][c1], merged_results['accuracy'][c2], x_lists='Early', y_lists='Early')\n",
    "\n",
    "        print(f'\\nAccuracy for {c1} vs. {c2} (late lists):')\n",
    "        ttest(merged_results['accuracy'][c1], merged_results['accuracy'][c2], x_lists='Late', y_lists='Late')\n",
    "\n",
    "        print('\\n\\n')"
   ]
  },
  {
   "attachments": {},
   "cell_type": "markdown",
   "metadata": {},
   "source": [
    "### Temporal clustering"
   ]
  },
  {
   "cell_type": "code",
   "execution_count": 144,
   "metadata": {},
   "outputs": [
    {
     "name": "stdout",
     "output_type": "stream",
     "text": [
      "Temporal clustering for semantic vs. lexicographic (early lists):\n",
      "t(118) = 5.620, p < 0.001, d = 1.026, CI = [3.507, 7.995]\n",
      "\n",
      "Temporal clustering for semantic vs. lexicographic (late lists):\n",
      "t(118) = -0.758, p = 0.450, d = -0.138, CI = [-2.743, 1.358]\n",
      "\n",
      "\n",
      "Temporal clustering for semantic vs. visual (early lists):\n",
      "t(119) = 6.613, p < 0.001, d = 1.202, CI = [4.469, 9.364]\n",
      "\n",
      "Temporal clustering for semantic vs. visual (late lists):\n",
      "t(119) = -0.322, p = 0.748, d = -0.059, CI = [-2.417, 1.550]\n",
      "\n",
      "\n",
      "Temporal clustering for lexicographic vs. visual (early lists):\n",
      "t(119) = 0.589, p = 0.557, d = 0.107, CI = [-1.276, 2.591]\n",
      "\n",
      "Temporal clustering for lexicographic vs. visual (late lists):\n",
      "t(119) = 0.562, p = 0.575, d = 0.102, CI = [-1.511, 2.473]\n",
      "\n",
      "\n"
     ]
    }
   ],
   "source": [
    "for i, c1 in enumerate(conds):\n",
    "    for c2 in conds[i+1:]:\n",
    "        print(f'Temporal clustering for {c1} vs. {c2} (early lists):')\n",
    "        ttest(merged_results['fingerprint'][c1], merged_results['fingerprint'][c2], x_lists='Early', y_lists='Early', x_col='temporal', y_col='temporal')\n",
    "\n",
    "        print(f'\\nTemporal clustering for {c1} vs. {c2} (late lists):')\n",
    "        ttest(merged_results['fingerprint'][c1], merged_results['fingerprint'][c2], x_lists='Late', y_lists='Late', x_col='temporal', y_col='temporal')\n",
    "\n",
    "        print('\\n')"
   ]
  },
  {
   "attachments": {},
   "cell_type": "markdown",
   "metadata": {},
   "source": [
    "### Feature-based clustering"
   ]
  },
  {
   "cell_type": "code",
   "execution_count": 145,
   "metadata": {},
   "outputs": [
    {
     "name": "stdout",
     "output_type": "stream",
     "text": [
      "category clustering for semantic vs. lexicographic (early lists):\n",
      "t(118) = 3.667, p < 0.001, d = 0.670, CI = [1.646, 6.074]\n",
      "\n",
      "category clustering for semantic vs. lexicographic (late lists):\n",
      "t(118) = -0.720, p = 0.473, d = -0.131, CI = [-2.597, 1.387]\n",
      "\n",
      "\n",
      "size clustering for semantic vs. lexicographic (early lists):\n",
      "t(118) = 4.043, p < 0.001, d = 0.738, CI = [2.109, 6.185]\n",
      "\n",
      "size clustering for semantic vs. lexicographic (late lists):\n",
      "t(118) = -1.897, p = 0.060, d = -0.346, CI = [-3.922, -0.011]\n",
      "\n",
      "\n",
      "wordLength clustering for semantic vs. lexicographic (early lists):\n",
      "t(118) = -3.390, p < 0.001, d = -0.619, CI = [-5.444, -1.559]\n",
      "\n",
      "wordLength clustering for semantic vs. lexicographic (late lists):\n",
      "t(118) = 1.153, p = 0.251, d = 0.211, CI = [-0.777, 3.229]\n",
      "\n",
      "\n",
      "firstLetter clustering for semantic vs. lexicographic (early lists):\n",
      "t(118) = -5.705, p < 0.001, d = -1.042, CI = [-7.852, -3.806]\n",
      "\n",
      "firstLetter clustering for semantic vs. lexicographic (late lists):\n",
      "t(118) = -0.880, p = 0.381, d = -0.161, CI = [-2.874, 1.100]\n",
      "\n",
      "\n",
      "color clustering for semantic vs. lexicographic (early lists):\n",
      "t(118) = -0.767, p = 0.444, d = -0.140, CI = [-2.751, 1.064]\n",
      "\n",
      "color clustering for semantic vs. lexicographic (late lists):\n",
      "t(118) = -0.728, p = 0.468, d = -0.133, CI = [-2.786, 1.116]\n",
      "\n",
      "\n",
      "location clustering for semantic vs. lexicographic (early lists):\n",
      "t(118) = -0.658, p = 0.512, d = -0.120, CI = [-2.490, 1.381]\n",
      "\n",
      "location clustering for semantic vs. lexicographic (late lists):\n",
      "t(118) = 0.111, p = 0.912, d = 0.020, CI = [-1.653, 1.933]\n",
      "\n",
      "\n",
      "category clustering for semantic vs. visual (early lists):\n",
      "t(119) = 3.114, p = 0.002, d = 0.566, CI = [1.163, 5.570]\n",
      "\n",
      "category clustering for semantic vs. visual (late lists):\n",
      "t(119) = -1.292, p = 0.199, d = -0.235, CI = [-3.363, 0.780]\n",
      "\n",
      "\n",
      "size clustering for semantic vs. visual (early lists):\n",
      "t(119) = 4.692, p < 0.001, d = 0.853, CI = [2.666, 6.976]\n",
      "\n",
      "size clustering for semantic vs. visual (late lists):\n",
      "t(119) = -1.349, p = 0.180, d = -0.245, CI = [-3.389, 0.580]\n",
      "\n",
      "\n",
      "wordLength clustering for semantic vs. visual (early lists):\n",
      "t(119) = -0.068, p = 0.946, d = -0.012, CI = [-1.975, 1.611]\n",
      "\n",
      "wordLength clustering for semantic vs. visual (late lists):\n",
      "t(119) = -2.074, p = 0.040, d = -0.377, CI = [-4.261, -0.160]\n",
      "\n",
      "\n",
      "firstLetter clustering for semantic vs. visual (early lists):\n",
      "t(119) = -0.842, p = 0.401, d = -0.153, CI = [-2.877, 0.996]\n",
      "\n",
      "firstLetter clustering for semantic vs. visual (late lists):\n",
      "t(119) = -1.355, p = 0.178, d = -0.246, CI = [-3.217, 0.605]\n",
      "\n",
      "\n",
      "color clustering for semantic vs. visual (early lists):\n",
      "t(119) = -2.673, p = 0.009, d = -0.486, CI = [-4.604, -0.801]\n",
      "\n",
      "color clustering for semantic vs. visual (late lists):\n",
      "t(119) = -0.869, p = 0.386, d = -0.158, CI = [-2.873, 1.048]\n",
      "\n",
      "\n",
      "location clustering for semantic vs. visual (early lists):\n",
      "t(119) = -4.499, p < 0.001, d = -0.818, CI = [-6.368, -2.608]\n",
      "\n",
      "location clustering for semantic vs. visual (late lists):\n",
      "t(119) = -0.737, p = 0.462, d = -0.134, CI = [-2.738, 1.080]\n",
      "\n",
      "\n",
      "category clustering for lexicographic vs. visual (early lists):\n",
      "t(119) = -1.186, p = 0.238, d = -0.216, CI = [-3.142, 0.852]\n",
      "\n",
      "category clustering for lexicographic vs. visual (late lists):\n",
      "t(119) = -0.377, p = 0.707, d = -0.069, CI = [-2.562, 1.564]\n",
      "\n",
      "\n",
      "size clustering for lexicographic vs. visual (early lists):\n",
      "t(119) = 0.118, p = 0.906, d = 0.021, CI = [-2.016, 2.088]\n",
      "\n",
      "size clustering for lexicographic vs. visual (late lists):\n",
      "t(119) = 0.828, p = 0.409, d = 0.151, CI = [-1.180, 2.765]\n",
      "\n",
      "\n",
      "wordLength clustering for lexicographic vs. visual (early lists):\n",
      "t(119) = 3.399, p < 0.001, d = 0.618, CI = [1.361, 5.512]\n",
      "\n",
      "wordLength clustering for lexicographic vs. visual (late lists):\n",
      "t(119) = -3.103, p = 0.002, d = -0.564, CI = [-5.103, -1.175]\n",
      "\n",
      "\n",
      "firstLetter clustering for lexicographic vs. visual (early lists):\n",
      "t(119) = 4.859, p < 0.001, d = 0.883, CI = [3.094, 6.737]\n",
      "\n",
      "firstLetter clustering for lexicographic vs. visual (late lists):\n",
      "t(119) = -0.436, p = 0.664, d = -0.079, CI = [-2.496, 1.599]\n",
      "\n",
      "\n",
      "color clustering for lexicographic vs. visual (early lists):\n",
      "t(119) = -1.988, p = 0.049, d = -0.361, CI = [-3.914, -0.112]\n",
      "\n",
      "color clustering for lexicographic vs. visual (late lists):\n",
      "t(119) = -0.200, p = 0.842, d = -0.036, CI = [-2.129, 1.829]\n",
      "\n",
      "\n",
      "location clustering for lexicographic vs. visual (early lists):\n",
      "t(119) = -3.966, p < 0.001, d = -0.721, CI = [-5.752, -2.212]\n",
      "\n",
      "location clustering for lexicographic vs. visual (late lists):\n",
      "t(119) = -0.832, p = 0.407, d = -0.151, CI = [-2.788, 1.150]\n",
      "\n",
      "\n"
     ]
    }
   ],
   "source": [
    "for i, c1 in enumerate(conds):\n",
    "    for c2 in conds[i+1:]:\n",
    "        for f in features:\n",
    "            print(f'{f} clustering for {c1} vs. {c2} (early lists):')\n",
    "            ttest(merged_results['fingerprint'][c1], merged_results['fingerprint'][c2], x_col=f, y_col=f, x_lists='Early', y_lists='Early')\n",
    "\n",
    "            print(f'\\n{f} clustering for {c1} vs. {c2} (late lists):')\n",
    "            ttest(merged_results['fingerprint'][c1], merged_results['fingerprint'][c2], x_col=f, y_col=f, x_lists='Late', y_lists='Late')\n",
    "\n",
    "            print('\\n')"
   ]
  },
  {
   "attachments": {},
   "cell_type": "markdown",
   "metadata": {},
   "source": [
    "# When *early* lists are sorted by a given feature, how is memory performance on *late* lists affected (relative to *feature rich* late lists)\n",
    "\n",
    "### Accuracy"
   ]
  },
  {
   "cell_type": "code",
   "execution_count": 146,
   "metadata": {},
   "outputs": [
    {
     "name": "stdout",
     "output_type": "stream",
     "text": [
      "Accuracy for semantic vs. feature rich (late lists):\n",
      "t(125) = 0.487, p = 0.627, d = 0.087, CI = [-1.577, 2.426]\n",
      "\n",
      "Accuracy for lexicographic vs. feature rich (late lists):\n",
      "t(125) = 0.878, p = 0.382, d = 0.156, CI = [-1.013, 2.929]\n",
      "\n",
      "Accuracy for visual vs. feature rich (late lists):\n",
      "t(126) = 1.437, p = 0.153, d = 0.254, CI = [-0.384, 3.395]\n"
     ]
    }
   ],
   "source": [
    "print('Accuracy for semantic vs. feature rich (late lists):')\n",
    "ttest(merged_results['accuracy']['semantic'], results['accuracy']['feature rich'], x_lists='Late', y_lists='Late')\n",
    "\n",
    "print('\\nAccuracy for lexicographic vs. feature rich (late lists):')\n",
    "ttest(merged_results['accuracy']['lexicographic'], results['accuracy']['feature rich'], x_lists='Late', y_lists='Late')\n",
    "\n",
    "print('\\nAccuracy for visual vs. feature rich (late lists):')\n",
    "ttest(merged_results['accuracy']['visual'], results['accuracy']['feature rich'], x_lists='Late', y_lists='Late')"
   ]
  },
  {
   "attachments": {},
   "cell_type": "markdown",
   "metadata": {},
   "source": [
    "### Temporal clustering"
   ]
  },
  {
   "cell_type": "code",
   "execution_count": 147,
   "metadata": {},
   "outputs": [
    {
     "name": "stdout",
     "output_type": "stream",
     "text": [
      "Temporal clustering for semantic vs. feature rich (late lists):\n",
      "t(125) = 0.157, p = 0.875, d = 0.028, CI = [-1.785, 2.209]\n",
      "\n",
      "Temporal clustering for lexicographic vs. feature rich (late lists):\n",
      "t(125) = 0.998, p = 0.320, d = 0.177, CI = [-1.052, 2.952]\n",
      "\n",
      "Temporal clustering for visual vs. feature rich (late lists):\n",
      "t(126) = 0.548, p = 0.585, d = 0.097, CI = [-1.402, 2.321]\n"
     ]
    }
   ],
   "source": [
    "print('Temporal clustering for semantic vs. feature rich (late lists):')\n",
    "ttest(merged_results['fingerprint']['semantic'], results['fingerprint']['feature rich'], x_lists='Late', y_lists='Late', x_col='temporal', y_col='temporal')\n",
    "\n",
    "print('\\nTemporal clustering for lexicographic vs. feature rich (late lists):')\n",
    "ttest(merged_results['fingerprint']['lexicographic'], results['fingerprint']['feature rich'], x_lists='Late', y_lists='Late', x_col='temporal', y_col='temporal')\n",
    "\n",
    "print('\\nTemporal clustering for visual vs. feature rich (late lists):')\n",
    "ttest(merged_results['fingerprint']['visual'], results['fingerprint']['feature rich'], x_lists='Late', y_lists='Late', x_col='temporal', y_col='temporal')"
   ]
  },
  {
   "attachments": {},
   "cell_type": "markdown",
   "metadata": {},
   "source": [
    "## Feature-based clustering"
   ]
  },
  {
   "cell_type": "code",
   "execution_count": 148,
   "metadata": {},
   "outputs": [
    {
     "name": "stdout",
     "output_type": "stream",
     "text": [
      "category clustering for semantic vs. feature rich (late lists):\n",
      "t(125) = -0.041, p = 0.967, d = -0.007, CI = [-1.890, 1.949]\n",
      "\n",
      "\n",
      "size clustering for semantic vs. feature rich (late lists):\n",
      "t(125) = -0.989, p = 0.324, d = -0.176, CI = [-3.045, 0.963]\n",
      "\n",
      "\n",
      "wordLength clustering for semantic vs. feature rich (late lists):\n",
      "t(125) = -0.045, p = 0.964, d = -0.008, CI = [-2.006, 1.874]\n",
      "\n",
      "\n",
      "firstLetter clustering for semantic vs. feature rich (late lists):\n",
      "t(125) = -0.369, p = 0.713, d = -0.066, CI = [-2.521, 1.627]\n",
      "\n",
      "\n",
      "color clustering for semantic vs. feature rich (late lists):\n",
      "t(125) = -0.602, p = 0.548, d = -0.107, CI = [-2.671, 1.215]\n",
      "\n",
      "\n",
      "location clustering for semantic vs. feature rich (late lists):\n",
      "t(125) = -0.521, p = 0.603, d = -0.093, CI = [-2.592, 1.310]\n",
      "\n",
      "\n",
      "--- \n",
      "\n",
      "category clustering for lexicographic vs. feature rich (late lists):\n",
      "t(125) = 0.678, p = 0.499, d = 0.121, CI = [-1.399, 2.603]\n",
      "\n",
      "\n",
      "size clustering for lexicographic vs. feature rich (late lists):\n",
      "t(125) = 0.915, p = 0.362, d = 0.163, CI = [-1.270, 2.923]\n",
      "\n",
      "\n",
      "wordLength clustering for lexicographic vs. feature rich (late lists):\n",
      "t(125) = -1.200, p = 0.233, d = -0.213, CI = [-3.451, 0.745]\n",
      "\n",
      "\n",
      "firstLetter clustering for lexicographic vs. feature rich (late lists):\n",
      "t(125) = 0.606, p = 0.546, d = 0.108, CI = [-1.321, 2.544]\n",
      "\n",
      "\n",
      "color clustering for lexicographic vs. feature rich (late lists):\n",
      "t(125) = 0.094, p = 0.925, d = 0.017, CI = [-1.860, 2.072]\n",
      "\n",
      "\n",
      "location clustering for lexicographic vs. feature rich (late lists):\n",
      "t(125) = -0.619, p = 0.537, d = -0.110, CI = [-2.726, 1.344]\n",
      "\n",
      "\n",
      "--- \n",
      "\n",
      "category clustering for visual vs. feature rich (late lists):\n",
      "t(126) = 1.209, p = 0.229, d = 0.214, CI = [-0.678, 3.147]\n",
      "\n",
      "\n",
      "size clustering for visual vs. feature rich (late lists):\n",
      "t(126) = 0.202, p = 0.840, d = 0.036, CI = [-1.685, 2.206]\n",
      "\n",
      "\n",
      "wordLength clustering for visual vs. feature rich (late lists):\n",
      "t(126) = 2.005, p = 0.047, d = 0.355, CI = [0.080, 3.639]\n",
      "\n",
      "\n",
      "firstLetter clustering for visual vs. feature rich (late lists):\n",
      "t(126) = 1.124, p = 0.263, d = 0.199, CI = [-0.915, 3.017]\n",
      "\n",
      "\n",
      "color clustering for visual vs. feature rich (late lists):\n",
      "t(126) = 0.278, p = 0.781, d = 0.049, CI = [-1.777, 2.176]\n",
      "\n",
      "\n",
      "location clustering for visual vs. feature rich (late lists):\n",
      "t(126) = 0.165, p = 0.869, d = 0.029, CI = [-2.024, 2.101]\n"
     ]
    }
   ],
   "source": [
    "conds = ['semantic', 'lexicographic', 'visual']\n",
    "features = ['category', 'size', 'wordLength', 'firstLetter', 'color', 'location']\n",
    "\n",
    "for i, c in enumerate(conds):\n",
    "    for j, f in enumerate(features):\n",
    "        print(f'{f} clustering for {c} vs. feature rich (late lists):')\n",
    "        ttest(merged_results['fingerprint'][c], results['fingerprint']['feature rich'], x_col=f, y_col=f, x_lists='Late', y_lists='Late')\n",
    "\n",
    "        if (j < len(features) - 1) or (i < len(conds) - 1):\n",
    "            print('\\n')\n",
    "    \n",
    "    if i < len(conds) - 1:\n",
    "        print('--- \\n')"
   ]
  },
  {
   "attachments": {},
   "cell_type": "markdown",
   "metadata": {},
   "source": [
    "# Individual difference feature clustering analyses, part 1\n",
    "\n",
    "Compute the correlations (across participants) between feature clustering, recall probability, and temporal clustering for early and late lists.  As a summary, also compute the correlations (across conditions) between the per-condition averages.  Note: for each feature clustering score, consider only the condition of interest-- e.g., for the category condition consider category clustering, for the length condition consider length clustering, and so on.\n",
    "\n",
    "Start by creating a dataframe that combines across all of the order manipulation conditions:\n",
    "  - index: subject, list group --- but rename subjects so they're unique across conditions\n",
    "  - columns:\n",
    "    - feature clustering score: pick out the appropriate element of that list/subject's fingerprint, based on the current condition\n",
    "    - temporal clustering score\n",
    "    - recall probability\n",
    "    - condition"
   ]
  },
  {
   "cell_type": "code",
   "execution_count": 149,
   "metadata": {},
   "outputs": [
    {
     "data": {
      "text/html": [
       "<div>\n",
       "<style scoped>\n",
       "    .dataframe tbody tr th:only-of-type {\n",
       "        vertical-align: middle;\n",
       "    }\n",
       "\n",
       "    .dataframe tbody tr th {\n",
       "        vertical-align: top;\n",
       "    }\n",
       "\n",
       "    .dataframe thead th {\n",
       "        text-align: right;\n",
       "    }\n",
       "</style>\n",
       "<table border=\"1\" class=\"dataframe\">\n",
       "  <thead>\n",
       "    <tr style=\"text-align: right;\">\n",
       "      <th></th>\n",
       "      <th>Subject</th>\n",
       "      <th>List</th>\n",
       "      <th>Condition</th>\n",
       "      <th>Feature clustering score</th>\n",
       "      <th>Corrected feature clustering score</th>\n",
       "      <th>Temporal clustering score</th>\n",
       "      <th>Recall probability</th>\n",
       "    </tr>\n",
       "  </thead>\n",
       "  <tbody>\n",
       "    <tr>\n",
       "      <th>0</th>\n",
       "      <td>0</td>\n",
       "      <td>Early</td>\n",
       "      <td>Feature rich</td>\n",
       "      <td>0.495229</td>\n",
       "      <td>0.485292</td>\n",
       "      <td>0.562750</td>\n",
       "      <td>0.484375</td>\n",
       "    </tr>\n",
       "    <tr>\n",
       "      <th>1</th>\n",
       "      <td>1</td>\n",
       "      <td>Early</td>\n",
       "      <td>Feature rich</td>\n",
       "      <td>0.559542</td>\n",
       "      <td>0.582875</td>\n",
       "      <td>0.486750</td>\n",
       "      <td>0.859375</td>\n",
       "    </tr>\n",
       "    <tr>\n",
       "      <th>2</th>\n",
       "      <td>2</td>\n",
       "      <td>Early</td>\n",
       "      <td>Feature rich</td>\n",
       "      <td>0.538500</td>\n",
       "      <td>0.532000</td>\n",
       "      <td>0.660500</td>\n",
       "      <td>0.625000</td>\n",
       "    </tr>\n",
       "    <tr>\n",
       "      <th>3</th>\n",
       "      <td>3</td>\n",
       "      <td>Early</td>\n",
       "      <td>Feature rich</td>\n",
       "      <td>0.519375</td>\n",
       "      <td>0.474292</td>\n",
       "      <td>0.596500</td>\n",
       "      <td>0.531250</td>\n",
       "    </tr>\n",
       "    <tr>\n",
       "      <th>4</th>\n",
       "      <td>4</td>\n",
       "      <td>Early</td>\n",
       "      <td>Feature rich</td>\n",
       "      <td>0.566917</td>\n",
       "      <td>0.565833</td>\n",
       "      <td>0.680000</td>\n",
       "      <td>0.546875</td>\n",
       "    </tr>\n",
       "    <tr>\n",
       "      <th>...</th>\n",
       "      <td>...</td>\n",
       "      <td>...</td>\n",
       "      <td>...</td>\n",
       "      <td>...</td>\n",
       "      <td>...</td>\n",
       "      <td>...</td>\n",
       "      <td>...</td>\n",
       "    </tr>\n",
       "    <tr>\n",
       "      <th>491</th>\n",
       "      <td>243</td>\n",
       "      <td>Late</td>\n",
       "      <td>Location</td>\n",
       "      <td>0.407500</td>\n",
       "      <td>0.388000</td>\n",
       "      <td>0.698875</td>\n",
       "      <td>0.484375</td>\n",
       "    </tr>\n",
       "    <tr>\n",
       "      <th>492</th>\n",
       "      <td>244</td>\n",
       "      <td>Late</td>\n",
       "      <td>Location</td>\n",
       "      <td>0.553750</td>\n",
       "      <td>0.503000</td>\n",
       "      <td>0.603500</td>\n",
       "      <td>0.671875</td>\n",
       "    </tr>\n",
       "    <tr>\n",
       "      <th>493</th>\n",
       "      <td>245</td>\n",
       "      <td>Late</td>\n",
       "      <td>Location</td>\n",
       "      <td>0.598250</td>\n",
       "      <td>0.563750</td>\n",
       "      <td>0.768250</td>\n",
       "      <td>0.609375</td>\n",
       "    </tr>\n",
       "    <tr>\n",
       "      <th>494</th>\n",
       "      <td>246</td>\n",
       "      <td>Late</td>\n",
       "      <td>Location</td>\n",
       "      <td>0.405000</td>\n",
       "      <td>0.428750</td>\n",
       "      <td>0.683750</td>\n",
       "      <td>0.539062</td>\n",
       "    </tr>\n",
       "    <tr>\n",
       "      <th>495</th>\n",
       "      <td>247</td>\n",
       "      <td>Late</td>\n",
       "      <td>Location</td>\n",
       "      <td>0.526750</td>\n",
       "      <td>0.386750</td>\n",
       "      <td>0.545000</td>\n",
       "      <td>0.570312</td>\n",
       "    </tr>\n",
       "  </tbody>\n",
       "</table>\n",
       "<p>496 rows × 7 columns</p>\n",
       "</div>"
      ],
      "text/plain": [
       "     Subject   List     Condition  Feature clustering score  \\\n",
       "0          0  Early  Feature rich                  0.495229   \n",
       "1          1  Early  Feature rich                  0.559542   \n",
       "2          2  Early  Feature rich                  0.538500   \n",
       "3          3  Early  Feature rich                  0.519375   \n",
       "4          4  Early  Feature rich                  0.566917   \n",
       "..       ...    ...           ...                       ...   \n",
       "491      243   Late      Location                  0.407500   \n",
       "492      244   Late      Location                  0.553750   \n",
       "493      245   Late      Location                  0.598250   \n",
       "494      246   Late      Location                  0.405000   \n",
       "495      247   Late      Location                  0.526750   \n",
       "\n",
       "     Corrected feature clustering score  Temporal clustering score  \\\n",
       "0                              0.485292                   0.562750   \n",
       "1                              0.582875                   0.486750   \n",
       "2                              0.532000                   0.660500   \n",
       "3                              0.474292                   0.596500   \n",
       "4                              0.565833                   0.680000   \n",
       "..                                  ...                        ...   \n",
       "491                            0.388000                   0.698875   \n",
       "492                            0.503000                   0.603500   \n",
       "493                            0.563750                   0.768250   \n",
       "494                            0.428750                   0.683750   \n",
       "495                            0.386750                   0.545000   \n",
       "\n",
       "     Recall probability  \n",
       "0              0.484375  \n",
       "1              0.859375  \n",
       "2              0.625000  \n",
       "3              0.531250  \n",
       "4              0.546875  \n",
       "..                  ...  \n",
       "491            0.484375  \n",
       "492            0.671875  \n",
       "493            0.609375  \n",
       "494            0.539062  \n",
       "495            0.570312  \n",
       "\n",
       "[496 rows x 7 columns]"
      ]
     },
     "execution_count": 149,
     "metadata": {},
     "output_type": "execute_result"
    }
   ],
   "source": [
    "clustering_results = create_clustering_df(results)\n",
    "clustering_results"
   ]
  },
  {
   "cell_type": "code",
   "execution_count": 150,
   "metadata": {},
   "outputs": [],
   "source": [
    "def corr_helper(clustering_results, x='Feature clustering score', y='Recall probability', xlists=None, ylists=None):\n",
    "    clustering_results = clustering_results.query('Condition != \"Feature rich\"')\n",
    "\n",
    "    def print_corr(a, b, label=None, n_iter=1000):\n",
    "        corr = stats.pearsonr(a, b)\n",
    "\n",
    "        # compute bootstrap-estimated 95% confidence interval\n",
    "        bootstrapped = []        \n",
    "        max_tries = 10\n",
    "        tries = 0\n",
    "        for i in range(n_iter):\n",
    "            inds = np.random.randint(0, len(a), len(a))\n",
    "            while len(np.unique(a.iloc[inds])) == 1 and len(np.unique(b.iloc[inds])) == 1 and tries < max_tries:\n",
    "                inds = np.random.randint(0, len(a), len(a))\n",
    "                tries += 1\n",
    "            if tries >= max_tries:\n",
    "                pass\n",
    "            tries = 0\n",
    "            bootstrapped.append(stats.pearsonr(a.iloc[inds], b.iloc[inds])[0])\n",
    "        low, high = np.percentile(bootstrapped, [2.5, 97.5])\n",
    "\n",
    "        if label is None:\n",
    "            prefix = ''\n",
    "        else:\n",
    "            prefix = label + ': '\n",
    "\n",
    "        if corr.pvalue < 0.001:\n",
    "            p_string = 'p < 0.001'\n",
    "        else:\n",
    "            p_string = f'p = {corr.pvalue:.3f}'\n",
    "\n",
    "        print(f'\\t{prefix}: r({len(a) - 2}) = {corr.statistic:.3f}, {p_string}, CI = [{low:.3f}, {high:.3f}]')\n",
    "        return corr\n",
    "\n",
    "    if xlists is not None:\n",
    "        x_results = clustering_results.query('List == @xlists')\n",
    "    else:\n",
    "        x_results = clustering_results\n",
    "    \n",
    "    if ylists is not None:\n",
    "        y_results = clustering_results.query('List == @ylists')\n",
    "    else:\n",
    "        y_results = clustering_results\n",
    "    \n",
    "    print(f'Correlations between {x} and {y} (x lists: {xlists}, y lists: {ylists})')\n",
    "    # Combine across all conditions, compute correlation across subjects\n",
    "    print_corr(x_results[x], y_results[y], label='Combined (across subjects)')\n",
    "\n",
    "    # Per-condition (across subjects)\n",
    "    print('\\n')\n",
    "    min_r = np.inf\n",
    "    max_p = -np.inf\n",
    "\n",
    "    for c in clustering_results['Condition'].unique():\n",
    "        corr = print_corr(x_results.query('Condition == @c')[x], y_results.query('Condition == @c')[y], label=f'{c} (across subjects)')\n",
    "        min_r = min(min_r, corr.statistic)\n",
    "        max_p = max(max_p, corr.pvalue)\n",
    "    print(f'\\tWithin condition, across subjects: all $r$s $\\geq {min_r:.3f}$, all $p$s $\\leq {max_p:.3f}$')\n",
    "\n",
    "    # Across-condition correlation\n",
    "    print('\\n')\n",
    "    x_ave = x_results.groupby('Condition').mean(numeric_only=True)[x]\n",
    "    y_ave = y_results.groupby('Condition').mean(numeric_only=True)[y]\n",
    "    print_corr(x_ave, y_ave, label='Across conditions')"
   ]
  },
  {
   "attachments": {},
   "cell_type": "markdown",
   "metadata": {},
   "source": [
    "## Recall probability vs. feature clustering\n",
    "\n",
    "### Early vs. early"
   ]
  },
  {
   "cell_type": "code",
   "execution_count": 151,
   "metadata": {},
   "outputs": [
    {
     "name": "stdout",
     "output_type": "stream",
     "text": [
      "Correlations between Feature clustering score and Recall probability (x lists: Early, y lists: Early)\n",
      "\tCombined (across subjects): : r(179) = 0.492, p < 0.001, CI = [0.339, 0.608]\n",
      "\n",
      "\n",
      "\tCategory (across subjects): : r(28) = 0.862, p < 0.001, CI = [0.787, 0.920]\n",
      "\tSize (across subjects): : r(28) = 0.897, p < 0.001, CI = [0.813, 0.947]\n",
      "\tLength (across subjects): : r(28) = 0.481, p = 0.007, CI = [0.083, 0.725]\n",
      "\tFirst letter (across subjects): : r(28) = 0.414, p = 0.023, CI = [0.004, 0.728]\n",
      "\tColor (across subjects): : r(29) = 0.331, p = 0.069, CI = [-0.026, 0.674]\n",
      "\tLocation (across subjects): : r(28) = 0.360, p = 0.051, CI = [0.049, 0.596]\n",
      "\tWithin condition, across subjects: all $r$s $\\geq 0.331$, all $p$s $\\leq 0.069$\n",
      "\n",
      "\n",
      "\tAcross conditions: : r(4) = 0.511, p = 0.300, CI = [-0.999, 0.999]\n"
     ]
    }
   ],
   "source": [
    "corr_helper(clustering_results, x='Feature clustering score', y='Recall probability', xlists='Early', ylists='Early')"
   ]
  },
  {
   "attachments": {},
   "cell_type": "markdown",
   "metadata": {},
   "source": [
    "### Late vs. late"
   ]
  },
  {
   "cell_type": "code",
   "execution_count": 152,
   "metadata": {},
   "outputs": [
    {
     "name": "stdout",
     "output_type": "stream",
     "text": [
      "Correlations between Feature clustering score and Recall probability (x lists: Late, y lists: Late)\n",
      "\tCombined (across subjects): : r(179) = 0.403, p < 0.001, CI = [0.265, 0.523]\n",
      "\n",
      "\n",
      "\tCategory (across subjects): : r(28) = 0.662, p < 0.001, CI = [0.329, 0.882]\n",
      "\tSize (across subjects): : r(28) = 0.744, p < 0.001, CI = [0.497, 0.905]\n",
      "\tLength (across subjects): : r(28) = 0.520, p = 0.003, CI = [0.247, 0.741]\n",
      "\tFirst letter (across subjects): : r(28) = 0.404, p = 0.027, CI = [-0.019, 0.731]\n",
      "\tColor (across subjects): : r(29) = 0.532, p = 0.002, CI = [0.281, 0.751]\n",
      "\tLocation (across subjects): : r(28) = 0.419, p = 0.021, CI = [0.081, 0.664]\n",
      "\tWithin condition, across subjects: all $r$s $\\geq 0.404$, all $p$s $\\leq 0.027$\n",
      "\n",
      "\n",
      "\tAcross conditions: : r(4) = -0.304, p = 0.559, CI = [-0.873, 0.773]\n"
     ]
    }
   ],
   "source": [
    "corr_helper(clustering_results, x='Feature clustering score', y='Recall probability', xlists='Late', ylists='Late')"
   ]
  },
  {
   "attachments": {},
   "cell_type": "markdown",
   "metadata": {},
   "source": [
    "### Late vs. Early"
   ]
  },
  {
   "cell_type": "code",
   "execution_count": 153,
   "metadata": {},
   "outputs": [
    {
     "name": "stdout",
     "output_type": "stream",
     "text": [
      "Correlations between Feature clustering score and Recall probability (x lists: Early, y lists: Late)\n",
      "\tCombined (across subjects): : r(179) = 0.230, p = 0.002, CI = [0.074, 0.376]\n",
      "\n",
      "\n",
      "\tCategory (across subjects): : r(28) = 0.474, p = 0.008, CI = [0.199, 0.701]\n",
      "\tSize (across subjects): : r(28) = 0.574, p < 0.001, CI = [0.351, 0.746]\n",
      "\tLength (across subjects): : r(28) = 0.405, p = 0.027, CI = [0.088, 0.625]\n",
      "\tFirst letter (across subjects): : r(28) = 0.385, p = 0.035, CI = [-0.037, 0.736]\n",
      "\tColor (across subjects): : r(29) = 0.212, p = 0.251, CI = [-0.162, 0.531]\n",
      "\tLocation (across subjects): : r(28) = 0.320, p = 0.085, CI = [-0.002, 0.590]\n",
      "\tWithin condition, across subjects: all $r$s $\\geq 0.212$, all $p$s $\\leq 0.251$\n",
      "\n",
      "\n",
      "\tAcross conditions: : r(4) = -0.338, p = 0.512, CI = [-0.977, 0.643]\n"
     ]
    }
   ],
   "source": [
    "corr_helper(clustering_results, x='Feature clustering score', y='Recall probability', xlists='Early', ylists='Late')"
   ]
  },
  {
   "attachments": {},
   "cell_type": "markdown",
   "metadata": {},
   "source": [
    "### Early vs. Late"
   ]
  },
  {
   "cell_type": "code",
   "execution_count": 154,
   "metadata": {},
   "outputs": [
    {
     "name": "stdout",
     "output_type": "stream",
     "text": [
      "Correlations between Feature clustering score and Recall probability (x lists: Late, y lists: Early)\n",
      "\tCombined (across subjects): : r(179) = 0.464, p < 0.001, CI = [0.325, 0.578]\n",
      "\n",
      "\n",
      "\tCategory (across subjects): : r(28) = 0.687, p < 0.001, CI = [0.432, 0.818]\n",
      "\tSize (across subjects): : r(28) = 0.561, p = 0.001, CI = [0.283, 0.782]\n",
      "\tLength (across subjects): : r(28) = 0.438, p = 0.015, CI = [0.112, 0.750]\n",
      "\tFirst letter (across subjects): : r(28) = 0.377, p = 0.040, CI = [0.039, 0.674]\n",
      "\tColor (across subjects): : r(29) = 0.431, p = 0.016, CI = [0.148, 0.666]\n",
      "\tLocation (across subjects): : r(28) = 0.395, p = 0.031, CI = [0.108, 0.645]\n",
      "\tWithin condition, across subjects: all $r$s $\\geq 0.377$, all $p$s $\\leq 0.040$\n",
      "\n",
      "\n",
      "\tAcross conditions: : r(4) = 0.451, p = 0.369, CI = [-0.780, 0.999]\n"
     ]
    }
   ],
   "source": [
    "corr_helper(clustering_results, x='Feature clustering score', y='Recall probability', xlists='Late', ylists='Early')"
   ]
  },
  {
   "attachments": {},
   "cell_type": "markdown",
   "metadata": {},
   "source": [
    "## Temporal clustering vs. feature clustering\n",
    "\n",
    "### Early vs. early"
   ]
  },
  {
   "cell_type": "code",
   "execution_count": 155,
   "metadata": {},
   "outputs": [
    {
     "name": "stdout",
     "output_type": "stream",
     "text": [
      "Correlations between Feature clustering score and Temporal clustering score (x lists: Early, y lists: Early)\n",
      "\tCombined (across subjects): : r(179) = 0.916, p < 0.001, CI = [0.891, 0.938]\n",
      "\n",
      "\n",
      "\tCategory (across subjects): : r(28) = 0.965, p < 0.001, CI = [0.916, 0.992]\n",
      "\tSize (across subjects): : r(28) = 0.926, p < 0.001, CI = [0.865, 0.962]\n",
      "\tLength (across subjects): : r(28) = 0.945, p < 0.001, CI = [0.882, 0.975]\n",
      "\tFirst letter (across subjects): : r(28) = 0.855, p < 0.001, CI = [0.743, 0.932]\n",
      "\tColor (across subjects): : r(29) = 0.817, p < 0.001, CI = [0.669, 0.903]\n",
      "\tLocation (across subjects): : r(28) = 0.883, p < 0.001, CI = [0.772, 0.946]\n",
      "\tWithin condition, across subjects: all $r$s $\\geq 0.817$, all $p$s $\\leq 0.000$\n",
      "\n",
      "\n",
      "\tAcross conditions: : r(4) = 0.946, p = 0.004, CI = [0.593, 0.999]\n"
     ]
    }
   ],
   "source": [
    "corr_helper(clustering_results, x='Feature clustering score', y='Temporal clustering score', xlists='Early', ylists='Early')"
   ]
  },
  {
   "attachments": {},
   "cell_type": "markdown",
   "metadata": {},
   "source": [
    "### Late vs. late"
   ]
  },
  {
   "cell_type": "code",
   "execution_count": 156,
   "metadata": {},
   "outputs": [
    {
     "name": "stdout",
     "output_type": "stream",
     "text": [
      "Correlations between Feature clustering score and Temporal clustering score (x lists: Late, y lists: Late)\n",
      "\tCombined (across subjects): : r(179) = 0.273, p < 0.001, CI = [0.140, 0.384]\n",
      "\n",
      "\n",
      "\tCategory (across subjects): : r(28) = 0.293, p = 0.116, CI = [-0.084, 0.596]\n",
      "\tSize (across subjects): : r(28) = 0.307, p = 0.099, CI = [-0.068, 0.652]\n",
      "\tLength (across subjects): : r(28) = 0.353, p = 0.056, CI = [-0.037, 0.660]\n",
      "\tFirst letter (across subjects): : r(28) = 0.660, p < 0.001, CI = [0.432, 0.819]\n",
      "\tColor (across subjects): : r(29) = 0.333, p = 0.068, CI = [-0.066, 0.662]\n",
      "\tLocation (across subjects): : r(28) = 0.235, p = 0.212, CI = [-0.134, 0.535]\n",
      "\tWithin condition, across subjects: all $r$s $\\geq 0.235$, all $p$s $\\leq 0.212$\n",
      "\n",
      "\n",
      "\tAcross conditions: : r(4) = -0.190, p = 0.718, CI = [-0.833, 0.770]\n"
     ]
    }
   ],
   "source": [
    "corr_helper(clustering_results, x='Feature clustering score', y='Temporal clustering score', xlists='Late', ylists='Late')"
   ]
  },
  {
   "attachments": {},
   "cell_type": "markdown",
   "metadata": {},
   "source": [
    "### Late vs. early"
   ]
  },
  {
   "cell_type": "code",
   "execution_count": 157,
   "metadata": {},
   "outputs": [
    {
     "name": "stdout",
     "output_type": "stream",
     "text": [
      "Correlations between Feature clustering score and Temporal clustering score (x lists: Early, y lists: Late)\n",
      "\tCombined (across subjects): : r(179) = 0.266, p < 0.001, CI = [0.124, 0.388]\n",
      "\n",
      "\n",
      "\tCategory (across subjects): : r(28) = 0.298, p = 0.110, CI = [-0.000, 0.512]\n",
      "\tSize (across subjects): : r(28) = 0.314, p = 0.091, CI = [0.023, 0.578]\n",
      "\tLength (across subjects): : r(28) = 0.535, p = 0.002, CI = [0.256, 0.769]\n",
      "\tFirst letter (across subjects): : r(28) = 0.443, p = 0.014, CI = [0.106, 0.737]\n",
      "\tColor (across subjects): : r(29) = 0.491, p = 0.005, CI = [0.115, 0.724]\n",
      "\tLocation (across subjects): : r(28) = 0.355, p = 0.054, CI = [0.062, 0.613]\n",
      "\tWithin condition, across subjects: all $r$s $\\geq 0.298$, all $p$s $\\leq 0.110$\n",
      "\n",
      "\n",
      "\tAcross conditions: : r(4) = 0.064, p = 0.903, CI = [-0.971, 0.972]\n"
     ]
    }
   ],
   "source": [
    "corr_helper(clustering_results, x='Feature clustering score', y='Temporal clustering score', xlists='Early', ylists='Late')"
   ]
  },
  {
   "attachments": {},
   "cell_type": "markdown",
   "metadata": {},
   "source": [
    "### Early vs. late"
   ]
  },
  {
   "cell_type": "code",
   "execution_count": 158,
   "metadata": {},
   "outputs": [
    {
     "name": "stdout",
     "output_type": "stream",
     "text": [
      "Correlations between Feature clustering score and Temporal clustering score (x lists: Late, y lists: Early)\n",
      "\tCombined (across subjects): : r(179) = 0.549, p < 0.001, CI = [0.431, 0.645]\n",
      "\n",
      "\n",
      "\tCategory (across subjects): : r(28) = 0.613, p < 0.001, CI = [0.413, 0.784]\n",
      "\tSize (across subjects): : r(28) = 0.392, p = 0.032, CI = [0.057, 0.661]\n",
      "\tLength (across subjects): : r(28) = 0.271, p = 0.148, CI = [-0.068, 0.558]\n",
      "\tFirst letter (across subjects): : r(28) = 0.345, p = 0.062, CI = [-0.048, 0.635]\n",
      "\tColor (across subjects): : r(29) = 0.005, p = 0.980, CI = [-0.419, 0.411]\n",
      "\tLocation (across subjects): : r(28) = 0.240, p = 0.201, CI = [-0.067, 0.515]\n",
      "\tWithin condition, across subjects: all $r$s $\\geq 0.005$, all $p$s $\\leq 0.980$\n",
      "\n",
      "\n",
      "\tAcross conditions: : r(4) = 0.855, p = 0.030, CI = [0.279, 1.000]\n"
     ]
    }
   ],
   "source": [
    "corr_helper(clustering_results, x='Feature clustering score', y='Temporal clustering score', xlists='Late', ylists='Early')"
   ]
  },
  {
   "attachments": {},
   "cell_type": "markdown",
   "metadata": {},
   "source": [
    "## Feature clustering on early vs. late lists"
   ]
  },
  {
   "cell_type": "code",
   "execution_count": 159,
   "metadata": {},
   "outputs": [
    {
     "name": "stdout",
     "output_type": "stream",
     "text": [
      "Correlations between Feature clustering score and Feature clustering score (x lists: Late, y lists: Early)\n",
      "\tCombined (across subjects): : r(179) = 0.591, p < 0.001, CI = [0.474, 0.694]\n",
      "\n",
      "\n",
      "\tCategory (across subjects): : r(28) = 0.590, p < 0.001, CI = [0.373, 0.752]\n",
      "\tSize (across subjects): : r(28) = 0.488, p = 0.006, CI = [0.126, 0.737]\n",
      "\tLength (across subjects): : r(28) = 0.384, p = 0.036, CI = [0.044, 0.681]\n",
      "\tFirst letter (across subjects): : r(28) = 0.202, p = 0.284, CI = [-0.209, 0.653]\n",
      "\tColor (across subjects): : r(29) = -0.183, p = 0.325, CI = [-0.548, 0.260]\n",
      "\tLocation (across subjects): : r(28) = 0.031, p = 0.870, CI = [-0.238, 0.286]\n",
      "\tWithin condition, across subjects: all $r$s $\\geq -0.183$, all $p$s $\\leq 0.870$\n",
      "\n",
      "\n",
      "\tAcross conditions: : r(4) = 0.942, p = 0.005, CI = [0.487, 1.000]\n"
     ]
    }
   ],
   "source": [
    "corr_helper(clustering_results, x='Feature clustering score', y='Feature clustering score', xlists='Late', ylists='Early')"
   ]
  },
  {
   "attachments": {},
   "cell_type": "markdown",
   "metadata": {},
   "source": [
    "# Difference analyses (early - late lists)"
   ]
  },
  {
   "cell_type": "code",
   "execution_count": 160,
   "metadata": {},
   "outputs": [
    {
     "data": {
      "text/html": [
       "<div>\n",
       "<style scoped>\n",
       "    .dataframe tbody tr th:only-of-type {\n",
       "        vertical-align: middle;\n",
       "    }\n",
       "\n",
       "    .dataframe tbody tr th {\n",
       "        vertical-align: top;\n",
       "    }\n",
       "\n",
       "    .dataframe thead th {\n",
       "        text-align: right;\n",
       "    }\n",
       "</style>\n",
       "<table border=\"1\" class=\"dataframe\">\n",
       "  <thead>\n",
       "    <tr style=\"text-align: right;\">\n",
       "      <th></th>\n",
       "      <th>Subject</th>\n",
       "      <th>List</th>\n",
       "      <th>Condition</th>\n",
       "      <th>Feature clustering score</th>\n",
       "      <th>Corrected feature clustering score</th>\n",
       "      <th>Temporal clustering score</th>\n",
       "      <th>Recall probability</th>\n",
       "    </tr>\n",
       "  </thead>\n",
       "  <tbody>\n",
       "    <tr>\n",
       "      <th>0</th>\n",
       "      <td>0</td>\n",
       "      <td>Early - Late</td>\n",
       "      <td>Feature rich</td>\n",
       "      <td>-0.050729</td>\n",
       "      <td>0.485292</td>\n",
       "      <td>-0.045000</td>\n",
       "      <td>0.039062</td>\n",
       "    </tr>\n",
       "    <tr>\n",
       "      <th>1</th>\n",
       "      <td>1</td>\n",
       "      <td>Early - Late</td>\n",
       "      <td>Feature rich</td>\n",
       "      <td>-0.058125</td>\n",
       "      <td>0.582875</td>\n",
       "      <td>-0.039750</td>\n",
       "      <td>-0.031250</td>\n",
       "    </tr>\n",
       "    <tr>\n",
       "      <th>2</th>\n",
       "      <td>2</td>\n",
       "      <td>Early - Late</td>\n",
       "      <td>Feature rich</td>\n",
       "      <td>0.092667</td>\n",
       "      <td>0.532000</td>\n",
       "      <td>0.259625</td>\n",
       "      <td>0.148438</td>\n",
       "    </tr>\n",
       "    <tr>\n",
       "      <th>3</th>\n",
       "      <td>3</td>\n",
       "      <td>Early - Late</td>\n",
       "      <td>Feature rich</td>\n",
       "      <td>0.070625</td>\n",
       "      <td>0.474292</td>\n",
       "      <td>-0.019375</td>\n",
       "      <td>0.125000</td>\n",
       "    </tr>\n",
       "    <tr>\n",
       "      <th>4</th>\n",
       "      <td>4</td>\n",
       "      <td>Early - Late</td>\n",
       "      <td>Feature rich</td>\n",
       "      <td>0.089312</td>\n",
       "      <td>0.565833</td>\n",
       "      <td>0.194500</td>\n",
       "      <td>0.101562</td>\n",
       "    </tr>\n",
       "    <tr>\n",
       "      <th>...</th>\n",
       "      <td>...</td>\n",
       "      <td>...</td>\n",
       "      <td>...</td>\n",
       "      <td>...</td>\n",
       "      <td>...</td>\n",
       "      <td>...</td>\n",
       "      <td>...</td>\n",
       "    </tr>\n",
       "    <tr>\n",
       "      <th>461</th>\n",
       "      <td>243</td>\n",
       "      <td>Early - Late</td>\n",
       "      <td>Location</td>\n",
       "      <td>0.272875</td>\n",
       "      <td>0.397500</td>\n",
       "      <td>0.011625</td>\n",
       "      <td>-0.031250</td>\n",
       "    </tr>\n",
       "    <tr>\n",
       "      <th>462</th>\n",
       "      <td>244</td>\n",
       "      <td>Early - Late</td>\n",
       "      <td>Location</td>\n",
       "      <td>0.229750</td>\n",
       "      <td>0.527500</td>\n",
       "      <td>0.248500</td>\n",
       "      <td>-0.046875</td>\n",
       "    </tr>\n",
       "    <tr>\n",
       "      <th>463</th>\n",
       "      <td>245</td>\n",
       "      <td>Early - Late</td>\n",
       "      <td>Location</td>\n",
       "      <td>-0.001750</td>\n",
       "      <td>0.320750</td>\n",
       "      <td>-0.017250</td>\n",
       "      <td>-0.062500</td>\n",
       "    </tr>\n",
       "    <tr>\n",
       "      <th>464</th>\n",
       "      <td>246</td>\n",
       "      <td>Early - Late</td>\n",
       "      <td>Location</td>\n",
       "      <td>0.436625</td>\n",
       "      <td>0.647750</td>\n",
       "      <td>0.162500</td>\n",
       "      <td>0.109375</td>\n",
       "    </tr>\n",
       "    <tr>\n",
       "      <th>465</th>\n",
       "      <td>247</td>\n",
       "      <td>Early - Late</td>\n",
       "      <td>Location</td>\n",
       "      <td>-0.031000</td>\n",
       "      <td>0.431250</td>\n",
       "      <td>0.062250</td>\n",
       "      <td>0.031250</td>\n",
       "    </tr>\n",
       "  </tbody>\n",
       "</table>\n",
       "<p>248 rows × 7 columns</p>\n",
       "</div>"
      ],
      "text/plain": [
       "     Subject          List     Condition  Feature clustering score  \\\n",
       "0          0  Early - Late  Feature rich                 -0.050729   \n",
       "1          1  Early - Late  Feature rich                 -0.058125   \n",
       "2          2  Early - Late  Feature rich                  0.092667   \n",
       "3          3  Early - Late  Feature rich                  0.070625   \n",
       "4          4  Early - Late  Feature rich                  0.089312   \n",
       "..       ...           ...           ...                       ...   \n",
       "461      243  Early - Late      Location                  0.272875   \n",
       "462      244  Early - Late      Location                  0.229750   \n",
       "463      245  Early - Late      Location                 -0.001750   \n",
       "464      246  Early - Late      Location                  0.436625   \n",
       "465      247  Early - Late      Location                 -0.031000   \n",
       "\n",
       "     Corrected feature clustering score  Temporal clustering score  \\\n",
       "0                              0.485292                  -0.045000   \n",
       "1                              0.582875                  -0.039750   \n",
       "2                              0.532000                   0.259625   \n",
       "3                              0.474292                  -0.019375   \n",
       "4                              0.565833                   0.194500   \n",
       "..                                  ...                        ...   \n",
       "461                            0.397500                   0.011625   \n",
       "462                            0.527500                   0.248500   \n",
       "463                            0.320750                  -0.017250   \n",
       "464                            0.647750                   0.162500   \n",
       "465                            0.431250                   0.062250   \n",
       "\n",
       "     Recall probability  \n",
       "0              0.039062  \n",
       "1             -0.031250  \n",
       "2              0.148438  \n",
       "3              0.125000  \n",
       "4              0.101562  \n",
       "..                  ...  \n",
       "461           -0.031250  \n",
       "462           -0.046875  \n",
       "463           -0.062500  \n",
       "464            0.109375  \n",
       "465            0.031250  \n",
       "\n",
       "[248 rows x 7 columns]"
      ]
     },
     "execution_count": 160,
     "metadata": {},
     "output_type": "execute_result"
    }
   ],
   "source": [
    "clustering_result_diffs = clustering_results.query('List == \"Early\"').copy()\n",
    "clustering_result_diffs['List'] = 'Early - Late'\n",
    "clustering_result_diffs['Feature clustering score'] = clustering_result_diffs['Feature clustering score'].values - clustering_results.query('List == \"Late\"')['Feature clustering score'].values\n",
    "clustering_result_diffs['Temporal clustering score'] = clustering_result_diffs['Temporal clustering score'].values - clustering_results.query('List == \"Late\"')['Temporal clustering score'].values\n",
    "clustering_result_diffs['Recall probability'] = clustering_result_diffs['Recall probability'].values - clustering_results.query('List == \"Late\"')['Recall probability'].values\n",
    "clustering_result_diffs"
   ]
  },
  {
   "attachments": {},
   "cell_type": "markdown",
   "metadata": {},
   "source": [
    "## Recall probability versus feature clustering (differences)"
   ]
  },
  {
   "cell_type": "code",
   "execution_count": 161,
   "metadata": {},
   "outputs": [
    {
     "name": "stdout",
     "output_type": "stream",
     "text": [
      "Correlations between Feature clustering score and Recall probability (x lists: Early - Late, y lists: Early - Late)\n",
      "\tCombined (across subjects): : r(179) = 0.307, p < 0.001, CI = [0.134, 0.478]\n",
      "\n",
      "\n",
      "\tCategory (across subjects): : r(28) = 0.350, p = 0.058, CI = [0.013, 0.625]\n",
      "\tSize (across subjects): : r(28) = 0.708, p < 0.001, CI = [0.470, 0.865]\n",
      "\tLength (across subjects): : r(28) = 0.205, p = 0.276, CI = [-0.128, 0.488]\n",
      "\tFirst letter (across subjects): : r(28) = 0.081, p = 0.672, CI = [-0.454, 0.604]\n",
      "\tColor (across subjects): : r(29) = 0.155, p = 0.406, CI = [-0.141, 0.536]\n",
      "\tLocation (across subjects): : r(28) = 0.052, p = 0.787, CI = [-0.274, 0.377]\n",
      "\tWithin condition, across subjects: all $r$s $\\geq 0.052$, all $p$s $\\leq 0.787$\n",
      "\n",
      "\n",
      "\tAcross conditions: : r(4) = 0.635, p = 0.176, CI = [-0.918, 0.983]\n"
     ]
    }
   ],
   "source": [
    "corr_helper(clustering_result_diffs, x='Feature clustering score', y='Recall probability', xlists='Early - Late', ylists='Early - Late')"
   ]
  },
  {
   "attachments": {},
   "cell_type": "markdown",
   "metadata": {},
   "source": [
    "### Temporal clustering versus featuer clustering (differences)"
   ]
  },
  {
   "cell_type": "code",
   "execution_count": 162,
   "metadata": {},
   "outputs": [
    {
     "name": "stdout",
     "output_type": "stream",
     "text": [
      "Correlations between Feature clustering score and Temporal clustering score (x lists: Early - Late, y lists: Early - Late)\n",
      "\tCombined (across subjects): : r(179) = 0.426, p < 0.001, CI = [0.297, 0.541]\n",
      "\n",
      "\n",
      "\tCategory (across subjects): : r(28) = 0.110, p = 0.564, CI = [-0.288, 0.426]\n",
      "\tSize (across subjects): : r(28) = 0.447, p = 0.013, CI = [0.068, 0.725]\n",
      "\tLength (across subjects): : r(28) = 0.482, p = 0.007, CI = [0.254, 0.720]\n",
      "\tFirst letter (across subjects): : r(28) = 0.584, p < 0.001, CI = [0.224, 0.767]\n",
      "\tColor (across subjects): : r(29) = 0.406, p = 0.023, CI = [0.054, 0.723]\n",
      "\tLocation (across subjects): : r(28) = 0.498, p = 0.005, CI = [0.261, 0.693]\n",
      "\tWithin condition, across subjects: all $r$s $\\geq 0.110$, all $p$s $\\leq 0.564$\n",
      "\n",
      "\n",
      "\tAcross conditions: : r(4) = 0.649, p = 0.163, CI = [-0.849, 0.996]\n"
     ]
    }
   ],
   "source": [
    "corr_helper(clustering_result_diffs, x='Feature clustering score', y='Temporal clustering score', xlists='Early - Late', ylists='Early - Late')"
   ]
  },
  {
   "attachments": {},
   "cell_type": "markdown",
   "metadata": {},
   "source": [
    "# Adaptive condition\n",
    "\n",
    "## Accuracy: comparing across each list type\n",
    "\n",
    "### Stabilize vs. random"
   ]
  },
  {
   "cell_type": "code",
   "execution_count": 163,
   "metadata": {},
   "outputs": [
    {
     "name": "stdout",
     "output_type": "stream",
     "text": [
      "t(59) = 1.740, p = 0.087, d = 0.095, CI = [-0.160, 3.840]\n"
     ]
    }
   ],
   "source": [
    "ttest(results['accuracy']['adaptive'], results['accuracy']['adaptive'], x_lists='stabilize', y_lists='random', independent_sample=False)"
   ]
  },
  {
   "attachments": {},
   "cell_type": "markdown",
   "metadata": {},
   "source": [
    "### Destabilize vs. random"
   ]
  },
  {
   "cell_type": "code",
   "execution_count": 164,
   "metadata": {},
   "outputs": [
    {
     "name": "stdout",
     "output_type": "stream",
     "text": [
      "t(59) = -0.249, p = 0.804, d = -0.017, CI = [-2.360, 1.608]\n"
     ]
    }
   ],
   "source": [
    "ttest(results['accuracy']['adaptive'], results['accuracy']['adaptive'], x_lists='destabilize', y_lists='random', independent_sample=False)"
   ]
  },
  {
   "attachments": {},
   "cell_type": "markdown",
   "metadata": {},
   "source": [
    "### Stabilize vs. destabilize"
   ]
  },
  {
   "cell_type": "code",
   "execution_count": 165,
   "metadata": {},
   "outputs": [
    {
     "name": "stdout",
     "output_type": "stream",
     "text": [
      "t(59) = 1.714, p = 0.092, d = 0.114, CI = [-0.283, 4.101]\n"
     ]
    }
   ],
   "source": [
    "ttest(results['accuracy']['adaptive'], results['accuracy']['adaptive'], x_lists='stabilize', y_lists='destabilize', independent_sample=False)"
   ]
  },
  {
   "attachments": {},
   "cell_type": "markdown",
   "metadata": {},
   "source": [
    "## Temporal clustering: comparing across each list type\n",
    "\n",
    "### Stabilize vs. random"
   ]
  },
  {
   "cell_type": "code",
   "execution_count": 166,
   "metadata": {},
   "outputs": [
    {
     "name": "stdout",
     "output_type": "stream",
     "text": [
      "t(59) = 3.428, p = 0.001, d = 0.306, CI = [1.465, 5.426]\n"
     ]
    }
   ],
   "source": [
    "ttest(results['fingerprint']['adaptive'], results['fingerprint']['adaptive'], x_lists='stabilize', y_lists='random', independent_sample=False, x_col='temporal', y_col='temporal')"
   ]
  },
  {
   "attachments": {},
   "cell_type": "markdown",
   "metadata": {},
   "source": [
    "### Destabilize vs. random"
   ]
  },
  {
   "cell_type": "code",
   "execution_count": 167,
   "metadata": {},
   "outputs": [
    {
     "name": "stdout",
     "output_type": "stream",
     "text": [
      "t(59) = -0.880, p = 0.382, d = -0.081, CI = [-3.054, 0.952]\n"
     ]
    }
   ],
   "source": [
    "ttest(results['fingerprint']['adaptive'], results['fingerprint']['adaptive'], x_lists='destabilize', y_lists='random', independent_sample=False, x_col='temporal', y_col='temporal')"
   ]
  },
  {
   "attachments": {},
   "cell_type": "markdown",
   "metadata": {},
   "source": [
    "### Stabilize vs. destabilize"
   ]
  },
  {
   "cell_type": "code",
   "execution_count": 168,
   "metadata": {},
   "outputs": [
    {
     "name": "stdout",
     "output_type": "stream",
     "text": [
      "t(59) = 4.174, p < 0.001, d = 0.374, CI = [1.962, 6.759]\n"
     ]
    }
   ],
   "source": [
    "ttest(results['fingerprint']['adaptive'], results['fingerprint']['adaptive'], x_lists='stabilize', y_lists='destabilize', independent_sample=False, x_col='temporal', y_col='temporal')"
   ]
  },
  {
   "attachments": {},
   "cell_type": "markdown",
   "metadata": {},
   "source": [
    "## Correlations between accuracy and temporal clustering (adaptive condition)"
   ]
  },
  {
   "cell_type": "code",
   "execution_count": 169,
   "metadata": {},
   "outputs": [
    {
     "data": {
      "text/html": [
       "<div>\n",
       "<style scoped>\n",
       "    .dataframe tbody tr th:only-of-type {\n",
       "        vertical-align: middle;\n",
       "    }\n",
       "\n",
       "    .dataframe tbody tr th {\n",
       "        vertical-align: top;\n",
       "    }\n",
       "\n",
       "    .dataframe thead th {\n",
       "        text-align: right;\n",
       "    }\n",
       "</style>\n",
       "<table border=\"1\" class=\"dataframe\">\n",
       "  <thead>\n",
       "    <tr style=\"text-align: right;\">\n",
       "      <th></th>\n",
       "      <th>Subject</th>\n",
       "      <th>Condition</th>\n",
       "      <th>Recall probability</th>\n",
       "      <th>Temporal clustering score</th>\n",
       "      <th>List</th>\n",
       "    </tr>\n",
       "  </thead>\n",
       "  <tbody>\n",
       "    <tr>\n",
       "      <th>0</th>\n",
       "      <td>0</td>\n",
       "      <td>destabilize</td>\n",
       "      <td>0.578125</td>\n",
       "      <td>0.47100</td>\n",
       "      <td>All</td>\n",
       "    </tr>\n",
       "    <tr>\n",
       "      <th>1</th>\n",
       "      <td>1</td>\n",
       "      <td>destabilize</td>\n",
       "      <td>0.250000</td>\n",
       "      <td>0.34775</td>\n",
       "      <td>All</td>\n",
       "    </tr>\n",
       "    <tr>\n",
       "      <th>2</th>\n",
       "      <td>2</td>\n",
       "      <td>destabilize</td>\n",
       "      <td>0.515625</td>\n",
       "      <td>0.51500</td>\n",
       "      <td>All</td>\n",
       "    </tr>\n",
       "    <tr>\n",
       "      <th>3</th>\n",
       "      <td>3</td>\n",
       "      <td>destabilize</td>\n",
       "      <td>0.625000</td>\n",
       "      <td>0.86400</td>\n",
       "      <td>All</td>\n",
       "    </tr>\n",
       "    <tr>\n",
       "      <th>4</th>\n",
       "      <td>4</td>\n",
       "      <td>destabilize</td>\n",
       "      <td>0.500000</td>\n",
       "      <td>0.46650</td>\n",
       "      <td>All</td>\n",
       "    </tr>\n",
       "    <tr>\n",
       "      <th>...</th>\n",
       "      <td>...</td>\n",
       "      <td>...</td>\n",
       "      <td>...</td>\n",
       "      <td>...</td>\n",
       "      <td>...</td>\n",
       "    </tr>\n",
       "    <tr>\n",
       "      <th>235</th>\n",
       "      <td>55</td>\n",
       "      <td>stabilize</td>\n",
       "      <td>0.406250</td>\n",
       "      <td>0.58750</td>\n",
       "      <td>All</td>\n",
       "    </tr>\n",
       "    <tr>\n",
       "      <th>236</th>\n",
       "      <td>56</td>\n",
       "      <td>stabilize</td>\n",
       "      <td>0.703125</td>\n",
       "      <td>0.81600</td>\n",
       "      <td>All</td>\n",
       "    </tr>\n",
       "    <tr>\n",
       "      <th>237</th>\n",
       "      <td>57</td>\n",
       "      <td>stabilize</td>\n",
       "      <td>0.343750</td>\n",
       "      <td>0.41925</td>\n",
       "      <td>All</td>\n",
       "    </tr>\n",
       "    <tr>\n",
       "      <th>238</th>\n",
       "      <td>58</td>\n",
       "      <td>stabilize</td>\n",
       "      <td>0.343750</td>\n",
       "      <td>0.56250</td>\n",
       "      <td>All</td>\n",
       "    </tr>\n",
       "    <tr>\n",
       "      <th>239</th>\n",
       "      <td>59</td>\n",
       "      <td>stabilize</td>\n",
       "      <td>0.562500</td>\n",
       "      <td>0.74850</td>\n",
       "      <td>All</td>\n",
       "    </tr>\n",
       "  </tbody>\n",
       "</table>\n",
       "<p>180 rows × 5 columns</p>\n",
       "</div>"
      ],
      "text/plain": [
       "     Subject    Condition  Recall probability  Temporal clustering score List\n",
       "0          0  destabilize            0.578125                    0.47100  All\n",
       "1          1  destabilize            0.250000                    0.34775  All\n",
       "2          2  destabilize            0.515625                    0.51500  All\n",
       "3          3  destabilize            0.625000                    0.86400  All\n",
       "4          4  destabilize            0.500000                    0.46650  All\n",
       "..       ...          ...                 ...                        ...  ...\n",
       "235       55    stabilize            0.406250                    0.58750  All\n",
       "236       56    stabilize            0.703125                    0.81600  All\n",
       "237       57    stabilize            0.343750                    0.41925  All\n",
       "238       58    stabilize            0.343750                    0.56250  All\n",
       "239       59    stabilize            0.562500                    0.74850  All\n",
       "\n",
       "[180 rows x 5 columns]"
      ]
     },
     "execution_count": 169,
     "metadata": {},
     "output_type": "execute_result"
    }
   ],
   "source": [
    "df = results['accuracy']['adaptive'].data.reset_index().query('List not in [\"init\"]').rename({0: 'Recall probability'}, axis=1)\n",
    "df['Temporal clustering score'] = results['fingerprint']['adaptive'].data.reset_index().query('List not in [\"init\"]')['temporal']\n",
    "df.rename({'List': 'Condition'}, axis=1, inplace=True)\n",
    "df['List'] = 'All'\n",
    "df"
   ]
  },
  {
   "cell_type": "code",
   "execution_count": 170,
   "metadata": {},
   "outputs": [
    {
     "name": "stdout",
     "output_type": "stream",
     "text": [
      "Correlations between Temporal clustering score and Recall probability (x lists: All, y lists: All)\n",
      "\tCombined (across subjects): : r(178) = 0.701, p < 0.001, CI = [0.590, 0.790]\n",
      "\n",
      "\n",
      "\tdestabilize (across subjects): : r(58) = 0.674, p < 0.001, CI = [0.459, 0.813]\n",
      "\trandom (across subjects): : r(58) = 0.651, p < 0.001, CI = [0.413, 0.829]\n",
      "\tstabilize (across subjects): : r(58) = 0.784, p < 0.001, CI = [0.619, 0.880]\n",
      "\tWithin condition, across subjects: all $r$s $\\geq 0.651$, all $p$s $\\leq 0.000$\n",
      "\n",
      "\n",
      "\tAcross conditions: : r(1) = 0.998, p = 0.044, CI = [0.998, 1.000]\n"
     ]
    }
   ],
   "source": [
    "corr_helper(df, x='Temporal clustering score', y='Recall probability', xlists='All', ylists='All')"
   ]
  },
  {
   "cell_type": "markdown",
   "metadata": {},
   "source": [
    "# Fingerprint stability analysis (feature rich)\n",
    "\n",
    "Each participant in the feature rich condition studied and recalled a total of 16 lists, yielding 16 sets of “fingerprints” for that participant.  Below we asked: holding out one of these fingerprints at a time, could we “match up” which participant it belonged to?  Specifically, we created two distributions of correlations.  The first distribution comprised “within-participant” correlations between the fingerprint from a held-out list and the average fingerprint from all remaining lists.  Each participant contributes a total of 16 correlations to this distribution.  The second distribution comprise  “across-participant” correlations between one the fingerprint from one held-out list from one participant, and the average fingerprints (across all lists) for each other participant.  We repeat these across-participant comparisons for each pairing of lists (from the “template” participant) and other participants.  Therefore each participant contributes $16 \\times (N - 1)$ correlations to this second distribution (one per list, times $N - 1$--- i.e., the number of participants excluding the template participant). "
   ]
  },
  {
   "cell_type": "code",
   "execution_count": 210,
   "metadata": {},
   "outputs": [
    {
     "name": "stderr",
     "output_type": "stream",
     "text": [
      "100%|██████████| 67/67 [02:03<00:00,  1.85s/it]"
     ]
    },
    {
     "name": "stdout",
     "output_type": "stream",
     "text": [
      "Within list correlation: nan +/- nan\n",
      "Across list correlation: nan +/- nan\n"
     ]
    },
    {
     "name": "stderr",
     "output_type": "stream",
     "text": [
      "\n"
     ]
    }
   ],
   "source": [
    "# load in *per list* fingerprints for the feature rich condition\n",
    "from analyze import results_file, analyze_data\n",
    "\n",
    "raw_results, _, _ = analyze_data(savefile=results_file)\n",
    "fingerprints = raw_results['fingerprint']['feature rich'].data.reset_index()\n",
    "\n",
    "include = features\n",
    "include.append('temporal')\n",
    "\n",
    "within_corrs = []\n",
    "across_corrs = []\n",
    "\n",
    "# for each participant, for each list, compute the correlation between the fingerprint for that list and the average fingerprint for the other lists\n",
    "for x in tqdm(fingerprints['Subject'].unique()):\n",
    "    for y in fingerprints.query('Subject == @x')['List'].unique():\n",
    "        with warnings.catch_warnings():\n",
    "            warnings.simplefilter('ignore')\n",
    "            ref = fingerprints.query('Subject == @x and List == @y')[include].mean().values\n",
    "            within = fingerprints.query('Subject == @x and List != @y')[include].mean().values\n",
    "            within_corrs.append(stats.pearsonr(ref, within)[0])\n",
    "\n",
    "            for z in fingerprints['Subject'].unique():\n",
    "                if z == x:\n",
    "                    continue\n",
    "                across = fingerprints.query('Subject == @z')[include].mean().values\n",
    "                across_corrs.append(stats.pearsonr(ref, across)[0])\n"
   ]
  },
  {
   "cell_type": "code",
   "execution_count": 230,
   "metadata": {},
   "outputs": [],
   "source": [
    "def ttest_helper(a, b, independent=True, n_iter=1000, alpha=0.05, prefix=''):\n",
    "    if independent:\n",
    "        results = stats.ttest_ind(a, b)\n",
    "        df = len(a) + len(b) - 2\n",
    "    else:\n",
    "        results = stats.ttest_rel(a, b)\n",
    "        df = len(a) - 1\n",
    "    t, p = results.statistic, results.pvalue\n",
    "    \n",
    "    # compute bootstrap-estimated 95% confidence interval\n",
    "    bootstrapped = []\n",
    "    n_iter = 1000\n",
    "    for i in range(n_iter):\n",
    "        if independent:\n",
    "            bootstrapped.append(stats.ttest_ind(np.random.choice(a, len(a), replace=True), np.random.choice(b, len(b), replace=True)).statistic)\n",
    "        else:\n",
    "            inds = np.random.randint(0, len(a), len(b))\n",
    "            bootstrapped.append(stats.ttest_rel(a[inds], b[inds]).statistic)\n",
    "    \n",
    "    low, high = np.percentile(bootstrapped, [alpha * 50, 100 - (alpha * 50)])\n",
    "\n",
    "    if p < 0.001:\n",
    "        p_string = 'p < 0.001'\n",
    "    else:\n",
    "        p_string = f'p = {p:.3f}'\n",
    "\n",
    "    d = (np.mean(within_corrs) - np.mean(across_corrs)) / np.sqrt((np.std(within_corrs) ** 2 + np.std(across_corrs) ** 2) / 2)\n",
    "\n",
    "    print(f'{prefix}t({df}) = {t:.3f}, {p_string}, d = {d:.3f}, CI = [{low:.3f}, {high:.3f}]')"
   ]
  },
  {
   "cell_type": "code",
   "execution_count": 232,
   "metadata": {},
   "outputs": [
    {
     "name": "stdout",
     "output_type": "stream",
     "text": [
      "Within list correlation: 0.481 +/- 0.362\n",
      "Across list correlation: 0.399 +/- 0.386\n",
      "Within vs. across list correlation: t(70280) = 6.773, p < 0.001, d = 0.217, CI = [4.847, 8.703]\n"
     ]
    }
   ],
   "source": [
    "within_corrs = np.array(within_corrs)\n",
    "across_corrs = np.array(across_corrs)\n",
    "\n",
    "# remove nans\n",
    "within_corrs = within_corrs[~np.isnan(within_corrs)]\n",
    "across_corrs = across_corrs[~np.isnan(across_corrs)]\n",
    "\n",
    "print(f'Within list correlation: {np.mean(within_corrs):.3f} +/- {np.std(within_corrs):.3f}')\n",
    "print(f'Across list correlation: {np.mean(across_corrs):.3f} +/- {np.std(across_corrs):.3f}')\n",
    "\n",
    "ttest_helper(within_corrs, across_corrs, independent=True, prefix='Within vs. across list correlation: ')"
   ]
  },
  {
   "cell_type": "markdown",
   "metadata": {},
   "source": [
    "# Clustering by feature rank"
   ]
  },
  {
   "cell_type": "code",
   "execution_count": 244,
   "metadata": {},
   "outputs": [
    {
     "data": {
      "text/html": [
       "<div>\n",
       "<style scoped>\n",
       "    .dataframe tbody tr th:only-of-type {\n",
       "        vertical-align: middle;\n",
       "    }\n",
       "\n",
       "    .dataframe tbody tr th {\n",
       "        vertical-align: top;\n",
       "    }\n",
       "\n",
       "    .dataframe thead th {\n",
       "        text-align: right;\n",
       "    }\n",
       "</style>\n",
       "<table border=\"1\" class=\"dataframe\">\n",
       "  <thead>\n",
       "    <tr style=\"text-align: right;\">\n",
       "      <th></th>\n",
       "      <th>Rank 1</th>\n",
       "      <th>Rank 2</th>\n",
       "      <th>Rank 3</th>\n",
       "      <th>Rank 4</th>\n",
       "      <th>Rank 5</th>\n",
       "      <th>Rank 6</th>\n",
       "      <th>Rank 7</th>\n",
       "    </tr>\n",
       "    <tr>\n",
       "      <th>Subject</th>\n",
       "      <th></th>\n",
       "      <th></th>\n",
       "      <th></th>\n",
       "      <th></th>\n",
       "      <th></th>\n",
       "      <th></th>\n",
       "      <th></th>\n",
       "    </tr>\n",
       "  </thead>\n",
       "  <tbody>\n",
       "    <tr>\n",
       "      <th>0</th>\n",
       "      <td>0.759750</td>\n",
       "      <td>0.620000</td>\n",
       "      <td>0.585250</td>\n",
       "      <td>0.497000</td>\n",
       "      <td>0.487000</td>\n",
       "      <td>0.384125</td>\n",
       "      <td>0.375688</td>\n",
       "    </tr>\n",
       "    <tr>\n",
       "      <th>1</th>\n",
       "      <td>0.993250</td>\n",
       "      <td>0.906000</td>\n",
       "      <td>0.506625</td>\n",
       "      <td>0.464875</td>\n",
       "      <td>0.418250</td>\n",
       "      <td>0.401500</td>\n",
       "      <td>0.347750</td>\n",
       "    </tr>\n",
       "    <tr>\n",
       "      <th>2</th>\n",
       "      <td>0.730625</td>\n",
       "      <td>0.705000</td>\n",
       "      <td>0.530687</td>\n",
       "      <td>0.470625</td>\n",
       "      <td>0.423937</td>\n",
       "      <td>0.339438</td>\n",
       "      <td>0.283375</td>\n",
       "    </tr>\n",
       "    <tr>\n",
       "      <th>3</th>\n",
       "      <td>0.606187</td>\n",
       "      <td>0.576000</td>\n",
       "      <td>0.550312</td>\n",
       "      <td>0.546312</td>\n",
       "      <td>0.501312</td>\n",
       "      <td>0.369000</td>\n",
       "      <td>0.361437</td>\n",
       "    </tr>\n",
       "    <tr>\n",
       "      <th>4</th>\n",
       "      <td>0.675000</td>\n",
       "      <td>0.587500</td>\n",
       "      <td>0.582750</td>\n",
       "      <td>0.518000</td>\n",
       "      <td>0.469062</td>\n",
       "      <td>0.443000</td>\n",
       "      <td>0.441000</td>\n",
       "    </tr>\n",
       "    <tr>\n",
       "      <th>...</th>\n",
       "      <td>...</td>\n",
       "      <td>...</td>\n",
       "      <td>...</td>\n",
       "      <td>...</td>\n",
       "      <td>...</td>\n",
       "      <td>...</td>\n",
       "      <td>...</td>\n",
       "    </tr>\n",
       "    <tr>\n",
       "      <th>62</th>\n",
       "      <td>0.623812</td>\n",
       "      <td>0.602125</td>\n",
       "      <td>0.564813</td>\n",
       "      <td>0.464250</td>\n",
       "      <td>0.460813</td>\n",
       "      <td>0.363875</td>\n",
       "      <td>0.335500</td>\n",
       "    </tr>\n",
       "    <tr>\n",
       "      <th>63</th>\n",
       "      <td>0.724562</td>\n",
       "      <td>0.577125</td>\n",
       "      <td>0.435937</td>\n",
       "      <td>0.416500</td>\n",
       "      <td>0.399125</td>\n",
       "      <td>0.366250</td>\n",
       "      <td>0.358438</td>\n",
       "    </tr>\n",
       "    <tr>\n",
       "      <th>64</th>\n",
       "      <td>0.885250</td>\n",
       "      <td>0.762375</td>\n",
       "      <td>0.569000</td>\n",
       "      <td>0.455875</td>\n",
       "      <td>0.438375</td>\n",
       "      <td>0.408375</td>\n",
       "      <td>0.390875</td>\n",
       "    </tr>\n",
       "    <tr>\n",
       "      <th>65</th>\n",
       "      <td>0.723187</td>\n",
       "      <td>0.501437</td>\n",
       "      <td>0.461313</td>\n",
       "      <td>0.449437</td>\n",
       "      <td>0.440250</td>\n",
       "      <td>0.431812</td>\n",
       "      <td>0.409250</td>\n",
       "    </tr>\n",
       "    <tr>\n",
       "      <th>66</th>\n",
       "      <td>0.841562</td>\n",
       "      <td>0.715812</td>\n",
       "      <td>0.640437</td>\n",
       "      <td>0.557750</td>\n",
       "      <td>0.452000</td>\n",
       "      <td>0.450313</td>\n",
       "      <td>0.421563</td>\n",
       "    </tr>\n",
       "  </tbody>\n",
       "</table>\n",
       "<p>67 rows × 7 columns</p>\n",
       "</div>"
      ],
      "text/plain": [
       "           Rank 1    Rank 2    Rank 3    Rank 4    Rank 5    Rank 6    Rank 7\n",
       "Subject                                                                      \n",
       "0        0.759750  0.620000  0.585250  0.497000  0.487000  0.384125  0.375688\n",
       "1        0.993250  0.906000  0.506625  0.464875  0.418250  0.401500  0.347750\n",
       "2        0.730625  0.705000  0.530687  0.470625  0.423937  0.339438  0.283375\n",
       "3        0.606187  0.576000  0.550312  0.546312  0.501312  0.369000  0.361437\n",
       "4        0.675000  0.587500  0.582750  0.518000  0.469062  0.443000  0.441000\n",
       "...           ...       ...       ...       ...       ...       ...       ...\n",
       "62       0.623812  0.602125  0.564813  0.464250  0.460813  0.363875  0.335500\n",
       "63       0.724562  0.577125  0.435937  0.416500  0.399125  0.366250  0.358438\n",
       "64       0.885250  0.762375  0.569000  0.455875  0.438375  0.408375  0.390875\n",
       "65       0.723187  0.501437  0.461313  0.449437  0.440250  0.431812  0.409250\n",
       "66       0.841562  0.715812  0.640437  0.557750  0.452000  0.450313  0.421563\n",
       "\n",
       "[67 rows x 7 columns]"
      ]
     },
     "execution_count": 244,
     "metadata": {},
     "output_type": "execute_result"
    }
   ],
   "source": [
    "# sort each row in descending order and rename the columns to match the sort ranks\n",
    "\n",
    "x = results_by_list['fingerprint']['feature rich'].data\n",
    "x = x.groupby('Subject').mean().apply(lambda x: x.sort_values(ascending=False, ignore_index=True), axis=1)\n",
    "x.columns = [f'Rank {i}' for i in range(1, len(x.columns) + 1)]\n",
    "x"
   ]
  },
  {
   "cell_type": "code",
   "execution_count": 251,
   "metadata": {},
   "outputs": [
    {
     "name": "stdout",
     "output_type": "stream",
     "text": [
      "Rank 1: t(66) = 12.751, p < 0.001, d = 0.217, CI = [8.681, 19.423]\n",
      "Rank 2: t(66) = 8.196, p < 0.001, d = 0.217, CI = [5.078, 13.389]\n",
      "Rank 3: t(66) = 3.243, p = 0.002, d = 0.217, CI = [0.927, 6.870]\n",
      "Rank 4: t(66) = -3.112, p = 0.003, d = 0.217, CI = [-4.951, -1.873]\n",
      "Rank 5: t(66) = -7.154, p < 0.001, d = 0.217, CI = [-12.539, -5.515]\n",
      "Rank 6: t(66) = -12.608, p < 0.001, d = 0.217, CI = [-21.801, -9.199]\n",
      "Rank 7: t(66) = -18.397, p < 0.001, d = 0.217, CI = [-27.244, -13.835]\n"
     ]
    }
   ],
   "source": [
    "for rank in x.columns:\n",
    "    ttest_helper(x[rank], 0.5 * np.ones_like(x[rank]), independent=False, prefix=f'{rank}: ')"
   ]
  }
 ],
 "metadata": {
  "kernelspec": {
   "display_name": "frfr",
   "language": "python",
   "name": "frfr"
  },
  "language_info": {
   "codemirror_mode": {
    "name": "ipython",
    "version": 3
   },
   "file_extension": ".py",
   "mimetype": "text/x-python",
   "name": "python",
   "nbconvert_exporter": "python",
   "pygments_lexer": "ipython3",
   "version": "3.10.4"
  },
  "vscode": {
   "interpreter": {
    "hash": "ece6198bba427cbc67eade80d2f26cc97e756f38697f95066add8df0785cdc08"
   }
  }
 },
 "nbformat": 4,
 "nbformat_minor": 2
}
