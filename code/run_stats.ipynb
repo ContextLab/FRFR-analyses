{
 "cells": [
  {
   "cell_type": "code",
   "execution_count": 1,
   "metadata": {},
   "outputs": [
    {
     "name": "stdout",
     "output_type": "stream",
     "text": [
      "Requirement already satisfied: pip in /Users/jmanning/opt/anaconda3/envs/quail/lib/python3.10/site-packages (22.3.1)\n",
      "Note: you may need to restart the kernel to use updated packages.\n",
      "Requirement already satisfied: davos in /Users/jmanning/opt/anaconda3/envs/quail/lib/python3.10/site-packages (0.1.0)\n",
      "Requirement already satisfied: setuptools in /Users/jmanning/opt/anaconda3/envs/quail/lib/python3.10/site-packages (from davos) (65.5.1)\n",
      "Requirement already satisfied: packaging in /Users/jmanning/opt/anaconda3/envs/quail/lib/python3.10/site-packages (from davos) (21.3)\n",
      "Requirement already satisfied: pyparsing!=3.0.5,>=2.0.2 in /Users/jmanning/opt/anaconda3/envs/quail/lib/python3.10/site-packages (from packaging->davos) (3.0.9)\n",
      "Note: you may need to restart the kernel to use updated packages.\n"
     ]
    }
   ],
   "source": [
    "%pip install --upgrade pip\n",
    "%pip install davos\n",
    "import davos"
   ]
  },
  {
   "cell_type": "code",
   "execution_count": 2,
   "metadata": {},
   "outputs": [],
   "source": [
    "smuggle pandas as pd # pip: pandas==1.5.1\n",
    "smuggle numpy as np # pip: numpy==1.23.4\n",
    "smuggle seaborn as sns # pip: seaborn==0.12.1\n",
    "smuggle dill as pickle # pip: dill==0.3.6\n",
    "\n",
    "smuggle h5py # pip: h5py==3.7.0\n",
    "smuggle pathos # pip: pathos==0.3.0\n",
    "smuggle quail # pip: quail==0.2.1\n",
    "smuggle requests # pip: requests==2.28.1\n",
    "smuggle os\n",
    "smuggle warnings\n",
    "smuggle string\n",
    "\n",
    "from tqdm smuggle tqdm # pip: tqdm==4.64.1\n",
    "from matplotlib smuggle pyplot as plt #pip: matplotlib==3.6.2\n",
    "from matplotlib.ticker smuggle MaxNLocator\n",
    "from pathos.multiprocessing smuggle ProcessingPool as Pool # pip: pathos==0.3.0\n",
    "from multiprocessing smuggle cpu_count  # pip: multiprocess==0.70.14\n",
    "from sklearn.decomposition smuggle IncrementalPCA as PCA # pip: scikit-learn==1.1.3\n",
    "from scipy smuggle stats # pip: scipy==1.10.0\n",
    "\n",
    "# local functions\n",
    "from dataloader import datadir, grouping, feature_groupings, descriptions, sort_by_grouping, fetch_data\n",
    "from analyze import analyze_data, recover_fingerprint_features, organize_by_listgroup, random, adaptive, non_adaptive_exclude_random, \\\n",
    "                    select_conds, select_lists, filter, get_diffs, stack_diffs, pnr_matrix, accuracy2df, adaptive_listnum2cond, \\\n",
    "                    clustering_matrices, average_by_cond, rename_features, fingerprint2temporal, get_boundaries, \\\n",
    "                    recall_accuracy_near_boundaries, results, results_by_list, analyses, listgroups, orders, ttest"
   ]
  },
  {
   "attachments": {},
   "cell_type": "markdown",
   "metadata": {},
   "source": [
    "# Performance on *feature rich* versus *reduced* lists:\n",
    "  - accuracy\n",
    "  - temporal clustering\n",
    "  - non-visual feature-based clustering (category, size, length, first letter)"
   ]
  },
  {
   "cell_type": "code",
   "execution_count": 3,
   "metadata": {},
   "outputs": [
    {
     "name": "stdout",
     "output_type": "stream",
     "text": [
      "Accuracy for feature rich vs. reduced (all lists):\n",
      "t(126) = -0.290, p = 0.772\n"
     ]
    }
   ],
   "source": [
    "print('Accuracy for feature rich vs. reduced (all lists):')\n",
    "ttest(results['accuracy']['feature rich'], results['accuracy']['reduced'])"
   ]
  },
  {
   "cell_type": "code",
   "execution_count": 4,
   "metadata": {},
   "outputs": [
    {
     "name": "stdout",
     "output_type": "stream",
     "text": [
      "Temporal clustering for feature rich vs. reduced (all lists):\n",
      "t(126) = 10.624, p = 0.000\n"
     ]
    }
   ],
   "source": [
    "print('Temporal clustering for feature rich vs. reduced (all lists):')\n",
    "ttest(results['fingerprint']['feature rich'], results['fingerprint']['reduced'], x_col='temporal', y_col='temporal')"
   ]
  },
  {
   "cell_type": "code",
   "execution_count": 5,
   "metadata": {},
   "outputs": [
    {
     "name": "stdout",
     "output_type": "stream",
     "text": [
      "category clustering for feature rich vs. reduced (all lists):\n",
      "t(126) = 10.077, p = 0.000\n",
      "\n",
      "\n",
      "size clustering for feature rich vs. reduced (all lists):\n",
      "t(126) = 11.829, p = 0.000\n",
      "\n",
      "\n",
      "wordLength clustering for feature rich vs. reduced (all lists):\n",
      "t(126) = 10.639, p = 0.000\n",
      "\n",
      "\n",
      "firstLetter clustering for feature rich vs. reduced (all lists):\n",
      "t(126) = 7.775, p = 0.000\n"
     ]
    }
   ],
   "source": [
    "features = ['category', 'size', 'wordLength', 'firstLetter']\n",
    "for i, f in enumerate(features):\n",
    "    print(f'{f} clustering for feature rich vs. reduced (all lists):')\n",
    "    ttest(results['fingerprint']['feature rich'], results['fingerprint']['reduced'], x_col=f, y_col=f)\n",
    "\n",
    "    if i < len(features) - 1:\n",
    "        print('\\n')"
   ]
  },
  {
   "attachments": {},
   "cell_type": "markdown",
   "metadata": {},
   "source": [
    "# Performance on {*feature rich*, *reduced*} lists versus *reduced ({early, late})* lists\n",
    "We'll compare early and late lists separately (e.g., early to early, late to late, early to late, etc.)\n",
    "\n",
    "Metrics:\n",
    "  - accuracy\n",
    "  - temporal clustering\n",
    "  - non-visual feature-based clustering (category, size, length, first letter)\n",
    "\n",
    "## Early vs. late (all conditions and metrics)"
   ]
  },
  {
   "attachments": {},
   "cell_type": "markdown",
   "metadata": {},
   "source": [
    "### Accuracy"
   ]
  },
  {
   "cell_type": "code",
   "execution_count": 6,
   "metadata": {},
   "outputs": [
    {
     "name": "stdout",
     "output_type": "stream",
     "text": [
      "Accuracy for feature rich (early lists) vs. feature rich (late lists):\n",
      "t(66) = 4.553, p = 0.000\n"
     ]
    }
   ],
   "source": [
    "print('Accuracy for feature rich (early lists) vs. feature rich (late lists):')\n",
    "ttest(results['accuracy']['feature rich'], results['accuracy']['feature rich'], x_lists='Early', y_lists='Late', independent_sample=False)"
   ]
  },
  {
   "cell_type": "code",
   "execution_count": 7,
   "metadata": {},
   "outputs": [
    {
     "name": "stdout",
     "output_type": "stream",
     "text": [
      "Accuracy for reduced (early lists) vs. reduced (late lists):\n",
      "t(60) = 2.434, p = 0.018\n"
     ]
    }
   ],
   "source": [
    "print('Accuracy for reduced (early lists) vs. reduced (late lists):')\n",
    "ttest(results['accuracy']['reduced'], results['accuracy']['reduced'], x_lists='Early', y_lists='Late', independent_sample=False)"
   ]
  },
  {
   "cell_type": "code",
   "execution_count": 8,
   "metadata": {},
   "outputs": [
    {
     "name": "stdout",
     "output_type": "stream",
     "text": [
      "Accuracy for reduced (early) (early lists) vs. reduced (early) (late lists):\n",
      "t(41) = 1.499, p = 0.141\n"
     ]
    }
   ],
   "source": [
    "print('Accuracy for reduced (early) (early lists) vs. reduced (early) (late lists):')\n",
    "ttest(results['accuracy']['reduced (early)'], results['accuracy']['reduced (early)'], x_lists='Early', y_lists='Late', independent_sample=False)"
   ]
  },
  {
   "cell_type": "code",
   "execution_count": 9,
   "metadata": {},
   "outputs": [
    {
     "name": "stdout",
     "output_type": "stream",
     "text": [
      "Accuracy for reduced (late) (early lists) vs. reduced (late) (late lists):\n",
      "t(40) = 1.462, p = 0.152\n"
     ]
    }
   ],
   "source": [
    "print('Accuracy for reduced (late) (early lists) vs. reduced (late) (late lists):')\n",
    "ttest(results['accuracy']['reduced (late)'], results['accuracy']['reduced (late)'], x_lists='Early', y_lists='Late', independent_sample=False)"
   ]
  },
  {
   "attachments": {},
   "cell_type": "markdown",
   "metadata": {},
   "source": [
    "### Temporal clustering"
   ]
  },
  {
   "cell_type": "code",
   "execution_count": 10,
   "metadata": {},
   "outputs": [
    {
     "name": "stdout",
     "output_type": "stream",
     "text": [
      "Temporal clustering for feature rich (early lists) vs. feature rich (late lists):\n",
      "t(66) = 2.318, p = 0.024\n"
     ]
    }
   ],
   "source": [
    "print('Temporal clustering for feature rich (early lists) vs. feature rich (late lists):')\n",
    "ttest(results['fingerprint']['feature rich'], results['fingerprint']['feature rich'], x_col='temporal', y_col='temporal', x_lists='Early', y_lists='Late', independent_sample=False)"
   ]
  },
  {
   "cell_type": "code",
   "execution_count": 11,
   "metadata": {},
   "outputs": [
    {
     "name": "stdout",
     "output_type": "stream",
     "text": [
      "Temporal clustering for reduced (early lists) vs. reduced (late lists):\n",
      "t(60) = 0.929, p = 0.357\n"
     ]
    }
   ],
   "source": [
    "print('Temporal clustering for reduced (early lists) vs. reduced (late lists):')\n",
    "ttest(results['fingerprint']['reduced'], results['fingerprint']['reduced'], x_col='temporal', y_col='temporal', x_lists='Early', y_lists='Late', independent_sample=False)"
   ]
  },
  {
   "cell_type": "code",
   "execution_count": 12,
   "metadata": {},
   "outputs": [
    {
     "name": "stdout",
     "output_type": "stream",
     "text": [
      "Temporal clustering for reduced (early) (early lists) vs. reduced (early) (late lists):\n",
      "t(41) = 0.998, p = 0.324\n"
     ]
    }
   ],
   "source": [
    "print('Temporal clustering for reduced (early) (early lists) vs. reduced (early) (late lists):')\n",
    "ttest(results['fingerprint']['reduced (early)'], results['fingerprint']['reduced (early)'], x_col='temporal', y_col='temporal', x_lists='Early', y_lists='Late', independent_sample=False)"
   ]
  },
  {
   "cell_type": "code",
   "execution_count": 13,
   "metadata": {},
   "outputs": [
    {
     "name": "stdout",
     "output_type": "stream",
     "text": [
      "Temporal clustering for reduced (late) (early lists) vs. reduced (late) (late lists):\n",
      "t(40) = 1.099, p = 0.278\n"
     ]
    }
   ],
   "source": [
    "print('Temporal clustering for reduced (late) (early lists) vs. reduced (late) (late lists):')\n",
    "ttest(results['fingerprint']['reduced (late)'], results['fingerprint']['reduced (late)'], x_col='temporal', y_col='temporal', x_lists='Early', y_lists='Late', independent_sample=False)"
   ]
  },
  {
   "attachments": {},
   "cell_type": "markdown",
   "metadata": {},
   "source": [
    "### Non-visual feature based clustering"
   ]
  },
  {
   "cell_type": "code",
   "execution_count": 14,
   "metadata": {},
   "outputs": [
    {
     "name": "stdout",
     "output_type": "stream",
     "text": [
      "category clustering for feature rich (early lists) vs. feature rich (late lists):\n",
      "t(66) = 3.805, p = 0.000\n",
      "\n",
      "\n",
      "size clustering for feature rich (early lists) vs. feature rich (late lists):\n",
      "t(66) = 2.190, p = 0.032\n",
      "\n",
      "\n",
      "wordLength clustering for feature rich (early lists) vs. feature rich (late lists):\n",
      "t(66) = 0.161, p = 0.872\n",
      "\n",
      "\n",
      "firstLetter clustering for feature rich (early lists) vs. feature rich (late lists):\n",
      "t(66) = 0.410, p = 0.683\n"
     ]
    }
   ],
   "source": [
    "for i, f in enumerate(features):\n",
    "    print(f'{f} clustering for feature rich (early lists) vs. feature rich (late lists):')\n",
    "    ttest(results['fingerprint']['feature rich'], results['fingerprint']['feature rich'], x_col=f, y_col=f, x_lists='Early', y_lists='Late', independent_sample=False)\n",
    "\n",
    "    if i < len(features) - 1:\n",
    "        print('\\n')"
   ]
  },
  {
   "cell_type": "code",
   "execution_count": 15,
   "metadata": {},
   "outputs": [
    {
     "name": "stdout",
     "output_type": "stream",
     "text": [
      "category clustering for reduced (early lists) vs. reduced (late lists):\n",
      "t(60) = 2.856, p = 0.006\n",
      "\n",
      "\n",
      "size clustering for reduced (early lists) vs. reduced (late lists):\n",
      "t(60) = 2.947, p = 0.005\n",
      "\n",
      "\n",
      "wordLength clustering for reduced (early lists) vs. reduced (late lists):\n",
      "t(60) = 3.528, p = 0.001\n",
      "\n",
      "\n",
      "firstLetter clustering for reduced (early lists) vs. reduced (late lists):\n",
      "t(60) = 2.275, p = 0.026\n"
     ]
    }
   ],
   "source": [
    "for i, f in enumerate(features):\n",
    "    print(f'{f} clustering for reduced (early lists) vs. reduced (late lists):')\n",
    "    ttest(results['fingerprint']['reduced'], results['fingerprint']['reduced'], x_col=f, y_col=f, x_lists='Early', y_lists='Late', independent_sample=False)\n",
    "\n",
    "    if i < len(features) - 1:\n",
    "        print('\\n')"
   ]
  },
  {
   "cell_type": "code",
   "execution_count": 16,
   "metadata": {},
   "outputs": [
    {
     "name": "stdout",
     "output_type": "stream",
     "text": [
      "category clustering for reduced (early) (early lists) vs. reduced (early) (late lists):\n",
      "t(41) = 0.753, p = 0.456\n",
      "\n",
      "\n",
      "size clustering for reduced (early) (early lists) vs. reduced (early) (late lists):\n",
      "t(41) = 0.721, p = 0.475\n",
      "\n",
      "\n",
      "wordLength clustering for reduced (early) (early lists) vs. reduced (early) (late lists):\n",
      "t(41) = 0.493, p = 0.625\n",
      "\n",
      "\n",
      "firstLetter clustering for reduced (early) (early lists) vs. reduced (early) (late lists):\n",
      "t(41) = 0.780, p = 0.440\n"
     ]
    }
   ],
   "source": [
    "for i, f in enumerate(features):\n",
    "    print(f'{f} clustering for reduced (early) (early lists) vs. reduced (early) (late lists):')\n",
    "    ttest(results['fingerprint']['reduced (early)'], results['fingerprint']['reduced (early)'], x_col=f, y_col=f, x_lists='Early', y_lists='Late', independent_sample=False)\n",
    "\n",
    "    if i < len(features) - 1:\n",
    "        print('\\n')"
   ]
  },
  {
   "cell_type": "code",
   "execution_count": 17,
   "metadata": {},
   "outputs": [
    {
     "name": "stdout",
     "output_type": "stream",
     "text": [
      "category clustering for reduced (late) (early lists) vs. reduced (late) (late lists):\n",
      "t(40) = -0.086, p = 0.932\n",
      "\n",
      "\n",
      "size clustering for reduced (late) (early lists) vs. reduced (late) (late lists):\n",
      "t(40) = 0.746, p = 0.460\n",
      "\n",
      "\n",
      "wordLength clustering for reduced (late) (early lists) vs. reduced (late) (late lists):\n",
      "t(40) = 1.476, p = 0.148\n",
      "\n",
      "\n",
      "firstLetter clustering for reduced (late) (early lists) vs. reduced (late) (late lists):\n",
      "t(40) = 0.966, p = 0.340\n"
     ]
    }
   ],
   "source": [
    "for i, f in enumerate(features):\n",
    "    print(f'{f} clustering for reduced (late) (early lists) vs. reduced (late) (late lists):')\n",
    "    ttest(results['fingerprint']['reduced (late)'], results['fingerprint']['reduced (late)'], x_col=f, y_col=f, x_lists='Early', y_lists='Late', independent_sample=False)\n",
    "\n",
    "    if i < len(features) - 1:\n",
    "        print('\\n')"
   ]
  },
  {
   "attachments": {},
   "cell_type": "markdown",
   "metadata": {},
   "source": [
    "- what do additonal visual features add?  (compare reduced vs. feature rich)\n",
    "- are the visual features \"sticky\"?  (compare feature rich vs. reduced (early), also reduced vs. reduced (early))\n",
    "- are impoverished stimuli \"sticky\"?  (compare feature rich vs. reduced (late), reduced vs. reduced (late), also reduced (early) vs. reduced (late))\n",
    "\n",
    "\n",
    "- are order effects \"sticky\"?  compare behavior on early vs. late lists for order manipulation condition\n",
    "  - does feature clustering on early lists correlate with recall on early (or late) lists?\n",
    "  - does feature clustering on late lists correlate with recall on early (or late) lists?\n",
    "  - (ditto, but replace \"recall\" with \"temporal clustering\")\n",
    "\n",
    "\n",
    "- for feature-rich lists, do order effects matter?\n",
    "  - recall + dynamics + organization on order-manipulation conditions vs. feature rich\n",
    "  - fingerprint trajectories: how much do fingerprints change over time, are they sensitive to order manipulations?\n",
    "\n",
    "- are fingerprints maleable?  how does match between fingerprint + presentation order affect recall performance (adaptive conditions)?\n"
   ]
  },
  {
   "cell_type": "code",
   "execution_count": null,
   "metadata": {},
   "outputs": [],
   "source": []
  }
 ],
 "metadata": {
  "kernelspec": {
   "display_name": "quail",
   "language": "python",
   "name": "python3"
  },
  "language_info": {
   "codemirror_mode": {
    "name": "ipython",
    "version": 3
   },
   "file_extension": ".py",
   "mimetype": "text/x-python",
   "name": "python",
   "nbconvert_exporter": "python",
   "pygments_lexer": "ipython3",
   "version": "3.10.6"
  },
  "orig_nbformat": 4,
  "vscode": {
   "interpreter": {
    "hash": "ece6198bba427cbc67eade80d2f26cc97e756f38697f95066add8df0785cdc08"
   }
  }
 },
 "nbformat": 4,
 "nbformat_minor": 2
}
