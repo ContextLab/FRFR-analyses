{
 "cells": [
  {
   "cell_type": "code",
   "execution_count": 5,
   "metadata": {},
   "outputs": [],
   "source": [
    "import pandas as pd\n",
    "import numpy as np\n",
    "\n",
    "import quail\n",
    "import requests\n",
    "import os"
   ]
  },
  {
   "cell_type": "code",
   "execution_count": 8,
   "metadata": {},
   "outputs": [
    {
     "name": "stdout",
     "output_type": "stream",
     "text": [
      "\u001b[34mencoding\u001b[m\u001b[m/ \u001b[34mrecall\u001b[m\u001b[m/\n"
     ]
    }
   ],
   "source": [
    "ls ../data"
   ]
  },
  {
   "cell_type": "code",
   "execution_count": 12,
   "metadata": {},
   "outputs": [],
   "source": [
    "datadir = os.path.join(os.path.split(os.getcwd())[0], 'data', 'eggs')\n",
    "if not os.path.exists(datadir):\n",
    "    os.makedirs(datadir)\n",
    "\n",
    "urls = {'exp1': 'https://www.dropbox.com/s/wbihewq631onsj8/exp1.egg?dl=1',\n",
    "        'exp2': 'https://www.dropbox.com/s/kliq92lta7mvqcc/exp2.egg?dl=1',\n",
    "        'exp3': 'https://www.dropbox.com/s/3se8ee2fahf9hvc/exp3.egg?dl=1',\n",
    "        'exp4': 'https://www.dropbox.com/s/9xd2v4fofk1uqv2/exp4.egg?dl=1',\n",
    "        'exp5': 'https://www.dropbox.com/s/lox770xxs2d7ypm/exp5.egg?dl=1',\n",
    "        'exp6': 'https://www.dropbox.com/s/afp5ml563b46s6q/exp6.egg?dl=1',\n",
    "        'exp7': 'https://www.dropbox.com/s/43nq4egicrxc31p/exp7.egg?dl=1',\n",
    "        'exp8': 'https://www.dropbox.com/s/j7j2bldr24wybwu/exp8.egg?dl=1',\n",
    "        'exp10': 'https://www.dropbox.com/s/gp3av93kvlzsgpw/exp10.egg?dl=1',\n",
    "        'exp12': 'https://www.dropbox.com/s/leqll4o8ih587fa/exp12.egg?dl=1'}"
   ]
  },
  {
   "cell_type": "code",
   "execution_count": 13,
   "metadata": {},
   "outputs": [],
   "source": [
    "def load_egg(fname, url=None):\n",
    "    fname = os.path.join(datadir, fname)\n",
    "    if os.path.exists(fname):\n",
    "        return quail.load_egg(fname)\n",
    "\n",
    "    r = requests.get(url, allow_redirects=True)\n",
    "    with open(fname, 'wb') as f:\n",
    "        f.write(r.content)\n",
    "    \n",
    "    return load_egg(fname)"
   ]
  },
  {
   "cell_type": "code",
   "execution_count": 14,
   "metadata": {},
   "outputs": [],
   "source": [
    "exp1 = load_egg('exp1.egg', urls['exp1'])"
   ]
  },
  {
   "cell_type": "code",
   "execution_count": 17,
   "metadata": {},
   "outputs": [
    {
     "name": "stdout",
     "output_type": "stream",
     "text": [
      "Number of subjects: 67\n",
      "Number of lists per subject: 16\n",
      "Number of words per list: 16\n",
      "Date created: Tue Jun 19 18:49:40 2018\n",
      "Meta data: {'ids': ['debugIAU8V9:debugT1DECK', 'debug02E4FI:debugF7UOXH', 'debugGPNALW:debugXSJ1FD', 'debugS4GATI:debug2LRP6X', 'debugJAPX2W:debugFZOLSG', 'debugA98B98:debug5H8QRL', 'debugKDM8HT:debugH2I05W', 'debugQS9870:debugKM1SRC', 'debugHP65NS:debugLWS9KB', 'debugVFPD79:debugIP75FV', 'debugX84L2K:debugCDN40O', 'debugSU1T93:debugKCB9VM', 'debugE1CAO3:debugONZ2R5', 'debug8DEMRS:debugC55CO6', 'debugKUWU41:debug9FG9EP', 'debugXUZA8U:debugMR3K3X', 'debugN8TPWO:debugF1XWCH', 'debugZQ55YL:debug5WQHPC', 'debugWF2JFB:debugPNRZFQ', 'debugLXMXTP:debugJAXRZL', 'debugQRX0V3:debugFIWAG8', 'debugG8ULM9:debugTQWVMZ', 'debugLR8M04:debugAWUN3H', 'debugERQG05:debug2FAOKO', 'debugF8DZJ6:debug86HIJ4', 'debugITLGLA:debug7ROZ9L', 'debug7GE0FQ:debugNQBPRE', 'debug9KF9TH:debugT3V15U', 'debug81CQYZ:debugCJKP0T', 'debugQPKPM7:debug09IY68', 'debug9KIK3B:debug9JR8LF', 'debugXQEVUH:debugG8SLTX', 'debugCND9B8:debugN4WDX6', 'debugQGFJQZ:debugXDIS2A', 'debugV2WLPQ:debugQN6O0V', 'debugZ5SE8F:debugYT96YP', 'debugFIGADU:debugPSS00O', 'debug6ITSAP:debugXL2RC2', 'debug0R4Z8N:debugPOZ1W2', 'debugSYTF3P:debugO1616H', 'debugD9A8SD:debugEFJXPV', 'debugY3HLE1:debugWM2NLE', 'debugVMMXAE:debug01ZWG9', 'debugGSA1V3:debugWQD62D', 'debugC007P9:debugGF3YGU', 'debug2190CO:debug7FCP7V', 'debug5KSTWG:debugGW7N3Q', 'debug81QUA9:debugRVDIQ5', 'debugC2RWDX:debugIEDSHJ', 'debug67VUOG:debugA281G5', 'debugKLOAWO:debug77AG61', 'debugYY9YVK:debug4XIGBP', 'debugEXI4LY:debugJ2DQAV', 'debugOU8R7Q:debugLUFEB3', 'debug08BEG8:debugOZLEP6', 'debugFH842U:debug05C3DM', 'debug4PZMRA:debugRS5S6O', 'debug13AR24:debug4Q0DQ2', 'debugS1G09M:debugFGD0UP', 'debugHKGG9X:debug3XGXLR', 'debugFM0XUJ:debug6ITC6E', 'debug86EPBF:debug00UD82', 'debugM1KLJR:debugBPWM4A', 'debug6EYJ4E:debug13NPS7', 'debugNVM5QX:debugYA9KKT', 'debugCD4W4J:debug3RD6GT', 'debug4T9KUZ:debugOHXUS7']}\n"
     ]
    }
   ],
   "source": [
    "exp1.info()"
   ]
  },
  {
   "cell_type": "code",
   "execution_count": null,
   "metadata": {},
   "outputs": [],
   "source": []
  }
 ],
 "metadata": {
  "kernelspec": {
   "display_name": "Python 3.10.6 ('quail')",
   "language": "python",
   "name": "python3"
  },
  "language_info": {
   "codemirror_mode": {
    "name": "ipython",
    "version": 3
   },
   "file_extension": ".py",
   "mimetype": "text/x-python",
   "name": "python",
   "nbconvert_exporter": "python",
   "pygments_lexer": "ipython3",
   "version": "3.10.6"
  },
  "orig_nbformat": 4,
  "vscode": {
   "interpreter": {
    "hash": "ece6198bba427cbc67eade80d2f26cc97e756f38697f95066add8df0785cdc08"
   }
  }
 },
 "nbformat": 4,
 "nbformat_minor": 2
}
