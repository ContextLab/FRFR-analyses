{
 "cells": [
  {
   "cell_type": "markdown",
   "metadata": {},
   "source": [
    "# -*- coding: utf-8 -*-\n",
    "# <nbformat>3.0</nbformat>\n",
    "\n",
    "# <markdowncell>\n",
    "\n",
    "# The simplest notebook. Markdown cells are embedded in comments,\n",
    "# so the file is a valid `python` script.\n",
    "# Be sure to **leave a space** after the comment character!\n",
    "\n",
    "# <codecell>\n",
    "\n",
    "  print(\"Hello, IPython\")\n",
    "\n",
    "# <rawcell>\n",
    "\n",
    "# Raw cell contents are not formatted as markdown"
   ]
  }
 ],
 "metadata": {},
 "nbformat": 4,
 "nbformat_minor": 2
}
