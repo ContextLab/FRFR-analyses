{
 "cells": [
  {
   "cell_type": "code",
   "execution_count": 1,
   "metadata": {
    "collapsed": false
   },
   "outputs": [
    {
     "ename": "OSError",
     "evalue": "[Errno 2] No such file or directory: '/Users/Student/Documents/github/FRFR-analyses/audio_transcriptions 2/'",
     "output_type": "error",
     "traceback": [
      "\u001b[0;31m---------------------------------------------------------------------------\u001b[0m",
      "\u001b[0;31mOSError\u001b[0m                                   Traceback (most recent call last)",
      "\u001b[0;32m<ipython-input-1-55360e01ac3a>\u001b[0m in \u001b[0;36m<module>\u001b[0;34m()\u001b[0m\n\u001b[1;32m     20\u001b[0m \u001b[0mSUBS\u001b[0m\u001b[0;34m=\u001b[0m\u001b[0;34m[\u001b[0m\u001b[0;34m]\u001b[0m\u001b[0;34m\u001b[0m\u001b[0m\n\u001b[1;32m     21\u001b[0m \u001b[0;34m\u001b[0m\u001b[0m\n\u001b[0;32m---> 22\u001b[0;31m \u001b[0;32mfor\u001b[0m \u001b[0msubject\u001b[0m \u001b[0;32min\u001b[0m \u001b[0mos\u001b[0m\u001b[0;34m.\u001b[0m\u001b[0mlistdir\u001b[0m\u001b[0;34m(\u001b[0m\u001b[0;34m'/Users/Student/Documents/github/FRFR-analyses/audio_transcriptions 2/'\u001b[0m\u001b[0;34m)\u001b[0m\u001b[0;34m[\u001b[0m\u001b[0;36m1\u001b[0m\u001b[0;34m:\u001b[0m\u001b[0;34m]\u001b[0m\u001b[0;34m:\u001b[0m\u001b[0;34m\u001b[0m\u001b[0m\n\u001b[0m\u001b[1;32m     23\u001b[0m     \u001b[0;31m#for each subject folder (in list of strings)\u001b[0m\u001b[0;34m\u001b[0m\u001b[0;34m\u001b[0m\u001b[0m\n\u001b[1;32m     24\u001b[0m \u001b[0;34m\u001b[0m\u001b[0m\n",
      "\u001b[0;31mOSError\u001b[0m: [Errno 2] No such file or directory: '/Users/Student/Documents/github/FRFR-analyses/audio_transcriptions 2/'"
     ]
    }
   ],
   "source": [
    "#!/usr/bin/env python\n",
    "\n",
    "\"\"\"Check manually versus auto-transcribed text files\"\"\"\n",
    "\n",
    "__author__ = \"Campbell Field\"\n",
    "__email__ = \"campbell.e.field.18@dartmouth.edu\"\n",
    "\n",
    "\n",
    "\n",
    "##IMPORTS#######\n",
    "import os \n",
    "import glob\n",
    "import numpy as np\n",
    "import seaborn as sns\n",
    "import matplotlib.pyplot as plt\n",
    "\n",
    "##CODE#########\n",
    "\n",
    "ALL_PROPORTIONS=[]\n",
    "SUBS=[]\n",
    "\n",
    "for subject in os.listdir('/Users/Student/Documents/github/FRFR-analyses/audio_transcriptions 2/')[1:]:\n",
    "    #for each subject folder (in list of strings)\n",
    "\n",
    "    folder='/Users/Student/Documents/github/FRFR-analyses/audio_transcriptions 2/'+subject\n",
    "    os.chdir(folder)\n",
    "    # change into that subject dir\n",
    "\n",
    "    PROP_LIST=[]\n",
    "    SUBS.append(subject)\n",
    "\n",
    "    for x in range(0,16):\n",
    "    \n",
    "        AUTO = []\n",
    "        MAN = []\n",
    "\n",
    "        autoname='*'+str(x)+'.wav.txt'\n",
    "        AUTO_file = open(glob.glob(autoname)[0], \"r\")\n",
    "        AUTO_contents = AUTO_file.read().split(\",\")\n",
    "        for line in AUTO_contents:\n",
    "            AUTO.append(line)\n",
    "            AUTO_file.close()\n",
    "\n",
    "        manname= '*'+str(x)+'.txt'\n",
    "        MAN_file = open(glob.glob(manname)[0], \"r\")\n",
    "        MAN_contents = MAN_file.read().split()\n",
    "        for line in MAN_contents:\n",
    "            MAN.append(line.upper())\n",
    "            MAN_file.close()\n",
    "\n",
    "\n",
    "        MATCH=0\n",
    "\n",
    "        for x in AUTO:\n",
    "            if x in MAN:\n",
    "                MATCH += 1\n",
    "                  #for every word in MAN that exists also in AUTO, count it in MATCH\n",
    "                #some words are remembered in plural form, do those count?\n",
    "\n",
    "\n",
    "        #does this line work? (my intuition -> float--> 0.0, int --> 0)\n",
    "        #might not need this because don't seem to have 0 cases anymore\n",
    "        if float(len(AUTO)) == 0:\n",
    "            PROP_LIST.append(0)\n",
    "\n",
    "        else:\n",
    "            PROP = (float(MATCH)/float(len(AUTO)))\n",
    "            PROP_LIST.append(PROP)\n",
    "        #each element of PROP_LIST is a proportion of auto-trans words also in  man trans words for a single trial\n",
    "\n",
    "\n",
    "\n",
    "    ALL_PROPORTIONS.append(np.array(PROP_LIST))\n",
    "\n",
    "\n",
    "    os.chdir('../')\n",
    "\n",
    "#print(ALL_PROPORTIONS)\n",
    "    \n",
    "        #ALL_PROPORTIONS is a list of proportion lists, one per subject; can use this to plot\n",
    "\n",
    "#for prop in ALL_PROPORTIONS:\n",
    "\n",
    "    #plt.hist(prop)\n",
    "    #plt.show()\n",
    "    ##END RESULT: plot each item in proportion list as a histogram\n",
    "\n",
    "    \n",
    "#PLOT\n",
    "\n",
    "\n",
    "# Start with one\n",
    "fig = plt.figure()\n",
    "ax = fig.add_subplot(4,5,1)\n",
    "ax.hist(ALL_PROPORTIONS[0])\n",
    "plt.xlim((0,1))\n",
    "plt.ylim((0,14))\n",
    "ax.set_title(SUBS[0], fontsize=12, fontweight='bold')\n",
    "\n",
    "for idx,x in enumerate(ALL_PROPORTIONS[1:]):\n",
    "\n",
    "#     # Now later you get a new subplot; change the geometry of the existing\n",
    "#     n = len(fig.axes)\n",
    "#     for i in range(n):\n",
    "#         fig.axes[i].change_geometry(1, i, i+4)\n",
    "\n",
    "    # Add the new\n",
    "    ax = fig.add_subplot(4,5,idx+2)\n",
    "    ax.hist(x)\n",
    "    plt.xlim((0,1))\n",
    "    plt.ylim((0,14))\n",
    "    ax.set_title(SUBS[idx+1], fontsize=12, fontweight='bold')"
   ]
  },
  {
   "cell_type": "code",
   "execution_count": null,
   "metadata": {
    "collapsed": true
   },
   "outputs": [],
   "source": [
    "plt.show()"
   ]
  },
  {
   "cell_type": "code",
   "execution_count": null,
   "metadata": {
    "collapsed": true
   },
   "outputs": [],
   "source": []
  },
  {
   "cell_type": "code",
   "execution_count": null,
   "metadata": {
    "collapsed": true
   },
   "outputs": [],
   "source": []
  }
 ],
 "metadata": {
  "kernelspec": {
   "display_name": "Python 2",
   "language": "python",
   "name": "python2"
  },
  "language_info": {
   "codemirror_mode": {
    "name": "ipython",
    "version": 2
   },
   "file_extension": ".py",
   "mimetype": "text/x-python",
   "name": "python",
   "nbconvert_exporter": "python",
   "pygments_lexer": "ipython2",
   "version": "2.7.11"
  }
 },
 "nbformat": 4,
 "nbformat_minor": 0
}
