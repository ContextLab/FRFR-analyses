{
 "cells": [
  {
   "cell_type": "markdown",
   "metadata": {},
   "source": [
    "## Import libraries"
   ]
  },
  {
   "cell_type": "code",
   "execution_count": 13,
   "metadata": {
    "collapsed": true
   },
   "outputs": [],
   "source": [
    "from __future__ import division\n",
    "\n",
    "from sqlalchemy import create_engine, MetaData, Table\n",
    "import json\n",
    "import math\n",
    "import re\n",
    "import csv\n",
    "from itertools import izip_longest\n",
    "from collections import Counter\n",
    "\n",
    "import pandas as pd\n",
    "import numpy as np\n",
    "import seaborn as sns\n",
    "import matplotlib.pyplot as plt\n",
    "import numpy.ma as ma\n",
    "import pyrec as pyr\n",
    "\n",
    "%matplotlib inline"
   ]
  },
  {
   "cell_type": "code",
   "execution_count": 20,
   "metadata": {
    "collapsed": false
   },
   "outputs": [],
   "source": [
    "db_url = \"sqlite:///participants_2.db\"\n",
    "table_name = 'turkdemo'\n",
    "data_column_name = 'datastring'\n",
    "\n",
    "# boilerplace sqlalchemy setup\n",
    "engine = create_engine(db_url)\n",
    "metadata = MetaData()\n",
    "metadata.bind = engine\n",
    "table = Table(table_name, metadata, autoload=True)\n",
    "\n",
    "# make a query and loop through\n",
    "s = table.select()\n",
    "rows = s.execute()\n",
    "\n",
    "data = []\n",
    "for row in rows:\n",
    "    data.append(row[data_column_name])\n",
    "    \n",
    "# Now we have all participant datastrings in a list.\n",
    "# Let's make it a bit easier to work with:\n",
    "\n",
    "# parse each participant's datastring as json object\n",
    "# and take the 'data' sub-object\n",
    "data = [json.loads(part)['data'] for part in data if part is not None]\n",
    "\n",
    "# insert uniqueid field into trialdata in case it wasn't added\n",
    "# in experiment:\n",
    "for part in data:\n",
    "    for record in part:\n",
    "#         print(record)\n",
    "        if type(record['trialdata']) is list:\n",
    "\n",
    "            record['trialdata'] = {record['trialdata'][0]:record['trialdata'][1]}\n",
    "        record['trialdata']['uniqueid'] = record['uniqueid']\n",
    "        \n",
    "# flatten nested list so we just have a list of the trialdata recorded\n",
    "# each time psiturk.recordTrialData(trialdata) was called.\n",
    "def isNotNumber(s):\n",
    "    try:\n",
    "        float(s)\n",
    "        return False\n",
    "    except ValueError:\n",
    "        return True\n",
    "\n",
    "data = [record['trialdata'] for part in data for record in part]\n",
    "\n",
    "# filter out fields that we dont want using isNotNumber function\n",
    "filtered_data = [{k:v for (k,v) in part.items() if isNotNumber(k)} for part in data]\n",
    "    \n",
    "# Put all subjects' trial data into a dataframe object from the\n",
    "# 'pandas' python library: one option among many for analysis\n",
    "data_frame = pd.DataFrame(filtered_data)"
   ]
  },
  {
   "cell_type": "code",
   "execution_count": 27,
   "metadata": {
    "collapsed": true
   },
   "outputs": [],
   "source": [
    "db_url = \"sqlite:///participants_2.db\"\n",
    "table_name = 'turkdemo'\n",
    "data_column_name = 'codeversion'\n",
    "\n",
    "# boilerplace sqlalchemy setup\n",
    "engine = create_engine(db_url)\n",
    "metadata = MetaData()\n",
    "metadata.bind = engine\n",
    "table = Table(table_name, metadata, autoload=True)\n",
    "\n",
    "# make a query and loop through\n",
    "s = table.select()\n",
    "rows = s.execute()\n",
    "\n",
    "versions = []\n",
    "for row in rows:\n",
    "    versions.append(row[data_column_name])\n",
    "    \n",
    "version_col = []\n",
    "for idx,sub in enumerate(data_frame['uniqueid'].unique()):\n",
    "    for i in range(sum(data_frame['uniqueid']==sub)):\n",
    "        version_col.append(versions[idx])\n",
    "data_frame['exp_version']=version_col"
   ]
  },
  {
   "cell_type": "code",
   "execution_count": 28,
   "metadata": {
    "collapsed": true
   },
   "outputs": [],
   "source": [
    "# read in stimulus library\n",
    "wordpool = pd.read_csv('stimuli/cut_wordpool.csv')"
   ]
  },
  {
   "cell_type": "code",
   "execution_count": 48,
   "metadata": {
    "collapsed": true
   },
   "outputs": [],
   "source": [
    "# this function takes the data frame and returns subject specific data based on the subid variable\n",
    "def filterData(data_frame,subid):\n",
    "    filtered_stim_data = data_frame[data_frame['stimulus'].notnull() & data_frame['listNumber'].notnull()]\n",
    "    filtered_stim_data = filtered_stim_data[filtered_stim_data['trial_type']=='single-stim']\n",
    "    filtered_stim_data =  filtered_stim_data[filtered_stim_data['uniqueid']==subid]\n",
    "    return filtered_stim_data\n",
    "\n",
    "# this function parses the data creating an array of dictionaries, where each dictionary represents a trial (word presented) along with the stimulus attributes\n",
    "def createStimDict(data):\n",
    "    stimDict = []\n",
    "    for index, row in data.iterrows():\n",
    "        stimDict.append({\n",
    "                'text': str(re.findall('>(.+)<',row['stimulus'])[0]),\n",
    "                'color' : { 'r' : int(re.findall('rgb\\((.+)\\)',row['stimulus'])[0].split(',')[0]),\n",
    "                           'g' : int(re.findall('rgb\\((.+)\\)',row['stimulus'])[0].split(',')[1]),\n",
    "                           'b' : int(re.findall('rgb\\((.+)\\)',row['stimulus'])[0].split(',')[2])\n",
    "                           },\n",
    "                'location' : {\n",
    "                    'top': float(re.findall('top:(.+)\\%;', row['stimulus'])[0]),\n",
    "                    'left' : float(re.findall('left:(.+)\\%', row['stimulus'])[0])\n",
    "                    },\n",
    "                'category' : wordpool['CATEGORY'].iloc[list(wordpool['WORD'].values).index(str(re.findall('>(.+)<',row['stimulus'])[0]))],\n",
    "                'size' : wordpool['SIZE'].iloc[list(wordpool['WORD'].values).index(str(re.findall('>(.+)<',row['stimulus'])[0]))],\n",
    "                'wordLength' : len(str(re.findall('>(.+)<',row['stimulus'])[0])),\n",
    "                'firstLetter' : str(re.findall('>(.+)<',row['stimulus'])[0])[0],\n",
    "                'listnum' : row['listNumber']\n",
    "            })\n",
    "    return stimDict\n",
    "\n",
    "# this function loads in the recall data into an array of arrays, where each array represents a list of words\n",
    "def loadRecallData(subid):\n",
    "    recalledWords = []\n",
    "    for i in range(0,16):\n",
    "        try:\n",
    "            f = open('audio_2/' + subid + '/' + subid + '-' + str(i) + '.wav.txt', 'rb')\n",
    "            spamreader = csv.reader(f, delimiter=' ', quotechar='|')\n",
    "        except (IOError, OSError) as e:\n",
    "            print(e)\n",
    "        for row in spamreader:\n",
    "            recalledWords.append(row[0].split(','))\n",
    "    return recalledWords\n",
    "\n",
    "# this function computes accuracy for a series of lists\n",
    "def computeListAcc(stimDict,recalledWords):\n",
    "    accVec = []\n",
    "    for i in range(0,16):\n",
    "        stim = [stim['text'] for stim in stimDict if stim['listnum']==i]\n",
    "        recalled= recalledWords[i]\n",
    "        \n",
    "        acc = 0\n",
    "        tmpstim = stim[:]\n",
    "        for word in recalled:\n",
    "            if word in tmpstim:\n",
    "                tmpstim.remove(word)\n",
    "                acc+=1\n",
    "        accVec.append(acc/len(stim))\n",
    "    return accVec"
   ]
  },
  {
   "cell_type": "code",
   "execution_count": 71,
   "metadata": {
    "collapsed": false
   },
   "outputs": [
    {
     "name": "stdout",
     "output_type": "stream",
     "text": [
      "[u'debug0VRJ0F:debugWXJFQ9', u'debugXKCS8F:debugIRZC9F', u'debug5CC3KV:debugC208XA', u'debugG0ABT2:debugLHHJ3T', u'debugMZNC0G:debugHH9F77', u'debugJKZ2FK:debug69AISL', u'debugXDG5RF:debugHHZWWB', u'debugYP8A2G:debug2FTXIJ', u'debugL2YZ74:debugXLYC15', u'debug58D3A2:debugUGW506', u'debugLM4HKL:debugR55ASL', u'debugXLPMCH:debugA2NTGW', u'debugVEI69J:debug4S3C4D', u'debug41TC2U:debugYZY7QO', u'debugLCEIOD:debugBDOJ2Q', u'debug8PCPYW:debugOW08KH', u'debugQ9SHVQ:debug8PBYVB', u'debugOZAQYJ:debug6QIMBF', u'debugEY2LWF:debug1PMZR2', u'debugTPKLST:debug503VMS', u'debugRRBNAW:debugM9FO30']\n",
      "('Running analysis for subject: ', u'debug0VRJ0F:debugWXJFQ9')\n",
      "[['SKILLET', 'UTAH', 'DAISY', 'FORK', 'MONTANA', 'ARIZONA', 'LILY', 'PANTS', 'SUNFLOWER', 'GIRDLE', 'KNIFE', 'MAINE', 'DRESS', 'NARCISSUS', 'UNDERWEAR', 'TOASTER'], ['MOUSE', 'SPATULA', 'HORSE', 'GIRAFFE', 'HALL', 'GLASS', 'TANGELO', 'KIWI', 'CORRIDOR', 'COW', 'REFRIGERATOR', 'GUAVA', 'DOOR', 'STRAWBERRY', 'WINDOW', 'POT'], ['CLEMENTINE', 'ANTELOPE', 'KANSAS', 'RIB', 'FLORIDA', 'MICHIGAN', 'MONKEY', 'PANCREAS', 'IOWA', 'MOOSE', 'RACOON', 'LEMON', 'PEAR', 'TOOTH', 'POMEGRANATE', 'TONGUE'], ['ARTICHOKE', 'IRAN', 'JACKET', 'EGYPT', 'CHIMNEY', 'CLOSET', 'BLOUSE', 'SUIT', 'SPINACH', 'GARLIC', 'GERMANY', 'FURNACE', 'CAMISOLE', 'CUBA', 'POTATO', 'LOBBY'], ['ELEPHANT', 'CARROT', 'POLAND', 'YAMS', 'LION', 'VIOLA', 'LETTUCE', 'TROMBONE', 'ZEBRA', 'AUSTRALIA', 'MARACAS', 'ITALY', 'ETHIOPIA', 'CELERY', 'PIG', 'BASS'], ['TUBA', 'BROILER', 'ROME', 'MONTREAL', 'TAMBOURINE', 'DALLAS', 'THERMOMETER', 'STOMACH', 'HIP', 'OVEN', 'PARIS', 'MUG', 'TRUMPET', 'PELVIS', 'PICCOLO', 'ARMS'], ['NECTARINE', 'CALIFORNIA', 'BANANA', 'PHILADELPHIA', 'MANGO', 'JERUSALEM', 'TOKYO', 'WISCONSIN', 'GLUE', 'RULER', 'KUMQUAT', 'WASHER', 'VERMONT', 'NUTS', 'VANCOUVER', 'HAWAII'], ['BRA', 'RENO', 'HORNET', 'SYDNEY', 'TEAK', 'SWEATER', 'TROUSERS', 'BERLIN', 'MANTIS', 'MILLIPEDE', 'GLOVES', 'MOSQUITO', 'PALM', 'SYCAMORE', 'CHICAGO', 'CEDAR'], ['JUMPER', 'HARMONICA', 'BANJO', 'UKULELE', 'ROBE', 'COTTONWOOD', 'MARIMBA', 'EVERGREEN', 'BELT', 'BLENDER', 'COLANDER', 'CUP', 'SPRUCE', 'MIXER', 'SHIRT', 'OAK'], ['KAZOO', 'PIANO', 'FERRET', 'LEOPARD', 'BOLTS', 'SAW', 'PROTRACTOR', 'FRANCE', 'SWITZERLAND', 'DRUM', 'ENGLAND', 'JAPAN', 'CLARINET', 'SQUIRREL', 'CHISEL', 'CAT'], ['ALASKA', 'TERMITE', 'LLAMA', 'OHIO', 'RUTABAGA', 'CHRYSALIS', 'RHINOCEROS', 'RABBIT', 'PUMPKIN', 'WASP', 'OKRA', 'BEETLE', 'TEXAS', 'PENNSYLVANIA', 'FOX', 'GINGER'], ['HIPPOPOTAMUS', 'TIGER', 'ROSE', 'CARNATION', 'TULIP', 'ALCOVE', 'BARN', 'PETUNIA', 'GAZEBO', 'EAR', 'DOG', 'DONKEY', 'KNUCKLE', 'FACE', 'HEART', 'KITCHEN'], ['FLOOR', 'DISH', 'SAUCER', 'PICKLE', 'BROCCOLI', 'ELEVATOR', 'FOUNDATION', 'GRIDDLE', 'BUTTERCUP', 'CARPET', 'LOG', 'ONION', 'AZALEA', 'DAHLIA', 'STRAINER', 'CAULIFLOWER'], ['SAXOPHONE', 'WIRE', 'PLUM', 'FIG', 'WEDGE', 'HICKORY', 'VIOLIN', 'RASPBERRY', 'CELLO', 'SCREWS', 'ELM', 'HONEYDEW', 'HAMMER', 'TRIANGLE', 'MAPLE', 'PINE'], ['ACCORDION', 'GUITAR', 'MONARCH', 'SCORPION', 'WILLOW', 'ANKLE', 'BONGOS', 'WORM', 'HAND', 'ASH', 'FINGER', 'LARVA', 'XYLOPHONE', 'LIP', 'EUCALYPTUS', 'POPLAR'], ['AUBERGINE', 'FOOT', 'BOMBAY', 'WOLF', 'KIDNEY', 'TORONTO', 'PANTHER', 'MIAMI', 'OLIVE', 'SQUASH', 'GOAT', 'SHEEP', 'ZUCCHINI', 'ELBOW', 'SHOULDER', 'STOCKHOLM']]\n",
      "[['SKILLET', 'MONTANA', 'DRESS', 'UNDERWEAR', 'FORK', 'ARIZONA', 'SUNFLOWER', 'DAISY', 'RIDLEY', 'TOASTER', 'SKILLET', 'UTAH'], ['GIRAFFE', 'MOUSE', 'KIWI', 'STRAWBERRY', 'CORRIDOR', 'HALL', 'WINDOW', 'GUAVA', 'REFRIGERATOR', 'DOOR'], ['RACOON', 'POMEGRANATE', 'CLEMENTINE', 'TOOTH', 'ANTELOPE', 'KANSAS', 'IOWA', 'MONTANA', 'RACOON'], ['EGYPT', 'CHIMNEY', 'IRAN', 'ARTICHOKE'], ['LILY', 'TROMBONE', 'POLAND', 'ELEPHANT', 'CELERY', 'MARACAS', 'VIOLA', 'TROMBONE', 'ETHIOPIA', 'CARROT', 'LION'], ['WHAT', 'PICCOLO', 'PELVIS', 'ARMS', 'WIGS', 'TRUMPET', 'TUBA', 'BROILER', 'PARIS', 'GERMANY'], ['HAWAII', 'VANCOUVER', 'WISCONSIN', 'CALIFORNIA', 'PHILADELPHIA', 'TOKYO', 'VERMONT', 'WASHER', 'GLUE', 'RULER'], ['CEDAR', 'ROME', 'BRA', 'SWEATER', 'GLOVES', 'CHICAGO', 'RENO', 'MILLIPEDE', 'HORNET'], ['OAK', 'COTTONWOOD', 'SPRUCE', 'BANJO', 'HARMONICA', 'UKULELE', 'BLENDER', 'BLENDER', 'OVEN', 'COTTONWOOD'], ['CAT', 'LEOPARD', 'FERRET', 'OAK', 'SAW', 'SQUIRREL', 'SWITZERLAND', 'FRANCE', 'JAPAN', 'OAK', 'CLARINET'], ['OHIO', 'ALASKA', 'PHILADELPHIA', 'OHIO', 'RABBIT', 'RHINOCEROS', 'LEOPARD'], ['KITCHEN', 'KNUCKLE', 'FACE', 'EAR', 'ARTEMIS', 'CARNATION', 'ROSE', 'TULIP'], ['AZALEA', 'DAHLIA', 'DISH', 'FLOOR', 'SAUCER', 'EQUALS', 'BROCCOLI', 'ELEVATOR', 'ONION', 'CARPET', 'CAULIFLOWER'], ['HONEYDEW', 'PINE', 'HICKORY', 'RASPBERRY', 'VIOLIN', 'CELLO', 'SAXOPHONE', 'WIRE', 'PLUM', 'WEDGE'], ['EUCALYPTUS', 'POPLAR', 'LIP', 'SCORPION', 'ACCORDION', 'XYLOPHONE', 'HALL', 'FINGER', 'WILLOW', 'WORM', 'ASH', 'HAND', 'ANKLE'], ['PENNSYLVANIA', 'OVEN', 'SHOULDER', 'KIWI', 'BOMBAY', 'FOOT', 'MIAMI', 'OLIVE', 'SQUASH']]\n",
      "('Running analysis for subject: ', u'debugXKCS8F:debugIRZC9F')\n",
      "[['OLIVE', 'WOLF', 'TORONTO', 'STOCKHOLM', 'AUBERGINE', 'SHEEP', 'ZUCCHINI', 'ELBOW', 'PANTHER', 'GOAT', 'KIDNEY', 'SHOULDER', 'MIAMI', 'SQUASH', 'BOMBAY', 'FOOT'], ['SWEATER', 'CHICAGO', 'SYDNEY', 'BRA', 'RENO', 'GLOVES', 'MOSQUITO', 'BERLIN', 'HORNET', 'TEAK', 'MILLIPEDE', 'PALM', 'TROUSERS', 'MANTIS', 'SYCAMORE', 'CEDAR'], ['HICKORY', 'SAXOPHONE', 'WIRE', 'CELLO', 'TRIANGLE', 'VIOLIN', 'HAMMER', 'WEDGE', 'FIG', 'MAPLE', 'SCREWS', 'PINE', 'HONEYDEW', 'PLUM', 'RASPBERRY', 'ELM'], ['VERMONT', 'JERUSALEM', 'WISCONSIN', 'KUMQUAT', 'MANGO', 'PHILADELPHIA', 'WASHER', 'BANANA', 'NUTS', 'RULER', 'HAWAII', 'NECTARINE', 'CALIFORNIA', 'GLUE', 'TOKYO', 'VANCOUVER'], ['LARVA', 'BONGOS', 'SCORPION', 'MONARCH', 'GUITAR', 'XYLOPHONE', 'ASH', 'ANKLE', 'WORM', 'POPLAR', 'FINGER', 'EUCALYPTUS', 'ACCORDION', 'HAND', 'WILLOW', 'LIP'], ['CUBA', 'GERMANY', 'SUIT', 'CHIMNEY', 'LOBBY', 'CAMISOLE', 'SPINACH', 'EGYPT', 'BLOUSE', 'CLOSET', 'ARTICHOKE', 'FURNACE', 'IRAN', 'GARLIC', 'JACKET', 'POTATO'], ['EVERGREEN', 'BLENDER', 'BANJO', 'MARIMBA', 'ROBE', 'OAK', 'JUMPER', 'BELT', 'SPRUCE', 'COTTONWOOD', 'UKULELE', 'SHIRT', 'CUP', 'COLANDER', 'HARMONICA', 'MIXER'], ['SUNFLOWER', 'PANTS', 'SKILLET', 'DRESS', 'MAINE', 'KNIFE', 'TOASTER', 'UTAH', 'FORK', 'LILY', 'DAISY', 'GIRDLE', 'MONTANA', 'UNDERWEAR', 'NARCISSUS', 'ARIZONA'], ['POT', 'HORSE', 'CORRIDOR', 'SPATULA', 'MOUSE', 'REFRIGERATOR', 'GLASS', 'DOOR', 'TANGELO', 'STRAWBERRY', 'COW', 'GIRAFFE', 'GUAVA', 'WINDOW', 'KIWI', 'HALL'], ['OKRA', 'FOX', 'PUMPKIN', 'RUTABAGA', 'CHRYSALIS', 'RABBIT', 'OHIO', 'RHINOCEROS', 'ALASKA', 'BEETLE', 'TERMITE', 'TEXAS', 'PENNSYLVANIA', 'GINGER', 'LLAMA', 'WASP'], ['STRAINER', 'FLOOR', 'PICKLE', 'BUTTERCUP', 'SAUCER', 'FOUNDATION', 'DISH', 'DAHLIA', 'AZALEA', 'CARPET', 'ONION', 'LOG', 'ELEVATOR', 'CAULIFLOWER', 'GRIDDLE', 'BROCCOLI'], ['PETUNIA', 'KNUCKLE', 'ROSE', 'FACE', 'GAZEBO', 'DONKEY', 'BARN', 'DOG', 'EAR', 'TIGER', 'CARNATION', 'HEART', 'KITCHEN', 'ALCOVE', 'HIPPOPOTAMUS', 'TULIP'], ['BROILER', 'PELVIS', 'ROME', 'STOMACH', 'PICCOLO', 'TAMBOURINE', 'DALLAS', 'HIP', 'ARMS', 'MONTREAL', 'THERMOMETER', 'MUG', 'TUBA', 'OVEN', 'TRUMPET', 'PARIS'], ['JAPAN', 'SAW', 'PROTRACTOR', 'BOLTS', 'ENGLAND', 'SWITZERLAND', 'PIANO', 'SQUIRREL', 'LEOPARD', 'CLARINET', 'CAT', 'FRANCE', 'FERRET', 'DRUM', 'CHISEL', 'KAZOO'], ['LETTUCE', 'ITALY', 'AUSTRALIA', 'MARACAS', 'ZEBRA', 'CELERY', 'LION', 'VIOLA', 'TROMBONE', 'ELEPHANT', 'POLAND', 'BASS', 'PIG', 'YAMS', 'ETHIOPIA', 'CARROT'], ['PEAR', 'KANSAS', 'MICHIGAN', 'LEMON', 'RACOON', 'TOOTH', 'POMEGRANATE', 'MOOSE', 'MONKEY', 'RIB', 'PANCREAS', 'ANTELOPE', 'TONGUE', 'CLEMENTINE', 'FLORIDA', 'IOWA']]\n",
      "[['OLIVE', 'WOLF', 'TORONTO', 'STOCKHOLM', 'ELBOW', 'SHEEP', 'WOLF', 'PANTHER', 'SHOULDER', 'AUBERGINE', 'ZUCCHINI'], ['PALM', 'TROUSERS', 'SWEATER', 'BRA', 'CHICAGO', 'SYDNEY', 'RENO', 'MOSQUITO', 'MANTIS', 'MILLIPEDE', 'CEDAR', 'SYCAMORE'], ['ELM', 'SAXOPHONE', 'VIOLIN', 'CELLO', 'FIG', 'PLUM', 'RASPBERRY', 'WIRE', 'HAMMER', 'HONEYDEW', 'SCREWS'], ['VERMONT', 'JERUSALEM', 'WISCONSIN', 'TOKYO', 'PHILADELPHIA', 'VANCOUVER', 'KUMQUAT', 'MANGO', 'BANANA', 'GLUE', 'WASHER', 'CALIFORNIA'], ['LIP', 'FINGER', 'HAND', 'ANKLE', 'WILLOW', 'EUCALYPTUS', 'BONGOS', 'GUITAR', 'XYLOPHONE'], ['CUBA', 'GERMANY', 'IRAN', 'BLOUSE', 'CAMISOLE', 'SUIT', 'JACKET', 'FURNACE', 'CHIMNEY', 'ARTICHOKE', 'GARLIC'], ['MIXER', 'BLENDER', 'COLANDER', 'CUP', 'EVERGREEN', 'SPRUCE', 'OAK', 'JUMPER', 'BELT', 'HARMONICA', 'BANJO', 'UKULELE'], ['DAISY', 'LILY', 'SUNFLOWER', 'SKILLET', 'FORK', 'KNIFE', 'GRIDDLE', 'NARCISSUS', 'UNDERWEAR', 'UTAH', 'ARIZONA', 'MAINE', 'MONTANA'], ['CORRIDOR', 'DOOR', 'WINDOW', 'HALL', 'KIWI', 'GUAVA', 'POT', 'HORSE', 'COW'], ['OPERA', 'PENNSYLVANIA', 'TEXAS', 'BEETLE', 'FOX'], ['CAULIFLOWER', 'BROCCOLI', 'DAHLIA', 'AZALEA', 'LOG', 'SAUCER', 'CARPET', 'FLOOR', 'GRIDDLE', 'SAUCER', 'LOG'], ['KITCHEN', 'GAZEBO', 'ALCOVE', 'HIPPOPOTAMUS', 'DONKEY', 'DOG', 'PETUNIA', 'ROSE', 'TULIP', 'HEART', 'FACE', 'EAR'], ['PARIS', 'ROME', 'DALLAS', 'MUG', 'THERMOMETER', 'TAMBOURINE', 'TUBA', 'PICCOLO'], ['JAPAN', 'ENGLAND', 'SWITZERLAND', 'CLARINET', 'KAZOO', 'SAW', 'CHISEL', 'PIANO', 'CAT', 'LEOPARD', 'SQUIRREL'], ['CARROT', 'LETTUCE', 'CELERY', 'YAMS', 'AUSTRALIA', 'ITALY', 'ETHIOPIA', 'VIOLA', 'TROMBONE', 'ELEPHANT'], ['IOWA', 'MICHIGAN', 'KANSAS', 'FLORIDA', 'PEAR', 'LEMON', 'CLEMENTINE', 'TOOTH', 'TONGUE', 'RIB', 'PANCREAS', 'RACOON', 'MOOSE', 'ANTELOPE']]\n",
      "('Running analysis for subject: ', u'debug5CC3KV:debugC208XA')\n",
      "[['FURNACE', 'JACKET', 'BLOUSE', 'GERMANY', 'SUIT', 'CLOSET', 'POTATO', 'CHIMNEY', 'ARTICHOKE', 'CAMISOLE', 'GARLIC', 'LOBBY', 'IRAN', 'CUBA', 'EGYPT', 'SPINACH'], ['MUG', 'DALLAS', 'ARMS', 'ROME', 'PARIS', 'HIP', 'MONTREAL', 'PELVIS', 'TAMBOURINE', 'STOMACH', 'OVEN', 'TUBA', 'BROILER', 'THERMOMETER', 'TRUMPET', 'PICCOLO'], ['HIPPOPOTAMUS', 'TIGER', 'DOG', 'KNUCKLE', 'CARNATION', 'HEART', 'FACE', 'EAR', 'ROSE', 'BARN', 'ALCOVE', 'KITCHEN', 'TULIP', 'GAZEBO', 'DONKEY', 'PETUNIA'], ['SHOULDER', 'STOCKHOLM', 'WOLF', 'MIAMI', 'TORONTO', 'KIDNEY', 'ELBOW', 'ZUCCHINI', 'SQUASH', 'OLIVE', 'PANTHER', 'GOAT', 'BOMBAY', 'FOOT', 'AUBERGINE', 'SHEEP'], ['ZEBRA', 'TROMBONE', 'CARROT', 'LETTUCE', 'ETHIOPIA', 'MARACAS', 'AUSTRALIA', 'LION', 'ELEPHANT', 'POLAND', 'CELERY', 'ITALY', 'BASS', 'PIG', 'YAMS', 'VIOLA'], ['ELM', 'WEDGE', 'SCREWS', 'HICKORY', 'MAPLE', 'SAXOPHONE', 'HAMMER', 'PLUM', 'PINE', 'HONEYDEW', 'RASPBERRY', 'WIRE', 'FIG', 'CELLO', 'VIOLIN', 'TRIANGLE'], ['CALIFORNIA', 'GLUE', 'VANCOUVER', 'TOKYO', 'JERUSALEM', 'NUTS', 'NECTARINE', 'MANGO', 'RULER', 'VERMONT', 'HAWAII', 'BANANA', 'WASHER', 'WISCONSIN', 'KUMQUAT', 'PHILADELPHIA'], ['PUMPKIN', 'OHIO', 'TEXAS', 'OKRA', 'CHRYSALIS', 'BEETLE', 'PENNSYLVANIA', 'ALASKA', 'LLAMA', 'FOX', 'RHINOCEROS', 'TERMITE', 'WASP', 'RUTABAGA', 'GINGER', 'RABBIT'], ['STRAINER', 'LOG', 'DISH', 'PICKLE', 'SAUCER', 'CARPET', 'DAHLIA', 'CAULIFLOWER', 'FOUNDATION', 'ONION', 'FLOOR', 'AZALEA', 'ELEVATOR', 'GRIDDLE', 'BROCCOLI', 'BUTTERCUP'], ['SAW', 'ENGLAND', 'SWITZERLAND', 'FERRET', 'CHISEL', 'KAZOO', 'PIANO', 'CLARINET', 'DRUM', 'FRANCE', 'JAPAN', 'BOLTS', 'SQUIRREL', 'CAT', 'PROTRACTOR', 'LEOPARD'], ['LEMON', 'KANSAS', 'PEAR', 'FLORIDA', 'TONGUE', 'MOOSE', 'TOOTH', 'CLEMENTINE', 'MICHIGAN', 'PANCREAS', 'RIB', 'POMEGRANATE', 'ANTELOPE', 'MONKEY', 'RACOON', 'IOWA'], ['SYDNEY', 'BERLIN', 'MILLIPEDE', 'HORNET', 'CEDAR', 'GLOVES', 'TEAK', 'SYCAMORE', 'TROUSERS', 'SWEATER', 'RENO', 'PALM', 'MANTIS', 'BRA', 'CHICAGO', 'MOSQUITO'], ['CORRIDOR', 'HALL', 'SPATULA', 'DOOR', 'GIRAFFE', 'KIWI', 'POT', 'WINDOW', 'GUAVA', 'GLASS', 'COW', 'STRAWBERRY', 'HORSE', 'REFRIGERATOR', 'MOUSE', 'TANGELO'], ['WORM', 'ANKLE', 'WILLOW', 'ACCORDION', 'LARVA', 'ASH', 'GUITAR', 'LIP', 'SCORPION', 'EUCALYPTUS', 'POPLAR', 'HAND', 'MONARCH', 'XYLOPHONE', 'FINGER', 'BONGOS'], ['LILY', 'KNIFE', 'SUNFLOWER', 'GIRDLE', 'FORK', 'DAISY', 'NARCISSUS', 'ARIZONA', 'TOASTER', 'UNDERWEAR', 'SKILLET', 'MONTANA', 'UTAH', 'PANTS', 'MAINE', 'DRESS'], ['ROBE', 'HARMONICA', 'SHIRT', 'BANJO', 'COLANDER', 'OAK', 'EVERGREEN', 'UKULELE', 'BLENDER', 'JUMPER', 'SPRUCE', 'MIXER', 'MARIMBA', 'COTTONWOOD', 'BELT', 'CUP']]\n",
      "[['IRAN', 'GERMANY', 'CUBA', 'BLOUSE', 'FURNACE', 'SUIT', 'CLOSET', 'CAMISOLE'], ['TRUMPET', 'TAMBOURINE', 'TUBA', 'PICCOLO', 'ROME', 'PARIS', 'MONTREAL', 'DALLAS', 'ARMS', 'PELVIS'], ['PETUNIA', 'ROSE', 'CARNATION', 'TULIP', 'HEART', 'EAR', 'DOG', 'BARN', 'HIPPOPOTAMUS', 'TIGER'], ['TORONTO', 'MIAMI', 'SHOULDER', 'AUBERGINE', 'FOOT', 'BOMBAY', 'KIDNEY'], ['FERRET', 'TROMBONE', 'LETTUCE', 'CELERY', 'ITALY', 'POLAND', 'ETHIOPIA', 'AUSTRALIA'], ['ELM', 'HICKORY', 'MAPLE', 'PINE', 'PLUM', 'RASPBERRY', 'FIG', 'SAXOPHONE', 'VIOLIN', 'TRIANGLE', 'HAMMER', 'WEDGE', 'WIRE'], ['PHILADELPHIA', 'CALIFORNIA', 'VANCOUVER', 'GLUE', 'HAWAII', 'KUMQUAT', 'BANANA'], ['RHINOCEROS', 'TERMITE', 'WASP', 'GINGER', 'RUTABAGA', 'PENNSYLVANIA', 'RABBIT', 'OHIO'], ['BUTTERCUP', 'BROCCOLI', 'ANKLE', 'STRAINER', 'GRIDDLE', 'CARPET', 'FLOOR', 'ELEVATOR', 'ONION'], ['SAW', 'ENGLAND', 'FRANCE', 'JAPAN', 'SWITZERLAND', 'CLARINET', 'PIANO', 'KAZOO', 'PROTRACTOR'], ['LEMON', 'IOWA', 'FLORIDA', 'RIB', 'PANCREAS', 'MOOSE', 'TOOTH', 'POMEGRANATE'], ['SYDNEY', 'BERLIN', 'CHICAGO', 'MOSQUITO', 'BRA', 'TROUSERS', 'TEAK', 'SYCAMORE'], ['DOOR', 'WINDOW', 'HALL', 'CORRIDOR', 'GUAVA', 'KIWI', 'STRAWBERRY', 'SPATULA'], ['WORM', 'LARVA', 'MONARCH', 'FINGER', 'ARMS', 'EUCALYPTUS', 'POPLAR', 'SCORPION'], ['MAINE', 'MONTANA', 'LILY', 'UNDERWEAR', 'PANTS', 'KNIFE', 'SUNFLOWER', 'TOASTER', 'GIRDLE', 'SKILLET', 'DAISY', 'DRESS'], ['COTTONWOOD', 'BELT', 'SHIRT', 'HARMONICA', 'ROBE', 'COLANDER', 'MIXER', 'OAK', 'BANJO', 'UKULELE', 'ROBE']]\n",
      "('Running analysis for subject: ', u'debugG0ABT2:debugLHHJ3T')\n",
      "[['FLOOR', 'CARPET', 'ELEVATOR', 'STRAINER', 'BUTTERCUP', 'AZALEA', 'CAULIFLOWER', 'LOG', 'SAUCER', 'GRIDDLE', 'DAHLIA', 'ONION', 'PICKLE', 'FOUNDATION', 'DISH', 'BROCCOLI'], ['NUTS', 'TOKYO', 'KUMQUAT', 'MANGO', 'BANANA', 'PHILADELPHIA', 'NECTARINE', 'CALIFORNIA', 'WISCONSIN', 'GLUE', 'VANCOUVER', 'VERMONT', 'RULER', 'JERUSALEM', 'WASHER', 'HAWAII'], ['GERMANY', 'LOBBY', 'BLOUSE', 'ARTICHOKE', 'SPINACH', 'GARLIC', 'FURNACE', 'CAMISOLE', 'POTATO', 'SUIT', 'CHIMNEY', 'JACKET', 'IRAN', 'EGYPT', 'CLOSET', 'CUBA'], ['LIP', 'ACCORDION', 'GUITAR', 'EUCALYPTUS', 'FINGER', 'HAND', 'POPLAR', 'LARVA', 'MONARCH', 'ANKLE', 'BONGOS', 'WORM', 'WILLOW', 'SCORPION', 'XYLOPHONE', 'ASH'], ['TOASTER', 'UTAH', 'MONTANA', 'PANTS', 'SUNFLOWER', 'ARIZONA', 'UNDERWEAR', 'KNIFE', 'GIRDLE', 'MAINE', 'NARCISSUS', 'SKILLET', 'FORK', 'DRESS', 'LILY', 'DAISY'], ['SHEEP', 'TORONTO', 'MIAMI', 'STOCKHOLM', 'ELBOW', 'KIDNEY', 'SHOULDER', 'FOOT', 'AUBERGINE', 'GOAT', 'OLIVE', 'WOLF', 'PANTHER', 'SQUASH', 'ZUCCHINI', 'BOMBAY'], ['ELEPHANT', 'VIOLA', 'LION', 'ZEBRA', 'AUSTRALIA', 'ITALY', 'YAMS', 'TROMBONE', 'MARACAS', 'PIG', 'POLAND', 'CELERY', 'CARROT', 'LETTUCE', 'BASS', 'ETHIOPIA'], ['DOOR', 'HALL', 'POT', 'WINDOW', 'GUAVA', 'COW', 'GIRAFFE', 'GLASS', 'CORRIDOR', 'STRAWBERRY', 'KIWI', 'SPATULA', 'HORSE', 'REFRIGERATOR', 'MOUSE', 'TANGELO'], ['MONKEY', 'ANTELOPE', 'TONGUE', 'PEAR', 'KANSAS', 'LEMON', 'CLEMENTINE', 'PANCREAS', 'RIB', 'IOWA', 'TOOTH', 'MICHIGAN', 'RACOON', 'MOOSE', 'FLORIDA', 'POMEGRANATE'], ['KAZOO', 'ENGLAND', 'CAT', 'SAW', 'PROTRACTOR', 'LEOPARD', 'SQUIRREL', 'JAPAN', 'DRUM', 'CHISEL', 'CLARINET', 'BOLTS', 'SWITZERLAND', 'FRANCE', 'PIANO', 'FERRET'], ['PARIS', 'DALLAS', 'THERMOMETER', 'OVEN', 'STOMACH', 'ARMS', 'PICCOLO', 'BROILER', 'ROME', 'MUG', 'HIP', 'MONTREAL', 'TAMBOURINE', 'PELVIS', 'TUBA', 'TRUMPET'], ['CELLO', 'SAXOPHONE', 'HICKORY', 'FIG', 'TRIANGLE', 'WEDGE', 'SCREWS', 'WIRE', 'ELM', 'HONEYDEW', 'PLUM', 'RASPBERRY', 'MAPLE', 'VIOLIN', 'HAMMER', 'PINE'], ['KNUCKLE', 'HIPPOPOTAMUS', 'ALCOVE', 'DOG', 'PETUNIA', 'HEART', 'KITCHEN', 'GAZEBO', 'FACE', 'TIGER', 'CARNATION', 'TULIP', 'DONKEY', 'ROSE', 'BARN', 'EAR'], ['CHICAGO', 'SYCAMORE', 'BRA', 'CEDAR', 'GLOVES', 'SWEATER', 'TEAK', 'MILLIPEDE', 'MOSQUITO', 'RENO', 'HORNET', 'PALM', 'BERLIN', 'MANTIS', 'SYDNEY', 'TROUSERS'], ['RUTABAGA', 'OHIO', 'TEXAS', 'BEETLE', 'RHINOCEROS', 'FOX', 'PUMPKIN', 'TERMITE', 'GINGER', 'LLAMA', 'OKRA', 'ALASKA', 'RABBIT', 'WASP', 'CHRYSALIS', 'PENNSYLVANIA'], ['EVERGREEN', 'ROBE', 'SHIRT', 'MARIMBA', 'COTTONWOOD', 'BELT', 'UKULELE', 'HARMONICA', 'SPRUCE', 'BANJO', 'CUP', 'COLANDER', 'MIXER', 'BLENDER', 'JUMPER', 'OAK']]\n",
      "[['FLOOR', 'CARPET', 'BROCCOLI', 'CAULIFLOWER', 'STRAINER', 'PICKLE', 'AZALEA', 'ONION', 'ELEVATOR'], ['RULER', 'JERUSALEM', 'NUTS', 'MANGO', 'WISCONSIN', 'VERMONT', 'BANANA', 'TOKYO', 'PHILADELPHIA', 'WASHER', 'NUTS', 'MANGO'], ['JACKET', 'SUIT', 'CLOSET', 'CHIMNEY', 'IRAN', 'GERMANY', 'GARLIC', 'ARTICHOKE', 'SPINACH'], ['WORM', 'WILLOW', 'EUCALYPTUS', 'XYLOPHONE', 'GUITAR', 'ANKLE', 'FINGER', 'BONGOS', 'BANJO'], ['LILY', 'DAISY', 'OR', 'DRESS', 'UTAH', 'MONTANA', 'KNIFE'], ['KIDNEY', 'BOMBAY', 'GOAT', 'WOLF', 'TORONTO'], ['ETHIOPIA', 'PIG', 'CARROT', 'CELERY', 'AUSTRALIA'], ['HORSE', 'RANCH', 'REFRIGERATOR', 'TEMPLE', 'OF', 'TANGELO', 'STRAWBERRY', 'KIWI', 'DOOR', 'HAUSER', 'ROBE', 'WINDOW'], ['RACOON', 'POMEGRANATE', 'MICHIGAN', 'FLORIDA', 'HORSE', 'RACOON'], ['FERRET'], ['TUBA', 'TRUMPET', 'DALLAS', 'TAMBOURINE', 'KIDNEY', 'PICCOLO'], ['HAMMER', 'HONEYDEW', 'NAILS', 'WEDGE', 'MAPLE', 'FIG', 'CHISEL'], ['ROSE', 'BARN', 'EAR', 'TULIP', 'HEART', 'HIPPO', 'CARNATION', 'PETUNIA', 'PETUNIA', 'TULIP', 'ROSE', 'CARNATION', 'HEART', 'HIP', 'LION', 'TIGER', 'ARMS'], ['TROUSERS', 'MANTIS', 'SYDNEY', 'MOSQUITO', 'HORNET', 'BRA', 'CARROT', 'I', 'MEAN', 'CHICAGO', 'MANTIS', 'SYCAMORE', 'HORNET', 'MOUSE'], ['PENNSYLVANIA', 'WASP', 'CRYSTAL', 'CHRYSALIS', 'LLAMA', 'OHIO', 'PENNSYLVANIA', 'TEXAS', 'WASP', 'LLAMA', 'FOX', 'BEETLE'], ['OAK', 'JUMPER', 'MIXER', 'BLENDER', 'BANJO', 'UKULELE', 'HARMONICA', 'KNUCKLE', 'MIXER', 'BLENDER']]\n",
      "('Running analysis for subject: ', u'debugMZNC0G:debugHH9F77')\n"
     ]
    },
    {
     "ename": "IndexError",
     "evalue": "list index out of range",
     "output_type": "error",
     "traceback": [
      "\u001b[0;31m---------------------------------------------------------------------------\u001b[0m",
      "\u001b[0;31mIndexError\u001b[0m                                Traceback (most recent call last)",
      "\u001b[0;32m<ipython-input-71-6028ca833eb0>\u001b[0m in \u001b[0;36m<module>\u001b[0;34m()\u001b[0m\n\u001b[1;32m     32\u001b[0m \u001b[0;34m\u001b[0m\u001b[0m\n\u001b[1;32m     33\u001b[0m     \u001b[0;31m# parse the subjects data\u001b[0m\u001b[0;34m\u001b[0m\u001b[0;34m\u001b[0m\u001b[0m\n\u001b[0;32m---> 34\u001b[0;31m     \u001b[0mstimDict\u001b[0m \u001b[0;34m=\u001b[0m \u001b[0mcreateStimDict\u001b[0m\u001b[0;34m(\u001b[0m\u001b[0mfilteredStimData\u001b[0m\u001b[0;34m)\u001b[0m\u001b[0;34m\u001b[0m\u001b[0m\n\u001b[0m\u001b[1;32m     35\u001b[0m     \u001b[0msub_data\u001b[0m \u001b[0;34m=\u001b[0m \u001b[0mpd\u001b[0m\u001b[0;34m.\u001b[0m\u001b[0mDataFrame\u001b[0m\u001b[0;34m(\u001b[0m\u001b[0mstimDict\u001b[0m\u001b[0;34m)\u001b[0m\u001b[0;34m\u001b[0m\u001b[0m\n\u001b[1;32m     36\u001b[0m     \u001b[0msub_data\u001b[0m\u001b[0;34m[\u001b[0m\u001b[0;34m'subject'\u001b[0m\u001b[0;34m]\u001b[0m\u001b[0;34m=\u001b[0m\u001b[0midx\u001b[0m\u001b[0;34m\u001b[0m\u001b[0m\n",
      "\u001b[0;32m<ipython-input-48-84bbb74582ad>\u001b[0m in \u001b[0;36mcreateStimDict\u001b[0;34m(data)\u001b[0m\n\u001b[1;32m     12\u001b[0m         stimDict.append({\n\u001b[1;32m     13\u001b[0m                 \u001b[0;34m'text'\u001b[0m\u001b[0;34m:\u001b[0m \u001b[0mstr\u001b[0m\u001b[0;34m(\u001b[0m\u001b[0mre\u001b[0m\u001b[0;34m.\u001b[0m\u001b[0mfindall\u001b[0m\u001b[0;34m(\u001b[0m\u001b[0;34m'>(.+)<'\u001b[0m\u001b[0;34m,\u001b[0m\u001b[0mrow\u001b[0m\u001b[0;34m[\u001b[0m\u001b[0;34m'stimulus'\u001b[0m\u001b[0;34m]\u001b[0m\u001b[0;34m)\u001b[0m\u001b[0;34m[\u001b[0m\u001b[0;36m0\u001b[0m\u001b[0;34m]\u001b[0m\u001b[0;34m)\u001b[0m\u001b[0;34m,\u001b[0m\u001b[0;34m\u001b[0m\u001b[0m\n\u001b[0;32m---> 14\u001b[0;31m                 'color' : { 'r' : int(re.findall('rgb\\((.+)\\)',row['stimulus'])[0].split(',')[0]),\n\u001b[0m\u001b[1;32m     15\u001b[0m                            \u001b[0;34m'g'\u001b[0m \u001b[0;34m:\u001b[0m \u001b[0mint\u001b[0m\u001b[0;34m(\u001b[0m\u001b[0mre\u001b[0m\u001b[0;34m.\u001b[0m\u001b[0mfindall\u001b[0m\u001b[0;34m(\u001b[0m\u001b[0;34m'rgb\\((.+)\\)'\u001b[0m\u001b[0;34m,\u001b[0m\u001b[0mrow\u001b[0m\u001b[0;34m[\u001b[0m\u001b[0;34m'stimulus'\u001b[0m\u001b[0;34m]\u001b[0m\u001b[0;34m)\u001b[0m\u001b[0;34m[\u001b[0m\u001b[0;36m0\u001b[0m\u001b[0;34m]\u001b[0m\u001b[0;34m.\u001b[0m\u001b[0msplit\u001b[0m\u001b[0;34m(\u001b[0m\u001b[0;34m','\u001b[0m\u001b[0;34m)\u001b[0m\u001b[0;34m[\u001b[0m\u001b[0;36m1\u001b[0m\u001b[0;34m]\u001b[0m\u001b[0;34m)\u001b[0m\u001b[0;34m,\u001b[0m\u001b[0;34m\u001b[0m\u001b[0m\n\u001b[1;32m     16\u001b[0m                            \u001b[0;34m'b'\u001b[0m \u001b[0;34m:\u001b[0m \u001b[0mint\u001b[0m\u001b[0;34m(\u001b[0m\u001b[0mre\u001b[0m\u001b[0;34m.\u001b[0m\u001b[0mfindall\u001b[0m\u001b[0;34m(\u001b[0m\u001b[0;34m'rgb\\((.+)\\)'\u001b[0m\u001b[0;34m,\u001b[0m\u001b[0mrow\u001b[0m\u001b[0;34m[\u001b[0m\u001b[0;34m'stimulus'\u001b[0m\u001b[0;34m]\u001b[0m\u001b[0;34m)\u001b[0m\u001b[0;34m[\u001b[0m\u001b[0;36m0\u001b[0m\u001b[0;34m]\u001b[0m\u001b[0;34m.\u001b[0m\u001b[0msplit\u001b[0m\u001b[0;34m(\u001b[0m\u001b[0;34m','\u001b[0m\u001b[0;34m)\u001b[0m\u001b[0;34m[\u001b[0m\u001b[0;36m2\u001b[0m\u001b[0;34m]\u001b[0m\u001b[0;34m)\u001b[0m\u001b[0;34m\u001b[0m\u001b[0m\n",
      "\u001b[0;31mIndexError\u001b[0m: list index out of range"
     ]
    }
   ],
   "source": [
    "# subjects who have completed the exp\n",
    "subids = list(data_frame[data_frame['listNumber']==15]['uniqueid'].unique())\n",
    "ids = [data_frame[data_frame['uniqueid']==sub]['exp_version'].values[0] for sub in subids]\n",
    "subids = [sub for sub,_id in zip(subids,ids) if _id in ['6.1']]\n",
    "print(subids)\n",
    "\n",
    "# subids.remove('debugAD2211:debugB3TKJQ') # this was Andy testing all the way through\n",
    "# subids.remove('debug7XDZDR:debugO8OCCV') # another test\n",
    "# subids.remove('debugG3JW5Q:debugCDS7D4') # another test - allison\n",
    "# subids.remove('debugZYP26A:debugZDE1ZD') # another test - allison\n",
    "# subids.remove('debug4A3OMX:debugL0N1Q7')\n",
    "\n",
    "pres_data = []\n",
    "pres = []\n",
    "rec = []\n",
    "pres_exp6 = []\n",
    "rec_exp6 = []\n",
    "pres_exp7 = []\n",
    "rec_exp7 = []\n",
    "pres_exp8 = []\n",
    "rec_exp8 = []\n",
    "\n",
    "\n",
    "# for each subject that completed the experiment\n",
    "for idx,sub in enumerate(subids):\n",
    "    \n",
    "    print('Running analysis for subject: ', sub)    \n",
    "        \n",
    "    # get the subjects data\n",
    "    filteredStimData = filterData(data_frame,sub)\n",
    "#     print(filteredStimData)\n",
    "    \n",
    "    # parse the subjects data\n",
    "    stimDict = createStimDict(filteredStimData)\n",
    "    sub_data = pd.DataFrame(stimDict)\n",
    "    sub_data['subject']=idx\n",
    "    sub_data['experiment']=filteredStimData['exp_version'].values[0]\n",
    "    sub_data = sub_data[['experiment','subject','listnum','text','category','color','location','firstLetter','size','wordLength']]\n",
    "    \n",
    "    pres_data.append(sub_data)\n",
    "    pres.append([list(sub_data[sub_data['listnum']==lst]['text'].values) for lst in sub_data['listnum'].unique()])\n",
    "    \n",
    "    # load in the recall data\n",
    "    recalledWords = loadRecallData(sub)\n",
    "    rec.append(recalledWords)\n",
    "    \n",
    "    if filteredStimData['exp_version'].values[0]=='6.1':\n",
    "        pres_exp6.append([list(sub_data[sub_data['listnum']==lst]['text'].values) for lst in sub_data['listnum'].unique()])\n",
    "        rec_exp6.append(recalledWords)\n",
    "        print([list(sub_data[sub_data['listnum']==lst]['text'].values) for lst in sub_data['listnum'].unique()])\n",
    "        print(recalledWords)\n",
    "        \n",
    "    if filteredStimData['exp_version'].values[0]=='7.1':\n",
    "        pres_exp7.append([list(sub_data[sub_data['listnum']==lst]['text'].values) for lst in sub_data['listnum'].unique()])\n",
    "        rec_exp7.append(recalledWords)\n",
    "        \n",
    "    if filteredStimData['exp_version'].values[0]=='8.1':\n",
    "        pres_exp8.append([list(sub_data[sub_data['listnum']==lst]['text'].values) for lst in sub_data['listnum'].unique()])\n",
    "        rec_exp8.append(recalledWords)\n",
    "        \n",
    "#     if filteredStimData['exp_version'].values[0]=='4.1':\n",
    "#         pres_exp4.append([list(sub_data[sub_data['listnum']==lst]['text'].values) for lst in sub_data['listnum'].unique()])\n",
    "#         rec_exp4.append(recalledWords)\n",
    "        \n",
    "#     if filteredStimData['exp_version'].values[0]=='5.1':\n",
    "#         pres_exp5.append([list(sub_data[sub_data['listnum']==lst]['text'].values) for lst in sub_data['listnum'].unique()])\n",
    "#         rec_exp5.append(recalledWords)\n",
    "\n",
    "pres_data = pd.concat(pres_data)"
   ]
  },
  {
   "cell_type": "code",
   "execution_count": 51,
   "metadata": {
    "collapsed": false
   },
   "outputs": [],
   "source": [
    "import pyrec as pyr"
   ]
  },
  {
   "cell_type": "code",
   "execution_count": 65,
   "metadata": {
    "collapsed": false
   },
   "outputs": [
    {
     "data": {
      "text/html": [
       "<div>\n",
       "<table border=\"1\" class=\"dataframe\">\n",
       "  <thead>\n",
       "    <tr style=\"text-align: right;\">\n",
       "      <th></th>\n",
       "      <th></th>\n",
       "      <th>0</th>\n",
       "      <th>1</th>\n",
       "      <th>2</th>\n",
       "      <th>3</th>\n",
       "      <th>4</th>\n",
       "      <th>5</th>\n",
       "      <th>6</th>\n",
       "      <th>7</th>\n",
       "      <th>8</th>\n",
       "      <th>9</th>\n",
       "      <th>10</th>\n",
       "      <th>11</th>\n",
       "      <th>12</th>\n",
       "      <th>13</th>\n",
       "      <th>14</th>\n",
       "      <th>15</th>\n",
       "    </tr>\n",
       "    <tr>\n",
       "      <th>Subject</th>\n",
       "      <th>List</th>\n",
       "      <th></th>\n",
       "      <th></th>\n",
       "      <th></th>\n",
       "      <th></th>\n",
       "      <th></th>\n",
       "      <th></th>\n",
       "      <th></th>\n",
       "      <th></th>\n",
       "      <th></th>\n",
       "      <th></th>\n",
       "      <th></th>\n",
       "      <th></th>\n",
       "      <th></th>\n",
       "      <th></th>\n",
       "      <th></th>\n",
       "      <th></th>\n",
       "    </tr>\n",
       "  </thead>\n",
       "  <tbody>\n",
       "    <tr>\n",
       "      <th rowspan=\"16\" valign=\"top\">0</th>\n",
       "      <th>0</th>\n",
       "      <td>OLIVE</td>\n",
       "      <td>WOLF</td>\n",
       "      <td>TORONTO</td>\n",
       "      <td>STOCKHOLM</td>\n",
       "      <td>AUBERGINE</td>\n",
       "      <td>SHEEP</td>\n",
       "      <td>ZUCCHINI</td>\n",
       "      <td>ELBOW</td>\n",
       "      <td>PANTHER</td>\n",
       "      <td>GOAT</td>\n",
       "      <td>KIDNEY</td>\n",
       "      <td>SHOULDER</td>\n",
       "      <td>MIAMI</td>\n",
       "      <td>SQUASH</td>\n",
       "      <td>BOMBAY</td>\n",
       "      <td>FOOT</td>\n",
       "    </tr>\n",
       "    <tr>\n",
       "      <th>1</th>\n",
       "      <td>SWEATER</td>\n",
       "      <td>CHICAGO</td>\n",
       "      <td>SYDNEY</td>\n",
       "      <td>BRA</td>\n",
       "      <td>RENO</td>\n",
       "      <td>GLOVES</td>\n",
       "      <td>MOSQUITO</td>\n",
       "      <td>BERLIN</td>\n",
       "      <td>HORNET</td>\n",
       "      <td>TEAK</td>\n",
       "      <td>MILLIPEDE</td>\n",
       "      <td>PALM</td>\n",
       "      <td>TROUSERS</td>\n",
       "      <td>MANTIS</td>\n",
       "      <td>SYCAMORE</td>\n",
       "      <td>CEDAR</td>\n",
       "    </tr>\n",
       "    <tr>\n",
       "      <th>2</th>\n",
       "      <td>HICKORY</td>\n",
       "      <td>SAXOPHONE</td>\n",
       "      <td>WIRE</td>\n",
       "      <td>CELLO</td>\n",
       "      <td>TRIANGLE</td>\n",
       "      <td>VIOLIN</td>\n",
       "      <td>HAMMER</td>\n",
       "      <td>WEDGE</td>\n",
       "      <td>FIG</td>\n",
       "      <td>MAPLE</td>\n",
       "      <td>SCREWS</td>\n",
       "      <td>PINE</td>\n",
       "      <td>HONEYDEW</td>\n",
       "      <td>PLUM</td>\n",
       "      <td>RASPBERRY</td>\n",
       "      <td>ELM</td>\n",
       "    </tr>\n",
       "    <tr>\n",
       "      <th>3</th>\n",
       "      <td>VERMONT</td>\n",
       "      <td>JERUSALEM</td>\n",
       "      <td>WISCONSIN</td>\n",
       "      <td>KUMQUAT</td>\n",
       "      <td>MANGO</td>\n",
       "      <td>PHILADELPHIA</td>\n",
       "      <td>WASHER</td>\n",
       "      <td>BANANA</td>\n",
       "      <td>NUTS</td>\n",
       "      <td>RULER</td>\n",
       "      <td>HAWAII</td>\n",
       "      <td>NECTARINE</td>\n",
       "      <td>CALIFORNIA</td>\n",
       "      <td>GLUE</td>\n",
       "      <td>TOKYO</td>\n",
       "      <td>VANCOUVER</td>\n",
       "    </tr>\n",
       "    <tr>\n",
       "      <th>4</th>\n",
       "      <td>LARVA</td>\n",
       "      <td>BONGOS</td>\n",
       "      <td>SCORPION</td>\n",
       "      <td>MONARCH</td>\n",
       "      <td>GUITAR</td>\n",
       "      <td>XYLOPHONE</td>\n",
       "      <td>ASH</td>\n",
       "      <td>ANKLE</td>\n",
       "      <td>WORM</td>\n",
       "      <td>POPLAR</td>\n",
       "      <td>FINGER</td>\n",
       "      <td>EUCALYPTUS</td>\n",
       "      <td>ACCORDION</td>\n",
       "      <td>HAND</td>\n",
       "      <td>WILLOW</td>\n",
       "      <td>LIP</td>\n",
       "    </tr>\n",
       "    <tr>\n",
       "      <th>5</th>\n",
       "      <td>CUBA</td>\n",
       "      <td>GERMANY</td>\n",
       "      <td>SUIT</td>\n",
       "      <td>CHIMNEY</td>\n",
       "      <td>LOBBY</td>\n",
       "      <td>CAMISOLE</td>\n",
       "      <td>SPINACH</td>\n",
       "      <td>EGYPT</td>\n",
       "      <td>BLOUSE</td>\n",
       "      <td>CLOSET</td>\n",
       "      <td>ARTICHOKE</td>\n",
       "      <td>FURNACE</td>\n",
       "      <td>IRAN</td>\n",
       "      <td>GARLIC</td>\n",
       "      <td>JACKET</td>\n",
       "      <td>POTATO</td>\n",
       "    </tr>\n",
       "    <tr>\n",
       "      <th>6</th>\n",
       "      <td>EVERGREEN</td>\n",
       "      <td>BLENDER</td>\n",
       "      <td>BANJO</td>\n",
       "      <td>MARIMBA</td>\n",
       "      <td>ROBE</td>\n",
       "      <td>OAK</td>\n",
       "      <td>JUMPER</td>\n",
       "      <td>BELT</td>\n",
       "      <td>SPRUCE</td>\n",
       "      <td>COTTONWOOD</td>\n",
       "      <td>UKULELE</td>\n",
       "      <td>SHIRT</td>\n",
       "      <td>CUP</td>\n",
       "      <td>COLANDER</td>\n",
       "      <td>HARMONICA</td>\n",
       "      <td>MIXER</td>\n",
       "    </tr>\n",
       "    <tr>\n",
       "      <th>7</th>\n",
       "      <td>SUNFLOWER</td>\n",
       "      <td>PANTS</td>\n",
       "      <td>SKILLET</td>\n",
       "      <td>DRESS</td>\n",
       "      <td>MAINE</td>\n",
       "      <td>KNIFE</td>\n",
       "      <td>TOASTER</td>\n",
       "      <td>UTAH</td>\n",
       "      <td>FORK</td>\n",
       "      <td>LILY</td>\n",
       "      <td>DAISY</td>\n",
       "      <td>GIRDLE</td>\n",
       "      <td>MONTANA</td>\n",
       "      <td>UNDERWEAR</td>\n",
       "      <td>NARCISSUS</td>\n",
       "      <td>ARIZONA</td>\n",
       "    </tr>\n",
       "    <tr>\n",
       "      <th>8</th>\n",
       "      <td>POT</td>\n",
       "      <td>HORSE</td>\n",
       "      <td>CORRIDOR</td>\n",
       "      <td>SPATULA</td>\n",
       "      <td>MOUSE</td>\n",
       "      <td>REFRIGERATOR</td>\n",
       "      <td>GLASS</td>\n",
       "      <td>DOOR</td>\n",
       "      <td>TANGELO</td>\n",
       "      <td>STRAWBERRY</td>\n",
       "      <td>COW</td>\n",
       "      <td>GIRAFFE</td>\n",
       "      <td>GUAVA</td>\n",
       "      <td>WINDOW</td>\n",
       "      <td>KIWI</td>\n",
       "      <td>HALL</td>\n",
       "    </tr>\n",
       "    <tr>\n",
       "      <th>9</th>\n",
       "      <td>OKRA</td>\n",
       "      <td>FOX</td>\n",
       "      <td>PUMPKIN</td>\n",
       "      <td>RUTABAGA</td>\n",
       "      <td>CHRYSALIS</td>\n",
       "      <td>RABBIT</td>\n",
       "      <td>OHIO</td>\n",
       "      <td>RHINOCEROS</td>\n",
       "      <td>ALASKA</td>\n",
       "      <td>BEETLE</td>\n",
       "      <td>TERMITE</td>\n",
       "      <td>TEXAS</td>\n",
       "      <td>PENNSYLVANIA</td>\n",
       "      <td>GINGER</td>\n",
       "      <td>LLAMA</td>\n",
       "      <td>WASP</td>\n",
       "    </tr>\n",
       "    <tr>\n",
       "      <th>10</th>\n",
       "      <td>STRAINER</td>\n",
       "      <td>FLOOR</td>\n",
       "      <td>PICKLE</td>\n",
       "      <td>BUTTERCUP</td>\n",
       "      <td>SAUCER</td>\n",
       "      <td>FOUNDATION</td>\n",
       "      <td>DISH</td>\n",
       "      <td>DAHLIA</td>\n",
       "      <td>AZALEA</td>\n",
       "      <td>CARPET</td>\n",
       "      <td>ONION</td>\n",
       "      <td>LOG</td>\n",
       "      <td>ELEVATOR</td>\n",
       "      <td>CAULIFLOWER</td>\n",
       "      <td>GRIDDLE</td>\n",
       "      <td>BROCCOLI</td>\n",
       "    </tr>\n",
       "    <tr>\n",
       "      <th>11</th>\n",
       "      <td>PETUNIA</td>\n",
       "      <td>KNUCKLE</td>\n",
       "      <td>ROSE</td>\n",
       "      <td>FACE</td>\n",
       "      <td>GAZEBO</td>\n",
       "      <td>DONKEY</td>\n",
       "      <td>BARN</td>\n",
       "      <td>DOG</td>\n",
       "      <td>EAR</td>\n",
       "      <td>TIGER</td>\n",
       "      <td>CARNATION</td>\n",
       "      <td>HEART</td>\n",
       "      <td>KITCHEN</td>\n",
       "      <td>ALCOVE</td>\n",
       "      <td>HIPPOPOTAMUS</td>\n",
       "      <td>TULIP</td>\n",
       "    </tr>\n",
       "    <tr>\n",
       "      <th>12</th>\n",
       "      <td>BROILER</td>\n",
       "      <td>PELVIS</td>\n",
       "      <td>ROME</td>\n",
       "      <td>STOMACH</td>\n",
       "      <td>PICCOLO</td>\n",
       "      <td>TAMBOURINE</td>\n",
       "      <td>DALLAS</td>\n",
       "      <td>HIP</td>\n",
       "      <td>ARMS</td>\n",
       "      <td>MONTREAL</td>\n",
       "      <td>THERMOMETER</td>\n",
       "      <td>MUG</td>\n",
       "      <td>TUBA</td>\n",
       "      <td>OVEN</td>\n",
       "      <td>TRUMPET</td>\n",
       "      <td>PARIS</td>\n",
       "    </tr>\n",
       "    <tr>\n",
       "      <th>13</th>\n",
       "      <td>JAPAN</td>\n",
       "      <td>SAW</td>\n",
       "      <td>PROTRACTOR</td>\n",
       "      <td>BOLTS</td>\n",
       "      <td>ENGLAND</td>\n",
       "      <td>SWITZERLAND</td>\n",
       "      <td>PIANO</td>\n",
       "      <td>SQUIRREL</td>\n",
       "      <td>LEOPARD</td>\n",
       "      <td>CLARINET</td>\n",
       "      <td>CAT</td>\n",
       "      <td>FRANCE</td>\n",
       "      <td>FERRET</td>\n",
       "      <td>DRUM</td>\n",
       "      <td>CHISEL</td>\n",
       "      <td>KAZOO</td>\n",
       "    </tr>\n",
       "    <tr>\n",
       "      <th>14</th>\n",
       "      <td>LETTUCE</td>\n",
       "      <td>ITALY</td>\n",
       "      <td>AUSTRALIA</td>\n",
       "      <td>MARACAS</td>\n",
       "      <td>ZEBRA</td>\n",
       "      <td>CELERY</td>\n",
       "      <td>LION</td>\n",
       "      <td>VIOLA</td>\n",
       "      <td>TROMBONE</td>\n",
       "      <td>ELEPHANT</td>\n",
       "      <td>POLAND</td>\n",
       "      <td>BASS</td>\n",
       "      <td>PIG</td>\n",
       "      <td>YAMS</td>\n",
       "      <td>ETHIOPIA</td>\n",
       "      <td>CARROT</td>\n",
       "    </tr>\n",
       "    <tr>\n",
       "      <th>15</th>\n",
       "      <td>PEAR</td>\n",
       "      <td>KANSAS</td>\n",
       "      <td>MICHIGAN</td>\n",
       "      <td>LEMON</td>\n",
       "      <td>RACOON</td>\n",
       "      <td>TOOTH</td>\n",
       "      <td>POMEGRANATE</td>\n",
       "      <td>MOOSE</td>\n",
       "      <td>MONKEY</td>\n",
       "      <td>RIB</td>\n",
       "      <td>PANCREAS</td>\n",
       "      <td>ANTELOPE</td>\n",
       "      <td>TONGUE</td>\n",
       "      <td>CLEMENTINE</td>\n",
       "      <td>FLORIDA</td>\n",
       "      <td>IOWA</td>\n",
       "    </tr>\n",
       "    <tr>\n",
       "      <th rowspan=\"16\" valign=\"top\">1</th>\n",
       "      <th>0</th>\n",
       "      <td>OLIVE</td>\n",
       "      <td>WOLF</td>\n",
       "      <td>TORONTO</td>\n",
       "      <td>STOCKHOLM</td>\n",
       "      <td>AUBERGINE</td>\n",
       "      <td>SHEEP</td>\n",
       "      <td>ZUCCHINI</td>\n",
       "      <td>ELBOW</td>\n",
       "      <td>PANTHER</td>\n",
       "      <td>GOAT</td>\n",
       "      <td>KIDNEY</td>\n",
       "      <td>SHOULDER</td>\n",
       "      <td>MIAMI</td>\n",
       "      <td>SQUASH</td>\n",
       "      <td>BOMBAY</td>\n",
       "      <td>FOOT</td>\n",
       "    </tr>\n",
       "    <tr>\n",
       "      <th>1</th>\n",
       "      <td>SWEATER</td>\n",
       "      <td>CHICAGO</td>\n",
       "      <td>SYDNEY</td>\n",
       "      <td>BRA</td>\n",
       "      <td>RENO</td>\n",
       "      <td>GLOVES</td>\n",
       "      <td>MOSQUITO</td>\n",
       "      <td>BERLIN</td>\n",
       "      <td>HORNET</td>\n",
       "      <td>TEAK</td>\n",
       "      <td>MILLIPEDE</td>\n",
       "      <td>PALM</td>\n",
       "      <td>TROUSERS</td>\n",
       "      <td>MANTIS</td>\n",
       "      <td>SYCAMORE</td>\n",
       "      <td>CEDAR</td>\n",
       "    </tr>\n",
       "    <tr>\n",
       "      <th>2</th>\n",
       "      <td>HICKORY</td>\n",
       "      <td>SAXOPHONE</td>\n",
       "      <td>WIRE</td>\n",
       "      <td>CELLO</td>\n",
       "      <td>TRIANGLE</td>\n",
       "      <td>VIOLIN</td>\n",
       "      <td>HAMMER</td>\n",
       "      <td>WEDGE</td>\n",
       "      <td>FIG</td>\n",
       "      <td>MAPLE</td>\n",
       "      <td>SCREWS</td>\n",
       "      <td>PINE</td>\n",
       "      <td>HONEYDEW</td>\n",
       "      <td>PLUM</td>\n",
       "      <td>RASPBERRY</td>\n",
       "      <td>ELM</td>\n",
       "    </tr>\n",
       "    <tr>\n",
       "      <th>3</th>\n",
       "      <td>VERMONT</td>\n",
       "      <td>JERUSALEM</td>\n",
       "      <td>WISCONSIN</td>\n",
       "      <td>KUMQUAT</td>\n",
       "      <td>MANGO</td>\n",
       "      <td>PHILADELPHIA</td>\n",
       "      <td>WASHER</td>\n",
       "      <td>BANANA</td>\n",
       "      <td>NUTS</td>\n",
       "      <td>RULER</td>\n",
       "      <td>HAWAII</td>\n",
       "      <td>NECTARINE</td>\n",
       "      <td>CALIFORNIA</td>\n",
       "      <td>GLUE</td>\n",
       "      <td>TOKYO</td>\n",
       "      <td>VANCOUVER</td>\n",
       "    </tr>\n",
       "    <tr>\n",
       "      <th>4</th>\n",
       "      <td>LARVA</td>\n",
       "      <td>BONGOS</td>\n",
       "      <td>SCORPION</td>\n",
       "      <td>MONARCH</td>\n",
       "      <td>GUITAR</td>\n",
       "      <td>XYLOPHONE</td>\n",
       "      <td>ASH</td>\n",
       "      <td>ANKLE</td>\n",
       "      <td>WORM</td>\n",
       "      <td>POPLAR</td>\n",
       "      <td>FINGER</td>\n",
       "      <td>EUCALYPTUS</td>\n",
       "      <td>ACCORDION</td>\n",
       "      <td>HAND</td>\n",
       "      <td>WILLOW</td>\n",
       "      <td>LIP</td>\n",
       "    </tr>\n",
       "    <tr>\n",
       "      <th>5</th>\n",
       "      <td>CUBA</td>\n",
       "      <td>GERMANY</td>\n",
       "      <td>SUIT</td>\n",
       "      <td>CHIMNEY</td>\n",
       "      <td>LOBBY</td>\n",
       "      <td>CAMISOLE</td>\n",
       "      <td>SPINACH</td>\n",
       "      <td>EGYPT</td>\n",
       "      <td>BLOUSE</td>\n",
       "      <td>CLOSET</td>\n",
       "      <td>ARTICHOKE</td>\n",
       "      <td>FURNACE</td>\n",
       "      <td>IRAN</td>\n",
       "      <td>GARLIC</td>\n",
       "      <td>JACKET</td>\n",
       "      <td>POTATO</td>\n",
       "    </tr>\n",
       "    <tr>\n",
       "      <th>6</th>\n",
       "      <td>EVERGREEN</td>\n",
       "      <td>BLENDER</td>\n",
       "      <td>BANJO</td>\n",
       "      <td>MARIMBA</td>\n",
       "      <td>ROBE</td>\n",
       "      <td>OAK</td>\n",
       "      <td>JUMPER</td>\n",
       "      <td>BELT</td>\n",
       "      <td>SPRUCE</td>\n",
       "      <td>COTTONWOOD</td>\n",
       "      <td>UKULELE</td>\n",
       "      <td>SHIRT</td>\n",
       "      <td>CUP</td>\n",
       "      <td>COLANDER</td>\n",
       "      <td>HARMONICA</td>\n",
       "      <td>MIXER</td>\n",
       "    </tr>\n",
       "    <tr>\n",
       "      <th>7</th>\n",
       "      <td>SUNFLOWER</td>\n",
       "      <td>PANTS</td>\n",
       "      <td>SKILLET</td>\n",
       "      <td>DRESS</td>\n",
       "      <td>MAINE</td>\n",
       "      <td>KNIFE</td>\n",
       "      <td>TOASTER</td>\n",
       "      <td>UTAH</td>\n",
       "      <td>FORK</td>\n",
       "      <td>LILY</td>\n",
       "      <td>DAISY</td>\n",
       "      <td>GIRDLE</td>\n",
       "      <td>MONTANA</td>\n",
       "      <td>UNDERWEAR</td>\n",
       "      <td>NARCISSUS</td>\n",
       "      <td>ARIZONA</td>\n",
       "    </tr>\n",
       "    <tr>\n",
       "      <th>8</th>\n",
       "      <td>POT</td>\n",
       "      <td>HORSE</td>\n",
       "      <td>CORRIDOR</td>\n",
       "      <td>SPATULA</td>\n",
       "      <td>MOUSE</td>\n",
       "      <td>REFRIGERATOR</td>\n",
       "      <td>GLASS</td>\n",
       "      <td>DOOR</td>\n",
       "      <td>TANGELO</td>\n",
       "      <td>STRAWBERRY</td>\n",
       "      <td>COW</td>\n",
       "      <td>GIRAFFE</td>\n",
       "      <td>GUAVA</td>\n",
       "      <td>WINDOW</td>\n",
       "      <td>KIWI</td>\n",
       "      <td>HALL</td>\n",
       "    </tr>\n",
       "    <tr>\n",
       "      <th>9</th>\n",
       "      <td>OKRA</td>\n",
       "      <td>FOX</td>\n",
       "      <td>PUMPKIN</td>\n",
       "      <td>RUTABAGA</td>\n",
       "      <td>CHRYSALIS</td>\n",
       "      <td>RABBIT</td>\n",
       "      <td>OHIO</td>\n",
       "      <td>RHINOCEROS</td>\n",
       "      <td>ALASKA</td>\n",
       "      <td>BEETLE</td>\n",
       "      <td>TERMITE</td>\n",
       "      <td>TEXAS</td>\n",
       "      <td>PENNSYLVANIA</td>\n",
       "      <td>GINGER</td>\n",
       "      <td>LLAMA</td>\n",
       "      <td>WASP</td>\n",
       "    </tr>\n",
       "    <tr>\n",
       "      <th>10</th>\n",
       "      <td>STRAINER</td>\n",
       "      <td>FLOOR</td>\n",
       "      <td>PICKLE</td>\n",
       "      <td>BUTTERCUP</td>\n",
       "      <td>SAUCER</td>\n",
       "      <td>FOUNDATION</td>\n",
       "      <td>DISH</td>\n",
       "      <td>DAHLIA</td>\n",
       "      <td>AZALEA</td>\n",
       "      <td>CARPET</td>\n",
       "      <td>ONION</td>\n",
       "      <td>LOG</td>\n",
       "      <td>ELEVATOR</td>\n",
       "      <td>CAULIFLOWER</td>\n",
       "      <td>GRIDDLE</td>\n",
       "      <td>BROCCOLI</td>\n",
       "    </tr>\n",
       "    <tr>\n",
       "      <th>11</th>\n",
       "      <td>PETUNIA</td>\n",
       "      <td>KNUCKLE</td>\n",
       "      <td>ROSE</td>\n",
       "      <td>FACE</td>\n",
       "      <td>GAZEBO</td>\n",
       "      <td>DONKEY</td>\n",
       "      <td>BARN</td>\n",
       "      <td>DOG</td>\n",
       "      <td>EAR</td>\n",
       "      <td>TIGER</td>\n",
       "      <td>CARNATION</td>\n",
       "      <td>HEART</td>\n",
       "      <td>KITCHEN</td>\n",
       "      <td>ALCOVE</td>\n",
       "      <td>HIPPOPOTAMUS</td>\n",
       "      <td>TULIP</td>\n",
       "    </tr>\n",
       "    <tr>\n",
       "      <th>12</th>\n",
       "      <td>BROILER</td>\n",
       "      <td>PELVIS</td>\n",
       "      <td>ROME</td>\n",
       "      <td>STOMACH</td>\n",
       "      <td>PICCOLO</td>\n",
       "      <td>TAMBOURINE</td>\n",
       "      <td>DALLAS</td>\n",
       "      <td>HIP</td>\n",
       "      <td>ARMS</td>\n",
       "      <td>MONTREAL</td>\n",
       "      <td>THERMOMETER</td>\n",
       "      <td>MUG</td>\n",
       "      <td>TUBA</td>\n",
       "      <td>OVEN</td>\n",
       "      <td>TRUMPET</td>\n",
       "      <td>PARIS</td>\n",
       "    </tr>\n",
       "    <tr>\n",
       "      <th>13</th>\n",
       "      <td>JAPAN</td>\n",
       "      <td>SAW</td>\n",
       "      <td>PROTRACTOR</td>\n",
       "      <td>BOLTS</td>\n",
       "      <td>ENGLAND</td>\n",
       "      <td>SWITZERLAND</td>\n",
       "      <td>PIANO</td>\n",
       "      <td>SQUIRREL</td>\n",
       "      <td>LEOPARD</td>\n",
       "      <td>CLARINET</td>\n",
       "      <td>CAT</td>\n",
       "      <td>FRANCE</td>\n",
       "      <td>FERRET</td>\n",
       "      <td>DRUM</td>\n",
       "      <td>CHISEL</td>\n",
       "      <td>KAZOO</td>\n",
       "    </tr>\n",
       "    <tr>\n",
       "      <th>14</th>\n",
       "      <td>LETTUCE</td>\n",
       "      <td>ITALY</td>\n",
       "      <td>AUSTRALIA</td>\n",
       "      <td>MARACAS</td>\n",
       "      <td>ZEBRA</td>\n",
       "      <td>CELERY</td>\n",
       "      <td>LION</td>\n",
       "      <td>VIOLA</td>\n",
       "      <td>TROMBONE</td>\n",
       "      <td>ELEPHANT</td>\n",
       "      <td>POLAND</td>\n",
       "      <td>BASS</td>\n",
       "      <td>PIG</td>\n",
       "      <td>YAMS</td>\n",
       "      <td>ETHIOPIA</td>\n",
       "      <td>CARROT</td>\n",
       "    </tr>\n",
       "    <tr>\n",
       "      <th>15</th>\n",
       "      <td>PEAR</td>\n",
       "      <td>KANSAS</td>\n",
       "      <td>MICHIGAN</td>\n",
       "      <td>LEMON</td>\n",
       "      <td>RACOON</td>\n",
       "      <td>TOOTH</td>\n",
       "      <td>POMEGRANATE</td>\n",
       "      <td>MOOSE</td>\n",
       "      <td>MONKEY</td>\n",
       "      <td>RIB</td>\n",
       "      <td>PANCREAS</td>\n",
       "      <td>ANTELOPE</td>\n",
       "      <td>TONGUE</td>\n",
       "      <td>CLEMENTINE</td>\n",
       "      <td>FLORIDA</td>\n",
       "      <td>IOWA</td>\n",
       "    </tr>\n",
       "  </tbody>\n",
       "</table>\n",
       "</div>"
      ],
      "text/plain": [
       "                     0          1           2          3          4   \\\n",
       "Subject List                                                           \n",
       "0       0         OLIVE       WOLF     TORONTO  STOCKHOLM  AUBERGINE   \n",
       "        1       SWEATER    CHICAGO      SYDNEY        BRA       RENO   \n",
       "        2       HICKORY  SAXOPHONE        WIRE      CELLO   TRIANGLE   \n",
       "        3       VERMONT  JERUSALEM   WISCONSIN    KUMQUAT      MANGO   \n",
       "        4         LARVA     BONGOS    SCORPION    MONARCH     GUITAR   \n",
       "        5          CUBA    GERMANY        SUIT    CHIMNEY      LOBBY   \n",
       "        6     EVERGREEN    BLENDER       BANJO    MARIMBA       ROBE   \n",
       "        7     SUNFLOWER      PANTS     SKILLET      DRESS      MAINE   \n",
       "        8           POT      HORSE    CORRIDOR    SPATULA      MOUSE   \n",
       "        9          OKRA        FOX     PUMPKIN   RUTABAGA  CHRYSALIS   \n",
       "        10     STRAINER      FLOOR      PICKLE  BUTTERCUP     SAUCER   \n",
       "        11      PETUNIA    KNUCKLE        ROSE       FACE     GAZEBO   \n",
       "        12      BROILER     PELVIS        ROME    STOMACH    PICCOLO   \n",
       "        13        JAPAN        SAW  PROTRACTOR      BOLTS    ENGLAND   \n",
       "        14      LETTUCE      ITALY   AUSTRALIA    MARACAS      ZEBRA   \n",
       "        15         PEAR     KANSAS    MICHIGAN      LEMON     RACOON   \n",
       "1       0         OLIVE       WOLF     TORONTO  STOCKHOLM  AUBERGINE   \n",
       "        1       SWEATER    CHICAGO      SYDNEY        BRA       RENO   \n",
       "        2       HICKORY  SAXOPHONE        WIRE      CELLO   TRIANGLE   \n",
       "        3       VERMONT  JERUSALEM   WISCONSIN    KUMQUAT      MANGO   \n",
       "        4         LARVA     BONGOS    SCORPION    MONARCH     GUITAR   \n",
       "        5          CUBA    GERMANY        SUIT    CHIMNEY      LOBBY   \n",
       "        6     EVERGREEN    BLENDER       BANJO    MARIMBA       ROBE   \n",
       "        7     SUNFLOWER      PANTS     SKILLET      DRESS      MAINE   \n",
       "        8           POT      HORSE    CORRIDOR    SPATULA      MOUSE   \n",
       "        9          OKRA        FOX     PUMPKIN   RUTABAGA  CHRYSALIS   \n",
       "        10     STRAINER      FLOOR      PICKLE  BUTTERCUP     SAUCER   \n",
       "        11      PETUNIA    KNUCKLE        ROSE       FACE     GAZEBO   \n",
       "        12      BROILER     PELVIS        ROME    STOMACH    PICCOLO   \n",
       "        13        JAPAN        SAW  PROTRACTOR      BOLTS    ENGLAND   \n",
       "        14      LETTUCE      ITALY   AUSTRALIA    MARACAS      ZEBRA   \n",
       "        15         PEAR     KANSAS    MICHIGAN      LEMON     RACOON   \n",
       "\n",
       "                        5            6           7         8           9   \\\n",
       "Subject List                                                                \n",
       "0       0            SHEEP     ZUCCHINI       ELBOW   PANTHER        GOAT   \n",
       "        1           GLOVES     MOSQUITO      BERLIN    HORNET        TEAK   \n",
       "        2           VIOLIN       HAMMER       WEDGE       FIG       MAPLE   \n",
       "        3     PHILADELPHIA       WASHER      BANANA      NUTS       RULER   \n",
       "        4        XYLOPHONE          ASH       ANKLE      WORM      POPLAR   \n",
       "        5         CAMISOLE      SPINACH       EGYPT    BLOUSE      CLOSET   \n",
       "        6              OAK       JUMPER        BELT    SPRUCE  COTTONWOOD   \n",
       "        7            KNIFE      TOASTER        UTAH      FORK        LILY   \n",
       "        8     REFRIGERATOR        GLASS        DOOR   TANGELO  STRAWBERRY   \n",
       "        9           RABBIT         OHIO  RHINOCEROS    ALASKA      BEETLE   \n",
       "        10      FOUNDATION         DISH      DAHLIA    AZALEA      CARPET   \n",
       "        11          DONKEY         BARN         DOG       EAR       TIGER   \n",
       "        12      TAMBOURINE       DALLAS         HIP      ARMS    MONTREAL   \n",
       "        13     SWITZERLAND        PIANO    SQUIRREL   LEOPARD    CLARINET   \n",
       "        14          CELERY         LION       VIOLA  TROMBONE    ELEPHANT   \n",
       "        15           TOOTH  POMEGRANATE       MOOSE    MONKEY         RIB   \n",
       "1       0            SHEEP     ZUCCHINI       ELBOW   PANTHER        GOAT   \n",
       "        1           GLOVES     MOSQUITO      BERLIN    HORNET        TEAK   \n",
       "        2           VIOLIN       HAMMER       WEDGE       FIG       MAPLE   \n",
       "        3     PHILADELPHIA       WASHER      BANANA      NUTS       RULER   \n",
       "        4        XYLOPHONE          ASH       ANKLE      WORM      POPLAR   \n",
       "        5         CAMISOLE      SPINACH       EGYPT    BLOUSE      CLOSET   \n",
       "        6              OAK       JUMPER        BELT    SPRUCE  COTTONWOOD   \n",
       "        7            KNIFE      TOASTER        UTAH      FORK        LILY   \n",
       "        8     REFRIGERATOR        GLASS        DOOR   TANGELO  STRAWBERRY   \n",
       "        9           RABBIT         OHIO  RHINOCEROS    ALASKA      BEETLE   \n",
       "        10      FOUNDATION         DISH      DAHLIA    AZALEA      CARPET   \n",
       "        11          DONKEY         BARN         DOG       EAR       TIGER   \n",
       "        12      TAMBOURINE       DALLAS         HIP      ARMS    MONTREAL   \n",
       "        13     SWITZERLAND        PIANO    SQUIRREL   LEOPARD    CLARINET   \n",
       "        14          CELERY         LION       VIOLA  TROMBONE    ELEPHANT   \n",
       "        15           TOOTH  POMEGRANATE       MOOSE    MONKEY         RIB   \n",
       "\n",
       "                       10          11            12           13  \\\n",
       "Subject List                                                       \n",
       "0       0          KIDNEY    SHOULDER         MIAMI       SQUASH   \n",
       "        1       MILLIPEDE        PALM      TROUSERS       MANTIS   \n",
       "        2          SCREWS        PINE      HONEYDEW         PLUM   \n",
       "        3          HAWAII   NECTARINE    CALIFORNIA         GLUE   \n",
       "        4          FINGER  EUCALYPTUS     ACCORDION         HAND   \n",
       "        5       ARTICHOKE     FURNACE          IRAN       GARLIC   \n",
       "        6         UKULELE       SHIRT           CUP     COLANDER   \n",
       "        7           DAISY      GIRDLE       MONTANA    UNDERWEAR   \n",
       "        8             COW     GIRAFFE         GUAVA       WINDOW   \n",
       "        9         TERMITE       TEXAS  PENNSYLVANIA       GINGER   \n",
       "        10          ONION         LOG      ELEVATOR  CAULIFLOWER   \n",
       "        11      CARNATION       HEART       KITCHEN       ALCOVE   \n",
       "        12    THERMOMETER         MUG          TUBA         OVEN   \n",
       "        13            CAT      FRANCE        FERRET         DRUM   \n",
       "        14         POLAND        BASS           PIG         YAMS   \n",
       "        15       PANCREAS    ANTELOPE        TONGUE   CLEMENTINE   \n",
       "1       0          KIDNEY    SHOULDER         MIAMI       SQUASH   \n",
       "        1       MILLIPEDE        PALM      TROUSERS       MANTIS   \n",
       "        2          SCREWS        PINE      HONEYDEW         PLUM   \n",
       "        3          HAWAII   NECTARINE    CALIFORNIA         GLUE   \n",
       "        4          FINGER  EUCALYPTUS     ACCORDION         HAND   \n",
       "        5       ARTICHOKE     FURNACE          IRAN       GARLIC   \n",
       "        6         UKULELE       SHIRT           CUP     COLANDER   \n",
       "        7           DAISY      GIRDLE       MONTANA    UNDERWEAR   \n",
       "        8             COW     GIRAFFE         GUAVA       WINDOW   \n",
       "        9         TERMITE       TEXAS  PENNSYLVANIA       GINGER   \n",
       "        10          ONION         LOG      ELEVATOR  CAULIFLOWER   \n",
       "        11      CARNATION       HEART       KITCHEN       ALCOVE   \n",
       "        12    THERMOMETER         MUG          TUBA         OVEN   \n",
       "        13            CAT      FRANCE        FERRET         DRUM   \n",
       "        14         POLAND        BASS           PIG         YAMS   \n",
       "        15       PANCREAS    ANTELOPE        TONGUE   CLEMENTINE   \n",
       "\n",
       "                        14         15  \n",
       "Subject List                           \n",
       "0       0           BOMBAY       FOOT  \n",
       "        1         SYCAMORE      CEDAR  \n",
       "        2        RASPBERRY        ELM  \n",
       "        3            TOKYO  VANCOUVER  \n",
       "        4           WILLOW        LIP  \n",
       "        5           JACKET     POTATO  \n",
       "        6        HARMONICA      MIXER  \n",
       "        7        NARCISSUS    ARIZONA  \n",
       "        8             KIWI       HALL  \n",
       "        9            LLAMA       WASP  \n",
       "        10         GRIDDLE   BROCCOLI  \n",
       "        11    HIPPOPOTAMUS      TULIP  \n",
       "        12         TRUMPET      PARIS  \n",
       "        13          CHISEL      KAZOO  \n",
       "        14        ETHIOPIA     CARROT  \n",
       "        15         FLORIDA       IOWA  \n",
       "1       0           BOMBAY       FOOT  \n",
       "        1         SYCAMORE      CEDAR  \n",
       "        2        RASPBERRY        ELM  \n",
       "        3            TOKYO  VANCOUVER  \n",
       "        4           WILLOW        LIP  \n",
       "        5           JACKET     POTATO  \n",
       "        6        HARMONICA      MIXER  \n",
       "        7        NARCISSUS    ARIZONA  \n",
       "        8             KIWI       HALL  \n",
       "        9            LLAMA       WASP  \n",
       "        10         GRIDDLE   BROCCOLI  \n",
       "        11    HIPPOPOTAMUS      TULIP  \n",
       "        12         TRUMPET      PARIS  \n",
       "        13          CHISEL      KAZOO  \n",
       "        14        ETHIOPIA     CARROT  \n",
       "        15         FLORIDA       IOWA  "
      ]
     },
     "execution_count": 65,
     "metadata": {},
     "output_type": "execute_result"
    }
   ],
   "source": [
    "pyro.p"
   ]
  },
  {
   "cell_type": "code",
   "execution_count": 66,
   "metadata": {
    "collapsed": false
   },
   "outputs": [],
   "source": [
    "pyro = pyr.Pyro(pres=pres_exp6, rec=rec_exp6)\n",
    "#pyro.pres"
   ]
  },
  {
   "cell_type": "markdown",
   "metadata": {},
   "source": [
    "<h1> SPC Average </h1>"
   ]
  },
  {
   "cell_type": "code",
   "execution_count": 68,
   "metadata": {
    "collapsed": false
   },
   "outputs": [
    {
     "data": {
      "image/png": "[encoded data removed]",
      "text/plain": [
       "<matplotlib.figure.Figure at 0x1192921d0>"
      ]
     },
     "metadata": {},
     "output_type": "display_data"
    },
    {
     "data": {
      "text/plain": [
       "<matplotlib.axes._subplots.AxesSubplot at 0x118f57cd0>"
      ]
     },
     "execution_count": 68,
     "metadata": {},
     "output_type": "execute_result"
    }
   ],
   "source": [
    "spc = pyr.spc(pyro, listgroup=['average']*16)\n",
    "pyr.plot(spc)"
   ]
  },
  {
   "cell_type": "markdown",
   "metadata": {},
   "source": [
    "<h1>PFR Average </h1>"
   ]
  },
  {
   "cell_type": "code",
   "execution_count": 8,
   "metadata": {
    "collapsed": false
   },
   "outputs": [
    {
     "ename": "NameError",
     "evalue": "name 'pyr' is not defined",
     "output_type": "error",
     "traceback": [
      "\u001b[0;31m---------------------------------------------------------------------------\u001b[0m",
      "\u001b[0;31mNameError\u001b[0m                                 Traceback (most recent call last)",
      "\u001b[0;32m<ipython-input-8-fd8f14f197ae>\u001b[0m in \u001b[0;36m<module>\u001b[0;34m()\u001b[0m\n\u001b[0;32m----> 1\u001b[0;31m \u001b[0mpfr\u001b[0m \u001b[0;34m=\u001b[0m \u001b[0mpyr\u001b[0m\u001b[0;34m.\u001b[0m\u001b[0mpfr\u001b[0m\u001b[0;34m(\u001b[0m\u001b[0mpyro\u001b[0m\u001b[0;34m,\u001b[0m \u001b[0mlistgroup\u001b[0m\u001b[0;34m=\u001b[0m\u001b[0;34m[\u001b[0m\u001b[0;34m'average'\u001b[0m\u001b[0;34m]\u001b[0m\u001b[0;34m*\u001b[0m\u001b[0;36m16\u001b[0m\u001b[0;34m)\u001b[0m\u001b[0;34m\u001b[0m\u001b[0m\n\u001b[0m\u001b[1;32m      2\u001b[0m \u001b[0mpyr\u001b[0m\u001b[0;34m.\u001b[0m\u001b[0mplot\u001b[0m\u001b[0;34m(\u001b[0m\u001b[0mpfr\u001b[0m\u001b[0;34m)\u001b[0m\u001b[0;34m\u001b[0m\u001b[0m\n",
      "\u001b[0;31mNameError\u001b[0m: name 'pyr' is not defined"
     ]
    }
   ],
   "source": [
    "pfr = pyr.pfr(pyro, listgroup=['average']*16)\n",
    "pyr.plot(pfr)"
   ]
  },
  {
   "cell_type": "markdown",
   "metadata": {},
   "source": [
    "<h1> PLR Average</h1>"
   ]
  },
  {
   "cell_type": "code",
   "execution_count": 9,
   "metadata": {
    "collapsed": false
   },
   "outputs": [
    {
     "ename": "NameError",
     "evalue": "name 'pyr' is not defined",
     "output_type": "error",
     "traceback": [
      "\u001b[0;31m---------------------------------------------------------------------------\u001b[0m",
      "\u001b[0;31mNameError\u001b[0m                                 Traceback (most recent call last)",
      "\u001b[0;32m<ipython-input-9-c9a254283142>\u001b[0m in \u001b[0;36m<module>\u001b[0;34m()\u001b[0m\n\u001b[0;32m----> 1\u001b[0;31m \u001b[0mplr\u001b[0m \u001b[0;34m=\u001b[0m \u001b[0mpyr\u001b[0m\u001b[0;34m.\u001b[0m\u001b[0mplr\u001b[0m\u001b[0;34m(\u001b[0m\u001b[0mpyro\u001b[0m\u001b[0;34m,\u001b[0m \u001b[0mlistgroup\u001b[0m\u001b[0;34m=\u001b[0m\u001b[0;34m[\u001b[0m\u001b[0;34m'average'\u001b[0m\u001b[0;34m]\u001b[0m\u001b[0;34m*\u001b[0m\u001b[0;36m16\u001b[0m\u001b[0;34m)\u001b[0m\u001b[0;34m\u001b[0m\u001b[0m\n\u001b[0m\u001b[1;32m      2\u001b[0m \u001b[0mpyr\u001b[0m\u001b[0;34m.\u001b[0m\u001b[0mplot\u001b[0m\u001b[0;34m(\u001b[0m\u001b[0mplr\u001b[0m\u001b[0;34m)\u001b[0m\u001b[0;34m\u001b[0m\u001b[0m\n",
      "\u001b[0;31mNameError\u001b[0m: name 'pyr' is not defined"
     ]
    }
   ],
   "source": [
    "plr = pyr.plr(pyro, listgroup=['average']*16)\n",
    "pyr.plot(plr)"
   ]
  },
  {
   "cell_type": "markdown",
   "metadata": {},
   "source": [
    "<h1>Lag CRP, Average</h1>"
   ]
  },
  {
   "cell_type": "code",
   "execution_count": 10,
   "metadata": {
    "collapsed": false
   },
   "outputs": [
    {
     "ename": "NameError",
     "evalue": "name 'pyr' is not defined",
     "output_type": "error",
     "traceback": [
      "\u001b[0;31m---------------------------------------------------------------------------\u001b[0m",
      "\u001b[0;31mNameError\u001b[0m                                 Traceback (most recent call last)",
      "\u001b[0;32m<ipython-input-10-ab364a46c0d8>\u001b[0m in \u001b[0;36m<module>\u001b[0;34m()\u001b[0m\n\u001b[0;32m----> 1\u001b[0;31m \u001b[0mlagcrp\u001b[0m \u001b[0;34m=\u001b[0m \u001b[0mpyr\u001b[0m\u001b[0;34m.\u001b[0m\u001b[0mlagcrp\u001b[0m\u001b[0;34m(\u001b[0m\u001b[0mpyro\u001b[0m\u001b[0;34m,\u001b[0m \u001b[0mlistgroup\u001b[0m\u001b[0;34m=\u001b[0m\u001b[0;34m[\u001b[0m\u001b[0;34m'average'\u001b[0m\u001b[0;34m]\u001b[0m\u001b[0;34m*\u001b[0m\u001b[0;36m16\u001b[0m\u001b[0;34m)\u001b[0m\u001b[0;34m\u001b[0m\u001b[0m\n\u001b[0m\u001b[1;32m      2\u001b[0m \u001b[0max\u001b[0m \u001b[0;34m=\u001b[0m \u001b[0mpyr\u001b[0m\u001b[0;34m.\u001b[0m\u001b[0mplot\u001b[0m\u001b[0;34m(\u001b[0m\u001b[0mlagcrp\u001b[0m\u001b[0;34m)\u001b[0m\u001b[0;34m\u001b[0m\u001b[0m\n",
      "\u001b[0;31mNameError\u001b[0m: name 'pyr' is not defined"
     ]
    }
   ],
   "source": [
    "lagcrp = pyr.lagcrp(pyro, listgroup=['average']*16)\n",
    "ax = pyr.plot(lagcrp)"
   ]
  },
  {
   "cell_type": "code",
   "execution_count": 11,
   "metadata": {
    "collapsed": false
   },
   "outputs": [],
   "source": [
    "#pyro = pyr.Pyro(pres=pres_exp1, rec=rec_exp1)"
   ]
  },
  {
   "cell_type": "markdown",
   "metadata": {},
   "source": [
    "<h1>Serial Position Curve, Early/Late Lists</h1>"
   ]
  },
  {
   "cell_type": "code",
   "execution_count": 12,
   "metadata": {
    "collapsed": false
   },
   "outputs": [
    {
     "ename": "NameError",
     "evalue": "name 'pyr' is not defined",
     "output_type": "error",
     "traceback": [
      "\u001b[0;31m---------------------------------------------------------------------------\u001b[0m",
      "\u001b[0;31mNameError\u001b[0m                                 Traceback (most recent call last)",
      "\u001b[0;32m<ipython-input-12-ae4d7af68577>\u001b[0m in \u001b[0;36m<module>\u001b[0;34m()\u001b[0m\n\u001b[0;32m----> 1\u001b[0;31m \u001b[0mspc2\u001b[0m \u001b[0;34m=\u001b[0m \u001b[0mpyr\u001b[0m\u001b[0;34m.\u001b[0m\u001b[0mspc\u001b[0m\u001b[0;34m(\u001b[0m\u001b[0mpyro\u001b[0m\u001b[0;34m,\u001b[0m \u001b[0mlistgroup\u001b[0m\u001b[0;34m=\u001b[0m\u001b[0;34m[\u001b[0m\u001b[0;34m'early'\u001b[0m\u001b[0;34m]\u001b[0m\u001b[0;34m*\u001b[0m\u001b[0;36m8\u001b[0m \u001b[0;34m+\u001b[0m \u001b[0;34m[\u001b[0m\u001b[0;34m'late'\u001b[0m\u001b[0;34m]\u001b[0m\u001b[0;34m*\u001b[0m\u001b[0;36m8\u001b[0m\u001b[0;34m)\u001b[0m\u001b[0;34m\u001b[0m\u001b[0m\n\u001b[0m\u001b[1;32m      2\u001b[0m \u001b[0mpyr\u001b[0m\u001b[0;34m.\u001b[0m\u001b[0mplot\u001b[0m\u001b[0;34m(\u001b[0m\u001b[0mspc2\u001b[0m\u001b[0;34m)\u001b[0m\u001b[0;34m\u001b[0m\u001b[0m\n",
      "\u001b[0;31mNameError\u001b[0m: name 'pyr' is not defined"
     ]
    }
   ],
   "source": [
    "spc2 = pyr.spc(pyro, listgroup=['early']*8 + ['late']*8)\n",
    "pyr.plot(spc2)"
   ]
  },
  {
   "cell_type": "markdown",
   "metadata": {},
   "source": [
    "<h1>PFR, Early/Late Lists</h1>"
   ]
  },
  {
   "cell_type": "code",
   "execution_count": 21,
   "metadata": {
    "collapsed": false
   },
   "outputs": [
    {
     "data": {
      "image/png": "[encoded data removed]",
      "text/plain": [
       "<matplotlib.figure.Figure at 0x11b5332d0>"
      ]
     },
     "metadata": {},
     "output_type": "display_data"
    },
    {
     "data": {
      "text/plain": [
       "<matplotlib.axes._subplots.AxesSubplot at 0x11bc7ddd0>"
      ]
     },
     "execution_count": 21,
     "metadata": {},
     "output_type": "execute_result"
    }
   ],
   "source": [
    "pfr2 = pyr.pfr(pyro, listgroup=['early']*8 + ['late']*8)\n",
    "pyr.plot(pfr2)"
   ]
  },
  {
   "cell_type": "markdown",
   "metadata": {},
   "source": [
    "<h1>PLR, Early/Late Lists"
   ]
  },
  {
   "cell_type": "code",
   "execution_count": 22,
   "metadata": {
    "collapsed": false
   },
   "outputs": [
    {
     "data": {
      "image/png": "[encoded data removed]",
      "text/plain": [
       "<matplotlib.figure.Figure at 0x11a7bb450>"
      ]
     },
     "metadata": {},
     "output_type": "display_data"
    },
    {
     "data": {
      "text/plain": [
       "<matplotlib.axes._subplots.AxesSubplot at 0x11b533790>"
      ]
     },
     "execution_count": 22,
     "metadata": {},
     "output_type": "execute_result"
    }
   ],
   "source": [
    "plr2 = pyr.plr(pyro, listgroup=['early']*8 + ['late']*8)\n",
    "pyr.plot(plr2)"
   ]
  },
  {
   "cell_type": "markdown",
   "metadata": {},
   "source": [
    "<h1>Lag CRP, Early/Late Lists"
   ]
  },
  {
   "cell_type": "code",
   "execution_count": 23,
   "metadata": {
    "collapsed": false
   },
   "outputs": [
    {
     "data": {
      "image/png": "[encoded data removed]",
      "text/plain": [
       "<matplotlib.figure.Figure at 0x11a10d610>"
      ]
     },
     "metadata": {},
     "output_type": "display_data"
    }
   ],
   "source": [
    "lagcrp2 = pyr.lagcrp(pyro, listgroup=['early']*8 + ['late']*8)\n",
    "ax = pyr.plot(lagcrp2)"
   ]
  },
  {
   "cell_type": "markdown",
   "metadata": {},
   "source": [
    "<h1>SPC, by Subject"
   ]
  },
  {
   "cell_type": "code",
   "execution_count": 24,
   "metadata": {
    "collapsed": false
   },
   "outputs": [
    {
     "data": {
      "image/png": "[encoded data removed]",
      "text/plain": [
       "<matplotlib.figure.Figure at 0x117ad6e90>"
      ]
     },
     "metadata": {},
     "output_type": "display_data"
    },
    {
     "data": {
      "text/plain": [
       "<matplotlib.axes._subplots.AxesSubplot at 0x11ac2f090>"
      ]
     },
     "execution_count": 24,
     "metadata": {},
     "output_type": "execute_result"
    }
   ],
   "source": [
    "spc = pyr.spc(pyro, listgroup=['average']*16)\n",
    "pyr.plot(spc, plot_type='subject')\n"
   ]
  },
  {
   "cell_type": "markdown",
   "metadata": {},
   "source": [
    "<h1>PFR, by Subject"
   ]
  },
  {
   "cell_type": "code",
   "execution_count": 25,
   "metadata": {
    "collapsed": false
   },
   "outputs": [
    {
     "data": {
      "image/png": "[encoded data removed]",
      "text/plain": [
       "<matplotlib.figure.Figure at 0x1183f4110>"
      ]
     },
     "metadata": {},
     "output_type": "display_data"
    },
    {
     "data": {
      "text/plain": [
       "<matplotlib.axes._subplots.AxesSubplot at 0x118b5f190>"
      ]
     },
     "execution_count": 25,
     "metadata": {},
     "output_type": "execute_result"
    }
   ],
   "source": [
    "pfr = pyr.pfr(pyro, listgroup=['average']*16)\n",
    "pyr.plot(pfr, plot_type='subject')"
   ]
  },
  {
   "cell_type": "markdown",
   "metadata": {},
   "source": [
    "<h1>PLR, by Subject</h1>"
   ]
  },
  {
   "cell_type": "code",
   "execution_count": 26,
   "metadata": {
    "collapsed": false
   },
   "outputs": [
    {
     "data": {
      "image/png": "[encoded data removed]",
      "text/plain": [
       "<matplotlib.figure.Figure at 0x11a105650>"
      ]
     },
     "metadata": {},
     "output_type": "display_data"
    },
    {
     "data": {
      "text/plain": [
       "<matplotlib.axes._subplots.AxesSubplot at 0x1180d98d0>"
      ]
     },
     "execution_count": 26,
     "metadata": {},
     "output_type": "execute_result"
    }
   ],
   "source": [
    "plr = pyr.plr(pyro, listgroup=['average']*16)\n",
    "pyr.plot(plr, plot_type='subject')"
   ]
  },
  {
   "cell_type": "markdown",
   "metadata": {},
   "source": [
    "<h1>Lag CRP, by Subject"
   ]
  },
  {
   "cell_type": "code",
   "execution_count": 27,
   "metadata": {
    "collapsed": false
   },
   "outputs": [
    {
     "data": {
      "image/png": "[encoded data removed]",
      "text/plain": [
       "<matplotlib.figure.Figure at 0x1151aea10>"
      ]
     },
     "metadata": {},
     "output_type": "display_data"
    }
   ],
   "source": [
    "lagcrp = pyr.lagcrp(pyro, listgroup=['average']*16)\n",
    "ax = pyr.plot(lagcrp, plot_type='subject')"
   ]
  },
  {
   "cell_type": "code",
   "execution_count": null,
   "metadata": {
    "collapsed": true
   },
   "outputs": [],
   "source": []
  },
  {
   "cell_type": "code",
   "execution_count": null,
   "metadata": {
    "collapsed": true
   },
   "outputs": [],
   "source": []
  },
  {
   "cell_type": "code",
   "execution_count": null,
   "metadata": {
    "collapsed": true
   },
   "outputs": [],
   "source": []
  }
 ],
 "metadata": {
  "kernelspec": {
   "display_name": "Python 2",
   "language": "python",
   "name": "python2"
  },
  "language_info": {
   "codemirror_mode": {
    "name": "ipython",
    "version": 2
   },
   "file_extension": ".py",
   "mimetype": "text/x-python",
   "name": "python",
   "nbconvert_exporter": "python",
   "pygments_lexer": "ipython2",
   "version": "2.7.11"
  }
 },
 "nbformat": 4,
 "nbformat_minor": 0
}
